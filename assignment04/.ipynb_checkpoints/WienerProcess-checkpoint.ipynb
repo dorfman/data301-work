{
 "cells": [
  {
   "cell_type": "markdown",
   "metadata": {
    "nbgrader": {}
   },
   "source": [
    "# Wiener Process"
   ]
  },
  {
   "cell_type": "markdown",
   "metadata": {
    "nbgrader": {}
   },
   "source": [
    "## Imports"
   ]
  },
  {
   "cell_type": "code",
   "execution_count": 3,
   "metadata": {
    "collapsed": true,
    "nbgrader": {}
   },
   "outputs": [],
   "source": [
    "import numpy as np\n",
    "%matplotlib inline\n",
    "import matplotlib.pyplot as plt\n",
    "from matplotlib import style\n",
    "style.use('seaborn-darkgrid')"
   ]
  },
  {
   "cell_type": "markdown",
   "metadata": {
    "nbgrader": {}
   },
   "source": [
    "## Wiener process"
   ]
  },
  {
   "cell_type": "markdown",
   "metadata": {
    "nbgrader": {}
   },
   "source": [
    "Many times series have some measure of randomness. One way of modeling these random processes is using a [Wiener Process](http://en.wikipedia.org/wiki/Wiener_process). For our purposes, A Wiener Process $W(t)$ is a time series for which:\n",
    "\n",
    "* $W(t=0)=0$\n",
    "* For any finite time difference $h$, $W(t+h)-W(t)\\sim\\mathcal{N}(0,h)$\n",
    "\n",
    "In other words, subsequent values in the time series are normally distributed with a mean of $0$ and variance $h$ and the time series starts with a value of zero. The Wiener Process is also known as Brownian motion; the behavior is identical to that observed in physical diffusion processes.\n",
    "\n",
    "With this in mind, write a function, `wiener(tmax, n)`, that simulates a discrete Wiener process. Your function should take the maximum time $t_{max}$ and the number of steps `n` and return a tuple of two arrays with length `n`:\n",
    "\n",
    "* An array of times used $t_i$\n",
    "* An array of the values of the Wiener process at those times $W_i = W(t_i)$\n",
    "\n",
    "Here is a rough sketch of how to approach this:\n",
    "\n",
    "1. Create an array of `n` times $t \\in [0,t_{max}]$\n",
    "2. Find the time difference $h=t_1-t_0$\n",
    "3. Draw `n-1` random numbers appropriate for the Wiener process\n",
    "4. Perform a cumulative sum of the random numbers\n",
    "\n",
    "Use NumPy and no for loops in your implementation."
   ]
  },
  {
   "cell_type": "code",
   "execution_count": 36,
   "metadata": {
    "collapsed": false,
    "deletable": false,
    "nbgrader": {
     "checksum": "cabde7a2d2619b6ad233cec9f613ec67",
     "grade": true,
     "grade_id": "wienera",
     "locked": false,
     "points": 2,
     "solution": true
    }
   },
   "outputs": [],
   "source": [
    "def wiener(tmax, n):\n",
    "    \"\"\"Return one realization of a Wiener process with n steps and a max time of tmax.\"\"\"    \n",
    "    t = np.linspace(0.0, tmax, n)\n",
    "\n",
    "    W = np.random.normal(0, (t[1] - t[0]) ** 0.5, n - 1)\n",
    "    W = np.cumsum(W)\n",
    "    W = np.insert(W, 0, 0)\n",
    "    \n",
    "    return t, W"
   ]
  },
  {
   "cell_type": "markdown",
   "metadata": {
    "nbgrader": {}
   },
   "source": [
    "Call the `wiener` function to simulate a Wiener process with `1000` steps and max time of `1.0`. Save the results as two arrays `t` and `W`."
   ]
  },
  {
   "cell_type": "code",
   "execution_count": 37,
   "metadata": {
    "collapsed": false,
    "deletable": false,
    "nbgrader": {
     "checksum": "564fd722a6385fdef4d737962cf7b38b",
     "grade": true,
     "grade_id": "wienerb",
     "locked": false,
     "points": 1,
     "solution": true
    }
   },
   "outputs": [],
   "source": [
    "t, W = wiener(1.0, 1000)"
   ]
  },
  {
   "cell_type": "code",
   "execution_count": 38,
   "metadata": {
    "collapsed": false,
    "deletable": false,
    "nbgrader": {
     "checksum": "a989e4f58793fd0c14086b225d1cb793",
     "grade": true,
     "grade_id": "wienerc",
     "points": 1
    }
   },
   "outputs": [],
   "source": [
    "assert isinstance(t, np.ndarray)\n",
    "assert isinstance(W, np.ndarray)\n",
    "assert t.dtype==np.dtype(float)\n",
    "assert W.dtype==np.dtype(float)\n",
    "assert len(t)==len(W)==1000\n",
    "assert W[0]==0.0"
   ]
  },
  {
   "cell_type": "markdown",
   "metadata": {
    "nbgrader": {}
   },
   "source": [
    "Visualize the process using `plt.plot` with `t` on the x-axis and `W(t)` on the y-axis. Label your x and y axes."
   ]
  },
  {
   "cell_type": "code",
   "execution_count": 40,
   "metadata": {
    "collapsed": false,
    "deletable": false,
    "nbgrader": {
     "checksum": "7de0eba58d015575cea983581f515868",
     "grade": true,
     "grade_id": "wienerd",
     "locked": false,
     "points": 2,
     "solution": true
    }
   },
   "outputs": [
    {
     "data": {
      "image/png": "[encoded data removed]",
      "text/plain": [
       "<matplotlib.figure.Figure at 0x7f9284c5be10>"
      ]
     },
     "metadata": {},
     "output_type": "display_data"
    }
   ],
   "source": [
    "plt.plot(t, W)\n",
    "plt.xlabel('time')\n",
    "plt.ylabel('W(time)')\n",
    "plt.title('My Plot');"
   ]
  },
  {
   "cell_type": "markdown",
   "metadata": {},
   "source": [
    "For a given time $t$, $W(t)$ is itself a random variable. Thus if you keep calling `wiener(tmax, n)`, the value of process at the final time will be different each time. To see this, run the following cell a bunch of times. This cell keeps printing the value $W(2.0)$:"
   ]
  },
  {
   "cell_type": "code",
   "execution_count": 41,
   "metadata": {
    "collapsed": false
   },
   "outputs": [
    {
     "name": "stdout",
     "output_type": "stream",
     "text": [
      "1.72230807975\n"
     ]
    }
   ],
   "source": [
    "t1, W1 = wiener(2.0, 100)\n",
    "print(W1[-1])"
   ]
  },
  {
   "cell_type": "markdown",
   "metadata": {},
   "source": [
    "There are a number of important theoretical results about the random variable $W(t)$:\n",
    "\n",
    "* It has a mean of 0, or $E[W(t)]$=0.0.\n",
    "* It has a variance of $t$, or $E[W(t)^2]-E^2[W(t)]=t$\n",
    "\n",
    "For $t=2.0$ perform 500 simulations of $W(2.0)$, each with 500 points, and show that the mean is close to $0.0$ and variance close to $2.0$."
   ]
  },
  {
   "cell_type": "code",
   "execution_count": 45,
   "metadata": {
    "collapsed": false,
    "deletable": false,
    "nbgrader": {
     "checksum": "a3604700dac4145fa254fc978e936333",
     "grade": true,
     "grade_id": "wienere",
     "locked": false,
     "points": 2,
     "solution": true
    }
   },
   "outputs": [
    {
     "name": "stdout",
     "output_type": "stream",
     "text": [
      "0.0799059142815 1.89042828553\n"
     ]
    }
   ],
   "source": [
    "sumX = 0\n",
    "sumX2 = 0\n",
    "\n",
    "for i in range(500):\n",
    "    t,W = wiener(2.0, 500)\n",
    "    sumX += W[-1]\n",
    "    sumX2 += W[-1] ** 2\n",
    "    \n",
    "avg = sumX/500\n",
    "var = (sumX2 - sumX * sumX / 500)/500\n",
    "\n",
    "print(avg, var)"
   ]
  },
  {
   "cell_type": "markdown",
   "metadata": {},
   "source": [
    "## Geometric brownian motion"
   ]
  },
  {
   "cell_type": "markdown",
   "metadata": {
    "nbgrader": {}
   },
   "source": [
    "[Geometric Brownian Motion](https://en.wikipedia.org/wiki/Geometric_Brownian_motion) is another type of stochastic time series that can be generated using the Wiener Process. Given a Wiener process $W(t)$, the corresponding Geometric Brownian process $X(t)$ is:\n",
    "\n",
    "$$\n",
    "X(t) = X_0 e^{((\\mu - \\sigma^2/2)t + \\sigma W(t))}\n",
    "$$\n",
    "\n",
    "The parameters $\\mu$ and $\\sigma$ are known as the *drift* and *volatility* of the process respectively, and $X_0$ is the initial condition $X(t=0)=X_0$. Geometric Brownian motion is used in modelling the prices of financial instruments such as stocks.\n",
    "\n",
    "Write a function, `geo_brownian`, that generates geometric brownian motion from an existing Wiener process.\n",
    "\n",
    "Use Numpy and no for loops in your function."
   ]
  },
  {
   "cell_type": "code",
   "execution_count": 47,
   "metadata": {
    "collapsed": false,
    "deletable": false,
    "nbgrader": {
     "checksum": "9842ce1b3a8f61eff8c60ab8f042a2d9",
     "grade": false,
     "grade_id": "wienerf",
     "locked": false,
     "points": 2,
     "solution": true
    }
   },
   "outputs": [],
   "source": [
    "def geo_brownian(t, W, X0, mu, sigma):\n",
    "    \"\"\"Return X(t) for geometric brownian motion with drift mu, volatility sigma.\n",
    "    \n",
    "    Parameters\n",
    "    ----------\n",
    "    t: np.ndarray\n",
    "        NumPy array of equally spaced time values\n",
    "    W: np.ndarray\n",
    "        NumPy arary for a Wiener process at those time values\n",
    "    X0: float\n",
    "        The initial value of the Geometric Brownian process\n",
    "    mu: float\n",
    "        The drift mu of the Geometric Brownian process\n",
    "    sigma: float\n",
    "        The volatility of the Goemetric Brownian process.\n",
    "    \"\"\"\n",
    "    # YOUR CODE HERE\n",
    "    superscript = (mu - sigma ** 2 / 2) * t + sigma * W\n",
    "    superscript = np.exp(superscript)\n",
    "    return X0 * superscript"
   ]
  },
  {
   "cell_type": "markdown",
   "metadata": {
    "nbgrader": {}
   },
   "source": [
    "Use your function to simulate geometric brownian motion, $X(t)$ for $X_0=1.0$, $\\mu=0.5$ and $\\sigma=0.3$ with the Wiener process you computed above.\n",
    "\n",
    "Visualize the process using `plt.plot` with `t` on the x-axis and `X(t)` on the y-axis. Label your x and y axes."
   ]
  },
  {
   "cell_type": "code",
   "execution_count": 48,
   "metadata": {
    "collapsed": false,
    "deletable": false,
    "nbgrader": {
     "checksum": "47977ef9364c1c7586dd0c15cfd3d0dd",
     "grade": true,
     "grade_id": "wienerg",
     "locked": false,
     "points": 2,
     "solution": true
    }
   },
   "outputs": [
    {
     "name": "stdout",
     "output_type": "stream",
     "text": [
      "[ 1.          0.99510096  0.98630739  1.02259701  1.03630819  1.04141073\n",
      "  1.0701214   1.0631614   1.06831613  1.04486552  1.02785053  1.01736322\n",
      "  1.05673443  1.05883285  1.06335843  1.01445063  1.0520513   1.04760418\n",
      "  1.07111049  1.04597625  1.05846768  1.06461873  1.06460105  1.06749695\n",
      "  1.06629121  1.1357308   1.16445423  1.17770218  1.2133927   1.21222135\n",
      "  1.22828033  1.24929805  1.26615266  1.22311732  1.23799433  1.22881978\n",
      "  1.18610935  1.17124033  1.175291    1.15377171  1.15862038  1.15193577\n",
      "  1.13172674  1.15874845  1.16368733  1.21475942  1.19773018  1.20820099\n",
      "  1.21647792  1.21124606  1.21303245  1.23647585  1.22562333  1.22785109\n",
      "  1.23716672  1.24085211  1.23242613  1.20672923  1.20691245  1.15674667\n",
      "  1.12186051  1.10952769  1.14620337  1.17167709  1.19275387  1.1575154\n",
      "  1.16015912  1.18499848  1.17869745  1.16837297  1.16744069  1.19032382\n",
      "  1.17992586  1.17732506  1.17039761  1.15369809  1.14444565  1.12884768\n",
      "  1.10156434  1.10724572  1.13607713  1.1533958   1.16594308  1.13480984\n",
      "  1.12658687  1.14520363  1.11888337  1.14679791  1.14553739  1.16095687\n",
      "  1.18494094  1.20204763  1.17507148  1.19485704  1.23735487  1.25067143\n",
      "  1.26797968  1.24881305  1.19213708  1.19743694  1.21204127  1.22721016\n",
      "  1.21535161  1.23622788  1.24418373  1.2138567   1.19605402  1.17170779\n",
      "  1.15083597  1.17158434  1.17739562  1.16931127  1.22027145  1.21744177\n",
      "  1.23962506  1.30114566  1.30662614  1.29097443  1.31213209  1.32939939\n",
      "  1.35436141  1.38987736  1.39775632  1.44553744  1.43183388  1.41938382\n",
      "  1.4066001   1.44772018  1.43587166  1.46791851  1.45657735  1.47369902\n",
      "  1.48849373  1.48322031  1.4300976   1.43764393  1.43624405  1.48531432\n",
      "  1.5032969   1.50557793  1.50766285  1.51453107  1.48361065  1.49083166\n",
      "  1.49473945  1.47469801  1.49590049  1.50752606  1.53554128  1.49998132\n",
      "  1.51277735  1.57003877  1.62951701  1.66019881  1.65623061  1.63930212\n",
      "  1.63412009  1.63395699  1.6702396   1.61746615  1.59025889  1.63623356\n",
      "  1.61990327  1.64372292  1.64726028  1.6855944   1.71472072  1.66201957\n",
      "  1.63250058  1.62465071  1.60712738  1.61421825  1.65522633  1.66208947\n",
      "  1.66024288  1.66007913  1.60840494  1.58583963  1.60464282  1.62971117\n",
      "  1.60293604  1.60687615  1.61793516  1.62142333  1.56800375  1.54502123\n",
      "  1.55222322  1.55370422  1.53025092  1.56497246  1.58558495  1.55627424\n",
      "  1.54713336  1.56494228  1.61848847  1.63668737  1.60828515  1.62544918\n",
      "  1.6760712   1.6909388   1.71714836  1.75380607  1.73245943  1.70743113\n",
      "  1.66265122  1.63295439  1.65777819  1.59365381  1.59930561  1.6437773\n",
      "  1.63427889  1.67026057  1.69466678  1.68326318  1.65068222  1.68075061\n",
      "  1.71309327  1.67816739  1.65561179  1.63992801  1.67258067  1.67725109\n",
      "  1.69369874  1.71202049  1.76639178  1.76297017  1.77983358  1.78735808\n",
      "  1.75654419  1.79765318  1.85290728  1.87868525  1.92714389  1.95190821\n",
      "  1.96931732  1.94231439  1.96295962  1.99071793  1.99073605  1.99582161\n",
      "  2.05993309  2.06337395  2.0158869   1.97646198  2.01059782  1.9917404\n",
      "  2.04742289  2.03149309  2.04847468  2.05716552  2.05703362  2.02226508\n",
      "  2.0868353   2.05912835  2.10311736  2.10531111  2.13539925  2.1187123\n",
      "  2.09342807  2.13326032  2.2031197   2.16274504  2.18735099  2.13398281\n",
      "  2.1188927   2.15468817  2.13802132  2.17136437  2.20104515  2.28884104\n",
      "  2.23420278  2.16288089  2.14282777  2.18532047  2.15027697  2.15926103\n",
      "  2.10021883  2.12751389  2.1014572   2.20006526  2.2258095   2.26714206\n",
      "  2.25236565  2.24044363  2.22685754  2.20276854  2.22116861  2.17673785\n",
      "  2.22198675  2.21534616  2.239626    2.24114061  2.16402297  2.15208729\n",
      "  2.2376562   2.24226371  2.28384341  2.26467463  2.20233856  2.25787509\n",
      "  2.38911329  2.39347938  2.34001608  2.40085667  2.45548889  2.52220648\n",
      "  2.56707141  2.62938117  2.60596109  2.59113019  2.61109298  2.5698148\n",
      "  2.57443611  2.61601091  2.56633203  2.57642644  2.56168471  2.51566549\n",
      "  2.4866159   2.50531683  2.5153107   2.53324747  2.55251745  2.62685068\n",
      "  2.66838298  2.59028839  2.58531347  2.62635945  2.63512714  2.66054238\n",
      "  2.64548316  2.60531872  2.63423186  2.61597969  2.64036516  2.63701556\n",
      "  2.63139263  2.63553922  2.68728565  2.70501079  2.71806071  2.61999699\n",
      "  2.59379257  2.56047835  2.53455817  2.47768064  2.46249225  2.45751986\n",
      "  2.45151384  2.45833221  2.47024268  2.38424463  2.40970924  2.46684584\n",
      "  2.45850891  2.37804268  2.29240625  2.27688991  2.17879079  2.17802242\n",
      "  2.16812635  2.23450049  2.24305513  2.18701381  2.15418133  2.15110427\n",
      "  2.10252809  2.0961988   2.11357739  2.05441282  2.08947763  2.065329\n",
      "  2.03399961  2.12121068  2.12993008  2.09899337  2.09806037  2.13085759\n",
      "  2.12760245  2.11252067  2.18294372  2.20251266  2.2161391   2.30341268\n",
      "  2.25937482  2.30592857  2.30961353  2.29128981  2.30875629  2.39354876\n",
      "  2.44031132  2.47145872  2.48021158  2.47987865  2.66375819  2.72103108\n",
      "  2.75653739  2.81072242  2.86668934  2.83800349  2.78379195  2.78837886\n",
      "  2.79506488  2.84887466  2.83543518  2.8259349   2.81952493  2.8469455\n",
      "  2.82154449  2.8463731   2.85208496  2.78664405  2.80615354  2.78940747\n",
      "  2.81357631  2.77189435  2.85832603  2.79511197  2.67933558  2.71187237\n",
      "  2.63730788  2.65821606  2.6848964   2.60382448  2.54971332  2.49174114\n",
      "  2.48842284  2.53224206  2.59407412  2.56143508  2.48874957  2.51039233\n",
      "  2.51886256  2.52212572  2.54716209  2.60834483  2.54461113  2.64033214\n",
      "  2.67264175  2.71173385  2.70297617  2.76027545  2.82045548  2.83240503\n",
      "  2.90739817  2.94919817  2.95862321  2.87495736  2.92736152  3.01273987\n",
      "  3.03880541  2.97153645  2.9328884   2.94389445  2.95240516  2.77526339\n",
      "  2.81849542  2.84318296  2.82364051  2.79922156  2.72249393  2.68961659\n",
      "  2.62696792  2.67731904  2.62646423  2.64082043  2.67043892  2.62353346\n",
      "  2.55175577  2.48430588  2.4440396   2.51446719  2.48545344  2.49405203\n",
      "  2.5458395   2.63341937  2.67062439  2.74349388  2.76246058  2.79535955\n",
      "  2.81481664  2.80855095  2.74556609  2.67444229  2.72328499  2.75889145\n",
      "  2.76425432  2.71553307  2.75554852  2.75273983  2.77406971  2.78339688\n",
      "  2.78305494  2.85616789  2.88284428  2.86153769  2.71963284  2.68688457\n",
      "  2.64920456  2.59655167]\n"
     ]
    }
   ],
   "source": [
    "# YOUR CODE HERE\n",
    "print(geo_brownian(t, W, 1.0, 0.5, 0.3))"
   ]
  },
  {
   "cell_type": "code",
   "execution_count": null,
   "metadata": {
    "collapsed": true
   },
   "outputs": [],
   "source": []
  }
 ],
 "metadata": {
  "kernelspec": {
   "display_name": "Python 3",
   "language": "python",
   "name": "python3"
  },
  "language_info": {
   "codemirror_mode": {
    "name": "ipython",
    "version": 3
   },
   "file_extension": ".py",
   "mimetype": "text/x-python",
   "name": "python",
   "nbconvert_exporter": "python",
   "pygments_lexer": "ipython3",
   "version": "3.4.3"
  }
 },
 "nbformat": 4,
 "nbformat_minor": 0
}

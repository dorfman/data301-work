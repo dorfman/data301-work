{
 "cells": [
  {
   "cell_type": "markdown",
   "metadata": {
    "nbgrader": {}
   },
   "source": [
    "# Basic Pandas Homework"
   ]
  },
  {
   "cell_type": "code",
   "execution_count": 1,
   "metadata": {
    "collapsed": false,
    "nbgrader": {}
   },
   "outputs": [],
   "source": [
    "import pandas as pd\n",
    "import numpy as np\n",
    "import matplotlib.pyplot as plt\n",
    "%matplotlib inline"
   ]
  },
  {
   "cell_type": "markdown",
   "metadata": {
    "nbgrader": {}
   },
   "source": [
    "## DatFrame and Series"
   ]
  },
  {
   "cell_type": "markdown",
   "metadata": {
    "nbgrader": {}
   },
   "source": [
    "Create a `DataFrame` named `df1` with the following properties:\n",
    "\n",
    "* 10 rows.\n",
    "* An `age` column with random ages between 0 and 100 (inclusive).\n",
    "* A `cell_phone` column of randomly sampled categorical values `ios`, `android`, `windows`.\n",
    "* A `gender` column of randomly sampled categorical values `f` and `m`.\n",
    "* The order of columns should be `gender`, `age`, `cell_phone`.\n",
    "* A row index consisting of lowercase alphabetical letters.\n",
    "\n",
    "Use the function defined above to create this `DataFrame`."
   ]
  },
  {
   "cell_type": "code",
   "execution_count": 2,
   "metadata": {
    "collapsed": false,
    "deletable": false,
    "nbgrader": {
     "checksum": "874a325d28b3f9a50e43e044197b70ec",
     "grade_id": "basic-pandas-a",
     "solution": true
    }
   },
   "outputs": [],
   "source": [
    "# YOUR CODE HERE\n",
    "index=['a', 'b', 'c', 'd', 'e', 'f', 'g', 'h', 'i', 'j']\n",
    "\n",
    "\n",
    "def getPhones():\n",
    "    return [np.random.choice(['ios', 'android', 'windows']) for i in index]\n",
    "\n",
    "def getGenders():\n",
    "    return [np.random.choice(['f', 'm']) for i in index]\n",
    "\n",
    "def getAges():\n",
    "    return [np.random.random_integers(0, 100) for i in index]\n",
    "\n",
    "data = {\n",
    "        'gender' : pd.Series(getGenders(), index=index, dtype='category'),\n",
    "        'age' : pd.Series(getAges(), index=index),\n",
    "        'cell_phone' : pd.Series(getPhones(), index=index, dtype='category')\n",
    "    }\n",
    "\n",
    "def getFrame():\n",
    "    return pd.DataFrame(data, columns=['gender','age','cell_phone'])\n",
    "\n",
    "df1 = getFrame()"
   ]
  },
  {
   "cell_type": "code",
   "execution_count": 3,
   "metadata": {
    "collapsed": false,
    "nbgrader": {}
   },
   "outputs": [
    {
     "data": {
      "text/html": [
       "<div>\n",
       "<table border=\"1\" class=\"dataframe\">\n",
       "  <thead>\n",
       "    <tr style=\"text-align: right;\">\n",
       "      <th></th>\n",
       "      <th>gender</th>\n",
       "      <th>age</th>\n",
       "      <th>cell_phone</th>\n",
       "    </tr>\n",
       "  </thead>\n",
       "  <tbody>\n",
       "    <tr>\n",
       "      <th>a</th>\n",
       "      <td>f</td>\n",
       "      <td>75</td>\n",
       "      <td>ios</td>\n",
       "    </tr>\n",
       "    <tr>\n",
       "      <th>b</th>\n",
       "      <td>m</td>\n",
       "      <td>21</td>\n",
       "      <td>ios</td>\n",
       "    </tr>\n",
       "    <tr>\n",
       "      <th>c</th>\n",
       "      <td>m</td>\n",
       "      <td>23</td>\n",
       "      <td>ios</td>\n",
       "    </tr>\n",
       "    <tr>\n",
       "      <th>d</th>\n",
       "      <td>m</td>\n",
       "      <td>56</td>\n",
       "      <td>windows</td>\n",
       "    </tr>\n",
       "    <tr>\n",
       "      <th>e</th>\n",
       "      <td>m</td>\n",
       "      <td>10</td>\n",
       "      <td>windows</td>\n",
       "    </tr>\n",
       "    <tr>\n",
       "      <th>f</th>\n",
       "      <td>m</td>\n",
       "      <td>4</td>\n",
       "      <td>windows</td>\n",
       "    </tr>\n",
       "    <tr>\n",
       "      <th>g</th>\n",
       "      <td>f</td>\n",
       "      <td>67</td>\n",
       "      <td>android</td>\n",
       "    </tr>\n",
       "    <tr>\n",
       "      <th>h</th>\n",
       "      <td>m</td>\n",
       "      <td>11</td>\n",
       "      <td>android</td>\n",
       "    </tr>\n",
       "    <tr>\n",
       "      <th>i</th>\n",
       "      <td>m</td>\n",
       "      <td>9</td>\n",
       "      <td>ios</td>\n",
       "    </tr>\n",
       "    <tr>\n",
       "      <th>j</th>\n",
       "      <td>m</td>\n",
       "      <td>88</td>\n",
       "      <td>android</td>\n",
       "    </tr>\n",
       "  </tbody>\n",
       "</table>\n",
       "</div>"
      ],
      "text/plain": [
       "  gender  age cell_phone\n",
       "a      f   75        ios\n",
       "b      m   21        ios\n",
       "c      m   23        ios\n",
       "d      m   56    windows\n",
       "e      m   10    windows\n",
       "f      m    4    windows\n",
       "g      f   67    android\n",
       "h      m   11    android\n",
       "i      m    9        ios\n",
       "j      m   88    android"
      ]
     },
     "execution_count": 3,
     "metadata": {},
     "output_type": "execute_result"
    }
   ],
   "source": [
    "df1"
   ]
  },
  {
   "cell_type": "markdown",
   "metadata": {
    "nbgrader": {}
   },
   "source": [
    "Make sure your code passes the following `assert` statements:"
   ]
  },
  {
   "cell_type": "code",
   "execution_count": 4,
   "metadata": {
    "collapsed": false,
    "deletable": false,
    "nbgrader": {
     "checksum": "6672a354e9a487f35b21677b5da497e0",
     "grade": true,
     "grade_id": "basic-pandas-b",
     "grader_id": "df1",
     "points": 3
    }
   },
   "outputs": [],
   "source": [
    "assert 'a' in df1.index\n",
    "assert 'j' in df1.index\n",
    "assert 'age' in df1.columns\n",
    "assert 'cell_phone' in df1.columns\n",
    "assert 'gender' in df1.columns\n",
    "assert df1.age.dtype.name=='int64'\n",
    "assert df1.cell_phone.dtype.name=='category'\n",
    "assert df1.gender.dtype.name=='category'\n",
    "assert list(df1.columns)==['gender','age','cell_phone']"
   ]
  },
  {
   "cell_type": "markdown",
   "metadata": {
    "nbgrader": {}
   },
   "source": [
    "Create a new `DataFrame`, named `df2` with the following transformations:\n",
    "\n",
    "* Extract rows `a` through `g`\n",
    "* Extract the `age` and `gender` column, but put `age` first.\n",
    "* Reverse the rows to they run `g` to `a`.\n",
    "* Add a new column named `income` that is a random list of dollars between [0,10000]\n",
    "* Add a new column named `expenses` that is a random list of dollars between [0,10000]\n",
    "* Create a new column named `profit` that is computed using the `income` and `expenses` columns."
   ]
  },
  {
   "cell_type": "code",
   "execution_count": 5,
   "metadata": {
    "collapsed": false,
    "deletable": false,
    "nbgrader": {
     "checksum": "c9d3d4f2c7399ff4caeb02a74dc9cfcd",
     "grade": false,
     "grade_id": "basic-pandas-c",
     "solution": true
    }
   },
   "outputs": [],
   "source": [
    "# YOUR CODE HERE\n",
    "GtoA = index[0:7]\n",
    "df2 = pd.DataFrame(data, index=GtoA[::-1], columns=df1.columns[1::-1])\n",
    "df2['income'] = pd.Series([np.random.random_integers(0, 10000) for i in index], index=index, dtype='int64')\n",
    "df2['expenses'] = pd.Series([np.random.random_integers(0, 10000) for i in index], index=index, dtype='int64')\n",
    "df2['profit'] = df2['income'] - df2['expenses']"
   ]
  },
  {
   "cell_type": "code",
   "execution_count": 6,
   "metadata": {
    "collapsed": false,
    "nbgrader": {}
   },
   "outputs": [
    {
     "data": {
      "text/html": [
       "<div>\n",
       "<table border=\"1\" class=\"dataframe\">\n",
       "  <thead>\n",
       "    <tr style=\"text-align: right;\">\n",
       "      <th></th>\n",
       "      <th>age</th>\n",
       "      <th>gender</th>\n",
       "      <th>income</th>\n",
       "      <th>expenses</th>\n",
       "      <th>profit</th>\n",
       "    </tr>\n",
       "  </thead>\n",
       "  <tbody>\n",
       "    <tr>\n",
       "      <th>g</th>\n",
       "      <td>67</td>\n",
       "      <td>f</td>\n",
       "      <td>6098</td>\n",
       "      <td>3147</td>\n",
       "      <td>2951</td>\n",
       "    </tr>\n",
       "    <tr>\n",
       "      <th>f</th>\n",
       "      <td>4</td>\n",
       "      <td>m</td>\n",
       "      <td>9336</td>\n",
       "      <td>200</td>\n",
       "      <td>9136</td>\n",
       "    </tr>\n",
       "    <tr>\n",
       "      <th>e</th>\n",
       "      <td>10</td>\n",
       "      <td>m</td>\n",
       "      <td>3137</td>\n",
       "      <td>5057</td>\n",
       "      <td>-1920</td>\n",
       "    </tr>\n",
       "    <tr>\n",
       "      <th>d</th>\n",
       "      <td>56</td>\n",
       "      <td>m</td>\n",
       "      <td>4460</td>\n",
       "      <td>93</td>\n",
       "      <td>4367</td>\n",
       "    </tr>\n",
       "    <tr>\n",
       "      <th>c</th>\n",
       "      <td>23</td>\n",
       "      <td>m</td>\n",
       "      <td>6136</td>\n",
       "      <td>8544</td>\n",
       "      <td>-2408</td>\n",
       "    </tr>\n",
       "    <tr>\n",
       "      <th>b</th>\n",
       "      <td>21</td>\n",
       "      <td>m</td>\n",
       "      <td>9186</td>\n",
       "      <td>2866</td>\n",
       "      <td>6320</td>\n",
       "    </tr>\n",
       "    <tr>\n",
       "      <th>a</th>\n",
       "      <td>75</td>\n",
       "      <td>f</td>\n",
       "      <td>5547</td>\n",
       "      <td>3506</td>\n",
       "      <td>2041</td>\n",
       "    </tr>\n",
       "  </tbody>\n",
       "</table>\n",
       "</div>"
      ],
      "text/plain": [
       "   age gender  income  expenses  profit\n",
       "g   67      f    6098      3147    2951\n",
       "f    4      m    9336       200    9136\n",
       "e   10      m    3137      5057   -1920\n",
       "d   56      m    4460        93    4367\n",
       "c   23      m    6136      8544   -2408\n",
       "b   21      m    9186      2866    6320\n",
       "a   75      f    5547      3506    2041"
      ]
     },
     "execution_count": 6,
     "metadata": {},
     "output_type": "execute_result"
    }
   ],
   "source": [
    "df2"
   ]
  },
  {
   "cell_type": "markdown",
   "metadata": {
    "nbgrader": {}
   },
   "source": [
    "Make sure your code passes the following `assert` statements:"
   ]
  },
  {
   "cell_type": "code",
   "execution_count": 7,
   "metadata": {
    "collapsed": false,
    "deletable": false,
    "nbgrader": {
     "checksum": "2c1b2029c60109ba8c731e034a8b5049",
     "grade": true,
     "grade_id": "basic-pandas-d",
     "grader_id": "df2",
     "points": 3
    }
   },
   "outputs": [],
   "source": [
    "assert df2.index[0]=='g'\n",
    "assert df2.index[-1]=='a'\n",
    "assert list(df2.columns)==['age','gender','income','expenses','profit']\n",
    "assert df2.income.dtype.name=='int64'\n",
    "assert df2.expenses.dtype.name=='int64'\n",
    "assert df2.expenses.dtype.name=='int64'\n",
    "assert all(df2.profit+df2.expenses-df2.income==0)"
   ]
  },
  {
   "cell_type": "markdown",
   "metadata": {
    "nbgrader": {}
   },
   "source": [
    "Write a function named `mean_and_std` that takes a `Series` object and returns a new `Series` that contains the mean and standard deviation of the original series."
   ]
  },
  {
   "cell_type": "code",
   "execution_count": 27,
   "metadata": {
    "collapsed": false,
    "deletable": false,
    "nbgrader": {
     "checksum": "12d85117d924b03c829d32fb3b46c740",
     "grade": false,
     "grade_id": "basic-pandas-e",
     "locked": false,
     "solution": true
    }
   },
   "outputs": [],
   "source": [
    "def mean_and_std(s):\n",
    "    \"\"\"Compute the mean and std of series s.\n",
    "    \n",
    "    Parameters\n",
    "    ----------\n",
    "    s : Series\n",
    "    \n",
    "    Returns\n",
    "    -------\n",
    "    Series containing the mean and std of s with an index of `mean` and `std`.\n",
    "    \"\"\"\n",
    "    # YOUR CODE HERE\n",
    "    results = [s.mean(), s.std()]\n",
    "    return pd.Series(results, index=['mean', 'std'])"
   ]
  },
  {
   "cell_type": "markdown",
   "metadata": {
    "nbgrader": {}
   },
   "source": [
    "Make sure your code passes the following `assert` statements:"
   ]
  },
  {
   "cell_type": "code",
   "execution_count": 29,
   "metadata": {
    "collapsed": false,
    "deletable": false,
    "nbgrader": {
     "checksum": "3461c91ccd78d1b83aa8d545cab58a42",
     "grade": true,
     "grade_id": "basic-pandas-f",
     "grader_id": "mean_and_std",
     "points": 2
    }
   },
   "outputs": [],
   "source": [
    "assert list(mean_and_std(df2.age).index)==['mean','std']\n",
    "assert mean_and_std(df2.age)['mean']==df2.age.describe()['mean']\n",
    "assert mean_and_std(df2.age)['std']==df2.age.describe()['std']"
   ]
  },
  {
   "cell_type": "markdown",
   "metadata": {
    "nbgrader": {}
   },
   "source": [
    "Use the `.apply()` method with `mean_and_std` to compute the mean and standard deviation of only the columns `income`, `expenses` and profit. Save the result in a variable named `stats`."
   ]
  },
  {
   "cell_type": "code",
   "execution_count": 38,
   "metadata": {
    "collapsed": false,
    "deletable": false,
    "nbgrader": {
     "checksum": "b18f57258d13daddd8ab572792bc12bd",
     "grade_id": "basic-pandas-g",
     "solution": true
    }
   },
   "outputs": [],
   "source": [
    "# YOUR CODE HERE\n",
    "stats =  df2[['income','expenses','profit']].apply(lambda x: mean_and_std(x))"
   ]
  },
  {
   "cell_type": "code",
   "execution_count": 39,
   "metadata": {
    "collapsed": false,
    "nbgrader": {}
   },
   "outputs": [
    {
     "data": {
      "text/html": [
       "<div>\n",
       "<table border=\"1\" class=\"dataframe\">\n",
       "  <thead>\n",
       "    <tr style=\"text-align: right;\">\n",
       "      <th></th>\n",
       "      <th>income</th>\n",
       "      <th>expenses</th>\n",
       "      <th>profit</th>\n",
       "    </tr>\n",
       "  </thead>\n",
       "  <tbody>\n",
       "    <tr>\n",
       "      <th>mean</th>\n",
       "      <td>6271.428571</td>\n",
       "      <td>3344.714286</td>\n",
       "      <td>2926.714286</td>\n",
       "    </tr>\n",
       "    <tr>\n",
       "      <th>std</th>\n",
       "      <td>2293.667213</td>\n",
       "      <td>2907.508654</td>\n",
       "      <td>4180.887773</td>\n",
       "    </tr>\n",
       "  </tbody>\n",
       "</table>\n",
       "</div>"
      ],
      "text/plain": [
       "           income     expenses       profit\n",
       "mean  6271.428571  3344.714286  2926.714286\n",
       "std   2293.667213  2907.508654  4180.887773"
      ]
     },
     "execution_count": 39,
     "metadata": {},
     "output_type": "execute_result"
    }
   ],
   "source": [
    "stats"
   ]
  },
  {
   "cell_type": "markdown",
   "metadata": {
    "nbgrader": {}
   },
   "source": [
    "Make sure your code passes the following `assert` statements:"
   ]
  },
  {
   "cell_type": "code",
   "execution_count": 40,
   "metadata": {
    "collapsed": false,
    "deletable": false,
    "nbgrader": {
     "checksum": "e94f72f1c277d5e42b22979dc7f0718b",
     "grade": true,
     "grade_id": "basic-pandas-h",
     "grader_id": "stats",
     "points": 2
    }
   },
   "outputs": [],
   "source": [
    "d = df2[['income','expenses','profit']].describe()\n",
    "assert 'income' in stats.columns\n",
    "assert 'expenses' in stats.columns\n",
    "assert 'profit' in stats.columns\n",
    "assert stats.ix['mean','income']==d.ix['mean','income']\n",
    "assert stats.ix['mean','expenses']==d.ix['mean','expenses']\n",
    "assert stats.ix['mean','profit']==d.ix['mean','profit']\n",
    "assert stats.ix['std','income']==d.ix['std','income']\n",
    "assert stats.ix['std','expenses']==d.ix['std','expenses']\n",
    "assert stats.ix['std','profit']==d.ix['std','profit']"
   ]
  },
  {
   "cell_type": "code",
   "execution_count": null,
   "metadata": {
    "collapsed": true
   },
   "outputs": [],
   "source": []
  }
 ],
 "metadata": {
  "kernelspec": {
   "display_name": "Python 3",
   "language": "python",
   "name": "python3"
  },
  "language_info": {
   "codemirror_mode": {
    "name": "ipython",
    "version": 3
   },
   "file_extension": ".py",
   "mimetype": "text/x-python",
   "name": "python",
   "nbconvert_exporter": "python",
   "pygments_lexer": "ipython3",
   "version": "3.4.3"
  }
 },
 "nbformat": 4,
 "nbformat_minor": 0
}

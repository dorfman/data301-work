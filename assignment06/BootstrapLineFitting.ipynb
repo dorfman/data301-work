{
 "cells": [
  {
   "cell_type": "markdown",
   "metadata": {},
   "source": [
    "# Bootstrapped Line Fitting"
   ]
  },
  {
   "cell_type": "markdown",
   "metadata": {},
   "source": [
    "In this notebook, you will use bootstrapping to estimate the uncertainty in the slope and intercept of a line fit to data."
   ]
  },
  {
   "cell_type": "markdown",
   "metadata": {},
   "source": [
    "## Imports"
   ]
  },
  {
   "cell_type": "code",
   "execution_count": 1,
   "metadata": {
    "collapsed": true
   },
   "outputs": [],
   "source": [
    "import numpy as np\n",
    "%matplotlib inline\n",
    "from matplotlib import pyplot as plt\n",
    "import seaborn as sns"
   ]
  },
  {
   "cell_type": "markdown",
   "metadata": {},
   "source": [
    "We start with a generative model:\n",
    "\n",
    "$$\n",
    "X \\sim U(10,20)\n",
    "$$\n",
    "\n",
    "$$\n",
    "Y \\sim mX + b + N(0,\\sigma^2)\n",
    "$$\n",
    "\n",
    "Here are the input parameters we are going to use for this model."
   ]
  },
  {
   "cell_type": "code",
   "execution_count": 2,
   "metadata": {
    "collapsed": true
   },
   "outputs": [],
   "source": [
    "m = 0.75\n",
    "b = 3.5\n",
    "sigma = 0.5"
   ]
  },
  {
   "cell_type": "markdown",
   "metadata": {},
   "source": [
    "Generate two NumPy arrays of 50 points for this model. Store these values in the arrays `X` and `Y`:"
   ]
  },
  {
   "cell_type": "code",
   "execution_count": 3,
   "metadata": {
    "collapsed": false,
    "deletable": false,
    "nbgrader": {
     "checksum": "ad4226c83603cf96899221c3c6a5fce6",
     "grade": true,
     "grade_id": "bootstraplinea",
     "locked": false,
     "points": 2,
     "solution": true
    }
   },
   "outputs": [],
   "source": [
    "# YOUR CODE HERE\n",
    "def model(x, m, b):\n",
    "    return m * x + b\n",
    "\n",
    "X = np.random.uniform(10.0, 20.0, 50)\n",
    "Y = model(X, m, b) + np.random.normal(0, sigma, 50)"
   ]
  },
  {
   "cell_type": "markdown",
   "metadata": {},
   "source": [
    "Make an appropriately labeled scatter plot of the `X` and `Y` data:"
   ]
  },
  {
   "cell_type": "code",
   "execution_count": 4,
   "metadata": {
    "collapsed": false,
    "deletable": false,
    "nbgrader": {
     "checksum": "3f65a56ff08712bed889eec9db61041c",
     "grade": true,
     "grade_id": "bootstraplineb",
     "locked": false,
     "points": 2,
     "solution": true
    }
   },
   "outputs": [
    {
     "data": {
      "image/png": "[encoded data removed]",
      "text/plain": [
       "<matplotlib.figure.Figure at 0x7f53d9af64e0>"
      ]
     },
     "metadata": {},
     "output_type": "display_data"
    }
   ],
   "source": [
    "# YOUR CODE HERE\n",
    "plt.scatter(X, Y)\n",
    "\n",
    "plt.xlabel('X')\n",
    "plt.ylabel('Y')\n",
    "plt.title('X vs Y');\n",
    "\n",
    "plt.grid(True)"
   ]
  },
  {
   "cell_type": "code",
   "execution_count": 5,
   "metadata": {
    "collapsed": false
   },
   "outputs": [],
   "source": [
    "from scipy.optimize import curve_fit"
   ]
  },
  {
   "cell_type": "markdown",
   "metadata": {},
   "source": [
    "Write a function `fit`, that uses `curve_fit` and returns a fitted `(slope, intercept)` for the `X` and `Y` data above."
   ]
  },
  {
   "cell_type": "code",
   "execution_count": 6,
   "metadata": {
    "collapsed": true,
    "deletable": false,
    "nbgrader": {
     "checksum": "e9988f91da334022a78d51495877e2cb",
     "grade": false,
     "grade_id": "bootstraplinec",
     "locked": false,
     "solution": true
    }
   },
   "outputs": [],
   "source": [
    "def fit(X, Y):\n",
    "    \"\"\"Fit X and Y data to the model Y ~ m*X + b and return (m,b)\"\"\"\n",
    "    # YOUR CODE HERE\n",
    "    def func(x, m, b):\n",
    "        return m * x + b\n",
    "    \n",
    "    a, b = curve_fit(func, X, Y)\n",
    "    \n",
    "    return a"
   ]
  },
  {
   "cell_type": "code",
   "execution_count": 7,
   "metadata": {
    "collapsed": false,
    "deletable": false,
    "nbgrader": {
     "checksum": "7e24329341c903bd6480fee862d2a59f",
     "grade": true,
     "grade_id": "bootstraplined",
     "locked": true,
     "points": 2,
     "solution": false
    }
   },
   "outputs": [],
   "source": [
    "m, b = fit([0,1,2], [0,1,2])\n",
    "assert abs(m-1.0)<0.01\n",
    "assert abs(b-0.0)<0.01"
   ]
  },
  {
   "cell_type": "markdown",
   "metadata": {},
   "source": [
    "Write a function, `bootstrap`, that can create boostrapped versions of the `X` and `Y` arrays above. It is important that you bootstrap pairs of `X[i],Y[i]` to preserve correlations in the model. Remember, to bootstrap data you will draw random samples with replacement."
   ]
  },
  {
   "cell_type": "code",
   "execution_count": 8,
   "metadata": {
    "collapsed": true,
    "deletable": false,
    "nbgrader": {
     "checksum": "2672513022ec10e1743a2343efd7b762",
     "grade": false,
     "grade_id": "bootstraplinee",
     "locked": false,
     "solution": true
    }
   },
   "outputs": [],
   "source": [
    "def bootstrap(X, Y):\n",
    "    \"\"\"Return boostrapped versions of the input X and Y arrays, perserving correlations.\n",
    "    \n",
    "    Parameters\n",
    "    ----------\n",
    "    X: ndarray\n",
    "        Input X array.\n",
    "    Y: ndarray\n",
    "    \n",
    "    Returns\n",
    "    -------\n",
    "    XX: ndarray\n",
    "        The boostrapped X array with the same shape as X and correlated random samples\n",
    "        drawn with replacement.\n",
    "    YY: ndarray\n",
    "        The bootstrapped Y array with the same shape as Y and correlated random samples\n",
    "        drawn with replacement.\n",
    "    \"\"\"\n",
    "    # YOUR CODE HERE\n",
    "    ind = np.random.randint(0, len(X), len(Y))\n",
    "    return X[ind], Y[ind]"
   ]
  },
  {
   "cell_type": "code",
   "execution_count": 9,
   "metadata": {
    "collapsed": false,
    "deletable": false,
    "nbgrader": {
     "checksum": "ba3e8601392b56d3e9dbabd9997dbcb3",
     "grade": true,
     "grade_id": "bootstraplinef",
     "locked": true,
     "points": 2,
     "solution": false
    }
   },
   "outputs": [],
   "source": [
    "a = np.array([0,1,2,3])\n",
    "b = np.array([4,5,6,7])\n",
    "ab, bb = bootstrap(a, b)\n",
    "for element in ab:\n",
    "    assert element in a\n",
    "for element in bb:\n",
    "    assert element in b\n",
    "assert len(a)==len(ab)\n",
    "assert len(ab)==len(bb)"
   ]
  },
  {
   "cell_type": "markdown",
   "metadata": {},
   "source": [
    "Write a function, `bootstrap_fit`, that takes finds the slope and intercept of the input `X` and `Y` data  using the `fit` function above. Your function should perform this fit `n` times using bootstrapped data."
   ]
  },
  {
   "cell_type": "code",
   "execution_count": 10,
   "metadata": {
    "collapsed": true,
    "deletable": false,
    "nbgrader": {
     "checksum": "95f749b850ce7ae375f02fc2fe5f2a5f",
     "grade": true,
     "grade_id": "bootstraplineg",
     "locked": false,
     "points": 2,
     "solution": true
    }
   },
   "outputs": [],
   "source": [
    "def bootstrap_fit(X, Y, n):\n",
    "    \"\"\"Fit a straight line to X and Y n times using bootstrapping.\n",
    "    \n",
    "    Returns\n",
    "    -------\n",
    "    (m, b): tuple of ndarrays\n",
    "        A tuple of 1d arrays with the bootstrapped values of the slope and intercept.\n",
    "    \"\"\"\n",
    "    # YOUR CODE HERE\n",
    "    m = np.zeros(n)\n",
    "    b = np.zeros(n)\n",
    "    \n",
    "    for i in range(n):\n",
    "        bootX, bootY = bootstrap(X, Y)\n",
    "        m[i], b[i] = fit(bootX, bootY)\n",
    "        \n",
    "    return m, b"
   ]
  },
  {
   "cell_type": "markdown",
   "metadata": {},
   "source": [
    "Using the original `X` and `Y` data above:\n",
    "\n",
    "* Find the bootstrapped slopes and intercepts (bootstrap 100 times).\n",
    "* Make an appropriately labeled `jointplot` of the bootstrapped slopes and intercepts.\n",
    "* Find and print the 95% confidence intervals for the slope and intercept."
   ]
  },
  {
   "cell_type": "code",
   "execution_count": 11,
   "metadata": {
    "collapsed": false,
    "deletable": false,
    "nbgrader": {
     "checksum": "0515c7749b20287d9612abbefb2cdf6f",
     "grade": true,
     "grade_id": "bootstraplineh",
     "locked": false,
     "points": 2,
     "solution": true
    }
   },
   "outputs": [
    {
     "name": "stdout",
     "output_type": "stream",
     "text": [
      "Slope 95% Confidence Interval: [ 0.73039059  0.80693875]\n",
      "Intercetp 95% Confidence Interval: [ 2.63739804  3.92349414]\n"
     ]
    },
    {
     "data": {
      "image/png": "[encoded data removed]",
      "text/plain": [
       "<matplotlib.figure.Figure at 0x7f53d9a6a7f0>"
      ]
     },
     "metadata": {},
     "output_type": "display_data"
    }
   ],
   "source": [
    "# YOUR CODE HERE\n",
    "M, B = bootstrap_fit(X, Y, 100)\n",
    "sns.jointplot(M, B)\n",
    "plt.xlabel('Slope')\n",
    "plt.ylabel('Intercept')\n",
    "\n",
    "print(\"Slope 95% Confidence Interval:\", np.percentile(M, (2.5, 97.5)))\n",
    "print(\"Intercetp 95% Confidence Interval:\", np.percentile(B, (2.5, 97.5)))"
   ]
  },
  {
   "cell_type": "code",
   "execution_count": null,
   "metadata": {
    "collapsed": true
   },
   "outputs": [],
   "source": []
  }
 ],
 "metadata": {
  "kernelspec": {
   "display_name": "Python 3",
   "language": "python",
   "name": "python3"
  },
  "language_info": {
   "codemirror_mode": {
    "name": "ipython",
    "version": 3
   },
   "file_extension": ".py",
   "mimetype": "text/x-python",
   "name": "python",
   "nbconvert_exporter": "python",
   "pygments_lexer": "ipython3",
   "version": "3.4.3"
  }
 },
 "nbformat": 4,
 "nbformat_minor": 0
}

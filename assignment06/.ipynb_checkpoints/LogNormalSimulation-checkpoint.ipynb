{
 "cells": [
  {
   "cell_type": "markdown",
   "metadata": {},
   "source": [
    "# Simulating the Log-Normal Distribution"
   ]
  },
  {
   "cell_type": "markdown",
   "metadata": {},
   "source": [
    "In this notebook, you will learn about the [log-normal](https://en.wikipedia.org/wiki/Log-normal_distribution) by simulating it using the standard normal distribution."
   ]
  },
  {
   "cell_type": "markdown",
   "metadata": {},
   "source": [
    "## Imports"
   ]
  },
  {
   "cell_type": "code",
   "execution_count": 1,
   "metadata": {
    "collapsed": true
   },
   "outputs": [],
   "source": [
    "import numpy as np\n",
    "%matplotlib inline\n",
    "from matplotlib import pyplot as plt\n",
    "import seaborn as sns"
   ]
  },
  {
   "cell_type": "code",
   "execution_count": 2,
   "metadata": {
    "collapsed": true
   },
   "outputs": [],
   "source": [
    "from ipywidgets import interact, fixed"
   ]
  },
  {
   "cell_type": "markdown",
   "metadata": {},
   "source": [
    "## Log-normal distribution"
   ]
  },
  {
   "cell_type": "markdown",
   "metadata": {},
   "source": [
    "The log-normal distribution is closely related to the goemetric brownian motion process. It has the following properties:\n",
    "\n",
    "* $ X \\sim ln N(\\mu,\\sigma^2) $\n",
    "* $ X = e^{\\mu + \\sigma Z} $ where $Z \\sim N(0,1) $\n",
    "* $ X \\in [0,+\\infty] $\n",
    "* $ E[X] = e^{\\mu + \\sigma^2 / 2} $\n",
    "* $ var[X] = \\left(e^{\\sigma^2}-1 \\right) e^{2\\mu + \\sigma^2} $\n",
    "\n",
    "It is used in situations where you need to have an exponential growth/decay in addition to a random fluctuation.\n",
    "\n",
    "Write a function, `log_normal`, that returns an array of `size` random variates from the log-normal distribution. Do this by starting from standard normal random variates and using the above definition:"
   ]
  },
  {
   "cell_type": "code",
   "execution_count": 3,
   "metadata": {
    "collapsed": true,
    "deletable": false,
    "nbgrader": {
     "checksum": "06776548babbef5e350457fc361ab10c",
     "grade": false,
     "grade_id": "lognormala",
     "locked": false,
     "solution": true
    }
   },
   "outputs": [],
   "source": [
    "def log_normal(mu, sigma, size=1):\n",
    "    \"\"\"Return an array of size log-normal random variates.\"\"\"\n",
    "    # YOUR CODE HERE\n",
    "    return np.exp(mu + sigma * np.random.normal(size=size))"
   ]
  },
  {
   "cell_type": "code",
   "execution_count": 4,
   "metadata": {
    "collapsed": false,
    "deletable": false,
    "nbgrader": {
     "checksum": "b6f2c851cc2cefdbaf1312f2fb787901",
     "grade": true,
     "grade_id": "lognormalb",
     "locked": true,
     "points": 4,
     "solution": false
    }
   },
   "outputs": [],
   "source": [
    "mu = 0.1\n",
    "sigma = 0.5\n",
    "data = log_normal(mu, sigma, 50)\n",
    "assert isinstance(data, np.ndarray)\n",
    "assert data.shape==(50,)\n",
    "assert data.dtype==np.dtype(float)\n",
    "assert abs(data.mean()-np.exp(mu + 0.5*sigma**2))<0.2"
   ]
  },
  {
   "cell_type": "markdown",
   "metadata": {},
   "source": [
    "Write a function, `plot_log_normal`, that makes a `distplot` of the log-normal distribution and also prints the mean of the data and its expected value (see equation above):"
   ]
  },
  {
   "cell_type": "code",
   "execution_count": 5,
   "metadata": {
    "collapsed": false,
    "deletable": false,
    "nbgrader": {
     "checksum": "d4bbe728363b544dd16431a58f522ca6",
     "grade": false,
     "grade_id": "lognormalc",
     "locked": false,
     "solution": true
    }
   },
   "outputs": [],
   "source": [
    "def plot_log_normal(mu, sigma):\n",
    "    \"\"\"Plot the log-normal distribution as a distplot with 200 points.\"\"\"\n",
    "    log = log_normal(mu,sigma,200)\n",
    "    print(\"mean =\", log.mean(), \"expected mean =\", np.exp(mu + 0.5 * sigma ** 2))\n",
    "    sns.distplot(log, rug=True);\n",
    "    plt.xlabel(\"X\")\n",
    "    plt.ylabel(\"Log(X)\")\n",
    "    plt.xlim(0.0, 20.0)"
   ]
  },
  {
   "cell_type": "markdown",
   "metadata": {},
   "source": [
    "Call the `plot_log_normal` function for $\\mu=0.1$ and $\\sigma=0.5$:"
   ]
  },
  {
   "cell_type": "code",
   "execution_count": 6,
   "metadata": {
    "collapsed": false,
    "deletable": false,
    "nbgrader": {
     "checksum": "0ddf2424aa0c2657ce1bb3f49ef8821c",
     "grade": true,
     "grade_id": "lognormald",
     "locked": false,
     "points": 2,
     "solution": true
    }
   },
   "outputs": [
    {
     "name": "stdout",
     "output_type": "stream",
     "text": [
      "mean = 1.12414310068 expected mean = 1.25232271619\n"
     ]
    },
    {
     "data": {
      "image/png": "[encoded data removed]",
      "text/plain": [
       "<matplotlib.figure.Figure at 0x7f236ebde208>"
      ]
     },
     "metadata": {},
     "output_type": "display_data"
    }
   ],
   "source": [
    "plot_log_normal(0.1, 0.5)"
   ]
  },
  {
   "cell_type": "markdown",
   "metadata": {},
   "source": [
    "Use `interact` to explore the `plot_log_normal` function for:\n",
    "\n",
    "* $ \\mu \\in [0.0, 1.0] $\n",
    "* $ \\sigma \\in [0.0, 2.0] $"
   ]
  },
  {
   "cell_type": "code",
   "execution_count": 8,
   "metadata": {
    "collapsed": false,
    "deletable": false,
    "nbgrader": {
     "checksum": "4f3ffb4dfab4a7571b38f0dd27e0a552",
     "grade": true,
     "grade_id": "lognormale",
     "locked": false,
     "points": 4,
     "solution": true
    }
   },
   "outputs": [
    {
     "name": "stdout",
     "output_type": "stream",
     "text": [
      "mean = 1.87044773602 expected mean = 2.23669649882\n"
     ]
    },
    {
     "data": {
      "text/plain": [
       "<function __main__.plot_log_normal>"
      ]
     },
     "execution_count": 8,
     "metadata": {},
     "output_type": "execute_result"
    },
    {
     "data": {
      "image/png": "[encoded data removed]",
      "text/plain": [
       "<matplotlib.figure.Figure at 0x7f236e6e43c8>"
      ]
     },
     "metadata": {},
     "output_type": "display_data"
    }
   ],
   "source": [
    "interact(plot_log_normal, mu=(0.0,1.0,0.1), sigma=(0.0,2.0,0.1))"
   ]
  },
  {
   "cell_type": "code",
   "execution_count": null,
   "metadata": {
    "collapsed": true
   },
   "outputs": [],
   "source": []
  }
 ],
 "metadata": {
  "kernelspec": {
   "display_name": "Python 3",
   "language": "python",
   "name": "python3"
  },
  "language_info": {
   "codemirror_mode": {
    "name": "ipython",
    "version": 3
   },
   "file_extension": ".py",
   "mimetype": "text/x-python",
   "name": "python",
   "nbconvert_exporter": "python",
   "pygments_lexer": "ipython3",
   "version": "3.4.3"
  }
 },
 "nbformat": 4,
 "nbformat_minor": 0
}

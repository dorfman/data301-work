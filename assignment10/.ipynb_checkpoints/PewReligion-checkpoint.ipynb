{
 "cells": [
  {
   "cell_type": "markdown",
   "metadata": {},
   "source": [
    "# Pew Research Center's Religious Landscape Study"
   ]
  },
  {
   "cell_type": "markdown",
   "metadata": {},
   "source": [
    "In this notebook you will clean and wrangle a dataset that has come out of the Pew Research Center's [Religious Landscape Study](http://www.pewforum.org/religious-landscape-study/). The actual dataset used comes from Hadley Wickham's [Tidy Data Repository](https://github.com/hadley/tidy-data)."
   ]
  },
  {
   "cell_type": "markdown",
   "metadata": {},
   "source": [
    "## Imports"
   ]
  },
  {
   "cell_type": "code",
   "execution_count": 1,
   "metadata": {
    "collapsed": true
   },
   "outputs": [],
   "source": [
    "%matplotlib inline\n",
    "import matplotlib.pyplot as plt\n",
    "import seaborn as sns\n",
    "\n",
    "import numpy as np\n",
    "import pandas as pd"
   ]
  },
  {
   "cell_type": "markdown",
   "metadata": {},
   "source": [
    "## Read in the data"
   ]
  },
  {
   "cell_type": "markdown",
   "metadata": {},
   "source": [
    "Here, we read in the data using `read_csv`:"
   ]
  },
  {
   "cell_type": "code",
   "execution_count": 2,
   "metadata": {
    "collapsed": false
   },
   "outputs": [],
   "source": [
    "df = pd.read_csv('/data/tidy-data/data/pew.csv')"
   ]
  },
  {
   "cell_type": "markdown",
   "metadata": {},
   "source": [
    "Extract the following columns and rename them:\n",
    "\n",
    "* `q16`\n",
    "* `reltrad` -> `religion`\n",
    "* `income`"
   ]
  },
  {
   "cell_type": "code",
   "execution_count": 3,
   "metadata": {
    "collapsed": false,
    "deletable": false,
    "nbgrader": {
     "checksum": "d05111f46ef8414131c8c9b9046bf809",
     "grade": false,
     "grade_id": "pew-religion-a",
     "locked": false,
     "solution": true
    }
   },
   "outputs": [],
   "source": [
    "# YOUR CODE HERE\n",
    "df = pd.DataFrame({ 'q16': df['q16'],\n",
    "                    'religion': df['reltrad'],\n",
    "                    'income': df['income']\n",
    "                  }, columns=['q16', 'religion', 'income'])"
   ]
  },
  {
   "cell_type": "code",
   "execution_count": 4,
   "metadata": {
    "collapsed": false
   },
   "outputs": [
    {
     "data": {
      "text/html": [
       "<div>\n",
       "<table border=\"1\" class=\"dataframe\">\n",
       "  <thead>\n",
       "    <tr style=\"text-align: right;\">\n",
       "      <th></th>\n",
       "      <th>q16</th>\n",
       "      <th>religion</th>\n",
       "      <th>income</th>\n",
       "    </tr>\n",
       "  </thead>\n",
       "  <tbody>\n",
       "    <tr>\n",
       "      <th>0</th>\n",
       "      <td>Protestant</td>\n",
       "      <td>Evangelical Protestant Churches</td>\n",
       "      <td>75 to under $100,000</td>\n",
       "    </tr>\n",
       "    <tr>\n",
       "      <th>1</th>\n",
       "      <td>Protestant</td>\n",
       "      <td>Mainline Protestant Churches</td>\n",
       "      <td>20 to under $30,000</td>\n",
       "    </tr>\n",
       "    <tr>\n",
       "      <th>2</th>\n",
       "      <td>Protestant</td>\n",
       "      <td>Mainline Protestant Churches</td>\n",
       "      <td>30 to under $40,000</td>\n",
       "    </tr>\n",
       "    <tr>\n",
       "      <th>3</th>\n",
       "      <td>Nothing in particular</td>\n",
       "      <td>Unaffiliated</td>\n",
       "      <td>Less than $10,000</td>\n",
       "    </tr>\n",
       "    <tr>\n",
       "      <th>4</th>\n",
       "      <td>Jewish (Judaism)</td>\n",
       "      <td>Jewish</td>\n",
       "      <td>50 to under $75,000</td>\n",
       "    </tr>\n",
       "  </tbody>\n",
       "</table>\n",
       "</div>"
      ],
      "text/plain": [
       "                       q16                           religion  \\\n",
       "0              Protestant    Evangelical Protestant Churches    \n",
       "1              Protestant       Mainline Protestant Churches    \n",
       "2              Protestant       Mainline Protestant Churches    \n",
       "3   Nothing in particular                       Unaffiliated    \n",
       "4        Jewish (Judaism)                             Jewish    \n",
       "\n",
       "                 income  \n",
       "0  75 to under $100,000  \n",
       "1   20 to under $30,000  \n",
       "2   30 to under $40,000  \n",
       "3     Less than $10,000  \n",
       "4   50 to under $75,000  "
      ]
     },
     "execution_count": 4,
     "metadata": {},
     "output_type": "execute_result"
    }
   ],
   "source": [
    "df.head()"
   ]
  },
  {
   "cell_type": "code",
   "execution_count": 5,
   "metadata": {
    "collapsed": false,
    "deletable": false,
    "nbgrader": {
     "checksum": "2dc1ddacf369cba41d6f21952e4ea714",
     "grade": true,
     "grade_id": "pew-religion-b",
     "locked": true,
     "points": 2,
     "solution": false
    }
   },
   "outputs": [],
   "source": [
    "assert list(df.columns)==['q16', 'religion', 'income']\n",
    "assert len(df)==35556"
   ]
  },
  {
   "cell_type": "markdown",
   "metadata": {},
   "source": [
    "## Religion"
   ]
  },
  {
   "cell_type": "markdown",
   "metadata": {},
   "source": [
    "Now you are going to tidy up the `religion` column. Perform the following transformations of the `religion` column:\n",
    "\n",
    "* Replace `'Churches'` by an empty string\n",
    "* Replace `'Protestant'` by `'Prot'`\n",
    "* For the rows that have `\" Atheist (do not believe in God) \"` in the `q16` column, put the value `'Atheist'` in the\n",
    "  `religion` column\n",
    "* For rows that have `\" Agnostic (not sure if there is a God) \"` in the `q16` column, put the value `'Agnostic'` in the `religion` column\n",
    "* For rows that have the phrase `\"(no information on religious affiliation)\"`, replace their value by `'Unknown'`\n",
    "* Strip leading and trailing whitespace"
   ]
  },
  {
   "cell_type": "code",
   "execution_count": 6,
   "metadata": {
    "collapsed": false,
    "deletable": false,
    "nbgrader": {
     "checksum": "552b1ff0f19f4b7546a1df5873c4d42b",
     "grade": false,
     "grade_id": "pew-religion-c",
     "locked": false,
     "solution": true
    }
   },
   "outputs": [
    {
     "name": "stderr",
     "output_type": "stream",
     "text": [
      "/usr/local/lib/python3.4/dist-packages/ipykernel/__main__.py:6: UserWarning: This pattern has match groups. To actually get the groups, use str.extract.\n"
     ]
    }
   ],
   "source": [
    "# YOUR CODE HERE\n",
    "df['religion'] = df['religion'].replace({   'Churches': '',\n",
    "                                            'Protestant': 'Prot'}, regex=True)\n",
    "df['religion'][df['q16'] == ' Atheist (do not believe in God) '] = 'Atheist'\n",
    "df['religion'][df['q16'] == ' Agnostic (not sure if there is a God) '] = 'Agnostic'\n",
    "df['religion'][df['religion'].str.contains(\"(no information on religious affiliation)\")] = \"Unknown\"\n",
    "df['religion'] = df['religion'].apply(str.strip)"
   ]
  },
  {
   "cell_type": "code",
   "execution_count": 7,
   "metadata": {
    "collapsed": false,
    "deletable": false,
    "nbgrader": {
     "checksum": "86af6d5ce742920b6254c7e8949fe6fb",
     "grade": true,
     "grade_id": "pew-religion-d",
     "locked": true,
     "points": 2,
     "solution": false
    }
   },
   "outputs": [],
   "source": [
    "assert list(df['religion'].unique()) == \\\n",
    "['Evangelical Prot',\n",
    " 'Mainline Prot',\n",
    " 'Unaffiliated',\n",
    " 'Jewish',\n",
    " 'Unknown',\n",
    " 'Other Faiths',\n",
    " 'Historically Black Prot',\n",
    " \"Jehovah's Witness\",\n",
    " 'Atheist',\n",
    " 'Agnostic',\n",
    " 'Catholic',\n",
    " 'Buddhist',\n",
    " 'Mormon',\n",
    " 'Muslim',\n",
    " 'Hindu',\n",
    " 'Other Christian',\n",
    " 'Orthodox',\n",
    " 'Other World Religions']"
   ]
  },
  {
   "cell_type": "markdown",
   "metadata": {},
   "source": [
    "Now do the following:\n",
    "\n",
    "* Extract out just the `religion` and `income` columns\n",
    "* Convert the `religion` column to a categorical type"
   ]
  },
  {
   "cell_type": "code",
   "execution_count": 8,
   "metadata": {
    "collapsed": false,
    "deletable": false,
    "nbgrader": {
     "checksum": "d35886d61816e95351d6de1972003ab1",
     "grade": false,
     "grade_id": "pew-religion-e",
     "locked": false,
     "solution": true
    }
   },
   "outputs": [],
   "source": [
    "# YOUR CODE HERE\n",
    "rel = pd.Series(df['religion'], dtype='category')\n",
    "df = pd.DataFrame({ 'religion': rel,\n",
    "                    'income': df['income']\n",
    "                  }, columns=['religion', 'income'])\n"
   ]
  },
  {
   "cell_type": "code",
   "execution_count": 9,
   "metadata": {
    "collapsed": false
   },
   "outputs": [
    {
     "data": {
      "text/html": [
       "<div>\n",
       "<table border=\"1\" class=\"dataframe\">\n",
       "  <thead>\n",
       "    <tr style=\"text-align: right;\">\n",
       "      <th></th>\n",
       "      <th>religion</th>\n",
       "      <th>income</th>\n",
       "    </tr>\n",
       "  </thead>\n",
       "  <tbody>\n",
       "    <tr>\n",
       "      <th>0</th>\n",
       "      <td>Evangelical Prot</td>\n",
       "      <td>75 to under $100,000</td>\n",
       "    </tr>\n",
       "    <tr>\n",
       "      <th>1</th>\n",
       "      <td>Mainline Prot</td>\n",
       "      <td>20 to under $30,000</td>\n",
       "    </tr>\n",
       "    <tr>\n",
       "      <th>2</th>\n",
       "      <td>Mainline Prot</td>\n",
       "      <td>30 to under $40,000</td>\n",
       "    </tr>\n",
       "    <tr>\n",
       "      <th>3</th>\n",
       "      <td>Unaffiliated</td>\n",
       "      <td>Less than $10,000</td>\n",
       "    </tr>\n",
       "    <tr>\n",
       "      <th>4</th>\n",
       "      <td>Jewish</td>\n",
       "      <td>50 to under $75,000</td>\n",
       "    </tr>\n",
       "  </tbody>\n",
       "</table>\n",
       "</div>"
      ],
      "text/plain": [
       "           religion                income\n",
       "0  Evangelical Prot  75 to under $100,000\n",
       "1     Mainline Prot   20 to under $30,000\n",
       "2     Mainline Prot   30 to under $40,000\n",
       "3      Unaffiliated     Less than $10,000\n",
       "4            Jewish   50 to under $75,000"
      ]
     },
     "execution_count": 9,
     "metadata": {},
     "output_type": "execute_result"
    }
   ],
   "source": [
    "df.head()"
   ]
  },
  {
   "cell_type": "code",
   "execution_count": 10,
   "metadata": {
    "collapsed": false,
    "deletable": false,
    "nbgrader": {
     "checksum": "d4a53879e3b66ba10f3f13ecf475b10b",
     "grade": true,
     "grade_id": "pew-religion-f",
     "locked": true,
     "points": 2,
     "solution": false
    }
   },
   "outputs": [],
   "source": [
    "assert list(df.columns)==['religion', 'income']\n",
    "assert df.religion.dtype.name=='category'"
   ]
  },
  {
   "cell_type": "markdown",
   "metadata": {},
   "source": [
    "Now make an appropriately labeled Seaborn `countplot` of the `religion` column on the y-axis, sorted by the number of people in each religion."
   ]
  },
  {
   "cell_type": "code",
   "execution_count": 11,
   "metadata": {
    "collapsed": false,
    "deletable": false,
    "nbgrader": {
     "checksum": "3442195d6d8c2f770fe24a76ed7ee12e",
     "grade": true,
     "grade_id": "pew-religion-g",
     "locked": false,
     "points": 4,
     "solution": true
    }
   },
   "outputs": [
    {
     "data": {
      "text/plain": [
       "<matplotlib.axes._subplots.AxesSubplot at 0x7f5b57bff860>"
      ]
     },
     "execution_count": 11,
     "metadata": {},
     "output_type": "execute_result"
    },
    {
     "data": {
      "image/png": "[encoded data removed]",
      "text/plain": [
       "<matplotlib.figure.Figure at 0x7f5b57f02780>"
      ]
     },
     "metadata": {},
     "output_type": "display_data"
    }
   ],
   "source": [
    "# YOUR CODE HERE\n",
    "plt.figure(figsize=(20,10))\n",
    "sns.countplot(y=df['religion'], order=df['religion'].value_counts().index)"
   ]
  },
  {
   "cell_type": "markdown",
   "metadata": {},
   "source": [
    "## Income"
   ]
  },
  {
   "cell_type": "markdown",
   "metadata": {},
   "source": [
    "Now work on the `income` column. Replace the existing income strings by the ones in the tests below:"
   ]
  },
  {
   "cell_type": "code",
   "execution_count": 12,
   "metadata": {
    "collapsed": false,
    "deletable": false,
    "nbgrader": {
     "checksum": "6e1ea42bf3d5157527f1727f8058b619",
     "grade": false,
     "grade_id": "pew-religion-h",
     "locked": false,
     "solution": true
    }
   },
   "outputs": [
    {
     "name": "stderr",
     "output_type": "stream",
     "text": [
      "/usr/local/lib/python3.4/dist-packages/ipykernel/__main__.py:2: SettingWithCopyWarning: \n",
      "A value is trying to be set on a copy of a slice from a DataFrame\n",
      "\n",
      "See the caveats in the documentation: http://pandas.pydata.org/pandas-docs/stable/indexing.html#indexing-view-versus-copy\n",
      "  from ipykernel import kernelapp as app\n",
      "/usr/local/lib/python3.4/dist-packages/ipykernel/__main__.py:3: SettingWithCopyWarning: \n",
      "A value is trying to be set on a copy of a slice from a DataFrame\n",
      "\n",
      "See the caveats in the documentation: http://pandas.pydata.org/pandas-docs/stable/indexing.html#indexing-view-versus-copy\n",
      "  app.launch_new_instance()\n",
      "/usr/local/lib/python3.4/dist-packages/ipykernel/__main__.py:4: SettingWithCopyWarning: \n",
      "A value is trying to be set on a copy of a slice from a DataFrame\n",
      "\n",
      "See the caveats in the documentation: http://pandas.pydata.org/pandas-docs/stable/indexing.html#indexing-view-versus-copy\n",
      "/usr/local/lib/python3.4/dist-packages/ipykernel/__main__.py:5: SettingWithCopyWarning: \n",
      "A value is trying to be set on a copy of a slice from a DataFrame\n",
      "\n",
      "See the caveats in the documentation: http://pandas.pydata.org/pandas-docs/stable/indexing.html#indexing-view-versus-copy\n",
      "/usr/local/lib/python3.4/dist-packages/ipykernel/__main__.py:6: SettingWithCopyWarning: \n",
      "A value is trying to be set on a copy of a slice from a DataFrame\n",
      "\n",
      "See the caveats in the documentation: http://pandas.pydata.org/pandas-docs/stable/indexing.html#indexing-view-versus-copy\n",
      "/usr/local/lib/python3.4/dist-packages/ipykernel/__main__.py:7: SettingWithCopyWarning: \n",
      "A value is trying to be set on a copy of a slice from a DataFrame\n",
      "\n",
      "See the caveats in the documentation: http://pandas.pydata.org/pandas-docs/stable/indexing.html#indexing-view-versus-copy\n",
      "/usr/local/lib/python3.4/dist-packages/ipykernel/__main__.py:8: SettingWithCopyWarning: \n",
      "A value is trying to be set on a copy of a slice from a DataFrame\n",
      "\n",
      "See the caveats in the documentation: http://pandas.pydata.org/pandas-docs/stable/indexing.html#indexing-view-versus-copy\n",
      "/usr/local/lib/python3.4/dist-packages/ipykernel/__main__.py:9: SettingWithCopyWarning: \n",
      "A value is trying to be set on a copy of a slice from a DataFrame\n",
      "\n",
      "See the caveats in the documentation: http://pandas.pydata.org/pandas-docs/stable/indexing.html#indexing-view-versus-copy\n",
      "/usr/local/lib/python3.4/dist-packages/ipykernel/__main__.py:10: SettingWithCopyWarning: \n",
      "A value is trying to be set on a copy of a slice from a DataFrame\n",
      "\n",
      "See the caveats in the documentation: http://pandas.pydata.org/pandas-docs/stable/indexing.html#indexing-view-versus-copy\n",
      "/usr/local/lib/python3.4/dist-packages/ipykernel/__main__.py:11: SettingWithCopyWarning: \n",
      "A value is trying to be set on a copy of a slice from a DataFrame\n",
      "\n",
      "See the caveats in the documentation: http://pandas.pydata.org/pandas-docs/stable/indexing.html#indexing-view-versus-copy\n"
     ]
    }
   ],
   "source": [
    "# YOUR CODE HERE\n",
    "df['income'][df['income'] == 'Less than $10,000'] = '<$10k'\n",
    "df['income'][df['income'] == '10 to under $20,000'] = '$10-20k'\n",
    "df['income'][df['income'] == '20 to under $30,000'] = '$20-30k'\n",
    "df['income'][df['income'] == '30 to under $40,000'] = '$30-40k'\n",
    "df['income'][df['income'] == '40 to under $50,000'] = '$40-50k'\n",
    "df['income'][df['income'] == '50 to under $75,000'] = '$50-75k'\n",
    "df['income'][df['income'] == '75 to under $100,000'] = '$75-100k'\n",
    "df['income'][df['income'] == '100 to under $150,000'] = '$100-150k'\n",
    "df['income'][df['income'] == '$150,000 or more'] = '>150k'\n",
    "df['income'][df['income'] == 'Don\\'t know/Refused (VOL.)'] = 'Unknown'"
   ]
  },
  {
   "cell_type": "code",
   "execution_count": 13,
   "metadata": {
    "collapsed": false,
    "deletable": false,
    "nbgrader": {
     "checksum": "838347b898b9ffe5e0d14067cb4cb421",
     "grade": true,
     "grade_id": "pew-religion-i",
     "locked": true,
     "points": 2,
     "solution": false
    }
   },
   "outputs": [],
   "source": [
    "assert list(df.income.unique())==\\\n",
    "    ['$75-100k',\n",
    "     '$20-30k',\n",
    "     '$30-40k',\n",
    "     '<$10k',\n",
    "     '$50-75k',\n",
    "     '>150k',\n",
    "     '$40-50k',\n",
    "     'Unknown',\n",
    "     '$100-150k',\n",
    "     '$10-20k']"
   ]
  },
  {
   "cell_type": "markdown",
   "metadata": {},
   "source": [
    "Convert the `income` column to a category type:"
   ]
  },
  {
   "cell_type": "code",
   "execution_count": 14,
   "metadata": {
    "collapsed": false,
    "deletable": false,
    "nbgrader": {
     "checksum": "85c1b5ca570925cc7816d56b8d60c2f4",
     "grade": false,
     "grade_id": "pew-religion-j",
     "locked": false,
     "solution": true
    }
   },
   "outputs": [],
   "source": [
    "# YOUR CODE HERE\n",
    "df['income'] = pd.Series(df['income'], dtype='category')"
   ]
  },
  {
   "cell_type": "code",
   "execution_count": 15,
   "metadata": {
    "collapsed": false,
    "deletable": false,
    "nbgrader": {
     "checksum": "c1daff116da9833e92bc3d412dfb7281",
     "grade": true,
     "grade_id": "pew-religion-k",
     "locked": true,
     "points": 2,
     "solution": false
    }
   },
   "outputs": [],
   "source": [
    "assert df.income.dtype.name=='category'"
   ]
  },
  {
   "cell_type": "markdown",
   "metadata": {},
   "source": [
    "Mow make an approprately labeled `countplot` of the `income` column, ordered by the income level:"
   ]
  },
  {
   "cell_type": "code",
   "execution_count": 16,
   "metadata": {
    "collapsed": false
   },
   "outputs": [
    {
     "data": {
      "text/plain": [
       "['<$10k',\n",
       " '$10-20k',\n",
       " '$20-30k',\n",
       " '$30-40k',\n",
       " '$40-50k',\n",
       " '$50-75k',\n",
       " '$75-100k',\n",
       " '$100-150k',\n",
       " '>150k',\n",
       " 'Unknown']"
      ]
     },
     "execution_count": 16,
     "metadata": {},
     "output_type": "execute_result"
    }
   ],
   "source": [
    "income_order = [\"<$10k\", \"$10-20k\", \"$20-30k\", \"$30-40k\", \"$40-50k\", \"$50-75k\", \"$75-100k\", \"$100-150k\", \">150k\", \"Unknown\"]\n",
    "income_order"
   ]
  },
  {
   "cell_type": "code",
   "execution_count": 17,
   "metadata": {
    "collapsed": false,
    "deletable": false,
    "nbgrader": {
     "checksum": "9a61d7655e7296507b1ef4879de8d92c",
     "grade": true,
     "grade_id": "pew-religion-l",
     "locked": false,
     "points": 4,
     "solution": true
    }
   },
   "outputs": [
    {
     "data": {
      "text/plain": [
       "<matplotlib.axes._subplots.AxesSubplot at 0x7f5b57d6a630>"
      ]
     },
     "execution_count": 17,
     "metadata": {},
     "output_type": "execute_result"
    },
    {
     "data": {
      "image/png": "[encoded data removed]",
      "text/plain": [
       "<matplotlib.figure.Figure at 0x7f5b57bb1fd0>"
      ]
     },
     "metadata": {},
     "output_type": "display_data"
    }
   ],
   "source": [
    "# YOUR CODE HERE\n",
    "sns.countplot(df['income'], order=income_order)"
   ]
  },
  {
   "cell_type": "markdown",
   "metadata": {},
   "source": [
    "## Simple Analysis"
   ]
  },
  {
   "cell_type": "markdown",
   "metadata": {},
   "source": [
    "Using a `groupby` and custom aggregation do the following:\n",
    "\n",
    "* Extract rows where the income is not `'Unknown'`\n",
    "* Compute the most commonly occuring income category for each religion (mode)\n",
    "* Sort the result by the mode income\n",
    "* Store the result in a single-column `DataFrame` with an index that is the religion and a column name of `mode_income`"
   ]
  },
  {
   "cell_type": "code",
   "execution_count": 18,
   "metadata": {
    "collapsed": false,
    "deletable": false,
    "nbgrader": {
     "checksum": "008399c4db4579dd716a76eb63d83a44",
     "grade": true,
     "grade_id": "pew-religion-m",
     "locked": false,
     "points": 2,
     "solution": true
    }
   },
   "outputs": [
    {
     "data": {
      "text/html": [
       "<div>\n",
       "<table border=\"1\" class=\"dataframe\">\n",
       "  <thead>\n",
       "    <tr style=\"text-align: right;\">\n",
       "      <th></th>\n",
       "      <th>mode_income</th>\n",
       "    </tr>\n",
       "    <tr>\n",
       "      <th>religion</th>\n",
       "      <th></th>\n",
       "    </tr>\n",
       "  </thead>\n",
       "  <tbody>\n",
       "    <tr>\n",
       "      <th>Jewish</th>\n",
       "      <td>&gt;150k</td>\n",
       "    </tr>\n",
       "    <tr>\n",
       "      <th>Atheist</th>\n",
       "      <td>&gt;150k</td>\n",
       "    </tr>\n",
       "    <tr>\n",
       "      <th>Hindu</th>\n",
       "      <td>&gt;150k</td>\n",
       "    </tr>\n",
       "    <tr>\n",
       "      <th>Buddhist</th>\n",
       "      <td>$75-100k</td>\n",
       "    </tr>\n",
       "    <tr>\n",
       "      <th>Other Christian</th>\n",
       "      <td>$75-100k</td>\n",
       "    </tr>\n",
       "    <tr>\n",
       "      <th>Unaffiliated</th>\n",
       "      <td>$50-75k</td>\n",
       "    </tr>\n",
       "    <tr>\n",
       "      <th>Catholic</th>\n",
       "      <td>$50-75k</td>\n",
       "    </tr>\n",
       "    <tr>\n",
       "      <th>Evangelical Prot</th>\n",
       "      <td>$50-75k</td>\n",
       "    </tr>\n",
       "    <tr>\n",
       "      <th>Jehovah's Witness</th>\n",
       "      <td>$50-75k</td>\n",
       "    </tr>\n",
       "    <tr>\n",
       "      <th>Unknown</th>\n",
       "      <td>$50-75k</td>\n",
       "    </tr>\n",
       "    <tr>\n",
       "      <th>Mainline Prot</th>\n",
       "      <td>$50-75k</td>\n",
       "    </tr>\n",
       "    <tr>\n",
       "      <th>Mormon</th>\n",
       "      <td>$50-75k</td>\n",
       "    </tr>\n",
       "    <tr>\n",
       "      <th>Muslim</th>\n",
       "      <td>$50-75k</td>\n",
       "    </tr>\n",
       "    <tr>\n",
       "      <th>Orthodox</th>\n",
       "      <td>$50-75k</td>\n",
       "    </tr>\n",
       "    <tr>\n",
       "      <th>Other Faiths</th>\n",
       "      <td>$50-75k</td>\n",
       "    </tr>\n",
       "    <tr>\n",
       "      <th>Other World Religions</th>\n",
       "      <td>$50-75k</td>\n",
       "    </tr>\n",
       "    <tr>\n",
       "      <th>Agnostic</th>\n",
       "      <td>$50-75k</td>\n",
       "    </tr>\n",
       "    <tr>\n",
       "      <th>Historically Black Prot</th>\n",
       "      <td>$10-20k</td>\n",
       "    </tr>\n",
       "  </tbody>\n",
       "</table>\n",
       "</div>"
      ],
      "text/plain": [
       "                        mode_income\n",
       "religion                           \n",
       "Jewish                        >150k\n",
       "Atheist                       >150k\n",
       "Hindu                         >150k\n",
       "Buddhist                   $75-100k\n",
       "Other Christian            $75-100k\n",
       "Unaffiliated                $50-75k\n",
       "Catholic                    $50-75k\n",
       "Evangelical Prot            $50-75k\n",
       "Jehovah's Witness           $50-75k\n",
       "Unknown                     $50-75k\n",
       "Mainline Prot               $50-75k\n",
       "Mormon                      $50-75k\n",
       "Muslim                      $50-75k\n",
       "Orthodox                    $50-75k\n",
       "Other Faiths                $50-75k\n",
       "Other World Religions       $50-75k\n",
       "Agnostic                    $50-75k\n",
       "Historically Black Prot     $10-20k"
      ]
     },
     "execution_count": 18,
     "metadata": {},
     "output_type": "execute_result"
    }
   ],
   "source": [
    "# YOUR CODE HERE\n",
    "df = df[df['income'] != 'Unknown']\n",
    "mode = df.groupby('religion')['income']\n",
    "mode = mode.agg(lambda x: x.value_counts().index[0])\n",
    "mode = mode.sort_values(ascending=False)\n",
    "mode = pd.DataFrame({'mode_income': mode})\n",
    "mode"
   ]
  },
  {
   "cell_type": "code",
   "execution_count": null,
   "metadata": {
    "collapsed": true
   },
   "outputs": [],
   "source": []
  }
 ],
 "metadata": {
  "kernelspec": {
   "display_name": "Python 3",
   "language": "python",
   "name": "python3"
  },
  "language_info": {
   "codemirror_mode": {
    "name": "ipython",
    "version": 3
   },
   "file_extension": ".py",
   "mimetype": "text/x-python",
   "name": "python",
   "nbconvert_exporter": "python",
   "pygments_lexer": "ipython3",
   "version": "3.4.3"
  }
 },
 "nbformat": 4,
 "nbformat_minor": 0
}

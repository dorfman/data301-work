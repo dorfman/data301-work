{
 "cells": [
  {
   "cell_type": "markdown",
   "metadata": {},
   "source": [
    "# Data Cleaning\n",
    "Reads the dataset in /data/dorfman/2016-national-gop-primary.csv and removes unneeded columns and poll entries/rows taken before 2016. Uses only recent and relevant data. Also constructs a DataFrame for candidate dropout dates."
   ]
  },
  {
   "cell_type": "markdown",
   "metadata": {},
   "source": [
    "## Imports"
   ]
  },
  {
   "cell_type": "code",
   "execution_count": 1,
   "metadata": {
    "collapsed": false
   },
   "outputs": [],
   "source": [
    "%matplotlib inline\n",
    "import matplotlib.pyplot as plt\n",
    "import seaborn as sns\n",
    "\n",
    "import numpy as np\n",
    "import pandas as pd\n",
    "import os\n",
    "import hundred"
   ]
  },
  {
   "cell_type": "markdown",
   "metadata": {},
   "source": [
    "## Read Data\n",
    "http://elections.huffingtonpost.com/pollster/2016-national-gop-primary\n",
    "\n",
    "Downloaded as a CSV and imported into Jupyter."
   ]
  },
  {
   "cell_type": "code",
   "execution_count": 2,
   "metadata": {
    "collapsed": false
   },
   "outputs": [
    {
     "data": {
      "text/html": [
       "<div>\n",
       "<table border=\"1\" class=\"dataframe\">\n",
       "  <thead>\n",
       "    <tr style=\"text-align: right;\">\n",
       "      <th></th>\n",
       "      <th>Pollster</th>\n",
       "      <th>Start Date</th>\n",
       "      <th>End Date</th>\n",
       "      <th>Entry Date/Time (ET)</th>\n",
       "      <th>Number of Observations</th>\n",
       "      <th>Population</th>\n",
       "      <th>Mode</th>\n",
       "      <th>Trump</th>\n",
       "      <th>Cruz</th>\n",
       "      <th>Rubio</th>\n",
       "      <th>...</th>\n",
       "      <th>Pataki</th>\n",
       "      <th>Perry</th>\n",
       "      <th>Rand Paul</th>\n",
       "      <th>Santorum</th>\n",
       "      <th>Walker</th>\n",
       "      <th>Undecided</th>\n",
       "      <th>Pollster URL</th>\n",
       "      <th>Source URL</th>\n",
       "      <th>Partisan</th>\n",
       "      <th>Affiliation</th>\n",
       "    </tr>\n",
       "  </thead>\n",
       "  <tbody>\n",
       "    <tr>\n",
       "      <th>0</th>\n",
       "      <td>Morning Consult</td>\n",
       "      <td>2016-03-11</td>\n",
       "      <td>2016-03-13</td>\n",
       "      <td>2016-03-14 17:45:27 UTC 2016-03-14 17:45:27 UTC</td>\n",
       "      <td>1516</td>\n",
       "      <td>Registered Voters - Republican</td>\n",
       "      <td>Internet</td>\n",
       "      <td>42</td>\n",
       "      <td>23</td>\n",
       "      <td>12</td>\n",
       "      <td>...</td>\n",
       "      <td>NaN</td>\n",
       "      <td>NaN</td>\n",
       "      <td>NaN</td>\n",
       "      <td>NaN</td>\n",
       "      <td>NaN</td>\n",
       "      <td>9</td>\n",
       "      <td>http://elections.huffingtonpost.com/pollster/p...</td>\n",
       "      <td>NaN</td>\n",
       "      <td>Nonpartisan</td>\n",
       "      <td>None</td>\n",
       "    </tr>\n",
       "    <tr>\n",
       "      <th>1</th>\n",
       "      <td>YouGov/Economist</td>\n",
       "      <td>2016-03-10</td>\n",
       "      <td>2016-03-12</td>\n",
       "      <td>2016-03-14 17:17:34 UTC 2016-03-14 17:17:34 UTC</td>\n",
       "      <td>400</td>\n",
       "      <td>Likely Voters - Republican</td>\n",
       "      <td>Internet</td>\n",
       "      <td>53</td>\n",
       "      <td>22</td>\n",
       "      <td>10</td>\n",
       "      <td>...</td>\n",
       "      <td>NaN</td>\n",
       "      <td>NaN</td>\n",
       "      <td>NaN</td>\n",
       "      <td>NaN</td>\n",
       "      <td>NaN</td>\n",
       "      <td>4</td>\n",
       "      <td>http://elections.huffingtonpost.com/pollster/p...</td>\n",
       "      <td>NaN</td>\n",
       "      <td>Nonpartisan</td>\n",
       "      <td>None</td>\n",
       "    </tr>\n",
       "    <tr>\n",
       "      <th>2</th>\n",
       "      <td>Ipsos/Reuters</td>\n",
       "      <td>2016-03-05</td>\n",
       "      <td>2016-03-09</td>\n",
       "      <td>2016-03-10 16:53:52 UTC 2016-03-10 16:53:52 UTC</td>\n",
       "      <td>639</td>\n",
       "      <td>Registered Voters - Republican</td>\n",
       "      <td>Internet</td>\n",
       "      <td>41</td>\n",
       "      <td>24</td>\n",
       "      <td>13</td>\n",
       "      <td>...</td>\n",
       "      <td>NaN</td>\n",
       "      <td>NaN</td>\n",
       "      <td>NaN</td>\n",
       "      <td>NaN</td>\n",
       "      <td>NaN</td>\n",
       "      <td>5</td>\n",
       "      <td>http://elections.huffingtonpost.com/pollster/p...</td>\n",
       "      <td>NaN</td>\n",
       "      <td>Nonpartisan</td>\n",
       "      <td>None</td>\n",
       "    </tr>\n",
       "    <tr>\n",
       "      <th>3</th>\n",
       "      <td>Morning Consult</td>\n",
       "      <td>2016-03-04</td>\n",
       "      <td>2016-03-06</td>\n",
       "      <td>2016-03-08 15:38:21 UTC 2016-03-08 15:38:21 UTC</td>\n",
       "      <td>781</td>\n",
       "      <td>Registered Voters - Republican</td>\n",
       "      <td>Internet</td>\n",
       "      <td>40</td>\n",
       "      <td>23</td>\n",
       "      <td>14</td>\n",
       "      <td>...</td>\n",
       "      <td>NaN</td>\n",
       "      <td>NaN</td>\n",
       "      <td>NaN</td>\n",
       "      <td>NaN</td>\n",
       "      <td>NaN</td>\n",
       "      <td>8</td>\n",
       "      <td>http://elections.huffingtonpost.com/pollster/p...</td>\n",
       "      <td>NaN</td>\n",
       "      <td>Nonpartisan</td>\n",
       "      <td>None</td>\n",
       "    </tr>\n",
       "    <tr>\n",
       "      <th>4</th>\n",
       "      <td>ABC/Post</td>\n",
       "      <td>2016-03-03</td>\n",
       "      <td>2016-03-06</td>\n",
       "      <td>2016-03-08 12:06:27 UTC 2016-03-08 12:06:27 UTC</td>\n",
       "      <td>400</td>\n",
       "      <td>Registered Voters - Republican</td>\n",
       "      <td>Live Phone</td>\n",
       "      <td>34</td>\n",
       "      <td>25</td>\n",
       "      <td>18</td>\n",
       "      <td>...</td>\n",
       "      <td>NaN</td>\n",
       "      <td>NaN</td>\n",
       "      <td>NaN</td>\n",
       "      <td>NaN</td>\n",
       "      <td>NaN</td>\n",
       "      <td>7</td>\n",
       "      <td>http://elections.huffingtonpost.com/pollster/p...</td>\n",
       "      <td>NaN</td>\n",
       "      <td>Nonpartisan</td>\n",
       "      <td>None</td>\n",
       "    </tr>\n",
       "  </tbody>\n",
       "</table>\n",
       "<p>5 rows × 29 columns</p>\n",
       "</div>"
      ],
      "text/plain": [
       "           Pollster  Start Date    End Date  \\\n",
       "0   Morning Consult  2016-03-11  2016-03-13   \n",
       "1  YouGov/Economist  2016-03-10  2016-03-12   \n",
       "2     Ipsos/Reuters  2016-03-05  2016-03-09   \n",
       "3   Morning Consult  2016-03-04  2016-03-06   \n",
       "4          ABC/Post  2016-03-03  2016-03-06   \n",
       "\n",
       "                              Entry Date/Time (ET)  Number of Observations  \\\n",
       "0  2016-03-14 17:45:27 UTC 2016-03-14 17:45:27 UTC                    1516   \n",
       "1  2016-03-14 17:17:34 UTC 2016-03-14 17:17:34 UTC                     400   \n",
       "2  2016-03-10 16:53:52 UTC 2016-03-10 16:53:52 UTC                     639   \n",
       "3  2016-03-08 15:38:21 UTC 2016-03-08 15:38:21 UTC                     781   \n",
       "4  2016-03-08 12:06:27 UTC 2016-03-08 12:06:27 UTC                     400   \n",
       "\n",
       "                       Population        Mode  Trump  Cruz  Rubio  \\\n",
       "0  Registered Voters - Republican    Internet     42    23     12   \n",
       "1      Likely Voters - Republican    Internet     53    22     10   \n",
       "2  Registered Voters - Republican    Internet     41    24     13   \n",
       "3  Registered Voters - Republican    Internet     40    23     14   \n",
       "4  Registered Voters - Republican  Live Phone     34    25     18   \n",
       "\n",
       "      ...       Pataki  Perry  Rand Paul  Santorum  Walker  Undecided  \\\n",
       "0     ...          NaN    NaN        NaN       NaN     NaN          9   \n",
       "1     ...          NaN    NaN        NaN       NaN     NaN          4   \n",
       "2     ...          NaN    NaN        NaN       NaN     NaN          5   \n",
       "3     ...          NaN    NaN        NaN       NaN     NaN          8   \n",
       "4     ...          NaN    NaN        NaN       NaN     NaN          7   \n",
       "\n",
       "                                        Pollster URL  Source URL     Partisan  \\\n",
       "0  http://elections.huffingtonpost.com/pollster/p...         NaN  Nonpartisan   \n",
       "1  http://elections.huffingtonpost.com/pollster/p...         NaN  Nonpartisan   \n",
       "2  http://elections.huffingtonpost.com/pollster/p...         NaN  Nonpartisan   \n",
       "3  http://elections.huffingtonpost.com/pollster/p...         NaN  Nonpartisan   \n",
       "4  http://elections.huffingtonpost.com/pollster/p...         NaN  Nonpartisan   \n",
       "\n",
       "   Affiliation  \n",
       "0         None  \n",
       "1         None  \n",
       "2         None  \n",
       "3         None  \n",
       "4         None  \n",
       "\n",
       "[5 rows x 29 columns]"
      ]
     },
     "execution_count": 2,
     "metadata": {},
     "output_type": "execute_result"
    }
   ],
   "source": [
    "polls = pd.read_csv('/data/dorfman/2016-national-gop-primary.csv')\n",
    "polls.head()"
   ]
  },
  {
   "cell_type": "code",
   "execution_count": 3,
   "metadata": {
    "collapsed": false
   },
   "outputs": [],
   "source": [
    "assert polls.columns.size == 29"
   ]
  },
  {
   "cell_type": "markdown",
   "metadata": {},
   "source": [
    "## Clean Polls\n",
    "Delete columns that are not needed."
   ]
  },
  {
   "cell_type": "code",
   "execution_count": 4,
   "metadata": {
    "collapsed": false
   },
   "outputs": [
    {
     "data": {
      "text/html": [
       "<div>\n",
       "<table border=\"1\" class=\"dataframe\">\n",
       "  <thead>\n",
       "    <tr style=\"text-align: right;\">\n",
       "      <th></th>\n",
       "      <th>Pollster</th>\n",
       "      <th>End Date</th>\n",
       "      <th>Trump</th>\n",
       "      <th>Cruz</th>\n",
       "      <th>Rubio</th>\n",
       "      <th>Kasich</th>\n",
       "      <th>Carson</th>\n",
       "      <th>Bush</th>\n",
       "      <th>Christie</th>\n",
       "      <th>Fiorina</th>\n",
       "      <th>Gilmore</th>\n",
       "      <th>Graham</th>\n",
       "      <th>Huckabee</th>\n",
       "      <th>Jindal</th>\n",
       "      <th>Pataki</th>\n",
       "      <th>Perry</th>\n",
       "      <th>Rand Paul</th>\n",
       "      <th>Santorum</th>\n",
       "      <th>Walker</th>\n",
       "      <th>Undecided</th>\n",
       "    </tr>\n",
       "  </thead>\n",
       "  <tbody>\n",
       "    <tr>\n",
       "      <th>0</th>\n",
       "      <td>Morning Consult</td>\n",
       "      <td>2016-03-13</td>\n",
       "      <td>42</td>\n",
       "      <td>23</td>\n",
       "      <td>12</td>\n",
       "      <td>9</td>\n",
       "      <td>NaN</td>\n",
       "      <td>NaN</td>\n",
       "      <td>NaN</td>\n",
       "      <td>NaN</td>\n",
       "      <td>NaN</td>\n",
       "      <td>NaN</td>\n",
       "      <td>NaN</td>\n",
       "      <td>NaN</td>\n",
       "      <td>NaN</td>\n",
       "      <td>NaN</td>\n",
       "      <td>NaN</td>\n",
       "      <td>NaN</td>\n",
       "      <td>NaN</td>\n",
       "      <td>9</td>\n",
       "    </tr>\n",
       "    <tr>\n",
       "      <th>1</th>\n",
       "      <td>YouGov/Economist</td>\n",
       "      <td>2016-03-12</td>\n",
       "      <td>53</td>\n",
       "      <td>22</td>\n",
       "      <td>10</td>\n",
       "      <td>11</td>\n",
       "      <td>NaN</td>\n",
       "      <td>NaN</td>\n",
       "      <td>NaN</td>\n",
       "      <td>NaN</td>\n",
       "      <td>NaN</td>\n",
       "      <td>NaN</td>\n",
       "      <td>NaN</td>\n",
       "      <td>NaN</td>\n",
       "      <td>NaN</td>\n",
       "      <td>NaN</td>\n",
       "      <td>NaN</td>\n",
       "      <td>NaN</td>\n",
       "      <td>NaN</td>\n",
       "      <td>4</td>\n",
       "    </tr>\n",
       "    <tr>\n",
       "      <th>2</th>\n",
       "      <td>Ipsos/Reuters</td>\n",
       "      <td>2016-03-09</td>\n",
       "      <td>41</td>\n",
       "      <td>24</td>\n",
       "      <td>13</td>\n",
       "      <td>13</td>\n",
       "      <td>4</td>\n",
       "      <td>NaN</td>\n",
       "      <td>NaN</td>\n",
       "      <td>NaN</td>\n",
       "      <td>NaN</td>\n",
       "      <td>NaN</td>\n",
       "      <td>NaN</td>\n",
       "      <td>NaN</td>\n",
       "      <td>NaN</td>\n",
       "      <td>NaN</td>\n",
       "      <td>NaN</td>\n",
       "      <td>NaN</td>\n",
       "      <td>NaN</td>\n",
       "      <td>5</td>\n",
       "    </tr>\n",
       "    <tr>\n",
       "      <th>3</th>\n",
       "      <td>Morning Consult</td>\n",
       "      <td>2016-03-06</td>\n",
       "      <td>40</td>\n",
       "      <td>23</td>\n",
       "      <td>14</td>\n",
       "      <td>10</td>\n",
       "      <td>NaN</td>\n",
       "      <td>NaN</td>\n",
       "      <td>NaN</td>\n",
       "      <td>NaN</td>\n",
       "      <td>NaN</td>\n",
       "      <td>NaN</td>\n",
       "      <td>NaN</td>\n",
       "      <td>NaN</td>\n",
       "      <td>NaN</td>\n",
       "      <td>NaN</td>\n",
       "      <td>NaN</td>\n",
       "      <td>NaN</td>\n",
       "      <td>NaN</td>\n",
       "      <td>8</td>\n",
       "    </tr>\n",
       "    <tr>\n",
       "      <th>4</th>\n",
       "      <td>ABC/Post</td>\n",
       "      <td>2016-03-06</td>\n",
       "      <td>34</td>\n",
       "      <td>25</td>\n",
       "      <td>18</td>\n",
       "      <td>13</td>\n",
       "      <td>NaN</td>\n",
       "      <td>NaN</td>\n",
       "      <td>NaN</td>\n",
       "      <td>NaN</td>\n",
       "      <td>NaN</td>\n",
       "      <td>NaN</td>\n",
       "      <td>NaN</td>\n",
       "      <td>NaN</td>\n",
       "      <td>NaN</td>\n",
       "      <td>NaN</td>\n",
       "      <td>NaN</td>\n",
       "      <td>NaN</td>\n",
       "      <td>NaN</td>\n",
       "      <td>7</td>\n",
       "    </tr>\n",
       "  </tbody>\n",
       "</table>\n",
       "</div>"
      ],
      "text/plain": [
       "           Pollster    End Date  Trump  Cruz  Rubio  Kasich  Carson  Bush  \\\n",
       "0   Morning Consult  2016-03-13     42    23     12       9     NaN   NaN   \n",
       "1  YouGov/Economist  2016-03-12     53    22     10      11     NaN   NaN   \n",
       "2     Ipsos/Reuters  2016-03-09     41    24     13      13       4   NaN   \n",
       "3   Morning Consult  2016-03-06     40    23     14      10     NaN   NaN   \n",
       "4          ABC/Post  2016-03-06     34    25     18      13     NaN   NaN   \n",
       "\n",
       "   Christie  Fiorina  Gilmore  Graham  Huckabee  Jindal  Pataki  Perry  \\\n",
       "0       NaN      NaN      NaN     NaN       NaN     NaN     NaN    NaN   \n",
       "1       NaN      NaN      NaN     NaN       NaN     NaN     NaN    NaN   \n",
       "2       NaN      NaN      NaN     NaN       NaN     NaN     NaN    NaN   \n",
       "3       NaN      NaN      NaN     NaN       NaN     NaN     NaN    NaN   \n",
       "4       NaN      NaN      NaN     NaN       NaN     NaN     NaN    NaN   \n",
       "\n",
       "   Rand Paul  Santorum  Walker  Undecided  \n",
       "0        NaN       NaN     NaN          9  \n",
       "1        NaN       NaN     NaN          4  \n",
       "2        NaN       NaN     NaN          5  \n",
       "3        NaN       NaN     NaN          8  \n",
       "4        NaN       NaN     NaN          7  "
      ]
     },
     "execution_count": 4,
     "metadata": {},
     "output_type": "execute_result"
    }
   ],
   "source": [
    "del polls['Start Date']\n",
    "del polls['Entry Date/Time (ET)']\n",
    "del polls['Number of Observations']\n",
    "del polls['Population']\n",
    "del polls['Mode']\n",
    "del polls['Pollster URL']\n",
    "del polls['Source URL']\n",
    "del polls['Partisan']\n",
    "del polls['Affiliation']\n",
    "polls.head()"
   ]
  },
  {
   "cell_type": "code",
   "execution_count": 5,
   "metadata": {
    "collapsed": false
   },
   "outputs": [],
   "source": [
    "assert polls.columns.size == 20"
   ]
  },
  {
   "cell_type": "markdown",
   "metadata": {},
   "source": [
    "Replace all NaNs in the 'Undecided' column with zeros."
   ]
  },
  {
   "cell_type": "code",
   "execution_count": 6,
   "metadata": {
    "collapsed": false
   },
   "outputs": [],
   "source": [
    "polls['Undecided'] = polls['Undecided'].fillna(0)"
   ]
  },
  {
   "cell_type": "markdown",
   "metadata": {},
   "source": [
    "Make sure each poll summates to 100%. Polling averages are provided as integers so precision is lost. If the polling sum is less than 100, the remainder is added to 'Undecided'. If the polling sum is greater than 100, the surplus is subtracted from 'Undecided'."
   ]
  },
  {
   "cell_type": "code",
   "execution_count": 7,
   "metadata": {
    "collapsed": false
   },
   "outputs": [],
   "source": [
    "hundred.Equals100(polls, 2)\n",
    "for p in range(len(polls[2:])):\n",
    "    assert sum(polls.iloc[p][2:].dropna()) == 100"
   ]
  },
  {
   "cell_type": "markdown",
   "metadata": {},
   "source": [
    "Remove polls taken before 2016."
   ]
  },
  {
   "cell_type": "code",
   "execution_count": 8,
   "metadata": {
    "collapsed": false
   },
   "outputs": [],
   "source": [
    "polls = polls[polls['End Date'] >= '2016-01-01']\n",
    "polls = polls.rename(columns = {'End Date': 'date'})\n",
    "\n",
    "polls.date = pd.Series(pd.DatetimeIndex(polls.date))\n",
    "polls.index = polls.date\n",
    "polls = polls.groupby('date').mean()"
   ]
  },
  {
   "cell_type": "code",
   "execution_count": 9,
   "metadata": {
    "collapsed": false
   },
   "outputs": [],
   "source": [
    "assert all(polls.index >= '2016-01-01')"
   ]
  },
  {
   "cell_type": "markdown",
   "metadata": {},
   "source": [
    "Remove candidates who suspended their campaigns before January 1, 2016. Change Rand Paul's name to be just his last name."
   ]
  },
  {
   "cell_type": "code",
   "execution_count": 10,
   "metadata": {
    "collapsed": false
   },
   "outputs": [
    {
     "data": {
      "text/html": [
       "<div>\n",
       "<table border=\"1\" class=\"dataframe\">\n",
       "  <thead>\n",
       "    <tr style=\"text-align: right;\">\n",
       "      <th></th>\n",
       "      <th>Trump</th>\n",
       "      <th>Cruz</th>\n",
       "      <th>Rubio</th>\n",
       "      <th>Kasich</th>\n",
       "      <th>Carson</th>\n",
       "      <th>Bush</th>\n",
       "      <th>Christie</th>\n",
       "      <th>Fiorina</th>\n",
       "      <th>Gilmore</th>\n",
       "      <th>Huckabee</th>\n",
       "      <th>Paul</th>\n",
       "      <th>Santorum</th>\n",
       "      <th>Undecided</th>\n",
       "    </tr>\n",
       "    <tr>\n",
       "      <th>date</th>\n",
       "      <th></th>\n",
       "      <th></th>\n",
       "      <th></th>\n",
       "      <th></th>\n",
       "      <th></th>\n",
       "      <th></th>\n",
       "      <th></th>\n",
       "      <th></th>\n",
       "      <th></th>\n",
       "      <th></th>\n",
       "      <th></th>\n",
       "      <th></th>\n",
       "      <th></th>\n",
       "    </tr>\n",
       "  </thead>\n",
       "  <tbody>\n",
       "    <tr>\n",
       "      <th>2016-01-03</th>\n",
       "      <td>35.00</td>\n",
       "      <td>18.00</td>\n",
       "      <td>13.00</td>\n",
       "      <td>2.0</td>\n",
       "      <td>9.0</td>\n",
       "      <td>6</td>\n",
       "      <td>4.00</td>\n",
       "      <td>3.0</td>\n",
       "      <td>0</td>\n",
       "      <td>2.0</td>\n",
       "      <td>2.00</td>\n",
       "      <td>1.00</td>\n",
       "      <td>5.0</td>\n",
       "    </tr>\n",
       "    <tr>\n",
       "      <th>2016-01-06</th>\n",
       "      <td>38.50</td>\n",
       "      <td>17.00</td>\n",
       "      <td>10.50</td>\n",
       "      <td>2.5</td>\n",
       "      <td>8.5</td>\n",
       "      <td>6</td>\n",
       "      <td>3.50</td>\n",
       "      <td>2.0</td>\n",
       "      <td>0</td>\n",
       "      <td>2.0</td>\n",
       "      <td>4.00</td>\n",
       "      <td>1.00</td>\n",
       "      <td>4.5</td>\n",
       "    </tr>\n",
       "    <tr>\n",
       "      <th>2016-01-07</th>\n",
       "      <td>35.00</td>\n",
       "      <td>20.00</td>\n",
       "      <td>13.00</td>\n",
       "      <td>2.0</td>\n",
       "      <td>10.0</td>\n",
       "      <td>4</td>\n",
       "      <td>2.00</td>\n",
       "      <td>3.0</td>\n",
       "      <td>0</td>\n",
       "      <td>1.0</td>\n",
       "      <td>2.00</td>\n",
       "      <td>0.00</td>\n",
       "      <td>8.0</td>\n",
       "    </tr>\n",
       "    <tr>\n",
       "      <th>2016-01-08</th>\n",
       "      <td>34.00</td>\n",
       "      <td>18.00</td>\n",
       "      <td>9.00</td>\n",
       "      <td>2.0</td>\n",
       "      <td>8.0</td>\n",
       "      <td>4</td>\n",
       "      <td>4.00</td>\n",
       "      <td>2.0</td>\n",
       "      <td>NaN</td>\n",
       "      <td>1.0</td>\n",
       "      <td>3.00</td>\n",
       "      <td>NaN</td>\n",
       "      <td>15.0</td>\n",
       "    </tr>\n",
       "    <tr>\n",
       "      <th>2016-01-10</th>\n",
       "      <td>39.25</td>\n",
       "      <td>17.25</td>\n",
       "      <td>10.75</td>\n",
       "      <td>2.5</td>\n",
       "      <td>8.0</td>\n",
       "      <td>5</td>\n",
       "      <td>3.25</td>\n",
       "      <td>2.5</td>\n",
       "      <td>0</td>\n",
       "      <td>2.5</td>\n",
       "      <td>2.25</td>\n",
       "      <td>0.25</td>\n",
       "      <td>6.5</td>\n",
       "    </tr>\n",
       "  </tbody>\n",
       "</table>\n",
       "</div>"
      ],
      "text/plain": [
       "            Trump   Cruz  Rubio  Kasich  Carson  Bush  Christie  Fiorina  \\\n",
       "date                                                                       \n",
       "2016-01-03  35.00  18.00  13.00     2.0     9.0     6      4.00      3.0   \n",
       "2016-01-06  38.50  17.00  10.50     2.5     8.5     6      3.50      2.0   \n",
       "2016-01-07  35.00  20.00  13.00     2.0    10.0     4      2.00      3.0   \n",
       "2016-01-08  34.00  18.00   9.00     2.0     8.0     4      4.00      2.0   \n",
       "2016-01-10  39.25  17.25  10.75     2.5     8.0     5      3.25      2.5   \n",
       "\n",
       "            Gilmore  Huckabee  Paul  Santorum  Undecided  \n",
       "date                                                      \n",
       "2016-01-03        0       2.0  2.00      1.00        5.0  \n",
       "2016-01-06        0       2.0  4.00      1.00        4.5  \n",
       "2016-01-07        0       1.0  2.00      0.00        8.0  \n",
       "2016-01-08      NaN       1.0  3.00       NaN       15.0  \n",
       "2016-01-10        0       2.5  2.25      0.25        6.5  "
      ]
     },
     "execution_count": 10,
     "metadata": {},
     "output_type": "execute_result"
    }
   ],
   "source": [
    "del polls['Jindal']\n",
    "del polls['Pataki']\n",
    "del polls['Perry']\n",
    "del polls['Walker']\n",
    "del polls['Graham']\n",
    "\n",
    "polls = polls.rename(columns = {'Rand Paul': 'Paul'})\n",
    "polls.head()"
   ]
  },
  {
   "cell_type": "code",
   "execution_count": 11,
   "metadata": {
    "collapsed": false
   },
   "outputs": [],
   "source": [
    "assert list(polls.columns) == ['Trump', 'Cruz', 'Rubio', 'Kasich', 'Carson', 'Bush', 'Christie',\n",
    "       'Fiorina', 'Gilmore', 'Huckabee', 'Paul', 'Santorum', 'Undecided']"
   ]
  },
  {
   "cell_type": "markdown",
   "metadata": {},
   "source": [
    "Make sure each poll summates to 100% after grouping."
   ]
  },
  {
   "cell_type": "code",
   "execution_count": 12,
   "metadata": {
    "collapsed": false
   },
   "outputs": [],
   "source": [
    "hundred.Equals100(polls)\n",
    "for p in range(len(polls.index)):\n",
    "    assert sum(polls.iloc[p].dropna()) == 100"
   ]
  },
  {
   "cell_type": "markdown",
   "metadata": {},
   "source": [
    "Polls are now downsized to only include candidates that have been active in the race for nomination since the start of 2016. The only remaining columns in the DataFrame are those of candidates' and their polling numbers. Date duplicates are removed by grouping and retreiving the mean of polls conducted that day."
   ]
  },
  {
   "cell_type": "markdown",
   "metadata": {},
   "source": [
    "## Create Dictionary on Candidates Dropped\n",
    "Source: https://en.wikipedia.org/wiki/United_States_presidential_election,_2016#Withdrawn_candidates_2\n",
    "\n",
    "Manually made."
   ]
  },
  {
   "cell_type": "code",
   "execution_count": 13,
   "metadata": {
    "collapsed": true
   },
   "outputs": [],
   "source": [
    "def inRace(name):\n",
    "    \"\"\"Returns whether the candidate is still in the race as of March 12, 2016\n",
    "    \n",
    "    Parameters\n",
    "    ----------\n",
    "    name : str\n",
    "        The name of the candidate\n",
    "    \"\"\"\n",
    "    if name == 'Trump' or name == 'Rubio' or name == 'Cruz' or name == 'Kasich':\n",
    "        return True\n",
    "    else:\n",
    "        return False"
   ]
  },
  {
   "cell_type": "code",
   "execution_count": 14,
   "metadata": {
    "collapsed": false
   },
   "outputs": [
    {
     "data": {
      "text/plain": [
       "[{'date': '', 'dropped': False, 'name': 'Trump'},\n",
       " {'date': '', 'dropped': False, 'name': 'Cruz'},\n",
       " {'date': '', 'dropped': False, 'name': 'Rubio'},\n",
       " {'date': '', 'dropped': False, 'name': 'Kasich'},\n",
       " {'date': '', 'dropped': True, 'name': 'Carson'},\n",
       " {'date': '', 'dropped': True, 'name': 'Bush'},\n",
       " {'date': '', 'dropped': True, 'name': 'Christie'},\n",
       " {'date': '', 'dropped': True, 'name': 'Fiorina'},\n",
       " {'date': '', 'dropped': True, 'name': 'Gilmore'},\n",
       " {'date': '', 'dropped': True, 'name': 'Huckabee'},\n",
       " {'date': '', 'dropped': True, 'name': 'Paul'},\n",
       " {'date': '', 'dropped': True, 'name': 'Santorum'}]"
      ]
     },
     "execution_count": 14,
     "metadata": {},
     "output_type": "execute_result"
    }
   ],
   "source": [
    "def InitDict():\n",
    "    \"\"\"Returns ad dictionary containing the candidates' names, whether they've dropped or not, and the date of dropping\"\"\"\n",
    "    dictOfCand = []\n",
    "    candidates = polls.columns[:-1]\n",
    "\n",
    "    for c in candidates:\n",
    "        person = {}\n",
    "        person['name'] = c\n",
    "        person['dropped'] = False if inRace(c) else True\n",
    "        person['date'] = ''\n",
    "        dictOfCand.append(person)\n",
    "    \n",
    "    return dictOfCand\n",
    "\n",
    "dictOfCand = InitDict()\n",
    "dictOfCand"
   ]
  },
  {
   "cell_type": "code",
   "execution_count": 15,
   "metadata": {
    "collapsed": false
   },
   "outputs": [],
   "source": [
    "assert len(dictOfCand) == polls.columns.size - 1"
   ]
  },
  {
   "cell_type": "markdown",
   "metadata": {
    "collapsed": true
   },
   "source": [
    "Set dates of campaign suspension for each candidate that dropped."
   ]
  },
  {
   "cell_type": "code",
   "execution_count": 16,
   "metadata": {
    "collapsed": false
   },
   "outputs": [
    {
     "data": {
      "text/plain": [
       "[{'date': '', 'dropped': False, 'name': 'Trump'},\n",
       " {'date': '', 'dropped': False, 'name': 'Cruz'},\n",
       " {'date': '', 'dropped': False, 'name': 'Rubio'},\n",
       " {'date': '', 'dropped': False, 'name': 'Kasich'},\n",
       " {'date': '2016-03-04', 'dropped': True, 'name': 'Carson'},\n",
       " {'date': '2016-02-16', 'dropped': True, 'name': 'Bush'},\n",
       " {'date': '2016-02-10', 'dropped': True, 'name': 'Christie'},\n",
       " {'date': '2016-02-10', 'dropped': True, 'name': 'Fiorina'},\n",
       " {'date': '2016-02-12', 'dropped': True, 'name': 'Gilmore'},\n",
       " {'date': '2016-02-01', 'dropped': True, 'name': 'Huckabee'},\n",
       " {'date': '2016-02-03', 'dropped': True, 'name': 'Paul'},\n",
       " {'date': '2016-02-03', 'dropped': True, 'name': 'Santorum'}]"
      ]
     },
     "execution_count": 16,
     "metadata": {},
     "output_type": "execute_result"
    }
   ],
   "source": [
    "for d in dictOfCand:\n",
    "    if d['name'] == 'Carson':\n",
    "        d['date'] = '2016-03-04'\n",
    "    elif d['name'] == 'Bush':\n",
    "        d['date'] = '2016-02-16'\n",
    "    elif d['name'] == 'Christie':\n",
    "        d['date'] = '2016-02-10'\n",
    "    elif d['name'] == 'Fiorina':\n",
    "        d['date'] = '2016-02-10'\n",
    "    elif d['name'] == 'Gilmore':\n",
    "        d['date'] = '2016-02-12'\n",
    "    elif d['name'] == 'Huckabee':\n",
    "        d['date'] = '2016-02-01'\n",
    "    elif d['name'] == 'Paul':\n",
    "        d['date'] = '2016-02-03'\n",
    "    elif d['name'] == 'Santorum':\n",
    "        d['date'] = '2016-02-03'\n",
    "    \n",
    "dictOfCand"
   ]
  },
  {
   "cell_type": "markdown",
   "metadata": {},
   "source": [
    "Convert 'dictOfCand'to a DataFrame"
   ]
  },
  {
   "cell_type": "code",
   "execution_count": 17,
   "metadata": {
    "collapsed": false
   },
   "outputs": [
    {
     "data": {
      "text/html": [
       "<div>\n",
       "<table border=\"1\" class=\"dataframe\">\n",
       "  <thead>\n",
       "    <tr style=\"text-align: right;\">\n",
       "      <th></th>\n",
       "      <th>date</th>\n",
       "      <th>dropped</th>\n",
       "    </tr>\n",
       "    <tr>\n",
       "      <th>name</th>\n",
       "      <th></th>\n",
       "      <th></th>\n",
       "    </tr>\n",
       "  </thead>\n",
       "  <tbody>\n",
       "    <tr>\n",
       "      <th>Trump</th>\n",
       "      <td></td>\n",
       "      <td>False</td>\n",
       "    </tr>\n",
       "    <tr>\n",
       "      <th>Cruz</th>\n",
       "      <td></td>\n",
       "      <td>False</td>\n",
       "    </tr>\n",
       "    <tr>\n",
       "      <th>Rubio</th>\n",
       "      <td></td>\n",
       "      <td>False</td>\n",
       "    </tr>\n",
       "    <tr>\n",
       "      <th>Kasich</th>\n",
       "      <td></td>\n",
       "      <td>False</td>\n",
       "    </tr>\n",
       "    <tr>\n",
       "      <th>Carson</th>\n",
       "      <td>2016-03-04</td>\n",
       "      <td>True</td>\n",
       "    </tr>\n",
       "    <tr>\n",
       "      <th>Bush</th>\n",
       "      <td>2016-02-16</td>\n",
       "      <td>True</td>\n",
       "    </tr>\n",
       "    <tr>\n",
       "      <th>Christie</th>\n",
       "      <td>2016-02-10</td>\n",
       "      <td>True</td>\n",
       "    </tr>\n",
       "    <tr>\n",
       "      <th>Fiorina</th>\n",
       "      <td>2016-02-10</td>\n",
       "      <td>True</td>\n",
       "    </tr>\n",
       "    <tr>\n",
       "      <th>Gilmore</th>\n",
       "      <td>2016-02-12</td>\n",
       "      <td>True</td>\n",
       "    </tr>\n",
       "    <tr>\n",
       "      <th>Huckabee</th>\n",
       "      <td>2016-02-01</td>\n",
       "      <td>True</td>\n",
       "    </tr>\n",
       "    <tr>\n",
       "      <th>Paul</th>\n",
       "      <td>2016-02-03</td>\n",
       "      <td>True</td>\n",
       "    </tr>\n",
       "    <tr>\n",
       "      <th>Santorum</th>\n",
       "      <td>2016-02-03</td>\n",
       "      <td>True</td>\n",
       "    </tr>\n",
       "  </tbody>\n",
       "</table>\n",
       "</div>"
      ],
      "text/plain": [
       "                date dropped\n",
       "name                        \n",
       "Trump                  False\n",
       "Cruz                   False\n",
       "Rubio                  False\n",
       "Kasich                 False\n",
       "Carson    2016-03-04    True\n",
       "Bush      2016-02-16    True\n",
       "Christie  2016-02-10    True\n",
       "Fiorina   2016-02-10    True\n",
       "Gilmore   2016-02-12    True\n",
       "Huckabee  2016-02-01    True\n",
       "Paul      2016-02-03    True\n",
       "Santorum  2016-02-03    True"
      ]
     },
     "execution_count": 17,
     "metadata": {},
     "output_type": "execute_result"
    }
   ],
   "source": [
    "candData = pd.DataFrame(dictOfCand)\n",
    "candData.index = candData.name\n",
    "del candData['name']\n",
    "candData"
   ]
  },
  {
   "cell_type": "markdown",
   "metadata": {},
   "source": [
    "## Null Polling on Candidates that Drop Out\n",
    "If a candidate drops out and they still appear in the polls, add their polling percentage to 'Undecided' and make their value 'NaN'."
   ]
  },
  {
   "cell_type": "code",
   "execution_count": 18,
   "metadata": {
    "collapsed": false,
    "scrolled": true
   },
   "outputs": [
    {
     "data": {
      "text/html": [
       "<div>\n",
       "<table border=\"1\" class=\"dataframe\">\n",
       "  <thead>\n",
       "    <tr style=\"text-align: right;\">\n",
       "      <th></th>\n",
       "      <th>Trump</th>\n",
       "      <th>Cruz</th>\n",
       "      <th>Rubio</th>\n",
       "      <th>Kasich</th>\n",
       "      <th>Carson</th>\n",
       "      <th>Bush</th>\n",
       "      <th>Christie</th>\n",
       "      <th>Fiorina</th>\n",
       "      <th>Gilmore</th>\n",
       "      <th>Huckabee</th>\n",
       "      <th>Paul</th>\n",
       "      <th>Santorum</th>\n",
       "      <th>Undecided</th>\n",
       "    </tr>\n",
       "    <tr>\n",
       "      <th>date</th>\n",
       "      <th></th>\n",
       "      <th></th>\n",
       "      <th></th>\n",
       "      <th></th>\n",
       "      <th></th>\n",
       "      <th></th>\n",
       "      <th></th>\n",
       "      <th></th>\n",
       "      <th></th>\n",
       "      <th></th>\n",
       "      <th></th>\n",
       "      <th></th>\n",
       "      <th></th>\n",
       "    </tr>\n",
       "  </thead>\n",
       "  <tbody>\n",
       "    <tr>\n",
       "      <th>2016-03-02</th>\n",
       "      <td>41.00</td>\n",
       "      <td>16.00</td>\n",
       "      <td>20.0</td>\n",
       "      <td>10.0</td>\n",
       "      <td>10</td>\n",
       "      <td>NaN</td>\n",
       "      <td>NaN</td>\n",
       "      <td>NaN</td>\n",
       "      <td>NaN</td>\n",
       "      <td>NaN</td>\n",
       "      <td>NaN</td>\n",
       "      <td>NaN</td>\n",
       "      <td>3.0</td>\n",
       "    </tr>\n",
       "    <tr>\n",
       "      <th>2016-03-06</th>\n",
       "      <td>35.75</td>\n",
       "      <td>23.75</td>\n",
       "      <td>17.5</td>\n",
       "      <td>13.5</td>\n",
       "      <td>NaN</td>\n",
       "      <td>NaN</td>\n",
       "      <td>NaN</td>\n",
       "      <td>NaN</td>\n",
       "      <td>NaN</td>\n",
       "      <td>NaN</td>\n",
       "      <td>NaN</td>\n",
       "      <td>NaN</td>\n",
       "      <td>9.5</td>\n",
       "    </tr>\n",
       "    <tr>\n",
       "      <th>2016-03-09</th>\n",
       "      <td>41.00</td>\n",
       "      <td>24.00</td>\n",
       "      <td>13.0</td>\n",
       "      <td>13.0</td>\n",
       "      <td>NaN</td>\n",
       "      <td>NaN</td>\n",
       "      <td>NaN</td>\n",
       "      <td>NaN</td>\n",
       "      <td>NaN</td>\n",
       "      <td>NaN</td>\n",
       "      <td>NaN</td>\n",
       "      <td>NaN</td>\n",
       "      <td>9.0</td>\n",
       "    </tr>\n",
       "    <tr>\n",
       "      <th>2016-03-12</th>\n",
       "      <td>53.00</td>\n",
       "      <td>22.00</td>\n",
       "      <td>10.0</td>\n",
       "      <td>11.0</td>\n",
       "      <td>NaN</td>\n",
       "      <td>NaN</td>\n",
       "      <td>NaN</td>\n",
       "      <td>NaN</td>\n",
       "      <td>NaN</td>\n",
       "      <td>NaN</td>\n",
       "      <td>NaN</td>\n",
       "      <td>NaN</td>\n",
       "      <td>4.0</td>\n",
       "    </tr>\n",
       "    <tr>\n",
       "      <th>2016-03-13</th>\n",
       "      <td>42.00</td>\n",
       "      <td>23.00</td>\n",
       "      <td>12.0</td>\n",
       "      <td>9.0</td>\n",
       "      <td>NaN</td>\n",
       "      <td>NaN</td>\n",
       "      <td>NaN</td>\n",
       "      <td>NaN</td>\n",
       "      <td>NaN</td>\n",
       "      <td>NaN</td>\n",
       "      <td>NaN</td>\n",
       "      <td>NaN</td>\n",
       "      <td>14.0</td>\n",
       "    </tr>\n",
       "  </tbody>\n",
       "</table>\n",
       "</div>"
      ],
      "text/plain": [
       "            Trump   Cruz  Rubio  Kasich  Carson  Bush  Christie  Fiorina  \\\n",
       "date                                                                       \n",
       "2016-03-02  41.00  16.00   20.0    10.0      10   NaN       NaN      NaN   \n",
       "2016-03-06  35.75  23.75   17.5    13.5     NaN   NaN       NaN      NaN   \n",
       "2016-03-09  41.00  24.00   13.0    13.0     NaN   NaN       NaN      NaN   \n",
       "2016-03-12  53.00  22.00   10.0    11.0     NaN   NaN       NaN      NaN   \n",
       "2016-03-13  42.00  23.00   12.0     9.0     NaN   NaN       NaN      NaN   \n",
       "\n",
       "            Gilmore  Huckabee  Paul  Santorum  Undecided  \n",
       "date                                                      \n",
       "2016-03-02      NaN       NaN   NaN       NaN        3.0  \n",
       "2016-03-06      NaN       NaN   NaN       NaN        9.5  \n",
       "2016-03-09      NaN       NaN   NaN       NaN        9.0  \n",
       "2016-03-12      NaN       NaN   NaN       NaN        4.0  \n",
       "2016-03-13      NaN       NaN   NaN       NaN       14.0  "
      ]
     },
     "execution_count": 18,
     "metadata": {},
     "output_type": "execute_result"
    }
   ],
   "source": [
    "for c in dictOfCand:\n",
    "    if c['date'] != '':\n",
    "        polls.loc[(polls[c['name']].notnull()) & (polls.index > c['date']), 'Undecided'] += \\\n",
    "            polls[(polls[c['name']].notnull()) & (polls.index > c['date'])][c['name']]\n",
    "        polls.loc[(polls[c['name']].notnull()) & (polls.index > c['date']), c['name']] = float('NaN')\n",
    "polls.tail()"
   ]
  },
  {
   "cell_type": "markdown",
   "metadata": {},
   "source": [
    "## Write Data to Files"
   ]
  },
  {
   "cell_type": "code",
   "execution_count": 19,
   "metadata": {
    "collapsed": true
   },
   "outputs": [],
   "source": [
    "polls.to_csv('polls.csv')\n",
    "candData.to_csv('candidates.csv')"
   ]
  }
 ],
 "metadata": {
  "kernelspec": {
   "display_name": "Python 3",
   "language": "python",
   "name": "python3"
  },
  "language_info": {
   "codemirror_mode": {
    "name": "ipython",
    "version": 3
   },
   "file_extension": ".py",
   "mimetype": "text/x-python",
   "name": "python",
   "nbconvert_exporter": "python",
   "pygments_lexer": "ipython3",
   "version": "3.4.3"
  }
 },
 "nbformat": 4,
 "nbformat_minor": 0
}

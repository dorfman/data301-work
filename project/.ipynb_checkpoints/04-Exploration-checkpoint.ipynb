{
 "cells": [
  {
   "cell_type": "markdown",
   "metadata": {},
   "source": [
    "# Modeling\n",
    "Data is separated on a candidate-basis to observe polls prior to and before a candidate suspends their campaign."
   ]
  },
  {
   "cell_type": "markdown",
   "metadata": {},
   "source": [
    "## Imports"
   ]
  },
  {
   "cell_type": "code",
   "execution_count": 1,
   "metadata": {
    "collapsed": true
   },
   "outputs": [],
   "source": [
    "%matplotlib inline\n",
    "import matplotlib.pyplot as plt\n",
    "import seaborn as sns\n",
    "\n",
    "import datetime\n",
    "import numpy as np\n",
    "import pandas as pd\n",
    "import os\n",
    "import math\n",
    "\n",
    "import stats"
   ]
  },
  {
   "cell_type": "markdown",
   "metadata": {},
   "source": [
    "## Read File Written in 02-DataCleaning"
   ]
  },
  {
   "cell_type": "code",
   "execution_count": 2,
   "metadata": {
    "collapsed": true
   },
   "outputs": [],
   "source": [
    "candidates = pd.read_csv('candidates.csv', index_col='name')"
   ]
  },
  {
   "cell_type": "markdown",
   "metadata": {},
   "source": [
    "## Read File Written in 03-Modeling"
   ]
  },
  {
   "cell_type": "code",
   "execution_count": 3,
   "metadata": {
    "collapsed": false
   },
   "outputs": [],
   "source": [
    "polls = pd.read_csv('bootPolls.csv')"
   ]
  },
  {
   "cell_type": "markdown",
   "metadata": {},
   "source": [
    "Convert date from string to datetime."
   ]
  },
  {
   "cell_type": "code",
   "execution_count": 4,
   "metadata": {
    "collapsed": false
   },
   "outputs": [],
   "source": [
    "polls.date = pd.Series(pd.DatetimeIndex(polls.date))\n",
    "polls.index = polls.date\n",
    "del polls['date']\n",
    "\n",
    "candidates.date = pd.to_datetime(candidates.date)\n",
    "\n",
    "stats.Equals100(polls)"
   ]
  },
  {
   "cell_type": "markdown",
   "metadata": {},
   "source": [
    "## Data Modeling Functions Defintions"
   ]
  },
  {
   "cell_type": "markdown",
   "metadata": {},
   "source": [
    "### Before Campaign Suspension"
   ]
  },
  {
   "cell_type": "markdown",
   "metadata": {},
   "source": [
    "Function to get average polling for a single active candidate before a candidate drops out."
   ]
  },
  {
   "cell_type": "code",
   "execution_count": 5,
   "metadata": {
    "collapsed": true
   },
   "outputs": [],
   "source": [
    "def getBeforeAverage(pollGroup, dropout, cand):\n",
    "    \"\"\"Returns average polling for a single candidate in the week prior to another candidate dropping out of the race.\n",
    "    \n",
    "    Parameters\n",
    "    ----------\n",
    "    pollGroup : DataFrame\n",
    "        A snippet of the main DataFrame used sliced to only include polls take a week prior to and a week \n",
    "        after the dropout suspends their campaign.\n",
    "    dropout : str\n",
    "        The name of the candidate that dropped out.\n",
    "    cand : str\n",
    "        The name of the candidate whose average polling is being calculated.\n",
    "    \"\"\"\n",
    "    \n",
    "    tot = 0                             # used to as numerator in calculating the mean\n",
    "    count = 0                           # regular iterator. Also used to as denominator in calculating the mean\n",
    "    iterDate = pollGroup.index[count]   # used to check where date is relative to the date of suspension\n",
    "    \n",
    "    while candidates['date'][dropout] - iterDate >= datetime.timedelta(days=0):\n",
    "        tot += pollGroup[cand][count]\n",
    "        count += 1\n",
    "        iterDate = pollGroup.index[count]\n",
    "\n",
    "    return tot/count"
   ]
  },
  {
   "cell_type": "markdown",
   "metadata": {},
   "source": [
    "Function to create list of average polling for all other candidates before a candidate drops out."
   ]
  },
  {
   "cell_type": "code",
   "execution_count": 6,
   "metadata": {
    "collapsed": false
   },
   "outputs": [],
   "source": [
    "def BeforeAverages(pollGroup, dropout):\n",
    "    \"\"\"Returns a list of average polling for all active candidate in the week prior to another\n",
    "       candidate dropping out of the race.\n",
    "    \n",
    "    Parameters\n",
    "    ----------\n",
    "    pollGroup : DataFrame\n",
    "        A snippet of the main DataFrame used sliced to only include polls take a week prior to and a week \n",
    "        after the dropout suspends their campaign.\n",
    "    dropout : str\n",
    "        The name of the candidate that dropped out.\n",
    "    \"\"\"\n",
    "    \n",
    "    averages = []\n",
    "    for c in pollGroup.columns:    # for each candidate\n",
    "        averages.append(getBeforeAverage(pollGroup, dropout, c))\n",
    "        \n",
    "    return averages"
   ]
  },
  {
   "cell_type": "markdown",
   "metadata": {},
   "source": [
    "### After Campaign Suspension"
   ]
  },
  {
   "cell_type": "markdown",
   "metadata": {},
   "source": [
    "Function to retrieve difference in days since date of suspension/dropout."
   ]
  },
  {
   "cell_type": "code",
   "execution_count": 7,
   "metadata": {
    "collapsed": true
   },
   "outputs": [],
   "source": [
    "def dateDiff(dropout, iterDate):\n",
    "    \"\"\"Returns difference in days between date iterator and the date a candidate dropped out of the race.\n",
    "    \n",
    "    Parameters\n",
    "    ----------\n",
    "    dropout : str\n",
    "        The name of the candidate that dropped out.\n",
    "    iterDate : str\n",
    "        The name of the candidate whose average polling is being calculated.\n",
    "    \"\"\"\n",
    "    return (iterDate - candidates['date'][dropout]).days"
   ]
  },
  {
   "cell_type": "markdown",
   "metadata": {},
   "source": [
    "Function to get weighted average polling for a single active candidate after a candidate drops out. Weight is determined by days after campaign suspension; the further away from the date of suspension, the more weight the polling data holds."
   ]
  },
  {
   "cell_type": "code",
   "execution_count": 8,
   "metadata": {
    "collapsed": false
   },
   "outputs": [],
   "source": [
    "def getAfterAverage(pollGroup, dropout, cand):\n",
    "    \"\"\"Returns average polling for a candidate in the week after another candidate drops out of the race.\n",
    "    \n",
    "    Parameters\n",
    "    ----------\n",
    "    pollGroup : DataFrame\n",
    "        A snippet of the main DataFrame used sliced to only include polls take a week prior to and a week \n",
    "        after the dropout suspends their campaign.\n",
    "    dropout : str\n",
    "        The name of the candidate that dropped out.\n",
    "    cand : str\n",
    "        The name of the candidate whose average polling is being calculated.\n",
    "    \"\"\"\n",
    "    \n",
    "    tot = 0                             # used to as numerator in calculating the mean\n",
    "    count = 0                           # regular iterator\n",
    "    dateCount = 0                       # used to as denomiator in calculating the mean\n",
    "    iterDate = pollGroup.index[count]   # used to check where date is relative to the date of suspension\n",
    "    \n",
    "    # Get the date iterator to the dropout date\n",
    "    while candidates['date'][dropout] - iterDate >= datetime.timedelta(days=0):\n",
    "        count += 1\n",
    "        iterDate = pollGroup.index[count]\n",
    "    \n",
    "    # Iterates through poll grouping conducted in the week after a candidate dropped out of the race\n",
    "    while count < len(pollGroup.index):\n",
    "        iterDate = pollGroup.index[count]\n",
    "        diff = dateDiff(dropout, iterDate)\n",
    "        candCount = pollGroup[cand][count]\n",
    "        \n",
    "        if math.isnan(candCount) == False:    # only uses numbers\n",
    "            tot += candCount * diff           # gives weight to polls conducted further away from the date of dropping\n",
    "            dateCount += diff\n",
    "        count += 1\n",
    "        \n",
    "    if dateCount == 0:    # can't divide by zero, so just return 0 if no polls conducted after date of dropping\n",
    "        return float('nan')\n",
    "    else:\n",
    "        return tot/dateCount"
   ]
  },
  {
   "cell_type": "markdown",
   "metadata": {},
   "source": [
    "Function to get weighted average polling for all other candidtates after a candidate drops out."
   ]
  },
  {
   "cell_type": "code",
   "execution_count": 9,
   "metadata": {
    "collapsed": true
   },
   "outputs": [],
   "source": [
    "def AfterAverages(pollGroup, dropout):\n",
    "    \"\"\"Returns a list of average polling for all active candidate in the week after another\n",
    "       candidate drops out of the race.\n",
    "    \n",
    "    Parameters\n",
    "    ----------\n",
    "    pollGroup : DataFrame\n",
    "        A snippet of the main DataFrame used sliced to only include polls take a week prior to and a week \n",
    "        after the dropout suspends their campaign.\n",
    "    dropout : str\n",
    "        The name of the candidate that dropped out.\n",
    "    \"\"\"\n",
    "    \n",
    "    averages = []\n",
    "    for c in pollGroup.columns:\n",
    "        averages.append(getAfterAverage(pollGroup, dropout, c))\n",
    "    return averages"
   ]
  },
  {
   "cell_type": "markdown",
   "metadata": {},
   "source": [
    "Function to create a list of dictionaries holding the candidate name and a table, that is a snippet of all polling data from the week before to the week after a campaign was suspended, for each candidate that has suspended their campaign."
   ]
  },
  {
   "cell_type": "code",
   "execution_count": 10,
   "metadata": {
    "collapsed": true
   },
   "outputs": [],
   "source": [
    "# def BiWeekPolling(cand):\n",
    "#     \"\"\"Returns a snippet of the DataFrame holding only polls conducted 7 days prior to the date of dropping to 9 after\n",
    "#        the date of dropping.\n",
    "    \n",
    "#     Parameters\n",
    "#     ----------\n",
    "#     cand : str\n",
    "#         The name of the candidate that dropped out.\n",
    "#     \"\"\"\n",
    "    \n",
    "#     return polls[(polls.index > candidates['date'][cand] - datetime.timedelta(days=7)) \\\n",
    "#      & (polls.index < candidates['date'][cand] + datetime.timedelta(days=9))]"
   ]
  },
  {
   "cell_type": "markdown",
   "metadata": {},
   "source": [
    "## Data Modeling Functions Apllications"
   ]
  },
  {
   "cell_type": "markdown",
   "metadata": {},
   "source": [
    "Create a list of dictionaries holding the name of each candidate that suspended their campaign and the DataFrames of polling data from a week before to a week after that candidate suspended their campaign."
   ]
  },
  {
   "cell_type": "code",
   "execution_count": 11,
   "metadata": {
    "collapsed": false
   },
   "outputs": [
    {
     "ename": "NameError",
     "evalue": "name 'candidates' is not defined",
     "output_type": "error",
     "traceback": [
      "\u001b[1;31m---------------------------------------------------------------------------\u001b[0m",
      "\u001b[1;31mNameError\u001b[0m                                 Traceback (most recent call last)",
      "\u001b[1;32m<ipython-input-11-e5f3d0db1ad3>\u001b[0m in \u001b[0;36m<module>\u001b[1;34m()\u001b[0m\n\u001b[0;32m      3\u001b[0m \u001b[0mpollIndex\u001b[0m \u001b[1;33m=\u001b[0m \u001b[1;33m[\u001b[0m\u001b[0mc\u001b[0m \u001b[1;32mfor\u001b[0m \u001b[0mc\u001b[0m \u001b[1;32min\u001b[0m \u001b[0mcandidates\u001b[0m\u001b[1;33m.\u001b[0m\u001b[0mindex\u001b[0m \u001b[1;32mif\u001b[0m \u001b[0mcandidates\u001b[0m\u001b[1;33m.\u001b[0m\u001b[0mdropped\u001b[0m\u001b[1;33m[\u001b[0m\u001b[0mc\u001b[0m\u001b[1;33m]\u001b[0m \u001b[1;33m==\u001b[0m \u001b[1;32mTrue\u001b[0m\u001b[1;33m]\u001b[0m\u001b[1;33m\u001b[0m\u001b[0m\n\u001b[0;32m      4\u001b[0m \u001b[1;32mfor\u001b[0m \u001b[0mp\u001b[0m \u001b[1;32min\u001b[0m \u001b[0mpollIndex\u001b[0m\u001b[1;33m:\u001b[0m\u001b[1;33m\u001b[0m\u001b[0m\n\u001b[1;32m----> 5\u001b[1;33m     \u001b[0mpollList\u001b[0m\u001b[1;33m.\u001b[0m\u001b[0mappend\u001b[0m\u001b[1;33m(\u001b[0m\u001b[1;33m{\u001b[0m\u001b[1;34m'name'\u001b[0m\u001b[1;33m:\u001b[0m \u001b[0mp\u001b[0m\u001b[1;33m,\u001b[0m \u001b[1;34m'poll'\u001b[0m\u001b[1;33m:\u001b[0m \u001b[0mstats\u001b[0m\u001b[1;33m.\u001b[0m\u001b[0mBiWeekPolling\u001b[0m\u001b[1;33m(\u001b[0m\u001b[0mpolls\u001b[0m\u001b[1;33m,\u001b[0m \u001b[0mp\u001b[0m\u001b[1;33m)\u001b[0m\u001b[1;33m}\u001b[0m\u001b[1;33m)\u001b[0m\u001b[1;33m\u001b[0m\u001b[0m\n\u001b[0m",
      "\u001b[1;32m/nbhome/dorfman/project/stats.py\u001b[0m in \u001b[0;36mBiWeekPolling\u001b[1;34m(polls, cand)\u001b[0m\n\u001b[0;32m    139\u001b[0m     \"\"\"\n\u001b[0;32m    140\u001b[0m \u001b[1;33m\u001b[0m\u001b[0m\n\u001b[1;32m--> 141\u001b[1;33m     return polls[(polls.index > candidates['date'][cand] - datetime.timedelta(days=7)) \\\n\u001b[0m\u001b[0;32m    142\u001b[0m      & (polls.index < candidates['date'][cand] + datetime.timedelta(days=9))]\n",
      "\u001b[1;31mNameError\u001b[0m: name 'candidates' is not defined"
     ]
    }
   ],
   "source": [
    "pollList = []\n",
    "\n",
    "pollIndex = [c for c in candidates.index if candidates.dropped[c] == True]\n",
    "for p in pollIndex:\n",
    "    pollList.append({'name': p, 'poll': stats.BiWeekPolling(polls, candidates, p)})"
   ]
  },
  {
   "cell_type": "markdown",
   "metadata": {},
   "source": [
    "Create a DataFrame indexed by the candidates that dropped out of the race during the primaries. Each column holds other candidates' average polling numbers in the week prior to a candidate's campaign suspension.\n",
    "\n",
    "Each cell contains the polling for a candidate in the column the week before the candidate in the row dropped out."
   ]
  },
  {
   "cell_type": "code",
   "execution_count": null,
   "metadata": {
    "collapsed": false
   },
   "outputs": [],
   "source": [
    "WeekBeforeDrop = []\n",
    "\n",
    "for p in range(len(pollList)):\n",
    "    WeekBeforeDrop.append(BeforeAverages(pollList[p]['poll'], pollList[p]['name']))\n",
    "    \n",
    "PollingBeforeDrop = pd.DataFrame(WeekBeforeDrop, columns=polls.columns, index=pollIndex)\n",
    "PollingBeforeDrop.index.names = ['name']\n",
    "stats.Equals100(PollingBeforeDrop)\n",
    "PollingBeforeDrop"
   ]
  },
  {
   "cell_type": "markdown",
   "metadata": {},
   "source": [
    "Create a DataFrame indexed by the candidates that dropped out of the race during the primaries. Each column holds other candidates' average polling numbers in the week after a candidate's campaign suspension.\n",
    "\n",
    "Each cell contains the polling for a candidate in the column the week after the candidate in the row dropped out."
   ]
  },
  {
   "cell_type": "code",
   "execution_count": null,
   "metadata": {
    "collapsed": false
   },
   "outputs": [],
   "source": [
    "WeekAfterDrop = []\n",
    "\n",
    "for p in range(len(pollList)):\n",
    "    WeekAfterDrop.append(AfterAverages(pollList[p]['poll'], pollList[p]['name']))\n",
    "    \n",
    "PollingAfterDrop = pd.DataFrame(WeekAfterDrop, columns=polls.columns, index=pollIndex)\n",
    "PollingAfterDrop.index.names = ['name']\n",
    "stats.Equals100(PollingAfterDrop)\n",
    "PollingAfterDrop"
   ]
  },
  {
   "cell_type": "markdown",
   "metadata": {},
   "source": [
    "## Testing\n",
    "Confirm DataFrame snippets are working as expected. Test on Jeb Bush."
   ]
  },
  {
   "cell_type": "markdown",
   "metadata": {},
   "source": [
    "Display date of drop."
   ]
  },
  {
   "cell_type": "code",
   "execution_count": null,
   "metadata": {
    "collapsed": false
   },
   "outputs": [],
   "source": [
    "candidates['date']['Bush']"
   ]
  },
  {
   "cell_type": "markdown",
   "metadata": {},
   "source": [
    "Confirm data is saved properly after being pushed to a list of dictionaries."
   ]
  },
  {
   "cell_type": "code",
   "execution_count": null,
   "metadata": {
    "collapsed": false
   },
   "outputs": [],
   "source": [
    "BushPolls1 = polls[(polls.index > candidates['date']['Bush'] - datetime.timedelta(days=7)) \\\n",
    "     & (polls.index < candidates['date']['Bush'] + datetime.timedelta(days=9))]\n",
    "BushPoll2 = pollList[1]['poll']\n",
    "assert all(BushPolls1) == all(BushPoll2)"
   ]
  },
  {
   "cell_type": "markdown",
   "metadata": {},
   "source": [
    "Display polling for candidates a week before to a week after Jeb Bush dropped."
   ]
  },
  {
   "cell_type": "code",
   "execution_count": null,
   "metadata": {
    "collapsed": false
   },
   "outputs": [],
   "source": [
    "BushPolls1"
   ]
  },
  {
   "cell_type": "markdown",
   "metadata": {},
   "source": [
    "Confirm polling data sums up to 100 for each poll"
   ]
  },
  {
   "cell_type": "code",
   "execution_count": null,
   "metadata": {
    "collapsed": false
   },
   "outputs": [],
   "source": [
    "sum(BushPolls1.loc['2016-02-22'].dropna())"
   ]
  },
  {
   "cell_type": "code",
   "execution_count": null,
   "metadata": {
    "collapsed": false
   },
   "outputs": [],
   "source": [
    "assert sum(BushPolls1.loc['2016-02-10'].dropna()) == 100\n",
    "assert sum(BushPolls1.loc['2016-02-22'].dropna()) == 100"
   ]
  },
  {
   "cell_type": "markdown",
   "metadata": {},
   "source": [
    "Confirm polling before drop is accurate."
   ]
  },
  {
   "cell_type": "code",
   "execution_count": null,
   "metadata": {
    "collapsed": false
   },
   "outputs": [],
   "source": [
    "BushBeforeAvgs1 = BeforeAverages(BushPolls1, 'Bush')\n",
    "BushBeforeAvgs2 = PollingBeforeDrop.loc['Bush']\n",
    "assert all(BushBeforeAvgs1) == all(list(BushBeforeAvgs2))\n",
    "assert sum(BushBeforeAvgs2.dropna()) == 100"
   ]
  },
  {
   "cell_type": "markdown",
   "metadata": {},
   "source": [
    "Display candidates' average polling data in the week before Jeb Bush suspended his campaign."
   ]
  },
  {
   "cell_type": "code",
   "execution_count": null,
   "metadata": {
    "collapsed": false
   },
   "outputs": [],
   "source": [
    "print(BushBeforeAvgs1)"
   ]
  },
  {
   "cell_type": "markdown",
   "metadata": {},
   "source": [
    "Confrim polling after drop is accurate."
   ]
  },
  {
   "cell_type": "code",
   "execution_count": null,
   "metadata": {
    "collapsed": true
   },
   "outputs": [],
   "source": [
    "BushAfterAvgs1 = AfterAverages(BushPolls1, 'Bush')\n",
    "BushAfterAvgs2 = PollingAfterDrop.loc['Bush']\n",
    "assert all(BushAfterAvgs1) == all(list(BushAfterAvgs2))"
   ]
  },
  {
   "cell_type": "markdown",
   "metadata": {},
   "source": [
    "Display candidates' average polling data in the week after Jeb Bush suspended his campaign."
   ]
  },
  {
   "cell_type": "code",
   "execution_count": null,
   "metadata": {
    "collapsed": false
   },
   "outputs": [],
   "source": [
    "print(BushAfterAvgs1)"
   ]
  },
  {
   "cell_type": "markdown",
   "metadata": {},
   "source": [
    "Polling data sums up to 100."
   ]
  },
  {
   "cell_type": "code",
   "execution_count": null,
   "metadata": {
    "collapsed": true
   },
   "outputs": [],
   "source": [
    "for p in range(len(PollingBeforeDrop.index)):\n",
    "    assert sum(PollingBeforeDrop.iloc[p].dropna()) == 100\n",
    "    \n",
    "for p in range(len(PollingAfterDrop.index)):\n",
    "    assert sum(PollingAfterDrop.iloc[p].dropna()) == 100"
   ]
  },
  {
   "cell_type": "markdown",
   "metadata": {},
   "source": [
    "Graph Jeb Bush's data."
   ]
  },
  {
   "cell_type": "code",
   "execution_count": null,
   "metadata": {
    "collapsed": false
   },
   "outputs": [],
   "source": [
    "plt.figure(figsize=(20,10))\n",
    "\n",
    "plt.plot(BushPolls1.Trump)\n",
    "plt.plot(BushPolls1.Cruz)\n",
    "plt.plot(BushPolls1.Rubio)\n",
    "plt.plot(BushPolls1.Kasich)\n",
    "plt.plot(BushPolls1.Carson)\n",
    "plt.plot(BushPolls1.Bush)\n",
    "plt.plot(BushPolls1.Undecided)\n",
    "\n",
    "plt.axvline(candidates['date']['Bush'])\n",
    "\n",
    "plt.title(\"GOP Candidate Polling a Week Before/After Bush Dropped\", size=20)\n",
    "plt.xlabel(\"Date of Poll\", size=16)\n",
    "plt.ylabel(\"Polling Percentage\", size=16)\n",
    "\n",
    "# y limits are a little greater than needed to display the legend without blocking out data\n",
    "plt.ylim(0, 55)\n",
    "plt.legend(fontsize=14)"
   ]
  },
  {
   "cell_type": "markdown",
   "metadata": {},
   "source": [
    "## Write to File\n",
    "Write the DataFrames PollingBeforeDrop and PollingAfterDrop to two separte files to be analyzed in 05-Analysis.ipynb"
   ]
  },
  {
   "cell_type": "code",
   "execution_count": null,
   "metadata": {
    "collapsed": true
   },
   "outputs": [],
   "source": [
    "PollingBeforeDrop.to_csv('PollingBeforeDrop.csv')\n",
    "PollingAfterDrop.to_csv('PollingAfterDrop.csv')"
   ]
  }
 ],
 "metadata": {
  "kernelspec": {
   "display_name": "Python 3",
   "language": "python",
   "name": "python3"
  },
  "language_info": {
   "codemirror_mode": {
    "name": "ipython",
    "version": 3
   },
   "file_extension": ".py",
   "mimetype": "text/x-python",
   "name": "python",
   "nbconvert_exporter": "python",
   "pygments_lexer": "ipython3",
   "version": "3.4.3"
  }
 },
 "nbformat": 4,
 "nbformat_minor": 0
}

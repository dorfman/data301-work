{
 "cells": [
  {
   "cell_type": "markdown",
   "metadata": {},
   "source": [
    "# Modeling\n",
    "Data is separated on a candidate-basis to observe polls prior to and before a candidate suspends their campaign."
   ]
  },
  {
   "cell_type": "markdown",
   "metadata": {},
   "source": [
    "## Imports"
   ]
  },
  {
   "cell_type": "code",
   "execution_count": 1,
   "metadata": {
    "collapsed": true
   },
   "outputs": [],
   "source": [
    "%matplotlib inline\n",
    "import matplotlib.pyplot as plt\n",
    "import seaborn as sns\n",
    "\n",
    "import datetime\n",
    "import numpy as np\n",
    "import pandas as pd\n",
    "import os\n",
    "import math\n",
    "import hundred"
   ]
  },
  {
   "cell_type": "markdown",
   "metadata": {},
   "source": [
    "## Read File Written in 02-DataCleaning"
   ]
  },
  {
   "cell_type": "code",
   "execution_count": 2,
   "metadata": {
    "collapsed": true
   },
   "outputs": [],
   "source": [
    "candidates = pd.read_csv('candidates.csv', index_col='name')"
   ]
  },
  {
   "cell_type": "markdown",
   "metadata": {},
   "source": [
    "## Read File Written in 03-Modeling"
   ]
  },
  {
   "cell_type": "code",
   "execution_count": 3,
   "metadata": {
    "collapsed": false
   },
   "outputs": [],
   "source": [
    "polls = pd.read_csv('bootPolls.csv')"
   ]
  },
  {
   "cell_type": "markdown",
   "metadata": {},
   "source": [
    "Convert date from string to datetime."
   ]
  },
  {
   "cell_type": "code",
   "execution_count": 4,
   "metadata": {
    "collapsed": false
   },
   "outputs": [],
   "source": [
    "polls.date = pd.Series(pd.DatetimeIndex(polls.date))\n",
    "polls.index = polls.date\n",
    "del polls['date']\n",
    "\n",
    "candidates.date = pd.to_datetime(candidates.date)\n",
    "\n",
    "hundred.Equals100(polls)"
   ]
  },
  {
   "cell_type": "markdown",
   "metadata": {},
   "source": [
    "## Data Modeling Functions Defintions"
   ]
  },
  {
   "cell_type": "markdown",
   "metadata": {},
   "source": [
    "### Before Campaign Suspension"
   ]
  },
  {
   "cell_type": "markdown",
   "metadata": {},
   "source": [
    "Function to get average polling for a single active candidate before a candidate drops out."
   ]
  },
  {
   "cell_type": "code",
   "execution_count": 5,
   "metadata": {
    "collapsed": true
   },
   "outputs": [],
   "source": [
    "def getBeforeAverage(pollGroup, dropout, cand):\n",
    "    \"\"\"Returns average polling for a single candidate in the week prior to another candidate dropping out of the race.\n",
    "    \n",
    "    Parameters\n",
    "    ----------\n",
    "    pollGroup : DataFrame\n",
    "        A snippet of the main DataFrame used sliced to only include polls take a week prior to and a week \n",
    "        after the dropout suspends their campaign.\n",
    "    dropout : str\n",
    "        The name of the candidate that dropped out.\n",
    "    cand : str\n",
    "        The name of the candidate whose average polling is being calculated.\n",
    "    \"\"\"\n",
    "    \n",
    "    tot = 0                             # used to as numerator in calculating the mean\n",
    "    count = 0                           # regular iterator. Also used to as denominator in calculating the mean\n",
    "    iterDate = pollGroup.index[count]   # used to check where date is relative to the date of suspension\n",
    "    \n",
    "    while candidates['date'][dropout] - iterDate >= datetime.timedelta(days=0):\n",
    "        tot += pollGroup[cand][count]\n",
    "        count += 1\n",
    "        iterDate = pollGroup.index[count]\n",
    "\n",
    "    return tot/count"
   ]
  },
  {
   "cell_type": "markdown",
   "metadata": {},
   "source": [
    "Function to create list of average polling for all other candidates before a candidate drops out."
   ]
  },
  {
   "cell_type": "code",
   "execution_count": 6,
   "metadata": {
    "collapsed": false
   },
   "outputs": [],
   "source": [
    "def BeforeAverages(pollGroup, dropout):\n",
    "    \"\"\"Returns a list of average polling for all active candidate in the week prior to another\n",
    "       candidate dropping out of the race.\n",
    "    \n",
    "    Parameters\n",
    "    ----------\n",
    "    pollGroup : DataFrame\n",
    "        A snippet of the main DataFrame used sliced to only include polls take a week prior to and a week \n",
    "        after the dropout suspends their campaign.\n",
    "    dropout : str\n",
    "        The name of the candidate that dropped out.\n",
    "    \"\"\"\n",
    "    \n",
    "    averages = []\n",
    "    for c in pollGroup.columns:    # for each candidate\n",
    "        averages.append(getBeforeAverage(pollGroup, dropout, c))\n",
    "        \n",
    "    return averages"
   ]
  },
  {
   "cell_type": "markdown",
   "metadata": {},
   "source": [
    "### After Campaign Suspension"
   ]
  },
  {
   "cell_type": "markdown",
   "metadata": {},
   "source": [
    "Function to retrieve difference in days since date of suspension/dropout."
   ]
  },
  {
   "cell_type": "code",
   "execution_count": 7,
   "metadata": {
    "collapsed": true
   },
   "outputs": [],
   "source": [
    "def dateDiff(dropout, iterDate):\n",
    "    \"\"\"Returns difference in days between date iterator and the date a candidate dropped out of the race.\n",
    "    \n",
    "    Parameters\n",
    "    ----------\n",
    "    dropout : str\n",
    "        The name of the candidate that dropped out.\n",
    "    iterDate : str\n",
    "        The name of the candidate whose average polling is being calculated.\n",
    "    \"\"\"\n",
    "    return (iterDate - candidates['date'][dropout]).days"
   ]
  },
  {
   "cell_type": "markdown",
   "metadata": {},
   "source": [
    "Function to get weighted average polling for a single active candidate after a candidate drops out. Weight is determined by days after campaign suspension; the further away from the date of suspension, the more weight the polling data holds."
   ]
  },
  {
   "cell_type": "code",
   "execution_count": 8,
   "metadata": {
    "collapsed": false
   },
   "outputs": [],
   "source": [
    "def getAfterAverage(pollGroup, dropout, cand):\n",
    "    \"\"\"Returns average polling for a candidate in the week after another candidate drops out of the race.\n",
    "    \n",
    "    Parameters\n",
    "    ----------\n",
    "    pollGroup : DataFrame\n",
    "        A snippet of the main DataFrame used sliced to only include polls take a week prior to and a week \n",
    "        after the dropout suspends their campaign.\n",
    "    dropout : str\n",
    "        The name of the candidate that dropped out.\n",
    "    cand : str\n",
    "        The name of the candidate whose average polling is being calculated.\n",
    "    \"\"\"\n",
    "    \n",
    "    tot = 0                             # used to as numerator in calculating the mean\n",
    "    count = 0                           # regular iterator\n",
    "    dateCount = 0                       # used to as denomiator in calculating the mean\n",
    "    iterDate = pollGroup.index[count]   # used to check where date is relative to the date of suspension\n",
    "    \n",
    "    # Get the date iterator to the dropout date\n",
    "    while candidates['date'][dropout] - iterDate >= datetime.timedelta(days=0):\n",
    "        count += 1\n",
    "        iterDate = pollGroup.index[count]\n",
    "    \n",
    "    # Iterates through poll grouping conducted in the week after a candidate dropped out of the race\n",
    "    while count < len(pollGroup.index):\n",
    "        iterDate = pollGroup.index[count]\n",
    "        diff = dateDiff(dropout, iterDate)\n",
    "        candCount = pollGroup[cand][count]\n",
    "        \n",
    "        if math.isnan(candCount) == False:    # only uses numbers\n",
    "            tot += candCount * diff           # gives weight to polls conducted further away from the date of dropping\n",
    "            dateCount += diff\n",
    "        count += 1\n",
    "        \n",
    "    if dateCount == 0:    # can't divide by zero, so just return 0 if no polls conducted after date of dropping\n",
    "        return float('nan')\n",
    "    else:\n",
    "        return tot/dateCount"
   ]
  },
  {
   "cell_type": "markdown",
   "metadata": {},
   "source": [
    "Function to get weighted average polling for all other candidtates after a candidate drops out."
   ]
  },
  {
   "cell_type": "code",
   "execution_count": 9,
   "metadata": {
    "collapsed": true
   },
   "outputs": [],
   "source": [
    "def AfterAverages(pollGroup, dropout):\n",
    "    \"\"\"Returns a list of average polling for all active candidate in the week after another\n",
    "       candidate drops out of the race.\n",
    "    \n",
    "    Parameters\n",
    "    ----------\n",
    "    pollGroup : DataFrame\n",
    "        A snippet of the main DataFrame used sliced to only include polls take a week prior to and a week \n",
    "        after the dropout suspends their campaign.\n",
    "    dropout : str\n",
    "        The name of the candidate that dropped out.\n",
    "    \"\"\"\n",
    "    \n",
    "    averages = []\n",
    "    for c in pollGroup.columns:\n",
    "        averages.append(getAfterAverage(pollGroup, dropout, c))\n",
    "    return averages"
   ]
  },
  {
   "cell_type": "markdown",
   "metadata": {},
   "source": [
    "Function to create a list of dictionaries holding the candidate name and a table, that is a snippet of all polling data from the week before to the week after a campaign was suspended, for each candidate that has suspended their campaign."
   ]
  },
  {
   "cell_type": "code",
   "execution_count": 10,
   "metadata": {
    "collapsed": true
   },
   "outputs": [],
   "source": [
    "def BiWeekPolling(cand):\n",
    "    \"\"\"Returns a snippet of the DataFrame holding only polls conducted 7 days prior to the date of dropping to 9 after\n",
    "       the date of dropping.\n",
    "    \n",
    "    Parameters\n",
    "    ----------\n",
    "    cand : str\n",
    "        The name of the candidate that dropped out.\n",
    "    \"\"\"\n",
    "    \n",
    "    return polls[(polls.index > candidates['date'][cand] - datetime.timedelta(days=7)) \\\n",
    "     & (polls.index < candidates['date'][cand] + datetime.timedelta(days=9))]"
   ]
  },
  {
   "cell_type": "markdown",
   "metadata": {},
   "source": [
    "## Data Modeling Functions Apllications"
   ]
  },
  {
   "cell_type": "markdown",
   "metadata": {},
   "source": [
    "Create a list of dictionaries holding the name of each candidate that suspended their campaign and the DataFrames of polling data from a week before to a week after that candidate suspended their campaign."
   ]
  },
  {
   "cell_type": "code",
   "execution_count": 11,
   "metadata": {
    "collapsed": false
   },
   "outputs": [],
   "source": [
    "pollList = []\n",
    "\n",
    "pollIndex = [c for c in candidates.index if candidates.dropped[c] == True]\n",
    "for p in pollIndex:\n",
    "    pollList.append({'name': p, 'poll': BiWeekPolling(p)})"
   ]
  },
  {
   "cell_type": "markdown",
   "metadata": {},
   "source": [
    "Create a DataFrame indexed by the candidates that dropped out of the race during the primaries. Each column holds other candidates' average polling numbers in the week prior to a candidate's campaign suspension.\n",
    "\n",
    "Each cell contains the polling for a candidate in the column the week before the candidate in the row dropped out."
   ]
  },
  {
   "cell_type": "code",
   "execution_count": 12,
   "metadata": {
    "collapsed": false
   },
   "outputs": [
    {
     "data": {
      "text/html": [
       "<div>\n",
       "<table border=\"1\" class=\"dataframe\">\n",
       "  <thead>\n",
       "    <tr style=\"text-align: right;\">\n",
       "      <th></th>\n",
       "      <th>Trump</th>\n",
       "      <th>Cruz</th>\n",
       "      <th>Rubio</th>\n",
       "      <th>Kasich</th>\n",
       "      <th>Carson</th>\n",
       "      <th>Bush</th>\n",
       "      <th>Christie</th>\n",
       "      <th>Fiorina</th>\n",
       "      <th>Gilmore</th>\n",
       "      <th>Huckabee</th>\n",
       "      <th>Paul</th>\n",
       "      <th>Santorum</th>\n",
       "      <th>Undecided</th>\n",
       "    </tr>\n",
       "    <tr>\n",
       "      <th>name</th>\n",
       "      <th></th>\n",
       "      <th></th>\n",
       "      <th></th>\n",
       "      <th></th>\n",
       "      <th></th>\n",
       "      <th></th>\n",
       "      <th></th>\n",
       "      <th></th>\n",
       "      <th></th>\n",
       "      <th></th>\n",
       "      <th></th>\n",
       "      <th></th>\n",
       "      <th></th>\n",
       "    </tr>\n",
       "  </thead>\n",
       "  <tbody>\n",
       "    <tr>\n",
       "      <th>Carson</th>\n",
       "      <td>40.790704</td>\n",
       "      <td>17.448000</td>\n",
       "      <td>17.077167</td>\n",
       "      <td>6.882519</td>\n",
       "      <td>8.458519</td>\n",
       "      <td>NaN</td>\n",
       "      <td>NaN</td>\n",
       "      <td>NaN</td>\n",
       "      <td>NaN</td>\n",
       "      <td>NaN</td>\n",
       "      <td>NaN</td>\n",
       "      <td>NaN</td>\n",
       "      <td>9.343093</td>\n",
       "    </tr>\n",
       "    <tr>\n",
       "      <th>Bush</th>\n",
       "      <td>37.844278</td>\n",
       "      <td>18.935278</td>\n",
       "      <td>13.793111</td>\n",
       "      <td>5.536722</td>\n",
       "      <td>8.303333</td>\n",
       "      <td>5.117167</td>\n",
       "      <td>NaN</td>\n",
       "      <td>NaN</td>\n",
       "      <td>NaN</td>\n",
       "      <td>NaN</td>\n",
       "      <td>NaN</td>\n",
       "      <td>NaN</td>\n",
       "      <td>10.470111</td>\n",
       "    </tr>\n",
       "    <tr>\n",
       "      <th>Christie</th>\n",
       "      <td>35.463593</td>\n",
       "      <td>19.938074</td>\n",
       "      <td>15.646870</td>\n",
       "      <td>3.752833</td>\n",
       "      <td>7.960185</td>\n",
       "      <td>4.501352</td>\n",
       "      <td>2.549778</td>\n",
       "      <td>2.047778</td>\n",
       "      <td>0.029444</td>\n",
       "      <td>NaN</td>\n",
       "      <td>NaN</td>\n",
       "      <td>NaN</td>\n",
       "      <td>8.110093</td>\n",
       "    </tr>\n",
       "    <tr>\n",
       "      <th>Fiorina</th>\n",
       "      <td>35.463593</td>\n",
       "      <td>19.938074</td>\n",
       "      <td>15.646870</td>\n",
       "      <td>3.752833</td>\n",
       "      <td>7.960185</td>\n",
       "      <td>4.501352</td>\n",
       "      <td>2.549778</td>\n",
       "      <td>2.047778</td>\n",
       "      <td>0.029444</td>\n",
       "      <td>NaN</td>\n",
       "      <td>NaN</td>\n",
       "      <td>NaN</td>\n",
       "      <td>8.110093</td>\n",
       "    </tr>\n",
       "    <tr>\n",
       "      <th>Gilmore</th>\n",
       "      <td>38.312704</td>\n",
       "      <td>19.011185</td>\n",
       "      <td>13.376833</td>\n",
       "      <td>3.608833</td>\n",
       "      <td>8.935000</td>\n",
       "      <td>5.511241</td>\n",
       "      <td>NaN</td>\n",
       "      <td>NaN</td>\n",
       "      <td>0.033889</td>\n",
       "      <td>NaN</td>\n",
       "      <td>NaN</td>\n",
       "      <td>NaN</td>\n",
       "      <td>11.210315</td>\n",
       "    </tr>\n",
       "    <tr>\n",
       "      <th>Huckabee</th>\n",
       "      <td>37.739556</td>\n",
       "      <td>17.247556</td>\n",
       "      <td>12.251056</td>\n",
       "      <td>3.913056</td>\n",
       "      <td>7.477333</td>\n",
       "      <td>4.695722</td>\n",
       "      <td>2.020667</td>\n",
       "      <td>1.609000</td>\n",
       "      <td>0.163667</td>\n",
       "      <td>1.789</td>\n",
       "      <td>2.741667</td>\n",
       "      <td>0.788667</td>\n",
       "      <td>7.563056</td>\n",
       "    </tr>\n",
       "    <tr>\n",
       "      <th>Paul</th>\n",
       "      <td>38.707861</td>\n",
       "      <td>17.271167</td>\n",
       "      <td>12.759778</td>\n",
       "      <td>3.971347</td>\n",
       "      <td>7.329861</td>\n",
       "      <td>4.502042</td>\n",
       "      <td>2.525375</td>\n",
       "      <td>1.698333</td>\n",
       "      <td>0.281250</td>\n",
       "      <td>NaN</td>\n",
       "      <td>2.733042</td>\n",
       "      <td>0.683542</td>\n",
       "      <td>7.536403</td>\n",
       "    </tr>\n",
       "    <tr>\n",
       "      <th>Santorum</th>\n",
       "      <td>38.707861</td>\n",
       "      <td>17.271167</td>\n",
       "      <td>12.759778</td>\n",
       "      <td>3.971347</td>\n",
       "      <td>7.329861</td>\n",
       "      <td>4.502042</td>\n",
       "      <td>2.525375</td>\n",
       "      <td>1.698333</td>\n",
       "      <td>0.281250</td>\n",
       "      <td>NaN</td>\n",
       "      <td>2.733042</td>\n",
       "      <td>0.683542</td>\n",
       "      <td>7.536403</td>\n",
       "    </tr>\n",
       "  </tbody>\n",
       "</table>\n",
       "</div>"
      ],
      "text/plain": [
       "              Trump       Cruz      Rubio    Kasich    Carson      Bush  \\\n",
       "name                                                                      \n",
       "Carson    40.790704  17.448000  17.077167  6.882519  8.458519       NaN   \n",
       "Bush      37.844278  18.935278  13.793111  5.536722  8.303333  5.117167   \n",
       "Christie  35.463593  19.938074  15.646870  3.752833  7.960185  4.501352   \n",
       "Fiorina   35.463593  19.938074  15.646870  3.752833  7.960185  4.501352   \n",
       "Gilmore   38.312704  19.011185  13.376833  3.608833  8.935000  5.511241   \n",
       "Huckabee  37.739556  17.247556  12.251056  3.913056  7.477333  4.695722   \n",
       "Paul      38.707861  17.271167  12.759778  3.971347  7.329861  4.502042   \n",
       "Santorum  38.707861  17.271167  12.759778  3.971347  7.329861  4.502042   \n",
       "\n",
       "          Christie   Fiorina   Gilmore  Huckabee      Paul  Santorum  \\\n",
       "name                                                                   \n",
       "Carson         NaN       NaN       NaN       NaN       NaN       NaN   \n",
       "Bush           NaN       NaN       NaN       NaN       NaN       NaN   \n",
       "Christie  2.549778  2.047778  0.029444       NaN       NaN       NaN   \n",
       "Fiorina   2.549778  2.047778  0.029444       NaN       NaN       NaN   \n",
       "Gilmore        NaN       NaN  0.033889       NaN       NaN       NaN   \n",
       "Huckabee  2.020667  1.609000  0.163667     1.789  2.741667  0.788667   \n",
       "Paul      2.525375  1.698333  0.281250       NaN  2.733042  0.683542   \n",
       "Santorum  2.525375  1.698333  0.281250       NaN  2.733042  0.683542   \n",
       "\n",
       "          Undecided  \n",
       "name                 \n",
       "Carson     9.343093  \n",
       "Bush      10.470111  \n",
       "Christie   8.110093  \n",
       "Fiorina    8.110093  \n",
       "Gilmore   11.210315  \n",
       "Huckabee   7.563056  \n",
       "Paul       7.536403  \n",
       "Santorum   7.536403  "
      ]
     },
     "execution_count": 12,
     "metadata": {},
     "output_type": "execute_result"
    }
   ],
   "source": [
    "WeekBeforeDrop = []\n",
    "\n",
    "for p in range(len(pollList)):\n",
    "    WeekBeforeDrop.append(BeforeAverages(pollList[p]['poll'], pollList[p]['name']))\n",
    "    \n",
    "PollingBeforeDrop = pd.DataFrame(WeekBeforeDrop, columns=polls.columns, index=pollIndex)\n",
    "PollingBeforeDrop.index.names = ['name']\n",
    "hundred.Equals100(PollingBeforeDrop)\n",
    "PollingBeforeDrop"
   ]
  },
  {
   "cell_type": "markdown",
   "metadata": {},
   "source": [
    "Create a DataFrame indexed by the candidates that dropped out of the race during the primaries. Each column holds other candidates' average polling numbers in the week after a candidate's campaign suspension.\n",
    "\n",
    "Each cell contains the polling for a candidate in the column the week after the candidate in the row dropped out."
   ]
  },
  {
   "cell_type": "code",
   "execution_count": 13,
   "metadata": {
    "collapsed": false
   },
   "outputs": [
    {
     "data": {
      "text/html": [
       "<div>\n",
       "<table border=\"1\" class=\"dataframe\">\n",
       "  <thead>\n",
       "    <tr style=\"text-align: right;\">\n",
       "      <th></th>\n",
       "      <th>Trump</th>\n",
       "      <th>Cruz</th>\n",
       "      <th>Rubio</th>\n",
       "      <th>Kasich</th>\n",
       "      <th>Carson</th>\n",
       "      <th>Bush</th>\n",
       "      <th>Christie</th>\n",
       "      <th>Fiorina</th>\n",
       "      <th>Gilmore</th>\n",
       "      <th>Huckabee</th>\n",
       "      <th>Paul</th>\n",
       "      <th>Santorum</th>\n",
       "      <th>Undecided</th>\n",
       "    </tr>\n",
       "    <tr>\n",
       "      <th>name</th>\n",
       "      <th></th>\n",
       "      <th></th>\n",
       "      <th></th>\n",
       "      <th></th>\n",
       "      <th></th>\n",
       "      <th></th>\n",
       "      <th></th>\n",
       "      <th></th>\n",
       "      <th></th>\n",
       "      <th></th>\n",
       "      <th></th>\n",
       "      <th></th>\n",
       "      <th></th>\n",
       "    </tr>\n",
       "  </thead>\n",
       "  <tbody>\n",
       "    <tr>\n",
       "      <th>Carson</th>\n",
       "      <td>43.856841</td>\n",
       "      <td>21.475270</td>\n",
       "      <td>12.540770</td>\n",
       "      <td>9.837163</td>\n",
       "      <td>NaN</td>\n",
       "      <td>NaN</td>\n",
       "      <td>NaN</td>\n",
       "      <td>NaN</td>\n",
       "      <td>NaN</td>\n",
       "      <td>NaN</td>\n",
       "      <td>NaN</td>\n",
       "      <td>NaN</td>\n",
       "      <td>12.289956</td>\n",
       "    </tr>\n",
       "    <tr>\n",
       "      <th>Bush</th>\n",
       "      <td>36.754553</td>\n",
       "      <td>18.970475</td>\n",
       "      <td>15.923739</td>\n",
       "      <td>7.610356</td>\n",
       "      <td>7.959333</td>\n",
       "      <td>NaN</td>\n",
       "      <td>NaN</td>\n",
       "      <td>NaN</td>\n",
       "      <td>NaN</td>\n",
       "      <td>NaN</td>\n",
       "      <td>NaN</td>\n",
       "      <td>NaN</td>\n",
       "      <td>12.781544</td>\n",
       "    </tr>\n",
       "    <tr>\n",
       "      <th>Christie</th>\n",
       "      <td>37.229483</td>\n",
       "      <td>18.735275</td>\n",
       "      <td>14.180891</td>\n",
       "      <td>6.716007</td>\n",
       "      <td>8.264444</td>\n",
       "      <td>4.552483</td>\n",
       "      <td>NaN</td>\n",
       "      <td>NaN</td>\n",
       "      <td>0.038333</td>\n",
       "      <td>NaN</td>\n",
       "      <td>NaN</td>\n",
       "      <td>NaN</td>\n",
       "      <td>10.283083</td>\n",
       "    </tr>\n",
       "    <tr>\n",
       "      <th>Fiorina</th>\n",
       "      <td>37.229483</td>\n",
       "      <td>18.735275</td>\n",
       "      <td>14.180891</td>\n",
       "      <td>6.716007</td>\n",
       "      <td>8.264444</td>\n",
       "      <td>4.552483</td>\n",
       "      <td>NaN</td>\n",
       "      <td>NaN</td>\n",
       "      <td>0.038333</td>\n",
       "      <td>NaN</td>\n",
       "      <td>NaN</td>\n",
       "      <td>NaN</td>\n",
       "      <td>10.283083</td>\n",
       "    </tr>\n",
       "    <tr>\n",
       "      <th>Gilmore</th>\n",
       "      <td>36.961226</td>\n",
       "      <td>18.830401</td>\n",
       "      <td>14.275004</td>\n",
       "      <td>6.835468</td>\n",
       "      <td>8.336667</td>\n",
       "      <td>4.457272</td>\n",
       "      <td>NaN</td>\n",
       "      <td>NaN</td>\n",
       "      <td>NaN</td>\n",
       "      <td>NaN</td>\n",
       "      <td>NaN</td>\n",
       "      <td>NaN</td>\n",
       "      <td>10.303963</td>\n",
       "    </tr>\n",
       "    <tr>\n",
       "      <th>Huckabee</th>\n",
       "      <td>35.640682</td>\n",
       "      <td>18.671237</td>\n",
       "      <td>16.013283</td>\n",
       "      <td>3.929520</td>\n",
       "      <td>7.577980</td>\n",
       "      <td>4.041692</td>\n",
       "      <td>2.599217</td>\n",
       "      <td>1.875505</td>\n",
       "      <td>0.090758</td>\n",
       "      <td>NaN</td>\n",
       "      <td>2.714667</td>\n",
       "      <td>0.319722</td>\n",
       "      <td>6.525737</td>\n",
       "    </tr>\n",
       "    <tr>\n",
       "      <th>Paul</th>\n",
       "      <td>38.446325</td>\n",
       "      <td>19.093619</td>\n",
       "      <td>13.185064</td>\n",
       "      <td>3.743803</td>\n",
       "      <td>8.941000</td>\n",
       "      <td>5.682664</td>\n",
       "      <td>2.574306</td>\n",
       "      <td>2.146389</td>\n",
       "      <td>0.033750</td>\n",
       "      <td>NaN</td>\n",
       "      <td>NaN</td>\n",
       "      <td>NaN</td>\n",
       "      <td>6.153081</td>\n",
       "    </tr>\n",
       "    <tr>\n",
       "      <th>Santorum</th>\n",
       "      <td>38.446325</td>\n",
       "      <td>19.093619</td>\n",
       "      <td>13.185064</td>\n",
       "      <td>3.743803</td>\n",
       "      <td>8.941000</td>\n",
       "      <td>5.682664</td>\n",
       "      <td>2.574306</td>\n",
       "      <td>2.146389</td>\n",
       "      <td>0.033750</td>\n",
       "      <td>NaN</td>\n",
       "      <td>NaN</td>\n",
       "      <td>NaN</td>\n",
       "      <td>6.153081</td>\n",
       "    </tr>\n",
       "  </tbody>\n",
       "</table>\n",
       "</div>"
      ],
      "text/plain": [
       "              Trump       Cruz      Rubio    Kasich    Carson      Bush  \\\n",
       "name                                                                      \n",
       "Carson    43.856841  21.475270  12.540770  9.837163       NaN       NaN   \n",
       "Bush      36.754553  18.970475  15.923739  7.610356  7.959333       NaN   \n",
       "Christie  37.229483  18.735275  14.180891  6.716007  8.264444  4.552483   \n",
       "Fiorina   37.229483  18.735275  14.180891  6.716007  8.264444  4.552483   \n",
       "Gilmore   36.961226  18.830401  14.275004  6.835468  8.336667  4.457272   \n",
       "Huckabee  35.640682  18.671237  16.013283  3.929520  7.577980  4.041692   \n",
       "Paul      38.446325  19.093619  13.185064  3.743803  8.941000  5.682664   \n",
       "Santorum  38.446325  19.093619  13.185064  3.743803  8.941000  5.682664   \n",
       "\n",
       "          Christie   Fiorina   Gilmore  Huckabee      Paul  Santorum  \\\n",
       "name                                                                   \n",
       "Carson         NaN       NaN       NaN       NaN       NaN       NaN   \n",
       "Bush           NaN       NaN       NaN       NaN       NaN       NaN   \n",
       "Christie       NaN       NaN  0.038333       NaN       NaN       NaN   \n",
       "Fiorina        NaN       NaN  0.038333       NaN       NaN       NaN   \n",
       "Gilmore        NaN       NaN       NaN       NaN       NaN       NaN   \n",
       "Huckabee  2.599217  1.875505  0.090758       NaN  2.714667  0.319722   \n",
       "Paul      2.574306  2.146389  0.033750       NaN       NaN       NaN   \n",
       "Santorum  2.574306  2.146389  0.033750       NaN       NaN       NaN   \n",
       "\n",
       "          Undecided  \n",
       "name                 \n",
       "Carson    12.289956  \n",
       "Bush      12.781544  \n",
       "Christie  10.283083  \n",
       "Fiorina   10.283083  \n",
       "Gilmore   10.303963  \n",
       "Huckabee   6.525737  \n",
       "Paul       6.153081  \n",
       "Santorum   6.153081  "
      ]
     },
     "execution_count": 13,
     "metadata": {},
     "output_type": "execute_result"
    }
   ],
   "source": [
    "WeekAfterDrop = []\n",
    "\n",
    "for p in range(len(pollList)):\n",
    "    WeekAfterDrop.append(AfterAverages(pollList[p]['poll'], pollList[p]['name']))\n",
    "    \n",
    "PollingAfterDrop = pd.DataFrame(WeekAfterDrop, columns=polls.columns, index=pollIndex)\n",
    "PollingAfterDrop.index.names = ['name']\n",
    "hundred.Equals100(PollingAfterDrop)\n",
    "PollingAfterDrop"
   ]
  },
  {
   "cell_type": "markdown",
   "metadata": {},
   "source": [
    "## Testing\n",
    "Confirm DataFrame snippets are working as expected. Test on Jeb Bush."
   ]
  },
  {
   "cell_type": "markdown",
   "metadata": {},
   "source": [
    "Display date of drop."
   ]
  },
  {
   "cell_type": "code",
   "execution_count": 14,
   "metadata": {
    "collapsed": false
   },
   "outputs": [
    {
     "data": {
      "text/plain": [
       "Timestamp('2016-02-16 00:00:00')"
      ]
     },
     "execution_count": 14,
     "metadata": {},
     "output_type": "execute_result"
    }
   ],
   "source": [
    "candidates['date']['Bush']"
   ]
  },
  {
   "cell_type": "markdown",
   "metadata": {},
   "source": [
    "Confirm data is saved properly after being pushed to a list of dictionaries."
   ]
  },
  {
   "cell_type": "code",
   "execution_count": 15,
   "metadata": {
    "collapsed": false
   },
   "outputs": [],
   "source": [
    "BushPolls1 = polls[(polls.index > candidates['date']['Bush'] - datetime.timedelta(days=7)) \\\n",
    "     & (polls.index < candidates['date']['Bush'] + datetime.timedelta(days=9))]\n",
    "BushPoll2 = pollList[1]['poll']\n",
    "assert all(BushPolls1) == all(BushPoll2)"
   ]
  },
  {
   "cell_type": "markdown",
   "metadata": {},
   "source": [
    "Display polling for candidates a week before to a week after Jeb Bush dropped."
   ]
  },
  {
   "cell_type": "code",
   "execution_count": 16,
   "metadata": {
    "collapsed": false
   },
   "outputs": [
    {
     "data": {
      "text/html": [
       "<div>\n",
       "<table border=\"1\" class=\"dataframe\">\n",
       "  <thead>\n",
       "    <tr style=\"text-align: right;\">\n",
       "      <th></th>\n",
       "      <th>Trump</th>\n",
       "      <th>Cruz</th>\n",
       "      <th>Rubio</th>\n",
       "      <th>Kasich</th>\n",
       "      <th>Carson</th>\n",
       "      <th>Bush</th>\n",
       "      <th>Christie</th>\n",
       "      <th>Fiorina</th>\n",
       "      <th>Gilmore</th>\n",
       "      <th>Huckabee</th>\n",
       "      <th>Paul</th>\n",
       "      <th>Santorum</th>\n",
       "      <th>Undecided</th>\n",
       "    </tr>\n",
       "    <tr>\n",
       "      <th>date</th>\n",
       "      <th></th>\n",
       "      <th></th>\n",
       "      <th></th>\n",
       "      <th></th>\n",
       "      <th></th>\n",
       "      <th></th>\n",
       "      <th></th>\n",
       "      <th></th>\n",
       "      <th></th>\n",
       "      <th></th>\n",
       "      <th></th>\n",
       "      <th></th>\n",
       "      <th></th>\n",
       "    </tr>\n",
       "  </thead>\n",
       "  <tbody>\n",
       "    <tr>\n",
       "      <th>2016-02-10</th>\n",
       "      <td>35.954444</td>\n",
       "      <td>21.336667</td>\n",
       "      <td>13.678056</td>\n",
       "      <td>2.996667</td>\n",
       "      <td>9.810000</td>\n",
       "      <td>5.955556</td>\n",
       "      <td>2.6125</td>\n",
       "      <td>2.415</td>\n",
       "      <td>0.030000</td>\n",
       "      <td>NaN</td>\n",
       "      <td>NaN</td>\n",
       "      <td>NaN</td>\n",
       "      <td>5.211111</td>\n",
       "    </tr>\n",
       "    <tr>\n",
       "      <th>2016-02-11</th>\n",
       "      <td>41.971611</td>\n",
       "      <td>17.389500</td>\n",
       "      <td>11.067000</td>\n",
       "      <td>4.429611</td>\n",
       "      <td>9.018889</td>\n",
       "      <td>6.536278</td>\n",
       "      <td>NaN</td>\n",
       "      <td>NaN</td>\n",
       "      <td>0.038333</td>\n",
       "      <td>NaN</td>\n",
       "      <td>NaN</td>\n",
       "      <td>NaN</td>\n",
       "      <td>9.548778</td>\n",
       "    </tr>\n",
       "    <tr>\n",
       "      <th>2016-02-14</th>\n",
       "      <td>37.844833</td>\n",
       "      <td>18.190167</td>\n",
       "      <td>13.904056</td>\n",
       "      <td>6.334389</td>\n",
       "      <td>7.809444</td>\n",
       "      <td>3.813278</td>\n",
       "      <td>NaN</td>\n",
       "      <td>NaN</td>\n",
       "      <td>NaN</td>\n",
       "      <td>NaN</td>\n",
       "      <td>NaN</td>\n",
       "      <td>NaN</td>\n",
       "      <td>12.103833</td>\n",
       "    </tr>\n",
       "    <tr>\n",
       "      <th>2016-02-15</th>\n",
       "      <td>37.681167</td>\n",
       "      <td>18.784389</td>\n",
       "      <td>16.229944</td>\n",
       "      <td>7.232333</td>\n",
       "      <td>5.855000</td>\n",
       "      <td>4.634000</td>\n",
       "      <td>NaN</td>\n",
       "      <td>NaN</td>\n",
       "      <td>NaN</td>\n",
       "      <td>NaN</td>\n",
       "      <td>NaN</td>\n",
       "      <td>NaN</td>\n",
       "      <td>9.583167</td>\n",
       "    </tr>\n",
       "    <tr>\n",
       "      <th>2016-02-16</th>\n",
       "      <td>35.769333</td>\n",
       "      <td>18.975667</td>\n",
       "      <td>14.086500</td>\n",
       "      <td>6.690611</td>\n",
       "      <td>9.023333</td>\n",
       "      <td>4.646722</td>\n",
       "      <td>NaN</td>\n",
       "      <td>NaN</td>\n",
       "      <td>NaN</td>\n",
       "      <td>NaN</td>\n",
       "      <td>NaN</td>\n",
       "      <td>NaN</td>\n",
       "      <td>10.807833</td>\n",
       "    </tr>\n",
       "    <tr>\n",
       "      <th>2016-02-17</th>\n",
       "      <td>37.129333</td>\n",
       "      <td>18.997889</td>\n",
       "      <td>13.401222</td>\n",
       "      <td>6.913667</td>\n",
       "      <td>9.487222</td>\n",
       "      <td>NaN</td>\n",
       "      <td>NaN</td>\n",
       "      <td>NaN</td>\n",
       "      <td>NaN</td>\n",
       "      <td>NaN</td>\n",
       "      <td>NaN</td>\n",
       "      <td>NaN</td>\n",
       "      <td>14.070667</td>\n",
       "    </tr>\n",
       "    <tr>\n",
       "      <th>2016-02-21</th>\n",
       "      <td>36.564500</td>\n",
       "      <td>18.837722</td>\n",
       "      <td>15.333000</td>\n",
       "      <td>7.020111</td>\n",
       "      <td>8.002778</td>\n",
       "      <td>NaN</td>\n",
       "      <td>NaN</td>\n",
       "      <td>NaN</td>\n",
       "      <td>NaN</td>\n",
       "      <td>NaN</td>\n",
       "      <td>NaN</td>\n",
       "      <td>NaN</td>\n",
       "      <td>14.241889</td>\n",
       "    </tr>\n",
       "    <tr>\n",
       "      <th>2016-02-22</th>\n",
       "      <td>36.637500</td>\n",
       "      <td>17.430278</td>\n",
       "      <td>18.464167</td>\n",
       "      <td>9.525556</td>\n",
       "      <td>7.923889</td>\n",
       "      <td>NaN</td>\n",
       "      <td>NaN</td>\n",
       "      <td>NaN</td>\n",
       "      <td>NaN</td>\n",
       "      <td>NaN</td>\n",
       "      <td>NaN</td>\n",
       "      <td>NaN</td>\n",
       "      <td>10.018611</td>\n",
       "    </tr>\n",
       "    <tr>\n",
       "      <th>2016-02-24</th>\n",
       "      <td>36.914278</td>\n",
       "      <td>20.205167</td>\n",
       "      <td>14.702944</td>\n",
       "      <td>6.629944</td>\n",
       "      <td>7.767778</td>\n",
       "      <td>NaN</td>\n",
       "      <td>NaN</td>\n",
       "      <td>NaN</td>\n",
       "      <td>NaN</td>\n",
       "      <td>NaN</td>\n",
       "      <td>NaN</td>\n",
       "      <td>NaN</td>\n",
       "      <td>13.779889</td>\n",
       "    </tr>\n",
       "  </tbody>\n",
       "</table>\n",
       "</div>"
      ],
      "text/plain": [
       "                Trump       Cruz      Rubio    Kasich    Carson      Bush  \\\n",
       "date                                                                        \n",
       "2016-02-10  35.954444  21.336667  13.678056  2.996667  9.810000  5.955556   \n",
       "2016-02-11  41.971611  17.389500  11.067000  4.429611  9.018889  6.536278   \n",
       "2016-02-14  37.844833  18.190167  13.904056  6.334389  7.809444  3.813278   \n",
       "2016-02-15  37.681167  18.784389  16.229944  7.232333  5.855000  4.634000   \n",
       "2016-02-16  35.769333  18.975667  14.086500  6.690611  9.023333  4.646722   \n",
       "2016-02-17  37.129333  18.997889  13.401222  6.913667  9.487222       NaN   \n",
       "2016-02-21  36.564500  18.837722  15.333000  7.020111  8.002778       NaN   \n",
       "2016-02-22  36.637500  17.430278  18.464167  9.525556  7.923889       NaN   \n",
       "2016-02-24  36.914278  20.205167  14.702944  6.629944  7.767778       NaN   \n",
       "\n",
       "            Christie  Fiorina   Gilmore  Huckabee  Paul  Santorum  Undecided  \n",
       "date                                                                          \n",
       "2016-02-10    2.6125    2.415  0.030000       NaN   NaN       NaN   5.211111  \n",
       "2016-02-11       NaN      NaN  0.038333       NaN   NaN       NaN   9.548778  \n",
       "2016-02-14       NaN      NaN       NaN       NaN   NaN       NaN  12.103833  \n",
       "2016-02-15       NaN      NaN       NaN       NaN   NaN       NaN   9.583167  \n",
       "2016-02-16       NaN      NaN       NaN       NaN   NaN       NaN  10.807833  \n",
       "2016-02-17       NaN      NaN       NaN       NaN   NaN       NaN  14.070667  \n",
       "2016-02-21       NaN      NaN       NaN       NaN   NaN       NaN  14.241889  \n",
       "2016-02-22       NaN      NaN       NaN       NaN   NaN       NaN  10.018611  \n",
       "2016-02-24       NaN      NaN       NaN       NaN   NaN       NaN  13.779889  "
      ]
     },
     "execution_count": 16,
     "metadata": {},
     "output_type": "execute_result"
    }
   ],
   "source": [
    "BushPolls1"
   ]
  },
  {
   "cell_type": "markdown",
   "metadata": {},
   "source": [
    "Confirm polling data sums up to 100 for each poll"
   ]
  },
  {
   "cell_type": "code",
   "execution_count": 17,
   "metadata": {
    "collapsed": false
   },
   "outputs": [
    {
     "data": {
      "text/plain": [
       "100.0"
      ]
     },
     "execution_count": 17,
     "metadata": {},
     "output_type": "execute_result"
    }
   ],
   "source": [
    "sum(BushPolls1.loc['2016-02-22'].dropna())"
   ]
  },
  {
   "cell_type": "code",
   "execution_count": 18,
   "metadata": {
    "collapsed": false
   },
   "outputs": [],
   "source": [
    "assert sum(BushPolls1.loc['2016-02-10'].dropna()) == 100\n",
    "assert sum(BushPolls1.loc['2016-02-22'].dropna()) == 100"
   ]
  },
  {
   "cell_type": "markdown",
   "metadata": {},
   "source": [
    "Confirm polling before drop is accurate."
   ]
  },
  {
   "cell_type": "code",
   "execution_count": 19,
   "metadata": {
    "collapsed": false
   },
   "outputs": [],
   "source": [
    "BushBeforeAvgs1 = BeforeAverages(BushPolls1, 'Bush')\n",
    "BushBeforeAvgs2 = PollingBeforeDrop.loc['Bush']\n",
    "assert all(BushBeforeAvgs1) == all(list(BushBeforeAvgs2))\n",
    "assert sum(BushBeforeAvgs2.dropna()) == 100"
   ]
  },
  {
   "cell_type": "markdown",
   "metadata": {},
   "source": [
    "Display candidates' average polling data in the week before Jeb Bush suspended his campaign."
   ]
  },
  {
   "cell_type": "code",
   "execution_count": 20,
   "metadata": {
    "collapsed": false
   },
   "outputs": [
    {
     "name": "stdout",
     "output_type": "stream",
     "text": [
      "[37.844277777777776, 18.935277777777777, 13.793111111111111, 5.5367222222222221, 8.3033333333333328, 5.1171666666666669, nan, nan, nan, nan, nan, nan, 9.4509444444444455]\n"
     ]
    }
   ],
   "source": [
    "print(BushBeforeAvgs1)"
   ]
  },
  {
   "cell_type": "markdown",
   "metadata": {},
   "source": [
    "Confrim polling after drop is accurate."
   ]
  },
  {
   "cell_type": "code",
   "execution_count": 21,
   "metadata": {
    "collapsed": true
   },
   "outputs": [],
   "source": [
    "BushAfterAvgs1 = AfterAverages(BushPolls1, 'Bush')\n",
    "BushAfterAvgs2 = PollingAfterDrop.loc['Bush']\n",
    "assert all(BushAfterAvgs1) == all(list(BushAfterAvgs2))"
   ]
  },
  {
   "cell_type": "markdown",
   "metadata": {},
   "source": [
    "Display candidates' average polling data in the week after Jeb Bush suspended his campaign."
   ]
  },
  {
   "cell_type": "code",
   "execution_count": 22,
   "metadata": {
    "collapsed": false
   },
   "outputs": [
    {
     "name": "stdout",
     "output_type": "stream",
     "text": [
      "[36.754552777777782, 18.970475, 15.923738888888888, 7.6103555555555547, 7.9593333333333316, nan, nan, nan, nan, nan, nan, nan, 12.781544444444435]\n"
     ]
    }
   ],
   "source": [
    "print(BushAfterAvgs1)"
   ]
  },
  {
   "cell_type": "markdown",
   "metadata": {},
   "source": [
    "Polling data sums up to 100."
   ]
  },
  {
   "cell_type": "code",
   "execution_count": 23,
   "metadata": {
    "collapsed": true
   },
   "outputs": [],
   "source": [
    "for p in range(len(PollingBeforeDrop.index)):\n",
    "    assert sum(PollingBeforeDrop.iloc[p].dropna()) == 100\n",
    "    \n",
    "for p in range(len(PollingAfterDrop.index)):\n",
    "    assert sum(PollingAfterDrop.iloc[p].dropna()) == 100"
   ]
  },
  {
   "cell_type": "markdown",
   "metadata": {},
   "source": [
    "Graph Jeb Bush's data."
   ]
  },
  {
   "cell_type": "code",
   "execution_count": 24,
   "metadata": {
    "collapsed": false
   },
   "outputs": [
    {
     "data": {
      "text/plain": [
       "<matplotlib.legend.Legend at 0x7f9e52f504a8>"
      ]
     },
     "execution_count": 24,
     "metadata": {},
     "output_type": "execute_result"
    },
    {
     "data": {
      "image/png": "[encoded data removed]",
      "text/plain": [
       "<matplotlib.figure.Figure at 0x7f9e52fd0828>"
      ]
     },
     "metadata": {},
     "output_type": "display_data"
    }
   ],
   "source": [
    "plt.figure(figsize=(20,10))\n",
    "\n",
    "plt.plot(BushPolls1.Trump)\n",
    "plt.plot(BushPolls1.Cruz)\n",
    "plt.plot(BushPolls1.Rubio)\n",
    "plt.plot(BushPolls1.Kasich)\n",
    "plt.plot(BushPolls1.Carson)\n",
    "plt.plot(BushPolls1.Bush)\n",
    "plt.plot(BushPolls1.Undecided)\n",
    "\n",
    "plt.axvline(candidates['date']['Bush'])\n",
    "\n",
    "plt.title(\"GOP Candidate Polling a Week Before/After Bush Dropped\", size=20)\n",
    "plt.xlabel(\"Date of Poll\", size=16)\n",
    "plt.ylabel(\"Polling Percentage\", size=16)\n",
    "\n",
    "# y limits are a little greater than needed to display the legend without blocking out data\n",
    "plt.ylim(0, 55)\n",
    "plt.legend(fontsize=14)"
   ]
  },
  {
   "cell_type": "markdown",
   "metadata": {},
   "source": [
    "## Write to File\n",
    "Write the DataFrames PollingBeforeDrop and PollingAfterDrop to two separte files to be analyzed in 05-Analysis.ipynb"
   ]
  },
  {
   "cell_type": "code",
   "execution_count": 25,
   "metadata": {
    "collapsed": true
   },
   "outputs": [],
   "source": [
    "PollingBeforeDrop.to_csv('PollingBeforeDrop.csv')\n",
    "PollingAfterDrop.to_csv('PollingAfterDrop.csv')"
   ]
  }
 ],
 "metadata": {
  "kernelspec": {
   "display_name": "Python 3",
   "language": "python",
   "name": "python3"
  },
  "language_info": {
   "codemirror_mode": {
    "name": "ipython",
    "version": 3
   },
   "file_extension": ".py",
   "mimetype": "text/x-python",
   "name": "python",
   "nbconvert_exporter": "python",
   "pygments_lexer": "ipython3",
   "version": "3.4.3"
  }
 },
 "nbformat": 4,
 "nbformat_minor": 0
}

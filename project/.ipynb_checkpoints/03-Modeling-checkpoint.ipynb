{
 "cells": [
  {
   "cell_type": "markdown",
   "metadata": {},
   "source": [
    "# Exploration\n",
    "A brief look into the data and how it is graphed as a whole. Plots cleaned data to explore any immediately noticeable trends. Bootstrapped the data with sampling from the existing data. Sampling data is averaged with the original data with sampling data being weighted at 1/3 of the average."
   ]
  },
  {
   "cell_type": "markdown",
   "metadata": {},
   "source": [
    "## Imports"
   ]
  },
  {
   "cell_type": "code",
   "execution_count": 1,
   "metadata": {
    "collapsed": false
   },
   "outputs": [
    {
     "ename": "ImportError",
     "evalue": "No module named 'hundred'",
     "output_type": "error",
     "traceback": [
      "\u001b[1;31m---------------------------------------------------------------------------\u001b[0m",
      "\u001b[1;31mImportError\u001b[0m                               Traceback (most recent call last)",
      "\u001b[1;32m<ipython-input-1-7a7d9cfbc785>\u001b[0m in \u001b[0;36m<module>\u001b[1;34m()\u001b[0m\n\u001b[0;32m      8\u001b[0m \u001b[1;32mimport\u001b[0m \u001b[0mos\u001b[0m\u001b[1;33m\u001b[0m\u001b[0m\n\u001b[0;32m      9\u001b[0m \u001b[1;33m\u001b[0m\u001b[0m\n\u001b[1;32m---> 10\u001b[1;33m \u001b[1;32mimport\u001b[0m \u001b[0mhundred\u001b[0m\u001b[1;33m\u001b[0m\u001b[0m\n\u001b[0m",
      "\u001b[1;31mImportError\u001b[0m: No module named 'hundred'"
     ]
    }
   ],
   "source": [
    "%matplotlib inline\n",
    "import matplotlib.pyplot as plt\n",
    "import seaborn as sns\n",
    "\n",
    "import datetime\n",
    "import numpy as np\n",
    "import pandas as pd\n",
    "import os\n",
    "\n",
    "import stats"
   ]
  },
  {
   "cell_type": "markdown",
   "metadata": {},
   "source": [
    "## Read Files Written in 02-DataCleaning"
   ]
  },
  {
   "cell_type": "code",
   "execution_count": null,
   "metadata": {
    "collapsed": false
   },
   "outputs": [],
   "source": [
    "polls = pd.read_csv('polls.csv')\n",
    "candidates = pd.read_csv('candidates.csv', index_col='name')"
   ]
  },
  {
   "cell_type": "markdown",
   "metadata": {},
   "source": [
    "Convert date from string to datetime."
   ]
  },
  {
   "cell_type": "code",
   "execution_count": null,
   "metadata": {
    "collapsed": false
   },
   "outputs": [],
   "source": [
    "polls.date = pd.Series(pd.DatetimeIndex(polls.date))\n",
    "polls.index = polls.date\n",
    "del polls['date']\n",
    "\n",
    "candidates.date = pd.to_datetime(candidates.date)"
   ]
  },
  {
   "cell_type": "markdown",
   "metadata": {},
   "source": [
    "## Graph\n",
    "Displays all data used at large."
   ]
  },
  {
   "cell_type": "code",
   "execution_count": null,
   "metadata": {
    "collapsed": false
   },
   "outputs": [],
   "source": [
    "def GraphAllPolls():\n",
    "    \"\"\"Graphs out all polling data\"\"\"\n",
    "    plt.figure(figsize=(20,10))\n",
    "\n",
    "    for p in polls:\n",
    "        plt.plot(polls[p])\n",
    "\n",
    "    plt.axvline(candidates['date']['Carson'], color='#c9c95b')\n",
    "    plt.axvline(candidates['date']['Bush'], color='#72bcd4')\n",
    "    # Christie and Fiorina dropped out on the same day. Offset Christie's line by several hours so both lines display\n",
    "    plt.axvline(candidates['date']['Christie'] + datetime.timedelta(hours=8), color='b') \n",
    "    plt.axvline(candidates['date']['Fiorina'], color='#66b266')\n",
    "    plt.axvline(candidates['date']['Gilmore'], color='#e54444')\n",
    "    plt.axvline(candidates['date']['Huckabee'], color='purple')\n",
    "    # Paul and Santorum dropped out on the same day. Offset Paul's line by several hours so both lines display\n",
    "    plt.axvline(candidates['date']['Paul'] + datetime.timedelta(hours=8), color='#c9c95b')\n",
    "    plt.axvline(candidates['date']['Santorum'], color='#72bcd4')\n",
    "\n",
    "    plt.title(\"GOP Candidate Polling\", size=20)\n",
    "    plt.xlabel(\"Date of Poll\", size=16)\n",
    "    plt.ylabel(\"Polling Percentage\", size=16)\n",
    "\n",
    "    # x and y limits are a little greater than needed to display the legend without blocking out data\n",
    "    plt.xlim('2016-01-03', '2016-03-22')\n",
    "    plt.ylim(0, 60)\n",
    "    plt.legend(fontsize=12)"
   ]
  },
  {
   "cell_type": "code",
   "execution_count": null,
   "metadata": {
    "collapsed": false
   },
   "outputs": [],
   "source": [
    "GraphAllPolls()"
   ]
  },
  {
   "cell_type": "markdown",
   "metadata": {},
   "source": [
    "## Sampling the Data\n",
    "Bootstrap data by sampling 10 and averaging it out. It is then averaged with the original data. This is a weighted average with the original data having 2/3 the weight and the bootstrapped data having 1/3 the weight."
   ]
  },
  {
   "cell_type": "code",
   "execution_count": null,
   "metadata": {
    "collapsed": false
   },
   "outputs": [],
   "source": [
    "def bootstrap(data, l=100):\n",
    "    \"\"\"Samples data l times and averages the sampled data with the original data. The original data is weighted twice\n",
    "    as much as the sampled data.\n",
    "    \n",
    "    Parameters\n",
    "    ----------\n",
    "    data : DataFrame\n",
    "        DataFrame holding all polling data.\n",
    "    l : int\n",
    "        Amount of times to sample data.\n",
    "    \"\"\"\n",
    "    \n",
    "    data = data.fillna(0)\n",
    "    \n",
    "    means = []\n",
    "    for i in range(l):\n",
    "        means.append(data.sample(n=len(polls.index), replace=False))\n",
    "        means[i].index = data.index\n",
    "    \n",
    "    avg = sum(means)\n",
    "    return (avg + data * l * 2)/(l * 3)"
   ]
  },
  {
   "cell_type": "markdown",
   "metadata": {},
   "source": [
    "Get a glimpse of the difference between the original polling data and the bootstrapped data."
   ]
  },
  {
   "cell_type": "code",
   "execution_count": null,
   "metadata": {
    "collapsed": false
   },
   "outputs": [],
   "source": [
    "bootPolls = bootstrap(polls)\n",
    "(polls - bootPolls).tail()"
   ]
  },
  {
   "cell_type": "code",
   "execution_count": null,
   "metadata": {
    "collapsed": false
   },
   "outputs": [],
   "source": [
    "polls = bootPolls"
   ]
  },
  {
   "cell_type": "markdown",
   "metadata": {},
   "source": [
    "If a candidate drops out and they still appear in the polls, add their polling percentage to 'Undecided' and make their value 'NaN'."
   ]
  },
  {
   "cell_type": "code",
   "execution_count": null,
   "metadata": {
    "collapsed": false
   },
   "outputs": [],
   "source": [
    "for c in candidates.index:\n",
    "    date = str(candidates.loc[c]['date'])\n",
    "    if date != 'NaT':\n",
    "        polls.loc[(polls[c].notnull()) & (polls.index > date), 'Undecided'] += \\\n",
    "            polls[(polls[c].notnull()) & (polls.index > date)][c]\n",
    "        polls.loc[(polls[c].notnull()) & (polls.index > date), c] = float('NaN')\n",
    "\n",
    "polls.tail()"
   ]
  },
  {
   "cell_type": "markdown",
   "metadata": {},
   "source": [
    "Confirm polls still sum up to 100."
   ]
  },
  {
   "cell_type": "code",
   "execution_count": null,
   "metadata": {
    "collapsed": false
   },
   "outputs": [],
   "source": [
    "hundred.Equals100(polls)\n",
    "for p in range(len(polls.index)):\n",
    "    assert sum(polls.iloc[p].dropna()) == 100"
   ]
  },
  {
   "cell_type": "code",
   "execution_count": null,
   "metadata": {
    "collapsed": false
   },
   "outputs": [],
   "source": [
    "GraphAllPolls()"
   ]
  },
  {
   "cell_type": "markdown",
   "metadata": {},
   "source": [
    "## Write Data to Files\n",
    "Write bootstrapped polling data to file."
   ]
  },
  {
   "cell_type": "code",
   "execution_count": null,
   "metadata": {
    "collapsed": true
   },
   "outputs": [],
   "source": [
    "polls.to_csv('bootPolls.csv')"
   ]
  }
 ],
 "metadata": {
  "kernelspec": {
   "display_name": "Python 3",
   "language": "python",
   "name": "python3"
  },
  "language_info": {
   "codemirror_mode": {
    "name": "ipython",
    "version": 3
   },
   "file_extension": ".py",
   "mimetype": "text/x-python",
   "name": "python",
   "nbconvert_exporter": "python",
   "pygments_lexer": "ipython3",
   "version": "3.4.3"
  }
 },
 "nbformat": 4,
 "nbformat_minor": 0
}

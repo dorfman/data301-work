{
 "cells": [
  {
   "cell_type": "markdown",
   "metadata": {},
   "source": [
    "# Modeling\n",
    "Data is separated on a candidate-basis to observe polls prior to and before a candidate suspends their campaign."
   ]
  },
  {
   "cell_type": "markdown",
   "metadata": {},
   "source": [
    "## Imports"
   ]
  },
  {
   "cell_type": "code",
   "execution_count": 1,
   "metadata": {
    "collapsed": true
   },
   "outputs": [],
   "source": [
    "%matplotlib inline\n",
    "import matplotlib.pyplot as plt\n",
    "import seaborn as sns\n",
    "\n",
    "import datetime\n",
    "import numpy as np\n",
    "import pandas as pd\n",
    "import os\n",
    "import math\n",
    "\n",
    "import stats"
   ]
  },
  {
   "cell_type": "markdown",
   "metadata": {},
   "source": [
    "## Read File Written in 02-DataCleaning"
   ]
  },
  {
   "cell_type": "code",
   "execution_count": 2,
   "metadata": {
    "collapsed": true
   },
   "outputs": [],
   "source": [
    "candidates = pd.read_csv('candidates.csv', index_col='name')"
   ]
  },
  {
   "cell_type": "markdown",
   "metadata": {},
   "source": [
    "## Read File Written in 03-Modeling"
   ]
  },
  {
   "cell_type": "code",
   "execution_count": 3,
   "metadata": {
    "collapsed": false
   },
   "outputs": [],
   "source": [
    "polls = pd.read_csv('bootPolls.csv')"
   ]
  },
  {
   "cell_type": "markdown",
   "metadata": {},
   "source": [
    "Convert date from string to datetime."
   ]
  },
  {
   "cell_type": "code",
   "execution_count": 4,
   "metadata": {
    "collapsed": false
   },
   "outputs": [],
   "source": [
    "polls.date = pd.Series(pd.DatetimeIndex(polls.date))\n",
    "polls.index = polls.date\n",
    "del polls['date']\n",
    "\n",
    "candidates.date = pd.to_datetime(candidates.date)\n",
    "\n",
    "stats.Equals100(polls)"
   ]
  },
  {
   "cell_type": "markdown",
   "metadata": {},
   "source": [
    "## Data Modeling Functions Defintions"
   ]
  },
  {
   "cell_type": "markdown",
   "metadata": {},
   "source": [
    "### Before Campaign Suspension"
   ]
  },
  {
   "cell_type": "markdown",
   "metadata": {},
   "source": [
    "Function to get average polling for a single active candidate before a candidate drops out."
   ]
  },
  {
   "cell_type": "code",
   "execution_count": 5,
   "metadata": {
    "collapsed": true
   },
   "outputs": [],
   "source": [
    "def getBeforeAverage(pollGroup, dropout, cand):\n",
    "    \"\"\"Returns average polling for a single candidate in the week prior to another candidate dropping out of the race.\n",
    "    \n",
    "    Parameters\n",
    "    ----------\n",
    "    pollGroup : DataFrame\n",
    "        A snippet of the main DataFrame used sliced to only include polls take a week prior to and a week \n",
    "        after the dropout suspends their campaign.\n",
    "    dropout : str\n",
    "        The name of the candidate that dropped out.\n",
    "    cand : str\n",
    "        The name of the candidate whose average polling is being calculated.\n",
    "    \"\"\"\n",
    "    \n",
    "    tot = 0                             # used to as numerator in calculating the mean\n",
    "    count = 0                           # regular iterator. Also used to as denominator in calculating the mean\n",
    "    iterDate = pollGroup.index[count]   # used to check where date is relative to the date of suspension\n",
    "    \n",
    "    while candidates['date'][dropout] - iterDate >= datetime.timedelta(days=0):\n",
    "        tot += pollGroup[cand][count]\n",
    "        count += 1\n",
    "        iterDate = pollGroup.index[count]\n",
    "\n",
    "    return tot/count"
   ]
  },
  {
   "cell_type": "markdown",
   "metadata": {},
   "source": [
    "Function to create list of average polling for all other candidates before a candidate drops out."
   ]
  },
  {
   "cell_type": "code",
   "execution_count": 6,
   "metadata": {
    "collapsed": false
   },
   "outputs": [],
   "source": [
    "def BeforeAverages(pollGroup, dropout):\n",
    "    \"\"\"Returns a list of average polling for all active candidate in the week prior to another\n",
    "       candidate dropping out of the race.\n",
    "    \n",
    "    Parameters\n",
    "    ----------\n",
    "    pollGroup : DataFrame\n",
    "        A snippet of the main DataFrame used sliced to only include polls take a week prior to and a week \n",
    "        after the dropout suspends their campaign.\n",
    "    dropout : str\n",
    "        The name of the candidate that dropped out.\n",
    "    \"\"\"\n",
    "    \n",
    "    averages = []\n",
    "    for c in pollGroup.columns:    # for each candidate\n",
    "        averages.append(getBeforeAverage(pollGroup, dropout, c))\n",
    "        \n",
    "    return averages"
   ]
  },
  {
   "cell_type": "markdown",
   "metadata": {},
   "source": [
    "### After Campaign Suspension"
   ]
  },
  {
   "cell_type": "markdown",
   "metadata": {},
   "source": [
    "Function to retrieve difference in days since date of suspension/dropout."
   ]
  },
  {
   "cell_type": "code",
   "execution_count": 7,
   "metadata": {
    "collapsed": true
   },
   "outputs": [],
   "source": [
    "def dateDiff(dropout, iterDate):\n",
    "    \"\"\"Returns difference in days between date iterator and the date a candidate dropped out of the race.\n",
    "    \n",
    "    Parameters\n",
    "    ----------\n",
    "    dropout : str\n",
    "        The name of the candidate that dropped out.\n",
    "    iterDate : str\n",
    "        The name of the candidate whose average polling is being calculated.\n",
    "    \"\"\"\n",
    "    return (iterDate - candidates['date'][dropout]).days"
   ]
  },
  {
   "cell_type": "markdown",
   "metadata": {},
   "source": [
    "Function to get weighted average polling for a single active candidate after a candidate drops out. Weight is determined by days after campaign suspension; the further away from the date of suspension, the more weight the polling data holds."
   ]
  },
  {
   "cell_type": "code",
   "execution_count": 8,
   "metadata": {
    "collapsed": false
   },
   "outputs": [],
   "source": [
    "def getAfterAverage(pollGroup, dropout, cand):\n",
    "    \"\"\"Returns average polling for a candidate in the week after another candidate drops out of the race.\n",
    "    \n",
    "    Parameters\n",
    "    ----------\n",
    "    pollGroup : DataFrame\n",
    "        A snippet of the main DataFrame used sliced to only include polls take a week prior to and a week \n",
    "        after the dropout suspends their campaign.\n",
    "    dropout : str\n",
    "        The name of the candidate that dropped out.\n",
    "    cand : str\n",
    "        The name of the candidate whose average polling is being calculated.\n",
    "    \"\"\"\n",
    "    \n",
    "    tot = 0                             # used to as numerator in calculating the mean\n",
    "    count = 0                           # regular iterator\n",
    "    dateCount = 0                       # used to as denomiator in calculating the mean\n",
    "    iterDate = pollGroup.index[count]   # used to check where date is relative to the date of suspension\n",
    "    \n",
    "    # Get the date iterator to the dropout date\n",
    "    while candidates['date'][dropout] - iterDate >= datetime.timedelta(days=0):\n",
    "        count += 1\n",
    "        iterDate = pollGroup.index[count]\n",
    "    \n",
    "    # Iterates through poll grouping conducted in the week after a candidate dropped out of the race\n",
    "    while count < len(pollGroup.index):\n",
    "        iterDate = pollGroup.index[count]\n",
    "        diff = dateDiff(dropout, iterDate)\n",
    "        candCount = pollGroup[cand][count]\n",
    "        \n",
    "        if math.isnan(candCount) == False:    # only uses numbers\n",
    "            tot += candCount * diff           # gives weight to polls conducted further away from the date of dropping\n",
    "            dateCount += diff\n",
    "        count += 1\n",
    "        \n",
    "    if dateCount == 0:    # can't divide by zero, so just return 0 if no polls conducted after date of dropping\n",
    "        return float('nan')\n",
    "    else:\n",
    "        return tot/dateCount"
   ]
  },
  {
   "cell_type": "markdown",
   "metadata": {},
   "source": [
    "Function to get weighted average polling for all other candidtates after a candidate drops out."
   ]
  },
  {
   "cell_type": "code",
   "execution_count": 9,
   "metadata": {
    "collapsed": true
   },
   "outputs": [],
   "source": [
    "def AfterAverages(pollGroup, dropout):\n",
    "    \"\"\"Returns a list of average polling for all active candidate in the week after another\n",
    "       candidate drops out of the race.\n",
    "    \n",
    "    Parameters\n",
    "    ----------\n",
    "    pollGroup : DataFrame\n",
    "        A snippet of the main DataFrame used sliced to only include polls take a week prior to and a week \n",
    "        after the dropout suspends their campaign.\n",
    "    dropout : str\n",
    "        The name of the candidate that dropped out.\n",
    "    \"\"\"\n",
    "    \n",
    "    averages = []\n",
    "    for c in pollGroup.columns:\n",
    "        averages.append(getAfterAverage(pollGroup, dropout, c))\n",
    "    return averages"
   ]
  },
  {
   "cell_type": "markdown",
   "metadata": {},
   "source": [
    "## Data Modeling Functions Apllications"
   ]
  },
  {
   "cell_type": "markdown",
   "metadata": {},
   "source": [
    "Create a list of dictionaries holding the name of each candidate that suspended their campaign and the DataFrames of polling data from a week before to a week after that candidate suspended their campaign."
   ]
  },
  {
   "cell_type": "code",
   "execution_count": 11,
   "metadata": {
    "collapsed": false
   },
   "outputs": [],
   "source": [
    "pollList = []\n",
    "\n",
    "pollIndex = [c for c in candidates.index if candidates.dropped[c] == True]\n",
    "for p in pollIndex:\n",
    "    pollList.append({'name': p, 'poll': stats.BiWeekPolling(polls, candidates, p)})"
   ]
  },
  {
   "cell_type": "markdown",
   "metadata": {},
   "source": [
    "Create a DataFrame indexed by the candidates that dropped out of the race during the primaries. Each column holds other candidates' average polling numbers in the week prior to a candidate's campaign suspension.\n",
    "\n",
    "Each cell contains the polling for a candidate in the column the week before the candidate in the row dropped out."
   ]
  },
  {
   "cell_type": "code",
   "execution_count": 12,
   "metadata": {
    "collapsed": false
   },
   "outputs": [
    {
     "data": {
      "text/html": [
       "<div>\n",
       "<table border=\"1\" class=\"dataframe\">\n",
       "  <thead>\n",
       "    <tr style=\"text-align: right;\">\n",
       "      <th></th>\n",
       "      <th>Trump</th>\n",
       "      <th>Cruz</th>\n",
       "      <th>Rubio</th>\n",
       "      <th>Kasich</th>\n",
       "      <th>Carson</th>\n",
       "      <th>Bush</th>\n",
       "      <th>Christie</th>\n",
       "      <th>Fiorina</th>\n",
       "      <th>Gilmore</th>\n",
       "      <th>Huckabee</th>\n",
       "      <th>Paul</th>\n",
       "      <th>Santorum</th>\n",
       "      <th>Undecided</th>\n",
       "    </tr>\n",
       "    <tr>\n",
       "      <th>name</th>\n",
       "      <th></th>\n",
       "      <th></th>\n",
       "      <th></th>\n",
       "      <th></th>\n",
       "      <th></th>\n",
       "      <th></th>\n",
       "      <th></th>\n",
       "      <th></th>\n",
       "      <th></th>\n",
       "      <th></th>\n",
       "      <th></th>\n",
       "      <th></th>\n",
       "      <th></th>\n",
       "    </tr>\n",
       "  </thead>\n",
       "  <tbody>\n",
       "    <tr>\n",
       "      <th>Carson</th>\n",
       "      <td>40.800500</td>\n",
       "      <td>17.495981</td>\n",
       "      <td>17.102741</td>\n",
       "      <td>6.876278</td>\n",
       "      <td>8.385556</td>\n",
       "      <td>NaN</td>\n",
       "      <td>NaN</td>\n",
       "      <td>NaN</td>\n",
       "      <td>NaN</td>\n",
       "      <td>NaN</td>\n",
       "      <td>NaN</td>\n",
       "      <td>NaN</td>\n",
       "      <td>9.338944</td>\n",
       "    </tr>\n",
       "    <tr>\n",
       "      <th>Bush</th>\n",
       "      <td>37.908111</td>\n",
       "      <td>18.944333</td>\n",
       "      <td>13.781222</td>\n",
       "      <td>5.516611</td>\n",
       "      <td>8.391333</td>\n",
       "      <td>5.116278</td>\n",
       "      <td>NaN</td>\n",
       "      <td>NaN</td>\n",
       "      <td>NaN</td>\n",
       "      <td>NaN</td>\n",
       "      <td>NaN</td>\n",
       "      <td>NaN</td>\n",
       "      <td>10.342111</td>\n",
       "    </tr>\n",
       "    <tr>\n",
       "      <th>Christie</th>\n",
       "      <td>35.474444</td>\n",
       "      <td>20.010741</td>\n",
       "      <td>15.635833</td>\n",
       "      <td>3.801296</td>\n",
       "      <td>7.897593</td>\n",
       "      <td>4.490926</td>\n",
       "      <td>2.583426</td>\n",
       "      <td>2.104815</td>\n",
       "      <td>0.032778</td>\n",
       "      <td>NaN</td>\n",
       "      <td>NaN</td>\n",
       "      <td>NaN</td>\n",
       "      <td>7.968148</td>\n",
       "    </tr>\n",
       "    <tr>\n",
       "      <th>Fiorina</th>\n",
       "      <td>35.474444</td>\n",
       "      <td>20.010741</td>\n",
       "      <td>15.635833</td>\n",
       "      <td>3.801296</td>\n",
       "      <td>7.897593</td>\n",
       "      <td>4.490926</td>\n",
       "      <td>2.583426</td>\n",
       "      <td>2.104815</td>\n",
       "      <td>0.032778</td>\n",
       "      <td>NaN</td>\n",
       "      <td>NaN</td>\n",
       "      <td>NaN</td>\n",
       "      <td>7.968148</td>\n",
       "    </tr>\n",
       "    <tr>\n",
       "      <th>Gilmore</th>\n",
       "      <td>38.380981</td>\n",
       "      <td>19.136796</td>\n",
       "      <td>13.422259</td>\n",
       "      <td>3.697426</td>\n",
       "      <td>8.916296</td>\n",
       "      <td>5.476870</td>\n",
       "      <td>NaN</td>\n",
       "      <td>NaN</td>\n",
       "      <td>0.026667</td>\n",
       "      <td>NaN</td>\n",
       "      <td>NaN</td>\n",
       "      <td>NaN</td>\n",
       "      <td>10.942704</td>\n",
       "    </tr>\n",
       "    <tr>\n",
       "      <th>Huckabee</th>\n",
       "      <td>37.730844</td>\n",
       "      <td>17.176822</td>\n",
       "      <td>12.261211</td>\n",
       "      <td>3.813078</td>\n",
       "      <td>7.589556</td>\n",
       "      <td>4.716744</td>\n",
       "      <td>2.044578</td>\n",
       "      <td>1.628444</td>\n",
       "      <td>0.160333</td>\n",
       "      <td>1.808667</td>\n",
       "      <td>2.770933</td>\n",
       "      <td>0.801722</td>\n",
       "      <td>7.497067</td>\n",
       "    </tr>\n",
       "    <tr>\n",
       "      <th>Paul</th>\n",
       "      <td>38.591681</td>\n",
       "      <td>17.304708</td>\n",
       "      <td>12.757833</td>\n",
       "      <td>3.902250</td>\n",
       "      <td>7.379444</td>\n",
       "      <td>4.503361</td>\n",
       "      <td>2.530444</td>\n",
       "      <td>1.712361</td>\n",
       "      <td>0.279583</td>\n",
       "      <td>NaN</td>\n",
       "      <td>2.774917</td>\n",
       "      <td>0.696597</td>\n",
       "      <td>7.566819</td>\n",
       "    </tr>\n",
       "    <tr>\n",
       "      <th>Santorum</th>\n",
       "      <td>38.591681</td>\n",
       "      <td>17.304708</td>\n",
       "      <td>12.757833</td>\n",
       "      <td>3.902250</td>\n",
       "      <td>7.379444</td>\n",
       "      <td>4.503361</td>\n",
       "      <td>2.530444</td>\n",
       "      <td>1.712361</td>\n",
       "      <td>0.279583</td>\n",
       "      <td>NaN</td>\n",
       "      <td>2.774917</td>\n",
       "      <td>0.696597</td>\n",
       "      <td>7.566819</td>\n",
       "    </tr>\n",
       "  </tbody>\n",
       "</table>\n",
       "</div>"
      ],
      "text/plain": [
       "              Trump       Cruz      Rubio    Kasich    Carson      Bush  \\\n",
       "name                                                                      \n",
       "Carson    40.800500  17.495981  17.102741  6.876278  8.385556       NaN   \n",
       "Bush      37.908111  18.944333  13.781222  5.516611  8.391333  5.116278   \n",
       "Christie  35.474444  20.010741  15.635833  3.801296  7.897593  4.490926   \n",
       "Fiorina   35.474444  20.010741  15.635833  3.801296  7.897593  4.490926   \n",
       "Gilmore   38.380981  19.136796  13.422259  3.697426  8.916296  5.476870   \n",
       "Huckabee  37.730844  17.176822  12.261211  3.813078  7.589556  4.716744   \n",
       "Paul      38.591681  17.304708  12.757833  3.902250  7.379444  4.503361   \n",
       "Santorum  38.591681  17.304708  12.757833  3.902250  7.379444  4.503361   \n",
       "\n",
       "          Christie   Fiorina   Gilmore  Huckabee      Paul  Santorum  \\\n",
       "name                                                                   \n",
       "Carson         NaN       NaN       NaN       NaN       NaN       NaN   \n",
       "Bush           NaN       NaN       NaN       NaN       NaN       NaN   \n",
       "Christie  2.583426  2.104815  0.032778       NaN       NaN       NaN   \n",
       "Fiorina   2.583426  2.104815  0.032778       NaN       NaN       NaN   \n",
       "Gilmore        NaN       NaN  0.026667       NaN       NaN       NaN   \n",
       "Huckabee  2.044578  1.628444  0.160333  1.808667  2.770933  0.801722   \n",
       "Paul      2.530444  1.712361  0.279583       NaN  2.774917  0.696597   \n",
       "Santorum  2.530444  1.712361  0.279583       NaN  2.774917  0.696597   \n",
       "\n",
       "          Undecided  \n",
       "name                 \n",
       "Carson     9.338944  \n",
       "Bush      10.342111  \n",
       "Christie   7.968148  \n",
       "Fiorina    7.968148  \n",
       "Gilmore   10.942704  \n",
       "Huckabee   7.497067  \n",
       "Paul       7.566819  \n",
       "Santorum   7.566819  "
      ]
     },
     "execution_count": 12,
     "metadata": {},
     "output_type": "execute_result"
    }
   ],
   "source": [
    "WeekBeforeDrop = []\n",
    "\n",
    "for p in range(len(pollList)):\n",
    "    WeekBeforeDrop.append(BeforeAverages(pollList[p]['poll'], pollList[p]['name']))\n",
    "    \n",
    "PollingBeforeDrop = pd.DataFrame(WeekBeforeDrop, columns=polls.columns, index=pollIndex)\n",
    "PollingBeforeDrop.index.names = ['name']\n",
    "stats.Equals100(PollingBeforeDrop)\n",
    "PollingBeforeDrop"
   ]
  },
  {
   "cell_type": "markdown",
   "metadata": {},
   "source": [
    "Create a DataFrame indexed by the candidates that dropped out of the race during the primaries. Each column holds other candidates' average polling numbers in the week after a candidate's campaign suspension.\n",
    "\n",
    "Each cell contains the polling for a candidate in the column the week after the candidate in the row dropped out."
   ]
  },
  {
   "cell_type": "code",
   "execution_count": 13,
   "metadata": {
    "collapsed": false
   },
   "outputs": [
    {
     "data": {
      "text/html": [
       "<div>\n",
       "<table border=\"1\" class=\"dataframe\">\n",
       "  <thead>\n",
       "    <tr style=\"text-align: right;\">\n",
       "      <th></th>\n",
       "      <th>Trump</th>\n",
       "      <th>Cruz</th>\n",
       "      <th>Rubio</th>\n",
       "      <th>Kasich</th>\n",
       "      <th>Carson</th>\n",
       "      <th>Bush</th>\n",
       "      <th>Christie</th>\n",
       "      <th>Fiorina</th>\n",
       "      <th>Gilmore</th>\n",
       "      <th>Huckabee</th>\n",
       "      <th>Paul</th>\n",
       "      <th>Santorum</th>\n",
       "      <th>Undecided</th>\n",
       "    </tr>\n",
       "    <tr>\n",
       "      <th>name</th>\n",
       "      <th></th>\n",
       "      <th></th>\n",
       "      <th></th>\n",
       "      <th></th>\n",
       "      <th></th>\n",
       "      <th></th>\n",
       "      <th></th>\n",
       "      <th></th>\n",
       "      <th></th>\n",
       "      <th></th>\n",
       "      <th></th>\n",
       "      <th></th>\n",
       "      <th></th>\n",
       "    </tr>\n",
       "  </thead>\n",
       "  <tbody>\n",
       "    <tr>\n",
       "      <th>Carson</th>\n",
       "      <td>43.887400</td>\n",
       "      <td>21.298674</td>\n",
       "      <td>12.443674</td>\n",
       "      <td>9.685652</td>\n",
       "      <td>NaN</td>\n",
       "      <td>NaN</td>\n",
       "      <td>NaN</td>\n",
       "      <td>NaN</td>\n",
       "      <td>NaN</td>\n",
       "      <td>NaN</td>\n",
       "      <td>NaN</td>\n",
       "      <td>NaN</td>\n",
       "      <td>12.684600</td>\n",
       "    </tr>\n",
       "    <tr>\n",
       "      <th>Bush</th>\n",
       "      <td>36.779764</td>\n",
       "      <td>18.856403</td>\n",
       "      <td>15.899097</td>\n",
       "      <td>7.581278</td>\n",
       "      <td>7.993028</td>\n",
       "      <td>NaN</td>\n",
       "      <td>NaN</td>\n",
       "      <td>NaN</td>\n",
       "      <td>NaN</td>\n",
       "      <td>NaN</td>\n",
       "      <td>NaN</td>\n",
       "      <td>NaN</td>\n",
       "      <td>12.890431</td>\n",
       "    </tr>\n",
       "    <tr>\n",
       "      <th>Christie</th>\n",
       "      <td>37.343959</td>\n",
       "      <td>18.660365</td>\n",
       "      <td>14.053348</td>\n",
       "      <td>6.690889</td>\n",
       "      <td>8.335242</td>\n",
       "      <td>4.605132</td>\n",
       "      <td>NaN</td>\n",
       "      <td>NaN</td>\n",
       "      <td>0.025000</td>\n",
       "      <td>NaN</td>\n",
       "      <td>NaN</td>\n",
       "      <td>NaN</td>\n",
       "      <td>10.286066</td>\n",
       "    </tr>\n",
       "    <tr>\n",
       "      <th>Fiorina</th>\n",
       "      <td>37.343959</td>\n",
       "      <td>18.660365</td>\n",
       "      <td>14.053348</td>\n",
       "      <td>6.690889</td>\n",
       "      <td>8.335242</td>\n",
       "      <td>4.605132</td>\n",
       "      <td>NaN</td>\n",
       "      <td>NaN</td>\n",
       "      <td>0.025000</td>\n",
       "      <td>NaN</td>\n",
       "      <td>NaN</td>\n",
       "      <td>NaN</td>\n",
       "      <td>10.286066</td>\n",
       "    </tr>\n",
       "    <tr>\n",
       "      <th>Gilmore</th>\n",
       "      <td>37.084425</td>\n",
       "      <td>18.743512</td>\n",
       "      <td>14.131349</td>\n",
       "      <td>6.806091</td>\n",
       "      <td>8.400952</td>\n",
       "      <td>4.518796</td>\n",
       "      <td>NaN</td>\n",
       "      <td>NaN</td>\n",
       "      <td>NaN</td>\n",
       "      <td>NaN</td>\n",
       "      <td>NaN</td>\n",
       "      <td>NaN</td>\n",
       "      <td>10.314874</td>\n",
       "    </tr>\n",
       "    <tr>\n",
       "      <th>Huckabee</th>\n",
       "      <td>35.529389</td>\n",
       "      <td>18.749955</td>\n",
       "      <td>15.871217</td>\n",
       "      <td>3.954182</td>\n",
       "      <td>7.521212</td>\n",
       "      <td>4.111202</td>\n",
       "      <td>2.639409</td>\n",
       "      <td>1.917424</td>\n",
       "      <td>0.098485</td>\n",
       "      <td>NaN</td>\n",
       "      <td>2.8895</td>\n",
       "      <td>0.364167</td>\n",
       "      <td>6.353859</td>\n",
       "    </tr>\n",
       "    <tr>\n",
       "      <th>Paul</th>\n",
       "      <td>38.510200</td>\n",
       "      <td>19.205633</td>\n",
       "      <td>13.269036</td>\n",
       "      <td>3.830969</td>\n",
       "      <td>8.943556</td>\n",
       "      <td>5.627664</td>\n",
       "      <td>2.597870</td>\n",
       "      <td>2.199259</td>\n",
       "      <td>0.025917</td>\n",
       "      <td>NaN</td>\n",
       "      <td>NaN</td>\n",
       "      <td>NaN</td>\n",
       "      <td>5.789895</td>\n",
       "    </tr>\n",
       "    <tr>\n",
       "      <th>Santorum</th>\n",
       "      <td>38.510200</td>\n",
       "      <td>19.205633</td>\n",
       "      <td>13.269036</td>\n",
       "      <td>3.830969</td>\n",
       "      <td>8.943556</td>\n",
       "      <td>5.627664</td>\n",
       "      <td>2.597870</td>\n",
       "      <td>2.199259</td>\n",
       "      <td>0.025917</td>\n",
       "      <td>NaN</td>\n",
       "      <td>NaN</td>\n",
       "      <td>NaN</td>\n",
       "      <td>5.789895</td>\n",
       "    </tr>\n",
       "  </tbody>\n",
       "</table>\n",
       "</div>"
      ],
      "text/plain": [
       "              Trump       Cruz      Rubio    Kasich    Carson      Bush  \\\n",
       "name                                                                      \n",
       "Carson    43.887400  21.298674  12.443674  9.685652       NaN       NaN   \n",
       "Bush      36.779764  18.856403  15.899097  7.581278  7.993028       NaN   \n",
       "Christie  37.343959  18.660365  14.053348  6.690889  8.335242  4.605132   \n",
       "Fiorina   37.343959  18.660365  14.053348  6.690889  8.335242  4.605132   \n",
       "Gilmore   37.084425  18.743512  14.131349  6.806091  8.400952  4.518796   \n",
       "Huckabee  35.529389  18.749955  15.871217  3.954182  7.521212  4.111202   \n",
       "Paul      38.510200  19.205633  13.269036  3.830969  8.943556  5.627664   \n",
       "Santorum  38.510200  19.205633  13.269036  3.830969  8.943556  5.627664   \n",
       "\n",
       "          Christie   Fiorina   Gilmore  Huckabee    Paul  Santorum  Undecided  \n",
       "name                                                                           \n",
       "Carson         NaN       NaN       NaN       NaN     NaN       NaN  12.684600  \n",
       "Bush           NaN       NaN       NaN       NaN     NaN       NaN  12.890431  \n",
       "Christie       NaN       NaN  0.025000       NaN     NaN       NaN  10.286066  \n",
       "Fiorina        NaN       NaN  0.025000       NaN     NaN       NaN  10.286066  \n",
       "Gilmore        NaN       NaN       NaN       NaN     NaN       NaN  10.314874  \n",
       "Huckabee  2.639409  1.917424  0.098485       NaN  2.8895  0.364167   6.353859  \n",
       "Paul      2.597870  2.199259  0.025917       NaN     NaN       NaN   5.789895  \n",
       "Santorum  2.597870  2.199259  0.025917       NaN     NaN       NaN   5.789895  "
      ]
     },
     "execution_count": 13,
     "metadata": {},
     "output_type": "execute_result"
    }
   ],
   "source": [
    "WeekAfterDrop = []\n",
    "\n",
    "for p in range(len(pollList)):\n",
    "    WeekAfterDrop.append(AfterAverages(pollList[p]['poll'], pollList[p]['name']))\n",
    "    \n",
    "PollingAfterDrop = pd.DataFrame(WeekAfterDrop, columns=polls.columns, index=pollIndex)\n",
    "PollingAfterDrop.index.names = ['name']\n",
    "stats.Equals100(PollingAfterDrop)\n",
    "PollingAfterDrop"
   ]
  },
  {
   "cell_type": "markdown",
   "metadata": {},
   "source": [
    "## Testing\n",
    "Confirm DataFrame snippets are working as expected. Test on Jeb Bush."
   ]
  },
  {
   "cell_type": "markdown",
   "metadata": {},
   "source": [
    "Display date of drop."
   ]
  },
  {
   "cell_type": "code",
   "execution_count": 14,
   "metadata": {
    "collapsed": false
   },
   "outputs": [
    {
     "data": {
      "text/plain": [
       "Timestamp('2016-02-16 00:00:00')"
      ]
     },
     "execution_count": 14,
     "metadata": {},
     "output_type": "execute_result"
    }
   ],
   "source": [
    "candidates['date']['Bush']"
   ]
  },
  {
   "cell_type": "markdown",
   "metadata": {},
   "source": [
    "Confirm data is saved properly after being pushed to a list of dictionaries."
   ]
  },
  {
   "cell_type": "code",
   "execution_count": 15,
   "metadata": {
    "collapsed": false
   },
   "outputs": [],
   "source": [
    "BushPolls1 = polls[(polls.index > candidates['date']['Bush'] - datetime.timedelta(days=7)) \\\n",
    "     & (polls.index < candidates['date']['Bush'] + datetime.timedelta(days=9))]\n",
    "BushPoll2 = pollList[1]['poll']\n",
    "assert all(BushPolls1) == all(BushPoll2)"
   ]
  },
  {
   "cell_type": "markdown",
   "metadata": {},
   "source": [
    "Display polling for candidates a week before to a week after Jeb Bush dropped."
   ]
  },
  {
   "cell_type": "code",
   "execution_count": 16,
   "metadata": {
    "collapsed": false
   },
   "outputs": [
    {
     "data": {
      "text/html": [
       "<div>\n",
       "<table border=\"1\" class=\"dataframe\">\n",
       "  <thead>\n",
       "    <tr style=\"text-align: right;\">\n",
       "      <th></th>\n",
       "      <th>Trump</th>\n",
       "      <th>Cruz</th>\n",
       "      <th>Rubio</th>\n",
       "      <th>Kasich</th>\n",
       "      <th>Carson</th>\n",
       "      <th>Bush</th>\n",
       "      <th>Christie</th>\n",
       "      <th>Fiorina</th>\n",
       "      <th>Gilmore</th>\n",
       "      <th>Huckabee</th>\n",
       "      <th>Paul</th>\n",
       "      <th>Santorum</th>\n",
       "      <th>Undecided</th>\n",
       "    </tr>\n",
       "    <tr>\n",
       "      <th>date</th>\n",
       "      <th></th>\n",
       "      <th></th>\n",
       "      <th></th>\n",
       "      <th></th>\n",
       "      <th></th>\n",
       "      <th></th>\n",
       "      <th></th>\n",
       "      <th></th>\n",
       "      <th></th>\n",
       "      <th></th>\n",
       "      <th></th>\n",
       "      <th></th>\n",
       "      <th></th>\n",
       "    </tr>\n",
       "  </thead>\n",
       "  <tbody>\n",
       "    <tr>\n",
       "      <th>2016-02-10</th>\n",
       "      <td>36.078944</td>\n",
       "      <td>21.498278</td>\n",
       "      <td>13.833000</td>\n",
       "      <td>3.057056</td>\n",
       "      <td>9.707778</td>\n",
       "      <td>5.851500</td>\n",
       "      <td>2.642056</td>\n",
       "      <td>2.490556</td>\n",
       "      <td>0.018333</td>\n",
       "      <td>NaN</td>\n",
       "      <td>NaN</td>\n",
       "      <td>NaN</td>\n",
       "      <td>4.822500</td>\n",
       "    </tr>\n",
       "    <tr>\n",
       "      <th>2016-02-11</th>\n",
       "      <td>42.023000</td>\n",
       "      <td>17.470889</td>\n",
       "      <td>11.234778</td>\n",
       "      <td>4.553500</td>\n",
       "      <td>9.161667</td>\n",
       "      <td>6.446833</td>\n",
       "      <td>NaN</td>\n",
       "      <td>NaN</td>\n",
       "      <td>0.025000</td>\n",
       "      <td>NaN</td>\n",
       "      <td>NaN</td>\n",
       "      <td>NaN</td>\n",
       "      <td>9.084333</td>\n",
       "    </tr>\n",
       "    <tr>\n",
       "      <th>2016-02-14</th>\n",
       "      <td>37.974056</td>\n",
       "      <td>18.133722</td>\n",
       "      <td>13.886778</td>\n",
       "      <td>6.430889</td>\n",
       "      <td>7.871111</td>\n",
       "      <td>3.819222</td>\n",
       "      <td>NaN</td>\n",
       "      <td>NaN</td>\n",
       "      <td>NaN</td>\n",
       "      <td>NaN</td>\n",
       "      <td>NaN</td>\n",
       "      <td>NaN</td>\n",
       "      <td>11.884222</td>\n",
       "    </tr>\n",
       "    <tr>\n",
       "      <th>2016-02-15</th>\n",
       "      <td>37.696611</td>\n",
       "      <td>18.841722</td>\n",
       "      <td>15.932556</td>\n",
       "      <td>7.009611</td>\n",
       "      <td>5.896111</td>\n",
       "      <td>4.824611</td>\n",
       "      <td>NaN</td>\n",
       "      <td>NaN</td>\n",
       "      <td>NaN</td>\n",
       "      <td>NaN</td>\n",
       "      <td>NaN</td>\n",
       "      <td>NaN</td>\n",
       "      <td>9.798778</td>\n",
       "    </tr>\n",
       "    <tr>\n",
       "      <th>2016-02-16</th>\n",
       "      <td>35.767944</td>\n",
       "      <td>18.777056</td>\n",
       "      <td>14.019000</td>\n",
       "      <td>6.532000</td>\n",
       "      <td>9.320000</td>\n",
       "      <td>4.639222</td>\n",
       "      <td>NaN</td>\n",
       "      <td>NaN</td>\n",
       "      <td>NaN</td>\n",
       "      <td>NaN</td>\n",
       "      <td>NaN</td>\n",
       "      <td>NaN</td>\n",
       "      <td>10.944778</td>\n",
       "    </tr>\n",
       "    <tr>\n",
       "      <th>2016-02-17</th>\n",
       "      <td>37.414444</td>\n",
       "      <td>18.901667</td>\n",
       "      <td>13.238333</td>\n",
       "      <td>7.053333</td>\n",
       "      <td>9.380556</td>\n",
       "      <td>NaN</td>\n",
       "      <td>NaN</td>\n",
       "      <td>NaN</td>\n",
       "      <td>NaN</td>\n",
       "      <td>NaN</td>\n",
       "      <td>NaN</td>\n",
       "      <td>NaN</td>\n",
       "      <td>14.011667</td>\n",
       "    </tr>\n",
       "    <tr>\n",
       "      <th>2016-02-21</th>\n",
       "      <td>36.752944</td>\n",
       "      <td>18.577611</td>\n",
       "      <td>15.002611</td>\n",
       "      <td>6.840889</td>\n",
       "      <td>7.900000</td>\n",
       "      <td>NaN</td>\n",
       "      <td>NaN</td>\n",
       "      <td>NaN</td>\n",
       "      <td>NaN</td>\n",
       "      <td>NaN</td>\n",
       "      <td>NaN</td>\n",
       "      <td>NaN</td>\n",
       "      <td>14.925944</td>\n",
       "    </tr>\n",
       "    <tr>\n",
       "      <th>2016-02-22</th>\n",
       "      <td>36.548611</td>\n",
       "      <td>17.418611</td>\n",
       "      <td>18.552500</td>\n",
       "      <td>9.636111</td>\n",
       "      <td>7.874444</td>\n",
       "      <td>NaN</td>\n",
       "      <td>NaN</td>\n",
       "      <td>NaN</td>\n",
       "      <td>NaN</td>\n",
       "      <td>NaN</td>\n",
       "      <td>NaN</td>\n",
       "      <td>NaN</td>\n",
       "      <td>9.969722</td>\n",
       "    </tr>\n",
       "    <tr>\n",
       "      <th>2016-02-24</th>\n",
       "      <td>36.890556</td>\n",
       "      <td>20.103333</td>\n",
       "      <td>14.801944</td>\n",
       "      <td>6.568889</td>\n",
       "      <td>7.966667</td>\n",
       "      <td>NaN</td>\n",
       "      <td>NaN</td>\n",
       "      <td>NaN</td>\n",
       "      <td>NaN</td>\n",
       "      <td>NaN</td>\n",
       "      <td>NaN</td>\n",
       "      <td>NaN</td>\n",
       "      <td>13.668611</td>\n",
       "    </tr>\n",
       "  </tbody>\n",
       "</table>\n",
       "</div>"
      ],
      "text/plain": [
       "                Trump       Cruz      Rubio    Kasich    Carson      Bush  \\\n",
       "date                                                                        \n",
       "2016-02-10  36.078944  21.498278  13.833000  3.057056  9.707778  5.851500   \n",
       "2016-02-11  42.023000  17.470889  11.234778  4.553500  9.161667  6.446833   \n",
       "2016-02-14  37.974056  18.133722  13.886778  6.430889  7.871111  3.819222   \n",
       "2016-02-15  37.696611  18.841722  15.932556  7.009611  5.896111  4.824611   \n",
       "2016-02-16  35.767944  18.777056  14.019000  6.532000  9.320000  4.639222   \n",
       "2016-02-17  37.414444  18.901667  13.238333  7.053333  9.380556       NaN   \n",
       "2016-02-21  36.752944  18.577611  15.002611  6.840889  7.900000       NaN   \n",
       "2016-02-22  36.548611  17.418611  18.552500  9.636111  7.874444       NaN   \n",
       "2016-02-24  36.890556  20.103333  14.801944  6.568889  7.966667       NaN   \n",
       "\n",
       "            Christie   Fiorina   Gilmore  Huckabee  Paul  Santorum  Undecided  \n",
       "date                                                                           \n",
       "2016-02-10  2.642056  2.490556  0.018333       NaN   NaN       NaN   4.822500  \n",
       "2016-02-11       NaN       NaN  0.025000       NaN   NaN       NaN   9.084333  \n",
       "2016-02-14       NaN       NaN       NaN       NaN   NaN       NaN  11.884222  \n",
       "2016-02-15       NaN       NaN       NaN       NaN   NaN       NaN   9.798778  \n",
       "2016-02-16       NaN       NaN       NaN       NaN   NaN       NaN  10.944778  \n",
       "2016-02-17       NaN       NaN       NaN       NaN   NaN       NaN  14.011667  \n",
       "2016-02-21       NaN       NaN       NaN       NaN   NaN       NaN  14.925944  \n",
       "2016-02-22       NaN       NaN       NaN       NaN   NaN       NaN   9.969722  \n",
       "2016-02-24       NaN       NaN       NaN       NaN   NaN       NaN  13.668611  "
      ]
     },
     "execution_count": 16,
     "metadata": {},
     "output_type": "execute_result"
    }
   ],
   "source": [
    "BushPolls1"
   ]
  },
  {
   "cell_type": "markdown",
   "metadata": {},
   "source": [
    "Confirm polling data sums up to 100 for each poll"
   ]
  },
  {
   "cell_type": "code",
   "execution_count": 17,
   "metadata": {
    "collapsed": false
   },
   "outputs": [
    {
     "data": {
      "text/plain": [
       "100.0"
      ]
     },
     "execution_count": 17,
     "metadata": {},
     "output_type": "execute_result"
    }
   ],
   "source": [
    "sum(BushPolls1.loc['2016-02-22'].dropna())"
   ]
  },
  {
   "cell_type": "code",
   "execution_count": 18,
   "metadata": {
    "collapsed": false
   },
   "outputs": [],
   "source": [
    "assert sum(BushPolls1.loc['2016-02-10'].dropna()) == 100\n",
    "assert sum(BushPolls1.loc['2016-02-22'].dropna()) == 100"
   ]
  },
  {
   "cell_type": "markdown",
   "metadata": {},
   "source": [
    "Confirm polling before drop is accurate."
   ]
  },
  {
   "cell_type": "code",
   "execution_count": 19,
   "metadata": {
    "collapsed": false
   },
   "outputs": [],
   "source": [
    "BushBeforeAvgs1 = BeforeAverages(BushPolls1, 'Bush')\n",
    "BushBeforeAvgs2 = PollingBeforeDrop.loc['Bush']\n",
    "assert all(BushBeforeAvgs1) == all(list(BushBeforeAvgs2))\n",
    "assert sum(BushBeforeAvgs2.dropna()) == 100"
   ]
  },
  {
   "cell_type": "markdown",
   "metadata": {},
   "source": [
    "Display candidates' average polling data in the week before Jeb Bush suspended his campaign."
   ]
  },
  {
   "cell_type": "code",
   "execution_count": 20,
   "metadata": {
    "collapsed": false
   },
   "outputs": [
    {
     "name": "stdout",
     "output_type": "stream",
     "text": [
      "[37.908111111111111, 18.944333333333333, 13.781222222222222, 5.5166111111111116, 8.3913333333333338, 5.1162777777777775, nan, nan, nan, nan, nan, nan, 9.3069222222222212]\n"
     ]
    }
   ],
   "source": [
    "print(BushBeforeAvgs1)"
   ]
  },
  {
   "cell_type": "markdown",
   "metadata": {},
   "source": [
    "Confrim polling after drop is accurate."
   ]
  },
  {
   "cell_type": "code",
   "execution_count": 21,
   "metadata": {
    "collapsed": true
   },
   "outputs": [],
   "source": [
    "BushAfterAvgs1 = AfterAverages(BushPolls1, 'Bush')\n",
    "BushAfterAvgs2 = PollingAfterDrop.loc['Bush']\n",
    "assert all(BushAfterAvgs1) == all(list(BushAfterAvgs2))"
   ]
  },
  {
   "cell_type": "markdown",
   "metadata": {},
   "source": [
    "Display candidates' average polling data in the week after Jeb Bush suspended his campaign."
   ]
  },
  {
   "cell_type": "code",
   "execution_count": 22,
   "metadata": {
    "collapsed": false
   },
   "outputs": [
    {
     "name": "stdout",
     "output_type": "stream",
     "text": [
      "[36.779763888888887, 18.856402777777777, 15.899097222222224, 7.5812777777777764, 7.9930277777777787, nan, nan, nan, nan, nan, nan, nan, 12.890430555555557]\n"
     ]
    }
   ],
   "source": [
    "print(BushAfterAvgs1)"
   ]
  },
  {
   "cell_type": "markdown",
   "metadata": {},
   "source": [
    "Polling data sums up to 100."
   ]
  },
  {
   "cell_type": "code",
   "execution_count": 23,
   "metadata": {
    "collapsed": true
   },
   "outputs": [],
   "source": [
    "for p in range(len(PollingBeforeDrop.index)):\n",
    "    assert sum(PollingBeforeDrop.iloc[p].dropna()) == 100\n",
    "    \n",
    "for p in range(len(PollingAfterDrop.index)):\n",
    "    assert sum(PollingAfterDrop.iloc[p].dropna()) == 100"
   ]
  },
  {
   "cell_type": "markdown",
   "metadata": {},
   "source": [
    "Graph Jeb Bush's data."
   ]
  },
  {
   "cell_type": "code",
   "execution_count": 24,
   "metadata": {
    "collapsed": false
   },
   "outputs": [
    {
     "data": {
      "text/plain": [
       "<matplotlib.legend.Legend at 0x7f98234fa898>"
      ]
     },
     "execution_count": 24,
     "metadata": {},
     "output_type": "execute_result"
    },
    {
     "data": {
      "image/png": "[encoded data removed]",
      "text/plain": [
       "<matplotlib.figure.Figure at 0x7f98235c35f8>"
      ]
     },
     "metadata": {},
     "output_type": "display_data"
    }
   ],
   "source": [
    "plt.figure(figsize=(20,10))\n",
    "\n",
    "plt.plot(BushPolls1.Trump)\n",
    "plt.plot(BushPolls1.Cruz)\n",
    "plt.plot(BushPolls1.Rubio)\n",
    "plt.plot(BushPolls1.Kasich)\n",
    "plt.plot(BushPolls1.Carson)\n",
    "plt.plot(BushPolls1.Bush)\n",
    "plt.plot(BushPolls1.Undecided)\n",
    "\n",
    "plt.axvline(candidates['date']['Bush'])\n",
    "\n",
    "plt.title(\"GOP Candidate Polling a Week Before/After Bush Dropped\", size=20)\n",
    "plt.xlabel(\"Date of Poll\", size=16)\n",
    "plt.ylabel(\"Polling Percentage\", size=16)\n",
    "\n",
    "# y limits are a little greater than needed to display the legend without blocking out data\n",
    "plt.ylim(0, 55)\n",
    "plt.legend(fontsize=14)"
   ]
  },
  {
   "cell_type": "markdown",
   "metadata": {},
   "source": [
    "## Write to File\n",
    "Write the DataFrames PollingBeforeDrop and PollingAfterDrop to two separte files to be analyzed in 05-Analysis.ipynb"
   ]
  },
  {
   "cell_type": "code",
   "execution_count": 25,
   "metadata": {
    "collapsed": true
   },
   "outputs": [],
   "source": [
    "PollingBeforeDrop.to_csv('PollingBeforeDrop.csv')\n",
    "PollingAfterDrop.to_csv('PollingAfterDrop.csv')"
   ]
  }
 ],
 "metadata": {
  "kernelspec": {
   "display_name": "Python 3",
   "language": "python",
   "name": "python3"
  },
  "language_info": {
   "codemirror_mode": {
    "name": "ipython",
    "version": 3
   },
   "file_extension": ".py",
   "mimetype": "text/x-python",
   "name": "python",
   "nbconvert_exporter": "python",
   "pygments_lexer": "ipython3",
   "version": "3.4.3"
  }
 },
 "nbformat": 4,
 "nbformat_minor": 0
}

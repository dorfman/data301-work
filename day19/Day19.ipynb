{
 "cells": [
  {
   "cell_type": "markdown",
   "metadata": {},
   "source": [
    "# Day 19\n",
    "\n",
    "* Introduction to Data Science (Data 301)\n",
    "* Cal Poly, Winter 2016\n",
    "* Brian E. Granger\n",
    "* Office hours: W+F 3-5pm, **26-110L**"
   ]
  },
  {
   "cell_type": "markdown",
   "metadata": {},
   "source": [
    "## Announcements"
   ]
  },
  {
   "cell_type": "markdown",
   "metadata": {},
   "source": [
    "* **Please fill out course evaluations https://sail.calpoly.edu/ by this Friday**\n",
    "* Put all project notebooks in the `project` folder and run the following to turn in:\n",
    "  - `nbgrader submit --course data301a project`\n",
    "* Graded: 1, 2, 3, 4, 5, 7\n",
    "* Being graded: 6, 8, 9, 10\n",
    "* You can now put data in `/data`:\n",
    "\n",
    "       cd /data\n",
    "       mkdir ellisonbg  # use your github username here\n",
    "\n",
    "* Use `wget` to download data into your directory.\n",
    "* Email about installation of additional Python packages\n",
    "* All homework solutions are posted."
   ]
  },
  {
   "cell_type": "markdown",
   "metadata": {},
   "source": [
    "## Homework solutions\n",
    "\n",
    "https://data301a.calpolydatascience.org/public_html/ellisonbg/"
   ]
  },
  {
   "cell_type": "markdown",
   "metadata": {},
   "source": [
    "## In class\n",
    "\n",
    "* Grab the materials for the day:\n",
    "  - `nbgrader fetch --course data301a day19`\n",
    "* Regrading requests\n",
    "  - Please feel free to submit emails with written requests for regrade homework problems.\n",
    "* New Material:\n",
    "  - Machine Learning\n",
    "  - Project"
   ]
  },
  {
   "cell_type": "markdown",
   "metadata": {},
   "source": [
    "## Out of class\n",
    "\n",
    "* Work on your project.\n",
    "* Read Chapter 6, Machine Learning."
   ]
  }
 ],
 "metadata": {
  "kernelspec": {
   "display_name": "Python 3",
   "language": "python",
   "name": "python3"
  },
  "language_info": {
   "codemirror_mode": {
    "name": "ipython",
    "version": 3
   },
   "file_extension": ".py",
   "mimetype": "text/x-python",
   "name": "python",
   "nbconvert_exporter": "python",
   "pygments_lexer": "ipython3",
   "version": "3.4.3"
  }
 },
 "nbformat": 4,
 "nbformat_minor": 0
}

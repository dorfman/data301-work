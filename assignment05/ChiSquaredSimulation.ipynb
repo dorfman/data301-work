{
 "cells": [
  {
   "cell_type": "markdown",
   "metadata": {},
   "source": [
    "# Simulating the Chi-Squared Distribution"
   ]
  },
  {
   "cell_type": "markdown",
   "metadata": {},
   "source": [
    "In this notebook, you will simulate the [chi-squared](https://en.wikipedia.org/wiki/Chi-squared_distribution) distribution $\\chi^2_k$, where $k$ is an integer that is called the *degrees of freedom*. For this simulation, **do not** use `numpy.random.chisquare`; you will write you own function that generates $\\chi^2_k$ random variates.\n",
    "\n",
    "This distribution is defined in terms of the standard ($\\mu=0.0$, $\\sigma=1.0$) normal distribution:\n",
    "\n",
    "$$Z \\sim N(0.0,1.0) $$\n",
    "\n",
    "$$ X \\sim \\sum_{i=1}^{k} Z_i^2 $$"
   ]
  },
  {
   "cell_type": "markdown",
   "metadata": {},
   "source": [
    "## Imports"
   ]
  },
  {
   "cell_type": "code",
   "execution_count": 7,
   "metadata": {
    "collapsed": true
   },
   "outputs": [],
   "source": [
    "import numpy as np\n",
    "%matplotlib inline\n",
    "from matplotlib import pyplot as plt\n",
    "import seaborn as sns"
   ]
  },
  {
   "cell_type": "code",
   "execution_count": 8,
   "metadata": {
    "collapsed": true
   },
   "outputs": [],
   "source": [
    "from ipywidgets import interact, fixed"
   ]
  },
  {
   "cell_type": "markdown",
   "metadata": {},
   "source": [
    "## Simulating chi-squared"
   ]
  },
  {
   "cell_type": "markdown",
   "metadata": {},
   "source": [
    "Write a function, `chi_squared`, that returns random numbers drawn from the $\\chi^2_k$ distribution with degree of freedom $k$. In doing this, first draw random numbers from the standard normal distribution and then use those to generate the chi-squared random variates."
   ]
  },
  {
   "cell_type": "code",
   "execution_count": 48,
   "metadata": {
    "collapsed": true,
    "deletable": false,
    "nbgrader": {
     "checksum": "4e59874e2956dc54a9e745ea26c300af",
     "grade": false,
     "grade_id": "chisquareda",
     "locked": false,
     "solution": true
    }
   },
   "outputs": [],
   "source": [
    "def chi_squared(k, size=1):\n",
    "    \"\"\"Return random numbers drawn from the chi-squared distribution.\n",
    "    \n",
    "    Parameters\n",
    "    ----------\n",
    "    k: int\n",
    "        The degrees of freedom of the distribution.\n",
    "    size: int\n",
    "        The number of random numbers to return as an array.\n",
    "    \"\"\"\n",
    "    # YOUR CODE HERE\n",
    "#     return (list(map(lambda x: x ** 2, np.random.normal(0, k+1, size)))\n",
    "    chi = []\n",
    "    for j in range(size):\n",
    "        chi.append(sum(list(map(lambda x: x ** 2, np.random.normal(0, 1, k)))))\n",
    "    return chi"
   ]
  },
  {
   "cell_type": "markdown",
   "metadata": {},
   "source": [
    "To test your distribution, draw 100 chi-squared random numbers for $k=7$ and print the mean and variance of the data and compare that with the expected mean and variance for $k=7$:"
   ]
  },
  {
   "cell_type": "code",
   "execution_count": 49,
   "metadata": {
    "collapsed": false,
    "deletable": false,
    "nbgrader": {
     "checksum": "f04651e35b55cf9a4e0d276656152690",
     "grade": true,
     "grade_id": "chisquaredb",
     "locked": false,
     "points": 4,
     "solution": true
    }
   },
   "outputs": [
    {
     "name": "stdout",
     "output_type": "stream",
     "text": [
      "[9.9524967679740453, 3.8181234170484259, 10.092005101577326, 5.8377035624387696, 18.887258086161079, 6.8258166561674853, 6.408993056455552, 3.2958475663607785, 7.8266164548798116, 6.5299882791435451, 4.1677802809399278, 1.5204812381683144, 5.1796188293032381, 3.4376061414126551, 2.9234204559624382, 5.7424022029939108, 5.6493723470431281, 8.1410774829173089, 7.485311954804291, 5.2304917612615691, 3.9298814910887105, 4.5985469771364151, 9.7683878346697774, 7.9136576437388912, 4.9400645345008449, 11.195876681415156, 10.658580383360539, 4.7219503421075713, 6.2435197395037498, 4.9957190506522497, 9.8099624493974176, 5.1443381174383713, 2.3463723247470694, 4.395680626150364, 15.363933382549053, 11.908650007130092, 2.8379141235898904, 1.856047103067481, 11.044006949697675, 5.938540551387967, 2.3438438443343776, 5.0224286821777104, 8.4101769472309158, 5.4502613841953194, 2.0931398962674086, 10.001219507502615, 5.7406780826761441, 4.5481423085891555, 3.0610014945845947, 1.3372964347508458, 2.089884007671583, 8.3970437224248844, 3.336309348869309, 8.7594736581742776, 4.8025250603728118, 7.2726915219277224, 7.8828926729201969, 18.260191980954374, 2.3070098289337158, 8.4900736276397684, 7.8659663754581333, 10.810686062400933, 4.1846686822634256, 7.3114746714037153, 2.0353153821457148, 9.4702936342604005, 3.5113577532654383, 5.5252047859021483, 4.4852184636153325, 8.14528095860374, 2.397577328597885, 5.3139690205440715, 5.8443274714756814, 6.5553051896274201, 2.9136406154389953, 3.7075128101281019, 7.683047913315046, 3.6865582541570863, 6.1813622098437522, 6.9616326086106746, 15.041666123594807, 10.380148354615242, 4.7568296722059884, 5.2998339707872448, 10.269500850428186, 3.449373747364993, 7.7820773552278766, 6.8678819067326753, 7.6030357975213514, 5.7720034337234711, 4.078760995650347, 10.861277013950927, 4.7611003181876308, 12.844953782359802, 3.1175668329394242, 10.159787856345602, 4.6861173039181621, 4.7468336666737363, 4.7274338434277912, 6.8044615418214551]\n"
     ]
    }
   ],
   "source": [
    "# YOUR CODE HERE\n",
    "c =chi_squared(7,100)\n",
    "print(c)\n",
    "# c = np.random.chisquare(7,100)"
   ]
  },
  {
   "cell_type": "markdown",
   "metadata": {},
   "source": [
    "To visualize the $\\chi^2_k$ distribution, write a function, `plot_chi_squared`, that makes an appropriately labeled `distplot` using Seaborn."
   ]
  },
  {
   "cell_type": "code",
   "execution_count": null,
   "metadata": {
    "collapsed": true,
    "deletable": false,
    "nbgrader": {
     "checksum": "f40e2a72dbe95cacd09e13b71396ba18",
     "grade": false,
     "grade_id": "chisquaredc",
     "locked": false,
     "solution": true
    }
   },
   "outputs": [],
   "source": [
    "def plot_chi_squared(k):\n",
    "    \"\"\"Plot the chi-squared distribution as a distplot with 300 points.\"\"\"\n",
    "    # YOUR CODE HERE\n",
    "    sns.distplot(k, bins=range(50));\n",
    "    plt.xlabel(\"X\")\n",
    "    plt.ylabel(\"Fk(X)\")"
   ]
  },
  {
   "cell_type": "code",
   "execution_count": 38,
   "metadata": {
    "collapsed": false,
    "deletable": false,
    "nbgrader": {
     "checksum": "becb20d0f8a4ef9b8dcdd6f3fe4376b0",
     "grade": true,
     "grade_id": "chisquaredd",
     "locked": false,
     "points": 2,
     "solution": true
    }
   },
   "outputs": [
    {
     "data": {
      "image/png": "[encoded data removed]",
      "text/plain": [
       "<matplotlib.figure.Figure at 0x7f3c9532acf8>"
      ]
     },
     "metadata": {},
     "output_type": "display_data"
    }
   ],
   "source": [
    "# YOUR CODE HERE\n",
    "plot_chi_squared(c)"
   ]
  },
  {
   "cell_type": "markdown",
   "metadata": {},
   "source": [
    "Use `interact` to explore the `plot_chi_squared` function interactively with $k=[0,10]$."
   ]
  },
  {
   "cell_type": "code",
   "execution_count": 63,
   "metadata": {
    "collapsed": false,
    "deletable": false,
    "nbgrader": {
     "checksum": "9d9c674b5160f805f002a9a4a7b2f509",
     "grade": true,
     "grade_id": "chisquarede",
     "locked": false,
     "points": 4,
     "solution": true
    }
   },
   "outputs": [
    {
     "data": {
      "text/plain": [
       "[11.799929439661893,\n",
       " 17.843962977778816,\n",
       " 7.6819012012633348,\n",
       " 11.491174760489319,\n",
       " 8.6435850917044199,\n",
       " 13.559043485589292,\n",
       " 13.086174465120743,\n",
       " 8.5234879779092267,\n",
       " 9.1620318594374623,\n",
       " 8.8732904458897899,\n",
       " 7.4874407727114596,\n",
       " 22.035840777342692,\n",
       " 20.642504623958256,\n",
       " 10.172693504936877,\n",
       " 8.4795484291893697,\n",
       " 23.653660013268752,\n",
       " 4.0087647453572632,\n",
       " 6.7262450809695311,\n",
       " 4.2114911652530296,\n",
       " 11.439791431173944,\n",
       " 7.7117300513277343,\n",
       " 12.005051724923131,\n",
       " 7.3449564057909242,\n",
       " 10.362946465753792,\n",
       " 16.337253412133087,\n",
       " 9.7066541754764568,\n",
       " 7.1905924014883524,\n",
       " 6.4883748347783605,\n",
       " 11.230409411638364,\n",
       " 8.191226929291453,\n",
       " 8.82337068535778,\n",
       " 6.6160910549527081,\n",
       " 13.825556881479208,\n",
       " 8.154785060726276,\n",
       " 11.417361722589538,\n",
       " 12.947186442890084,\n",
       " 11.214377465531552,\n",
       " 6.5691067686390792,\n",
       " 23.641569193459567,\n",
       " 12.590012114285535,\n",
       " 19.139517824356325,\n",
       " 4.7550579290419908,\n",
       " 18.946669032655077,\n",
       " 6.8831996580439929,\n",
       " 8.5532073842380267,\n",
       " 5.0004843970562094,\n",
       " 4.1425259328826343,\n",
       " 7.1413056889277851,\n",
       " 5.2330512925276826,\n",
       " 9.8566580274693099,\n",
       " 3.4118328821579289,\n",
       " 5.3047939242940432,\n",
       " 7.3117277505260265,\n",
       " 7.8935866883790622,\n",
       " 7.0131365507478556,\n",
       " 16.537420088969025,\n",
       " 15.282043921565593,\n",
       " 6.2235515408928919,\n",
       " 14.857393520562539,\n",
       " 6.0630601924459659,\n",
       " 8.5098907627689258,\n",
       " 4.4443018811834261,\n",
       " 16.368070335532092,\n",
       " 7.1928158581354875,\n",
       " 13.765943445165131,\n",
       " 14.334242164212315,\n",
       " 18.339632861759736,\n",
       " 9.4910600563853009,\n",
       " 10.564109103393147,\n",
       " 9.1433865606050801,\n",
       " 10.593460495972456,\n",
       " 6.5213656508283941,\n",
       " 3.5187832465318096,\n",
       " 11.041751411699307,\n",
       " 9.0152807486203486,\n",
       " 10.769674138935146,\n",
       " 8.408494522910626,\n",
       " 2.6286589934102262,\n",
       " 14.633790130861096,\n",
       " 15.370570222066076,\n",
       " 14.873250630809505,\n",
       " 13.586724100491423,\n",
       " 5.7470581547792694,\n",
       " 14.230550343595247,\n",
       " 16.705506394469083,\n",
       " 6.9746630696175895,\n",
       " 4.5786709839213398,\n",
       " 4.9715736723281632,\n",
       " 6.484120062422166,\n",
       " 6.2352257103809743,\n",
       " 12.25227367986254,\n",
       " 4.183890741859404,\n",
       " 4.8421386598843457,\n",
       " 6.9662627990861399,\n",
       " 10.128864457874661,\n",
       " 6.7365596459740242,\n",
       " 5.4142179157583081,\n",
       " 15.697873761444885,\n",
       " 2.843557832398746,\n",
       " 5.1994225046571714]"
      ]
     },
     "metadata": {},
     "output_type": "display_data"
    },
    {
     "ename": "TypeError",
     "evalue": "unsupported operand type(s) for /: 'function' and 'int'",
     "output_type": "error",
     "traceback": [
      "\u001b[1;31m---------------------------------------------------------------------------\u001b[0m",
      "\u001b[1;31mTypeError\u001b[0m                                 Traceback (most recent call last)",
      "\u001b[1;32m<ipython-input-63-ffd5af0673de>\u001b[0m in \u001b[0;36m<module>\u001b[1;34m()\u001b[0m\n\u001b[0;32m      1\u001b[0m \u001b[1;31m# YOUR CODE HERE\u001b[0m\u001b[1;33m\u001b[0m\u001b[1;33m\u001b[0m\u001b[0m\n\u001b[0;32m      2\u001b[0m \u001b[0mi\u001b[0m \u001b[1;33m=\u001b[0m \u001b[0minteract\u001b[0m\u001b[1;33m(\u001b[0m\u001b[0mchi_squared\u001b[0m\u001b[1;33m,\u001b[0m \u001b[0mk\u001b[0m\u001b[1;33m=\u001b[0m\u001b[1;36m10\u001b[0m\u001b[1;33m,\u001b[0m \u001b[0msize\u001b[0m\u001b[1;33m=\u001b[0m\u001b[0mfixed\u001b[0m\u001b[1;33m(\u001b[0m\u001b[1;36m100\u001b[0m\u001b[1;33m)\u001b[0m\u001b[1;33m)\u001b[0m\u001b[1;33m\u001b[0m\u001b[0m\n\u001b[1;32m----> 3\u001b[1;33m \u001b[0mplot_chi_squared\u001b[0m\u001b[1;33m(\u001b[0m\u001b[0mi\u001b[0m\u001b[1;33m)\u001b[0m\u001b[1;33m\u001b[0m\u001b[0m\n\u001b[0m",
      "\u001b[1;32m<ipython-input-50-7889db76ef53>\u001b[0m in \u001b[0;36mplot_chi_squared\u001b[1;34m(k)\u001b[0m\n\u001b[0;32m      2\u001b[0m     \u001b[1;34m\"\"\"Plot the chi-squared distribution as a distplot with 300 points.\"\"\"\u001b[0m\u001b[1;33m\u001b[0m\u001b[0m\n\u001b[0;32m      3\u001b[0m     \u001b[1;31m# YOUR CODE HERE\u001b[0m\u001b[1;33m\u001b[0m\u001b[1;33m\u001b[0m\u001b[0m\n\u001b[1;32m----> 4\u001b[1;33m     \u001b[0msns\u001b[0m\u001b[1;33m.\u001b[0m\u001b[0mdistplot\u001b[0m\u001b[1;33m(\u001b[0m\u001b[0mk\u001b[0m\u001b[1;33m,\u001b[0m \u001b[0mbins\u001b[0m\u001b[1;33m=\u001b[0m\u001b[0mrange\u001b[0m\u001b[1;33m(\u001b[0m\u001b[1;36m300\u001b[0m\u001b[1;33m)\u001b[0m\u001b[1;33m)\u001b[0m\u001b[1;33m;\u001b[0m\u001b[1;33m\u001b[0m\u001b[0m\n\u001b[0m\u001b[0;32m      5\u001b[0m     \u001b[0mplt\u001b[0m\u001b[1;33m.\u001b[0m\u001b[0mxlabel\u001b[0m\u001b[1;33m(\u001b[0m\u001b[1;34m\"X\"\u001b[0m\u001b[1;33m)\u001b[0m\u001b[1;33m\u001b[0m\u001b[0m\n\u001b[0;32m      6\u001b[0m     \u001b[0mplt\u001b[0m\u001b[1;33m.\u001b[0m\u001b[0mylabel\u001b[0m\u001b[1;33m(\u001b[0m\u001b[1;34m\"Fk(X)\"\u001b[0m\u001b[1;33m)\u001b[0m\u001b[1;33m\u001b[0m\u001b[0m\n",
      "\u001b[1;32m/usr/local/lib/python3.4/dist-packages/seaborn/distributions.py\u001b[0m in \u001b[0;36mdistplot\u001b[1;34m(a, bins, hist, kde, rug, fit, hist_kws, kde_kws, rug_kws, fit_kws, color, vertical, norm_hist, axlabel, label, ax)\u001b[0m\n\u001b[0;32m    187\u001b[0m             \u001b[0mline\u001b[0m\u001b[1;33m,\u001b[0m \u001b[1;33m=\u001b[0m \u001b[0max\u001b[0m\u001b[1;33m.\u001b[0m\u001b[0mplot\u001b[0m\u001b[1;33m(\u001b[0m\u001b[1;36m0\u001b[0m\u001b[1;33m,\u001b[0m \u001b[0ma\u001b[0m\u001b[1;33m.\u001b[0m\u001b[0mmean\u001b[0m\u001b[1;33m(\u001b[0m\u001b[1;33m)\u001b[0m\u001b[1;33m)\u001b[0m\u001b[1;33m\u001b[0m\u001b[0m\n\u001b[0;32m    188\u001b[0m         \u001b[1;32melse\u001b[0m\u001b[1;33m:\u001b[0m\u001b[1;33m\u001b[0m\u001b[0m\n\u001b[1;32m--> 189\u001b[1;33m             \u001b[0mline\u001b[0m\u001b[1;33m,\u001b[0m \u001b[1;33m=\u001b[0m \u001b[0max\u001b[0m\u001b[1;33m.\u001b[0m\u001b[0mplot\u001b[0m\u001b[1;33m(\u001b[0m\u001b[0ma\u001b[0m\u001b[1;33m.\u001b[0m\u001b[0mmean\u001b[0m\u001b[1;33m(\u001b[0m\u001b[1;33m)\u001b[0m\u001b[1;33m,\u001b[0m \u001b[1;36m0\u001b[0m\u001b[1;33m)\u001b[0m\u001b[1;33m\u001b[0m\u001b[0m\n\u001b[0m\u001b[0;32m    190\u001b[0m         \u001b[0mcolor\u001b[0m \u001b[1;33m=\u001b[0m \u001b[0mline\u001b[0m\u001b[1;33m.\u001b[0m\u001b[0mget_color\u001b[0m\u001b[1;33m(\u001b[0m\u001b[1;33m)\u001b[0m\u001b[1;33m\u001b[0m\u001b[0m\n\u001b[0;32m    191\u001b[0m         \u001b[0mline\u001b[0m\u001b[1;33m.\u001b[0m\u001b[0mremove\u001b[0m\u001b[1;33m(\u001b[0m\u001b[1;33m)\u001b[0m\u001b[1;33m\u001b[0m\u001b[0m\n",
      "\u001b[1;32m/usr/local/lib/python3.4/dist-packages/numpy/core/_methods.py\u001b[0m in \u001b[0;36m_mean\u001b[1;34m(a, axis, dtype, out, keepdims)\u001b[0m\n\u001b[0;32m     70\u001b[0m         \u001b[0mret\u001b[0m \u001b[1;33m=\u001b[0m \u001b[0mret\u001b[0m\u001b[1;33m.\u001b[0m\u001b[0mdtype\u001b[0m\u001b[1;33m.\u001b[0m\u001b[0mtype\u001b[0m\u001b[1;33m(\u001b[0m\u001b[0mret\u001b[0m \u001b[1;33m/\u001b[0m \u001b[0mrcount\u001b[0m\u001b[1;33m)\u001b[0m\u001b[1;33m\u001b[0m\u001b[0m\n\u001b[0;32m     71\u001b[0m     \u001b[1;32melse\u001b[0m\u001b[1;33m:\u001b[0m\u001b[1;33m\u001b[0m\u001b[0m\n\u001b[1;32m---> 72\u001b[1;33m         \u001b[0mret\u001b[0m \u001b[1;33m=\u001b[0m \u001b[0mret\u001b[0m \u001b[1;33m/\u001b[0m \u001b[0mrcount\u001b[0m\u001b[1;33m\u001b[0m\u001b[0m\n\u001b[0m\u001b[0;32m     73\u001b[0m \u001b[1;33m\u001b[0m\u001b[0m\n\u001b[0;32m     74\u001b[0m     \u001b[1;32mreturn\u001b[0m \u001b[0mret\u001b[0m\u001b[1;33m\u001b[0m\u001b[0m\n",
      "\u001b[1;31mTypeError\u001b[0m: unsupported operand type(s) for /: 'function' and 'int'"
     ]
    },
    {
     "data": {
      "image/png": "[encoded data removed]",
      "text/plain": [
       "<matplotlib.figure.Figure at 0x7f3c957514a8>"
      ]
     },
     "metadata": {},
     "output_type": "display_data"
    }
   ],
   "source": [
    "# YOUR CODE HERE\n",
    "i = interact(chi_squared, k=10, size=fixed(100))\n",
    "plot_chi_squared(i)"
   ]
  },
  {
   "cell_type": "code",
   "execution_count": 62,
   "metadata": {
    "collapsed": false
   },
   "outputs": [
    {
     "ename": "TypeError",
     "evalue": "unsupported operand type(s) for /: 'function' and 'int'",
     "output_type": "error",
     "traceback": [
      "\u001b[1;31m---------------------------------------------------------------------------\u001b[0m",
      "\u001b[1;31mTypeError\u001b[0m                                 Traceback (most recent call last)",
      "\u001b[1;32m<ipython-input-62-9c3ce1b761ca>\u001b[0m in \u001b[0;36m<module>\u001b[1;34m()\u001b[0m\n\u001b[1;32m----> 1\u001b[1;33m \u001b[0mplot_chi_squared\u001b[0m\u001b[1;33m(\u001b[0m\u001b[0mi\u001b[0m\u001b[1;33m)\u001b[0m\u001b[1;33m\u001b[0m\u001b[0m\n\u001b[0m",
      "\u001b[1;32m<ipython-input-50-7889db76ef53>\u001b[0m in \u001b[0;36mplot_chi_squared\u001b[1;34m(k)\u001b[0m\n\u001b[0;32m      2\u001b[0m     \u001b[1;34m\"\"\"Plot the chi-squared distribution as a distplot with 300 points.\"\"\"\u001b[0m\u001b[1;33m\u001b[0m\u001b[0m\n\u001b[0;32m      3\u001b[0m     \u001b[1;31m# YOUR CODE HERE\u001b[0m\u001b[1;33m\u001b[0m\u001b[1;33m\u001b[0m\u001b[0m\n\u001b[1;32m----> 4\u001b[1;33m     \u001b[0msns\u001b[0m\u001b[1;33m.\u001b[0m\u001b[0mdistplot\u001b[0m\u001b[1;33m(\u001b[0m\u001b[0mk\u001b[0m\u001b[1;33m,\u001b[0m \u001b[0mbins\u001b[0m\u001b[1;33m=\u001b[0m\u001b[0mrange\u001b[0m\u001b[1;33m(\u001b[0m\u001b[1;36m300\u001b[0m\u001b[1;33m)\u001b[0m\u001b[1;33m)\u001b[0m\u001b[1;33m;\u001b[0m\u001b[1;33m\u001b[0m\u001b[0m\n\u001b[0m\u001b[0;32m      5\u001b[0m     \u001b[0mplt\u001b[0m\u001b[1;33m.\u001b[0m\u001b[0mxlabel\u001b[0m\u001b[1;33m(\u001b[0m\u001b[1;34m\"X\"\u001b[0m\u001b[1;33m)\u001b[0m\u001b[1;33m\u001b[0m\u001b[0m\n\u001b[0;32m      6\u001b[0m     \u001b[0mplt\u001b[0m\u001b[1;33m.\u001b[0m\u001b[0mylabel\u001b[0m\u001b[1;33m(\u001b[0m\u001b[1;34m\"Fk(X)\"\u001b[0m\u001b[1;33m)\u001b[0m\u001b[1;33m\u001b[0m\u001b[0m\n",
      "\u001b[1;32m/usr/local/lib/python3.4/dist-packages/seaborn/distributions.py\u001b[0m in \u001b[0;36mdistplot\u001b[1;34m(a, bins, hist, kde, rug, fit, hist_kws, kde_kws, rug_kws, fit_kws, color, vertical, norm_hist, axlabel, label, ax)\u001b[0m\n\u001b[0;32m    187\u001b[0m             \u001b[0mline\u001b[0m\u001b[1;33m,\u001b[0m \u001b[1;33m=\u001b[0m \u001b[0max\u001b[0m\u001b[1;33m.\u001b[0m\u001b[0mplot\u001b[0m\u001b[1;33m(\u001b[0m\u001b[1;36m0\u001b[0m\u001b[1;33m,\u001b[0m \u001b[0ma\u001b[0m\u001b[1;33m.\u001b[0m\u001b[0mmean\u001b[0m\u001b[1;33m(\u001b[0m\u001b[1;33m)\u001b[0m\u001b[1;33m)\u001b[0m\u001b[1;33m\u001b[0m\u001b[0m\n\u001b[0;32m    188\u001b[0m         \u001b[1;32melse\u001b[0m\u001b[1;33m:\u001b[0m\u001b[1;33m\u001b[0m\u001b[0m\n\u001b[1;32m--> 189\u001b[1;33m             \u001b[0mline\u001b[0m\u001b[1;33m,\u001b[0m \u001b[1;33m=\u001b[0m \u001b[0max\u001b[0m\u001b[1;33m.\u001b[0m\u001b[0mplot\u001b[0m\u001b[1;33m(\u001b[0m\u001b[0ma\u001b[0m\u001b[1;33m.\u001b[0m\u001b[0mmean\u001b[0m\u001b[1;33m(\u001b[0m\u001b[1;33m)\u001b[0m\u001b[1;33m,\u001b[0m \u001b[1;36m0\u001b[0m\u001b[1;33m)\u001b[0m\u001b[1;33m\u001b[0m\u001b[0m\n\u001b[0m\u001b[0;32m    190\u001b[0m         \u001b[0mcolor\u001b[0m \u001b[1;33m=\u001b[0m \u001b[0mline\u001b[0m\u001b[1;33m.\u001b[0m\u001b[0mget_color\u001b[0m\u001b[1;33m(\u001b[0m\u001b[1;33m)\u001b[0m\u001b[1;33m\u001b[0m\u001b[0m\n\u001b[0;32m    191\u001b[0m         \u001b[0mline\u001b[0m\u001b[1;33m.\u001b[0m\u001b[0mremove\u001b[0m\u001b[1;33m(\u001b[0m\u001b[1;33m)\u001b[0m\u001b[1;33m\u001b[0m\u001b[0m\n",
      "\u001b[1;32m/usr/local/lib/python3.4/dist-packages/numpy/core/_methods.py\u001b[0m in \u001b[0;36m_mean\u001b[1;34m(a, axis, dtype, out, keepdims)\u001b[0m\n\u001b[0;32m     70\u001b[0m         \u001b[0mret\u001b[0m \u001b[1;33m=\u001b[0m \u001b[0mret\u001b[0m\u001b[1;33m.\u001b[0m\u001b[0mdtype\u001b[0m\u001b[1;33m.\u001b[0m\u001b[0mtype\u001b[0m\u001b[1;33m(\u001b[0m\u001b[0mret\u001b[0m \u001b[1;33m/\u001b[0m \u001b[0mrcount\u001b[0m\u001b[1;33m)\u001b[0m\u001b[1;33m\u001b[0m\u001b[0m\n\u001b[0;32m     71\u001b[0m     \u001b[1;32melse\u001b[0m\u001b[1;33m:\u001b[0m\u001b[1;33m\u001b[0m\u001b[0m\n\u001b[1;32m---> 72\u001b[1;33m         \u001b[0mret\u001b[0m \u001b[1;33m=\u001b[0m \u001b[0mret\u001b[0m \u001b[1;33m/\u001b[0m \u001b[0mrcount\u001b[0m\u001b[1;33m\u001b[0m\u001b[0m\n\u001b[0m\u001b[0;32m     73\u001b[0m \u001b[1;33m\u001b[0m\u001b[0m\n\u001b[0;32m     74\u001b[0m     \u001b[1;32mreturn\u001b[0m \u001b[0mret\u001b[0m\u001b[1;33m\u001b[0m\u001b[0m\n",
      "\u001b[1;31mTypeError\u001b[0m: unsupported operand type(s) for /: 'function' and 'int'"
     ]
    },
    {
     "data": {
      "image/png": "[encoded data removed]",
      "text/plain": [
       "<matplotlib.figure.Figure at 0x7f3c95505278>"
      ]
     },
     "metadata": {},
     "output_type": "display_data"
    }
   ],
   "source": []
  },
  {
   "cell_type": "code",
   "execution_count": null,
   "metadata": {
    "collapsed": true
   },
   "outputs": [],
   "source": []
  }
 ],
 "metadata": {
  "kernelspec": {
   "display_name": "Python 3",
   "language": "python",
   "name": "python3"
  },
  "language_info": {
   "codemirror_mode": {
    "name": "ipython",
    "version": 3
   },
   "file_extension": ".py",
   "mimetype": "text/x-python",
   "name": "python",
   "nbconvert_exporter": "python",
   "pygments_lexer": "ipython3",
   "version": "3.4.3"
  }
 },
 "nbformat": 4,
 "nbformat_minor": 0
}

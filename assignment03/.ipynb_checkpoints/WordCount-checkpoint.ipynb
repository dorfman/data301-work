{
 "cells": [
  {
   "cell_type": "markdown",
   "metadata": {
    "nbgrader": {}
   },
   "source": [
    "# Word Counting"
   ]
  },
  {
   "cell_type": "markdown",
   "metadata": {},
   "source": [
    "This notebook introduces some of the basic tools and idea for working with natural language (text), including tokenization and word counting."
   ]
  },
  {
   "cell_type": "markdown",
   "metadata": {
    "nbgrader": {}
   },
   "source": [
    "## Imports"
   ]
  },
  {
   "cell_type": "code",
   "execution_count": 1,
   "metadata": {
    "collapsed": true
   },
   "outputs": [],
   "source": [
    "import types"
   ]
  },
  {
   "cell_type": "markdown",
   "metadata": {
    "nbgrader": {}
   },
   "source": [
    "## Tokenization"
   ]
  },
  {
   "cell_type": "code",
   "execution_count": 2,
   "metadata": {
    "collapsed": true
   },
   "outputs": [],
   "source": [
    "PUNCTUATION = '`~!@#$%^&*()_-+={[}]|\\:;\"<,>.?/}\\t\\n'"
   ]
  },
  {
   "cell_type": "markdown",
   "metadata": {},
   "source": [
    "Write a generator function, `remove_punctuation`, that removes punctuation from an iterator of words and yields the cleaned words:\n",
    "\n",
    "* Strip the punctuation characters at the beginning and end of each word.\n",
    "* Replace `-` by a space if found in the middle of the word and split on that white space to yield multiple words.\n",
    "* If a word is all punctuation, don't yield it at all."
   ]
  },
  {
   "cell_type": "code",
   "execution_count": 3,
   "metadata": {
    "collapsed": true,
    "deletable": false,
    "nbgrader": {
     "checksum": "00fb6bf5d41ed46a831d90886eabfb41",
     "grade": false,
     "grade_id": "wordcounta",
     "locked": false,
     "solution": true
    }
   },
   "outputs": [],
   "source": [
    "def remove_punctuation(words, punctuation=PUNCTUATION):\n",
    "    \"\"\"Remove punctuation from an iterator of words, yielding the results.\"\"\"\n",
    "    newWords = []\n",
    "    start = 0\n",
    "    \n",
    "    for e in range(len(words)):\n",
    "        for w in range(len(words[e])):\n",
    "            for p in punctuation:\n",
    "                if words[e][w] == p:\n",
    "                    new = words[e][start:w]\n",
    "                    if len(new) > 0:\n",
    "                        yield new\n",
    "                    start = w + 1\n",
    "                \n",
    "        new = words[e][start:len(words[0])]\n",
    "        if len(new) > 0:\n",
    "            yield new"
   ]
  },
  {
   "cell_type": "code",
   "execution_count": 4,
   "metadata": {
    "collapsed": false,
    "deletable": false,
    "nbgrader": {
     "checksum": "dbb2caad06a60b143118c978d9cc5914",
     "grade": true,
     "grade_id": "wordcountb",
     "locked": true,
     "points": 2,
     "solution": false
    }
   },
   "outputs": [],
   "source": [
    "assert list(remove_punctuation(['!data;']))==['data']\n",
    "assert list(remove_punctuation(['!data-science:']))==['data', 'science']\n",
    "assert list(remove_punctuation(['!!']))==[]\n",
    "assert isinstance(remove_punctuation(['!!']), types.GeneratorType)"
   ]
  },
  {
   "cell_type": "markdown",
   "metadata": {},
   "source": [
    "Write a generator function, `lower_words`, that makes each word in an iterator lowercase, yielding each lowercase word:"
   ]
  },
  {
   "cell_type": "code",
   "execution_count": 5,
   "metadata": {
    "collapsed": true,
    "deletable": false,
    "nbgrader": {
     "checksum": "9daa0db11a4ae562fcae3d5e443c8496",
     "grade": false,
     "grade_id": "wordcountc",
     "locked": false,
     "solution": true
    }
   },
   "outputs": [],
   "source": [
    "def lower_words(words):\n",
    "    \"\"\"Make each word in an iterator lowercase.\"\"\"\n",
    "    for w in words:\n",
    "        yield w.lower()"
   ]
  },
  {
   "cell_type": "code",
   "execution_count": 6,
   "metadata": {
    "collapsed": false,
    "deletable": false,
    "nbgrader": {
     "checksum": "d02af789287a63f22712f8ccace94b8c",
     "grade": true,
     "grade_id": "wordcountd",
     "locked": true,
     "points": 2,
     "solution": false
    }
   },
   "outputs": [],
   "source": [
    "assert isinstance(lower_words('AAA'), types.GeneratorType)\n",
    "assert list(lower_words('This IS NOT LoWerCaSe'.split(' ')))==['this', 'is', 'not', 'lowercase']"
   ]
  },
  {
   "cell_type": "markdown",
   "metadata": {},
   "source": [
    "[Stop words](https://en.wikipedia.org/wiki/Stop_words) are common words in text that are typically filtered out when performing natural language processing. Typical stop words are *and*, *of*, *a*, *the*, etc.\n",
    "\n",
    "Write a generator function, `remove_stop_words`, that removes stop words from an iterator, yielding the results:"
   ]
  },
  {
   "cell_type": "code",
   "execution_count": 7,
   "metadata": {
    "collapsed": false,
    "deletable": false,
    "nbgrader": {
     "checksum": "63a85260f81b1521bb6867cf6f87108f",
     "grade": false,
     "grade_id": "wordcounte",
     "locked": false,
     "solution": true
    }
   },
   "outputs": [],
   "source": [
    "def myIndex(listWords, target):\n",
    "    i = 0\n",
    "    for l in listWords:\n",
    "        if l == target:\n",
    "            return i\n",
    "        i += 1\n",
    "    return -1\n",
    "\n",
    "def remove_stop_words(words, stop_words=None):\n",
    "    \"\"\"Remove the stop words from an iterator of words.\n",
    "    \n",
    "    stop_words can be provided as a list of words or a whitespace separated string of words.\n",
    "    \"\"\"\n",
    "    for w in words:\n",
    "        #for s in stop_words:\n",
    "        if type(stop_words) == list:\n",
    "            if myIndex(stop_words, w) == -1 and len(w) > 0:\n",
    "                yield w\n",
    "        elif type(stop_words) == str:\n",
    "            split = stop_words.split(' ')\n",
    "            if myIndex(split, w) == -1 and len(w) > 0:\n",
    "                yield w\n",
    "        elif len(w) > 0:\n",
    "            yield w"
   ]
  },
  {
   "cell_type": "code",
   "execution_count": 8,
   "metadata": {
    "collapsed": false,
    "deletable": false,
    "nbgrader": {
     "checksum": "83fb7f89e1a718459e86632f46c7aefd",
     "grade": true,
     "grade_id": "wordcountf",
     "locked": true,
     "points": 2,
     "solution": false
    }
   },
   "outputs": [],
   "source": [
    "assert list(remove_stop_words('the begin to the end a of the day'.split(' '), stop_words='a the')) == \\\n",
    "    ['begin', 'to', 'end', 'of', 'day']\n",
    "assert list(remove_stop_words('the begin to the end a of the day'.split(' '), stop_words=['a', 'the'])) == \\\n",
    "    ['begin', 'to', 'end', 'of', 'day']\n",
    "assert list(remove_stop_words('the begin to the end a of the day'.split(' '))) == \\\n",
    "    ['the', 'begin', 'to', 'the', 'end', 'a', 'of', 'the', 'day']"
   ]
  },
  {
   "cell_type": "markdown",
   "metadata": {},
   "source": [
    "[Tokenization](https://en.wikipedia.org/wiki/Lexical_analysis#Tokenization) is the process of taking a string or line of text and returning a sequence of words, or *tokens*, with the following transforms applied\n",
    "\n",
    "* Punctuation removed\n",
    "* All words lowercased\n",
    "* Stop words removed\n",
    "\n",
    "Write a generator function, `tokenize_line`, that yields tokenized words from a an input line of text. "
   ]
  },
  {
   "cell_type": "code",
   "execution_count": 9,
   "metadata": {
    "collapsed": false,
    "deletable": false,
    "nbgrader": {
     "checksum": "c3393ebf28c23de9346413b59f3bad5b",
     "grade": false,
     "grade_id": "wordcountg",
     "locked": false,
     "solution": true
    }
   },
   "outputs": [],
   "source": [
    "def add_space(line):\n",
    "    line = list(line)\n",
    "    for l in range(len(line)):\n",
    "        if l != 0 and line[l][0] != \" \":\n",
    "            yield \" \" + line[l]\n",
    "        else:\n",
    "            yield line[l]\n",
    "    \n",
    "def tokenize_line(line, stop_words=None, punctuation=PUNCTUATION):\n",
    "    \"\"\"Split a string into a list of words, removing punctuation and stop words.\"\"\"\n",
    "    line = \"\".join(lower_words(line))\n",
    "    line = remove_punctuation([line], punctuation)\n",
    "    line = \"\".join(add_space(line))\n",
    "    return remove_stop_words(line.split(' '), stop_words)"
   ]
  },
  {
   "cell_type": "code",
   "execution_count": 10,
   "metadata": {
    "collapsed": false,
    "deletable": false,
    "nbgrader": {
     "checksum": "1810910521defcef31a581e750ff0846",
     "grade": true,
     "grade_id": "wordcounth",
     "locked": true,
     "points": 2,
     "solution": false
    }
   },
   "outputs": [],
   "source": [
    "assert isinstance(tokenize_line(\"This, is the way; that things will end\"), types.GeneratorType)\n",
    "assert list(tokenize_line(\"This, is the way; that things will end\", stop_words=['the', 'is'])) == \\\n",
    "    ['this', 'way', 'that', 'things', 'will', 'end']"
   ]
  },
  {
   "cell_type": "markdown",
   "metadata": {},
   "source": [
    "Write a generator function, `tokenize_lines`, that can yield the tokens in an iterator of lines of text."
   ]
  },
  {
   "cell_type": "code",
   "execution_count": 11,
   "metadata": {
    "collapsed": false,
    "deletable": false,
    "nbgrader": {
     "checksum": "99351f2172da2d7a98069b5f3cb2b593",
     "grade": false,
     "grade_id": "wordcounti",
     "locked": false,
     "solution": true
    }
   },
   "outputs": [],
   "source": [
    "def tokenize_lines(lines, stop_words=None, punctuation=PUNCTUATION):\n",
    "    \"\"\"Tokenize an iterator of lines, yielding the tokens.\"\"\"\n",
    "    #return tokenize_line(lines, stop_words, punctuation=PUNCTUATION)\n",
    "    for l in lines:\n",
    "        #print (l)\n",
    "        tokens = list(tokenize_line(l, stop_words, punctuation))\n",
    "        for t in tokens:\n",
    "            if len(l) > 0:\n",
    "                yield t\n",
    "          "
   ]
  },
  {
   "cell_type": "code",
   "execution_count": 12,
   "metadata": {
    "collapsed": false,
    "deletable": false,
    "nbgrader": {
     "checksum": "f5158101498f195d7d1ff6e317517719",
     "grade": true,
     "grade_id": "wordcountj",
     "points": 2
    }
   },
   "outputs": [],
   "source": [
    "wasteland = \"\"\"\n",
    "APRIL is the cruellest month, breeding\n",
    "Lilacs out of the dead land, mixing\n",
    "Memory and desire, stirring\n",
    "Dull roots with spring rain.\n",
    "\"\"\"\n",
    "\n",
    "assert isinstance(tokenize_lines(wasteland.splitlines()), types.GeneratorType)\n",
    "\n",
    "assert list(tokenize_lines(wasteland.splitlines(), stop_words='is the of and')) == \\\n",
    "    ['april','cruellest','month','breeding','lilacs','out','dead','land',\n",
    "     'mixing','memory','desire','stirring','dull','roots','with','spring',\n",
    "     'rain']"
   ]
  },
  {
   "cell_type": "markdown",
   "metadata": {},
   "source": [
    "## Counting words"
   ]
  },
  {
   "cell_type": "markdown",
   "metadata": {
    "nbgrader": {}
   },
   "source": [
    "Write a function, `count_words`, that takes an iterator of words and returns a dictionary where the keys in the dictionary are the unique words in the list and the values are the word counts. Be careful to not ever assume that the input iterator is a concrete list/tuple."
   ]
  },
  {
   "cell_type": "code",
   "execution_count": 13,
   "metadata": {
    "collapsed": false,
    "deletable": false,
    "nbgrader": {
     "checksum": "ea8c4caf9bc8768b7120758339168c4b",
     "grade": false,
     "grade_id": "wordcountk",
     "locked": false,
     "points": 2,
     "solution": true
    }
   },
   "outputs": [],
   "source": [
    "def count_words(words):\n",
    "    \"\"\"Return a word count dictionary from the list of words in data.\"\"\"\n",
    "    words = list(words)\n",
    "    obj = {}\n",
    "    \n",
    "    for w in words:\n",
    "        if w in obj:\n",
    "            obj[w] += 1\n",
    "        else:\n",
    "            obj[w] = 1\n",
    "            \n",
    "    return obj"
   ]
  },
  {
   "cell_type": "code",
   "execution_count": 14,
   "metadata": {
    "collapsed": false,
    "deletable": false,
    "nbgrader": {
     "checksum": "65626ee77dd3656c2c7769f92a708e3e",
     "grade": true,
     "grade_id": "wordcountl",
     "points": 2
    }
   },
   "outputs": [],
   "source": [
    "assert count_words(tokenize_line('This, and The-this from, and A a a')) == \\\n",
    "    {'a': 3, 'and': 2, 'from': 1, 'the': 1, 'this': 2}"
   ]
  },
  {
   "cell_type": "markdown",
   "metadata": {
    "nbgrader": {}
   },
   "source": [
    "Write a function, `sort_word_counts`, that return a list of sorted word counts:\n",
    "\n",
    "* Each element of the list should be a `(word, count)` tuple.\n",
    "* The list should be sorted by the word counts, with the higest counts coming first.\n",
    "* To perform this sort, look at using the `sorted` function.\n",
    "\n",
    "This can return a concrete list as the memory here is proportional to the number of unique words in the text."
   ]
  },
  {
   "cell_type": "code",
   "execution_count": 15,
   "metadata": {
    "collapsed": false,
    "deletable": false,
    "nbgrader": {
     "checksum": "7f3df7bad47e7944b6ebe42edb56734a",
     "grade": false,
     "grade_id": "wordcountm",
     "locked": false,
     "solution": true
    }
   },
   "outputs": [],
   "source": [
    "def sort_word_counts(wc):\n",
    "    \"\"\"Return a list of 2-tuples of (word, count), sorted by count descending.\"\"\"\n",
    "    items = list(wc.items())\n",
    "    values = list(wc.values())\n",
    "    \n",
    "    for i in range(len(values) - 1):\n",
    "        j = i + 1\n",
    "        while j < len(values): \n",
    "            if values[j] > values[i]:\n",
    "                temp = items[j]\n",
    "                items[j] = items[i]\n",
    "                items[i] = temp\n",
    "                \n",
    "                tempV = values[j]\n",
    "                values[j] = values[i]\n",
    "                values[i] = tempV\n",
    "            j += 1\n",
    "    \n",
    "    return items"
   ]
  },
  {
   "cell_type": "code",
   "execution_count": 16,
   "metadata": {
    "collapsed": false
   },
   "outputs": [
    {
     "data": {
      "text/plain": [
       "{('a', 3), ('and', 2), ('from', 1), ('the', 1), ('this', 2)}"
      ]
     },
     "execution_count": 16,
     "metadata": {},
     "output_type": "execute_result"
    }
   ],
   "source": [
    "#count_words(tokenize_line('This, and The-this from, and A a a'))\n",
    "set(sort_word_counts(count_words(tokenize_line('This, and The-this from, and A a a'))))"
   ]
  },
  {
   "cell_type": "code",
   "execution_count": 17,
   "metadata": {
    "collapsed": false,
    "deletable": false,
    "nbgrader": {
     "checksum": "5a713da40b47c9f7acc3399d04737a54",
     "grade": true,
     "grade_id": "wordcountn",
     "points": 2
    }
   },
   "outputs": [],
   "source": [
    "assert set(sort_word_counts(count_words(tokenize_line('This, and The-this from, and A a a')))) == \\\n",
    "    {('a', 3), ('and', 2), ('this', 2), ('the', 1), ('from', 1)}"
   ]
  },
  {
   "cell_type": "markdown",
   "metadata": {},
   "source": [
    "## File IO"
   ]
  },
  {
   "cell_type": "markdown",
   "metadata": {},
   "source": [
    "Write a generator function, `files_to_lines`, that takes an iterator of filenames, and yields the lines in all of those files. Make sure to not ever create a concrete list/tuple in this process to keep your memory consumption $\\mathcal{O}(1)$. Make sure you use a `with` statement to properly close each file."
   ]
  },
  {
   "cell_type": "code",
   "execution_count": 18,
   "metadata": {
    "collapsed": true,
    "deletable": false,
    "nbgrader": {
     "checksum": "3dc19a25969ce3e61799353de5dd3892",
     "grade": false,
     "grade_id": "wordcounto",
     "locked": false,
     "solution": true
    }
   },
   "outputs": [],
   "source": [
    "def files_to_lines(files):\n",
    "    \"\"\"Iterator over a sequence of filenames, yielding all of the lines in the files.\"\"\"\n",
    "    for file in files:\n",
    "        f = open(file, \"r\")\n",
    "        for line in f:\n",
    "            yield line"
   ]
  },
  {
   "cell_type": "code",
   "execution_count": 19,
   "metadata": {
    "collapsed": false
   },
   "outputs": [
    {
     "name": "stdout",
     "output_type": "stream",
     "text": [
      "Overwriting file1.txt\n"
     ]
    }
   ],
   "source": [
    "%%writefile file1.txt\n",
    "This is the first line in the first file.\n",
    "This is the secon line in the first file."
   ]
  },
  {
   "cell_type": "code",
   "execution_count": 20,
   "metadata": {
    "collapsed": false
   },
   "outputs": [
    {
     "name": "stdout",
     "output_type": "stream",
     "text": [
      "Overwriting file2.txt\n"
     ]
    }
   ],
   "source": [
    "%%writefile file2.txt\n",
    "This is the first line in the second file.\n",
    "This is the second line in the second file."
   ]
  },
  {
   "cell_type": "code",
   "execution_count": 21,
   "metadata": {
    "collapsed": false,
    "deletable": false,
    "nbgrader": {
     "checksum": "de95cb8efb1b8fbfaf409e4e9d5cf39e",
     "grade": true,
     "grade_id": "wordcountp",
     "locked": true,
     "points": 2,
     "solution": false
    }
   },
   "outputs": [],
   "source": [
    "assert isinstance(files_to_lines(['file1.txt', 'file2.txt']), types.GeneratorType)\n",
    "assert list(files_to_lines(['file1.txt', 'file2.txt'])) == \\\n",
    "    ['This is the first line in the first file.\\n',\n",
    "     'This is the secon line in the first file.',\n",
    "     'This is the first line in the second file.\\n',\n",
    "     'This is the second line in the second file.']"
   ]
  },
  {
   "cell_type": "markdown",
   "metadata": {},
   "source": [
    "## All together now"
   ]
  },
  {
   "cell_type": "markdown",
   "metadata": {},
   "source": [
    "Now use all of the above functions to perform tokenization and word counting for all of the text documents described by your instructor:\n",
    "\n",
    "* You should be able to perform this in a memory efficient manner.\n",
    "* Read your stop words from the included `stopwords.txt` file.\n",
    "* Save your sorted word counts to a variable named `swc`."
   ]
  },
  {
   "cell_type": "code",
   "execution_count": 39,
   "metadata": {
    "collapsed": false,
    "deletable": false,
    "nbgrader": {
     "checksum": "61d3f1d15631b5e5f306ff6cefb7a6a9",
     "grade": false,
     "grade_id": "wordcountq",
     "locked": false,
     "solution": true
    }
   },
   "outputs": [
    {
     "data": {
      "text/plain": [
       "[(\"aren't\", 1),\n",
       " ('me', 1),\n",
       " ('at', 1),\n",
       " ('she', 1),\n",
       " ('should', 1),\n",
       " ('up', 1),\n",
       " (\"when's\", 1),\n",
       " ('yourself', 1),\n",
       " ('too', 1),\n",
       " ('above', 1),\n",
       " (\"here's\", 1),\n",
       " ('is', 1),\n",
       " ('so', 1),\n",
       " ('with', 1),\n",
       " ('himself', 1),\n",
       " (\"i'll\", 1),\n",
       " ('yours', 1),\n",
       " (\"she's\", 1),\n",
       " ('were', 1),\n",
       " (\"hadn't\", 1),\n",
       " (\"there's\", 1),\n",
       " (\"he'd\", 1),\n",
       " (\"won't\", 1),\n",
       " ('these', 1),\n",
       " ('been', 1),\n",
       " ('such', 1),\n",
       " ('other', 1),\n",
       " ('have', 1),\n",
       " ('or', 1),\n",
       " ('they', 1),\n",
       " ('an', 1),\n",
       " (\"she'd\", 1),\n",
       " ('very', 1),\n",
       " ('i', 1),\n",
       " (\"hasn't\", 1),\n",
       " (\"let's\", 1),\n",
       " ('here', 1),\n",
       " ('the', 1),\n",
       " ('through', 1),\n",
       " ('would', 1),\n",
       " ('how', 1),\n",
       " ('doing', 1),\n",
       " ('not', 1),\n",
       " ('further', 1),\n",
       " ('of', 1),\n",
       " (\"who's\", 1),\n",
       " ('ourselves', 1),\n",
       " (\"i'm\", 1),\n",
       " (\"you'd\", 1),\n",
       " ('before', 1),\n",
       " ('on', 1),\n",
       " (\"weren't\", 1),\n",
       " ('then', 1),\n",
       " ('you', 1),\n",
       " ('our', 1),\n",
       " (\"how's\", 1),\n",
       " ('in', 1),\n",
       " ('why', 1),\n",
       " ('do', 1),\n",
       " ('no', 1),\n",
       " ('between', 1),\n",
       " (\"wouldn't\", 1),\n",
       " (\"he's\", 1),\n",
       " ('themselves', 1),\n",
       " ('a', 1),\n",
       " ('it', 1),\n",
       " ('cannot', 1),\n",
       " (\"didn't\", 1),\n",
       " (\"i'd\", 1),\n",
       " (\"she'll\", 1),\n",
       " ('to', 1),\n",
       " (\"he'll\", 1),\n",
       " (\"can't\", 1),\n",
       " ('this', 1),\n",
       " (\"haven't\", 1),\n",
       " ('again', 1),\n",
       " ('most', 1),\n",
       " (\"it's\", 1),\n",
       " ('and', 1),\n",
       " (\"we've\", 1),\n",
       " ('having', 1),\n",
       " ('had', 1),\n",
       " ('against', 1),\n",
       " ('out', 1),\n",
       " ('few', 1),\n",
       " (\"don't\", 1),\n",
       " ('be', 1),\n",
       " ('off', 1),\n",
       " (\"we'll\", 1),\n",
       " ('after', 1),\n",
       " (\"they'll\", 1),\n",
       " (\"they're\", 1),\n",
       " ('but', 1),\n",
       " ('that', 1),\n",
       " ('what', 1),\n",
       " ('him', 1),\n",
       " (\"where's\", 1),\n",
       " ('some', 1),\n",
       " (\"they'd\", 1),\n",
       " ('his', 1),\n",
       " ('under', 1),\n",
       " ('does', 1),\n",
       " (\"couldn't\", 1),\n",
       " ('for', 1),\n",
       " (\"wasn't\", 1),\n",
       " (\"you've\", 1),\n",
       " ('over', 1),\n",
       " ('my', 1),\n",
       " ('her', 1),\n",
       " ('while', 1),\n",
       " ('as', 1),\n",
       " ('from', 1),\n",
       " ('could', 1),\n",
       " ('its', 1),\n",
       " ('herself', 1),\n",
       " ('we', 1),\n",
       " ('ours', 1),\n",
       " ('all', 1),\n",
       " ('down', 1),\n",
       " ('your', 1),\n",
       " (\"why's\", 1),\n",
       " (\"you'll\", 1),\n",
       " ('below', 1),\n",
       " ('am', 1),\n",
       " ('same', 1),\n",
       " ('he', 1),\n",
       " (\"i've\", 1),\n",
       " (\"isn't\", 1),\n",
       " ('until', 1),\n",
       " ('who', 1),\n",
       " (\"shan't\", 1),\n",
       " (\"we're\", 1),\n",
       " (\"we'd\", 1),\n",
       " ('yourselves', 1),\n",
       " ('where', 1),\n",
       " ('once', 1),\n",
       " ('during', 1),\n",
       " ('did', 1),\n",
       " (\"they've\", 1),\n",
       " (\"that's\", 1),\n",
       " ('about', 1),\n",
       " ('there', 1),\n",
       " ('theirs', 1),\n",
       " ('them', 1),\n",
       " ('ought', 1),\n",
       " ('myself', 1),\n",
       " ('itself', 1),\n",
       " ('only', 1),\n",
       " ('which', 1),\n",
       " ('both', 1),\n",
       " ('hers', 1),\n",
       " ('those', 1),\n",
       " ('are', 1),\n",
       " ('when', 1),\n",
       " ('than', 1),\n",
       " ('whom', 1),\n",
       " (\"mustn't\", 1),\n",
       " (\"shouldn't\", 1),\n",
       " ('each', 1),\n",
       " (\"you're\", 1),\n",
       " ('into', 1),\n",
       " ('their', 1),\n",
       " ('being', 1),\n",
       " ('more', 1),\n",
       " (\"doesn't\", 1),\n",
       " ('own', 1),\n",
       " ('if', 1),\n",
       " ('because', 1),\n",
       " ('by', 1),\n",
       " ('any', 1),\n",
       " (\"what's\", 1),\n",
       " ('has', 1),\n",
       " ('nor', 1),\n",
       " ('was', 1)]"
      ]
     },
     "execution_count": 39,
     "metadata": {},
     "output_type": "execute_result"
    }
   ],
   "source": [
    "swc = sort_word_counts(count_words(tokenize_lines(files_to_lines(['stopwords.txt']))))\n",
    "\n",
    "#[word for word, count in swc[0:10]] "
   ]
  },
  {
   "cell_type": "code",
   "execution_count": 23,
   "metadata": {
    "collapsed": false,
    "deletable": false,
    "nbgrader": {
     "checksum": "22bee56e22c6472ff4788273297a621c",
     "grade": true,
     "grade_id": "wordcountr",
     "locked": true,
     "points": 2,
     "solution": false
    }
   },
   "outputs": [
    {
     "ename": "AssertionError",
     "evalue": "",
     "output_type": "error",
     "traceback": [
      "\u001b[1;31m---------------------------------------------------------------------------\u001b[0m",
      "\u001b[1;31mAssertionError\u001b[0m                            Traceback (most recent call last)",
      "\u001b[1;32m<ipython-input-23-4917ac99579c>\u001b[0m in \u001b[0;36m<module>\u001b[1;34m()\u001b[0m\n\u001b[1;32m----> 1\u001b[1;33m \u001b[1;32massert\u001b[0m \u001b[1;33m[\u001b[0m\u001b[0mword\u001b[0m \u001b[1;32mfor\u001b[0m \u001b[0mword\u001b[0m\u001b[1;33m,\u001b[0m \u001b[0mcount\u001b[0m \u001b[1;32min\u001b[0m \u001b[0mswc\u001b[0m\u001b[1;33m[\u001b[0m\u001b[1;36m0\u001b[0m\u001b[1;33m:\u001b[0m\u001b[1;36m10\u001b[0m\u001b[1;33m]\u001b[0m\u001b[1;33m]\u001b[0m \u001b[1;33m==\u001b[0m     \u001b[1;33m[\u001b[0m\u001b[1;34m'said'\u001b[0m\u001b[1;33m,\u001b[0m \u001b[1;34m'one'\u001b[0m\u001b[1;33m,\u001b[0m \u001b[1;34m'mr'\u001b[0m\u001b[1;33m,\u001b[0m \u001b[1;34m'now'\u001b[0m\u001b[1;33m,\u001b[0m \u001b[1;34m'upon'\u001b[0m\u001b[1;33m,\u001b[0m \u001b[1;34m'will'\u001b[0m\u001b[1;33m,\u001b[0m \u001b[1;34m'little'\u001b[0m\u001b[1;33m,\u001b[0m \u001b[1;34m'time'\u001b[0m\u001b[1;33m,\u001b[0m \u001b[1;34m'man'\u001b[0m\u001b[1;33m,\u001b[0m \u001b[1;34m'like'\u001b[0m\u001b[1;33m]\u001b[0m\u001b[1;33m\u001b[0m\u001b[0m\n\u001b[0m",
      "\u001b[1;31mAssertionError\u001b[0m: "
     ]
    }
   ],
   "source": [
    "assert [word for word, count in swc[0:10]] == \\\n",
    "    ['said', 'one', 'mr', 'now', 'upon', 'will', 'little', 'time', 'man', 'like']"
   ]
  },
  {
   "cell_type": "markdown",
   "metadata": {},
   "source": [
    "Create a horizontal bar chart for the top 50 words using text and simple calls to `print`:\n",
    "\n",
    "* For each word, encode the count as a bar of `*` characters.\n",
    "* You will have to scale the length of your bars to fit on the page.\n",
    "* Provide labels for each bar that indicates which word the counts apply to."
   ]
  },
  {
   "cell_type": "code",
   "execution_count": 47,
   "metadata": {
    "collapsed": false,
    "deletable": false,
    "nbgrader": {
     "checksum": "e1eb080305e87b369745977473b12992",
     "grade": true,
     "grade_id": "wordcounts",
     "locked": false,
     "points": 2,
     "solution": true
    }
   },
   "outputs": [
    {
     "name": "stdout",
     "output_type": "stream",
     "text": [
      "aren't \t\t *\n",
      "me \t\t *\n",
      "at \t\t *\n",
      "she \t\t *\n",
      "should \t\t *\n",
      "up \t\t *\n",
      "when's \t\t *\n",
      "yourself \t *\n",
      "too \t\t *\n",
      "above \t\t *\n",
      "here's \t\t *\n",
      "is \t\t *\n",
      "so \t\t *\n",
      "with \t\t *\n",
      "himself \t *\n",
      "i'll \t\t *\n",
      "yours \t\t *\n",
      "she's \t\t *\n",
      "were \t\t *\n",
      "hadn't \t\t *\n",
      "there's \t *\n",
      "he'd \t\t *\n",
      "won't \t\t *\n",
      "these \t\t *\n",
      "been \t\t *\n",
      "such \t\t *\n",
      "other \t\t *\n",
      "have \t\t *\n",
      "or \t\t *\n",
      "they \t\t *\n",
      "an \t\t *\n",
      "she'd \t\t *\n",
      "very \t\t *\n",
      "i \t\t *\n",
      "hasn't \t\t *\n",
      "let's \t\t *\n",
      "here \t\t *\n",
      "the \t\t *\n",
      "through \t *\n",
      "would \t\t *\n",
      "how \t\t *\n",
      "doing \t\t *\n",
      "not \t\t *\n",
      "further \t *\n",
      "of \t\t *\n",
      "who's \t\t *\n",
      "ourselves \t *\n",
      "i'm \t\t *\n",
      "you'd \t\t *\n",
      "before \t\t *\n"
     ]
    }
   ],
   "source": [
    "bars = [word for word, count in swc[0:50]]\n",
    "\n",
    "b = dict(swc)\n",
    "\n",
    "def aster(num):\n",
    "    a = \"\"\n",
    "    n = 0\n",
    "    while n < num:\n",
    "        a += \"*\"\n",
    "        n += 1\n",
    "    return a\n",
    "\n",
    "for bar in bars:\n",
    "    if len(bar) < 7:\n",
    "        print(bar, \"\\t\\t\", aster(b[bar]))\n",
    "    else:\n",
    "        print(bar, \"\\t\", aster(b[bar]))\n",
    "        "
   ]
  },
  {
   "cell_type": "code",
   "execution_count": null,
   "metadata": {
    "collapsed": true
   },
   "outputs": [],
   "source": []
  }
 ],
 "metadata": {
  "kernelspec": {
   "display_name": "Python 3",
   "language": "python",
   "name": "python3"
  },
  "language_info": {
   "codemirror_mode": {
    "name": "ipython",
    "version": 3
   },
   "file_extension": ".py",
   "mimetype": "text/x-python",
   "name": "python",
   "nbconvert_exporter": "python",
   "pygments_lexer": "ipython3",
   "version": "3.4.3"
  }
 },
 "nbformat": 4,
 "nbformat_minor": 0
}

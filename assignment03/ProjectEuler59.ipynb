{
 "cells": [
  {
   "cell_type": "markdown",
   "metadata": {
    "nbgrader": {}
   },
   "source": [
    "# Project Euler: Problem 59"
   ]
  },
  {
   "cell_type": "markdown",
   "metadata": {
    "nbgrader": {}
   },
   "source": [
    "https://projecteuler.net/problem=59\n",
    "\n",
    "Each character on a computer is assigned a unique code and the preferred standard is ASCII (American Standard Code for Information Interchange). For example, uppercase A = 65, asterisk (*) = 42, and lowercase k = 107.\n",
    "\n",
    "A modern encryption method is to take a text file, convert the bytes to ASCII, then XOR each byte with a given value, taken from a secret key. The advantage with the XOR function is that using the same encryption key on the cipher text, restores the plain text; for example, 65 XOR 42 = 107, then 107 XOR 42 = 65.\n",
    "\n",
    "For unbreakable encryption, the key is the same length as the plain text message, and the key is made up of random bytes. The user would keep the encrypted message and the encryption key in different locations, and without both \"halves\", it is impossible to decrypt the message.\n",
    "\n",
    "Unfortunately, this method is impractical for most users, so the modified method is to use a password as a key. If the password is shorter than the message, which is likely, the key is repeated cyclically throughout the message. The balance for this method is using a sufficiently long password key for security, but short enough to be memorable.\n",
    "\n",
    "Your task has been made easy, as the encryption key consists of three lower case characters. Using cipher.txt (in this directory), a file containing the encrypted ASCII codes, and the knowledge that the plain text must contain common English words, decrypt the message and find the sum of the ASCII values in the original text."
   ]
  },
  {
   "cell_type": "markdown",
   "metadata": {
    "nbgrader": {}
   },
   "source": [
    "The following cell shows examples of how to perform XOR in Python and how to go back and forth between characters and integers:"
   ]
  },
  {
   "cell_type": "code",
   "execution_count": 2,
   "metadata": {
    "collapsed": true,
    "deletable": false,
    "nbgrader": {
     "checksum": "2c9303d19a2b6c22658ef4dbde6d63a3",
     "grade": false,
     "grade_id": "projecteuler59a",
     "locked": true,
     "solution": false
    }
   },
   "outputs": [],
   "source": [
    "assert 65 ^ 42 == 107\n",
    "assert 107 ^ 42 == 65\n",
    "assert ord('a') == 97\n",
    "assert chr(97) == 'a'"
   ]
  },
  {
   "cell_type": "markdown",
   "metadata": {
    "nbgrader": {}
   },
   "source": [
    "Certain functions in the `itertools` module may be useful for computing permutations:"
   ]
  },
  {
   "cell_type": "code",
   "execution_count": 3,
   "metadata": {
    "collapsed": true,
    "nbgrader": {}
   },
   "outputs": [],
   "source": [
    "import itertools"
   ]
  },
  {
   "cell_type": "code",
   "execution_count": 25,
   "metadata": {
    "collapsed": false,
    "deletable": false,
    "nbgrader": {
     "checksum": "ab1a44dadde94517fb804abf1c7b8131",
     "grade": true,
     "grade_id": "projecteuler59b",
     "locked": false,
     "points": 10,
     "solution": true
    }
   },
   "outputs": [
    {
     "name": "stdout",
     "output_type": "stream",
     "text": [
      "[]\n"
     ]
    }
   ],
   "source": [
    "letters = [c.split(',') for c in open(\"cipher.txt\", \"r\")][0]\n",
    "\n",
    "lower = ord('a')\n",
    "upper = ord('z')\n",
    "\n",
    "key = [lower, lower, lower]\n",
    "\n",
    "def inRange(a, b):\n",
    "    #print (type(a), type(b))\n",
    "    c = a ^ b\n",
    "    return c >= lower and c <= upper\n",
    "    #return True\n",
    "    \n",
    "def modKey():\n",
    "    if key[2] == upper:\n",
    "        key[2] = lower\n",
    "        if key[1] == upper:\n",
    "            key[1] = lower\n",
    "            if key[0] == upper:\n",
    "                return False\n",
    "            else:\n",
    "                key[0] += 1\n",
    "        else:\n",
    "            key[1] += 1\n",
    "    else:\n",
    "        key[2] += 1\n",
    "    return True\n",
    "\n",
    "def decrypt():\n",
    "    message = []\n",
    "    for l in range(len(letters)):\n",
    "        if l < len(letters) - 3: \n",
    "            snip = letters[l:l+3]\n",
    "            for s in range(len(snip)):\n",
    "                \n",
    "                if inRange(key[s], int(snip[s])) == False:\n",
    "                    if modKey() == False:\n",
    "                        print(\"break\")\n",
    "                        return\n",
    "                    else:\n",
    "                        message = []\n",
    "                        l = 0\n",
    "                        s = len(snip)\n",
    "                else:\n",
    "                    message.append(chr(key[s] ^ int(snip[s])))\n",
    "    #return \"\".join(message)\n",
    "    return message\n",
    "\n",
    "print(decrypt())"
   ]
  },
  {
   "cell_type": "code",
   "execution_count": null,
   "metadata": {
    "collapsed": true
   },
   "outputs": [],
   "source": []
  },
  {
   "cell_type": "code",
   "execution_count": null,
   "metadata": {
    "collapsed": true
   },
   "outputs": [],
   "source": []
  }
 ],
 "metadata": {
  "kernelspec": {
   "display_name": "Python 3",
   "language": "python",
   "name": "python3"
  },
  "language_info": {
   "codemirror_mode": {
    "name": "ipython",
    "version": 3
   },
   "file_extension": ".py",
   "mimetype": "text/x-python",
   "name": "python",
   "nbconvert_exporter": "python",
   "pygments_lexer": "ipython3",
   "version": "3.4.3"
  }
 },
 "nbformat": 4,
 "nbformat_minor": 0
}

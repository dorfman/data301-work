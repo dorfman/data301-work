{
 "cells": [
  {
   "cell_type": "markdown",
   "metadata": {
    "nbgrader": {}
   },
   "source": [
    "# Fitting a Decaying Oscillation"
   ]
  },
  {
   "cell_type": "markdown",
   "metadata": {},
   "source": [
    "In this notebook you will fit a dataset to a non-linear model that has a decaying oscillation."
   ]
  },
  {
   "cell_type": "markdown",
   "metadata": {
    "nbgrader": {}
   },
   "source": [
    "## Imports"
   ]
  },
  {
   "cell_type": "code",
   "execution_count": 1,
   "metadata": {
    "collapsed": true,
    "nbgrader": {}
   },
   "outputs": [],
   "source": [
    "%matplotlib inline\n",
    "import matplotlib.pyplot as plt\n",
    "import numpy as np\n",
    "import scipy.optimize as opt"
   ]
  },
  {
   "cell_type": "markdown",
   "metadata": {
    "nbgrader": {}
   },
   "source": [
    "## Fitting a decaying oscillation"
   ]
  },
  {
   "cell_type": "markdown",
   "metadata": {
    "nbgrader": {}
   },
   "source": [
    "For this problem you are given a raw dataset in the file `decay_osc.npz`. This file contains three arrays:\n",
    "\n",
    "* `tdata`: an array of time values\n",
    "* `ydata`: an array of y values\n",
    "* `dy`: the absolute uncertainties (standard deviations) in y\n",
    "\n",
    "Your job is to fit the following model to this data:\n",
    "\n",
    "$$ y(t) = A e^{-\\lambda t} \\cos{\\omega t + \\delta} $$\n",
    "\n",
    "First, import the data using NumPy and make an appropriately styled error bar plot of the raw data."
   ]
  },
  {
   "cell_type": "code",
   "execution_count": 18,
   "metadata": {
    "collapsed": false,
    "deletable": false,
    "nbgrader": {
     "checksum": "5cf7935f0a5192079e45056e8620e91f",
     "grade": true,
     "grade_id": "decayingosc-a",
     "locked": false,
     "points": 5,
     "solution": true
    }
   },
   "outputs": [
    {
     "data": {
      "image/png": "[encoded data removed]",
      "text/plain": [
       "<matplotlib.figure.Figure at 0x7f4a7e9b6518>"
      ]
     },
     "metadata": {},
     "output_type": "display_data"
    }
   ],
   "source": [
    "# YOUR CODE HERE\n",
    "data = np.load('decay_osc.npz')\n",
    "\n",
    "tdata = data['tdata']\n",
    "ydata = data['ydata']\n",
    "dy = data['dy']\n",
    "\n",
    "plt.bar(tdata, dy)\n",
    "plt.xlabel('Time')\n",
    "plt.ylabel('Y')\n",
    "plt.title('Decay Osc')"
   ]
  },
  {
   "cell_type": "markdown",
   "metadata": {
    "nbgrader": {}
   },
   "source": [
    "Now, using `scipy.optimize.curve_fit` to fit this model and determine the estimates and uncertainties for the parameters:\n",
    "\n",
    "* Print the parameters estimates and uncertainties.\n",
    "* Plot the raw and best fit model.\n",
    "* You will likely have to pass an initial guess to `curve_fit` to get a good fit.\n",
    "* Treat the uncertainties in $y$ as *absolute errors* by passing `absolute_sigma=True`. "
   ]
  },
  {
   "cell_type": "code",
   "execution_count": 42,
   "metadata": {
    "collapsed": false,
    "deletable": false,
    "nbgrader": {
     "checksum": "0f8605c573cee8b0e27f3f0d167957c5",
     "grade": true,
     "grade_id": "decayingosc-b",
     "locked": false,
     "points": 5,
     "solution": true
    }
   },
   "outputs": [
    {
     "name": "stdout",
     "output_type": "stream",
     "text": [
      "A:  [-0.50296262 -0.03573069  1.0342981   0.23912605]\n",
      "B:  [[ 0.11836326 -0.01686738  0.00074642 -0.003878  ]\n",
      " [-0.01686738  0.00302134 -0.00014158 -0.00028364]\n",
      " [ 0.00074642 -0.00014158  0.0003546  -0.00047108]\n",
      " [-0.003878   -0.00028364 -0.00047108  0.02196167]]\n"
     ]
    },
    {
     "data": {
      "image/png": "[encoded data removed]",
      "text/plain": [
       "<matplotlib.figure.Figure at 0x7f4a7e7a2f28>"
      ]
     },
     "metadata": {},
     "output_type": "display_data"
    }
   ],
   "source": [
    "# YOUR CODE HERE\n",
    "def model(t, A, λ, ω, δ):\n",
    "    return A * np.exp(t * -λ) * np.cos(ω * t) + δ\n",
    "\n",
    "# alpha, lam, omega, delta  = opt.curve_fit(model, tdata, dy, p0=None, sigma=None, absolute_sigma=True)\n",
    "alpha, beta = opt.curve_fit(model, tdata, dy, p0=None, sigma=None, absolute_sigma=True)\n",
    "\n",
    "print (\"A: \", alpha)\n",
    "print (\"B: \", beta)\n",
    "\n",
    "plt.plot(alpha, beta)\n",
    "plt.xlabel('A')\n",
    "plt.ylabel('B')\n",
    "plt.title('Decay Osc');"
   ]
  },
  {
   "cell_type": "code",
   "execution_count": null,
   "metadata": {
    "collapsed": true
   },
   "outputs": [],
   "source": []
  }
 ],
 "metadata": {
  "kernelspec": {
   "display_name": "Python 3",
   "language": "python",
   "name": "python3"
  },
  "language_info": {
   "codemirror_mode": {
    "name": "ipython",
    "version": 3
   },
   "file_extension": ".py",
   "mimetype": "text/x-python",
   "name": "python",
   "nbconvert_exporter": "python",
   "pygments_lexer": "ipython3",
   "version": "3.4.3"
  }
 },
 "nbformat": 4,
 "nbformat_minor": 0
}

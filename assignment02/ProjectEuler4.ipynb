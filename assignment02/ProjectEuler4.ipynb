{
 "cells": [
  {
   "cell_type": "markdown",
   "metadata": {
    "nbgrader": {}
   },
   "source": [
    "# Project Euler: Problem 4"
   ]
  },
  {
   "cell_type": "markdown",
   "metadata": {
    "nbgrader": {}
   },
   "source": [
    "https://projecteuler.net/problem=4\n",
    "\n",
    "A palindromic number reads the same both ways. The largest palindrome made from the product of two 2-digit numbers is 9009 = 91 × 99.\n",
    "\n",
    "Find the largest palindrome made from the product of two 3-digit numbers."
   ]
  },
  {
   "cell_type": "code",
   "execution_count": 16,
   "metadata": {
    "collapsed": false,
    "deletable": false,
    "nbgrader": {
     "checksum": "a5ba17ba2d63cc55e19ba1f4f9b03664",
     "grade": true,
     "grade_id": "projecteuler4",
     "locked": false,
     "points": 10,
     "solution": true
    }
   },
   "outputs": [
    {
     "name": "stdout",
     "output_type": "stream",
     "text": [
      "906609 = 993 * 913\n"
     ]
    }
   ],
   "source": [
    "x = 999\n",
    "\n",
    "maxP = 0\n",
    "maxX = 0\n",
    "maxY = 0\n",
    "\n",
    "while x > 99:\n",
    "    y = 999\n",
    "    while y > 99:\n",
    "        string = str(x * y)\n",
    "        \n",
    "        if string[:3] == string[:2:-1] and x * y > maxP:\n",
    "            maxP = x * y\n",
    "            maxX = x\n",
    "            maxY = y\n",
    "            \n",
    "        y -= 1\n",
    "    x -= 1\n",
    "    \n",
    "print (str(maxP) + \" = \" + (str(maxX)) + \" * \" + (str(maxY)))"
   ]
  },
  {
   "cell_type": "code",
   "execution_count": null,
   "metadata": {
    "collapsed": true
   },
   "outputs": [],
   "source": []
  },
  {
   "cell_type": "code",
   "execution_count": null,
   "metadata": {
    "collapsed": true
   },
   "outputs": [],
   "source": []
  }
 ],
 "metadata": {
  "kernelspec": {
   "display_name": "Python 3",
   "language": "python",
   "name": "python3"
  },
  "language_info": {
   "codemirror_mode": {
    "name": "ipython",
    "version": 3
   },
   "file_extension": ".py",
   "mimetype": "text/x-python",
   "name": "python",
   "nbconvert_exporter": "python",
   "pygments_lexer": "ipython3",
   "version": "3.4.3"
  }
 },
 "nbformat": 4,
 "nbformat_minor": 0
}

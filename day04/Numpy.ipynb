{
 "cells": [
  {
   "cell_type": "markdown",
   "metadata": {},
   "source": [
    "# NumPy: Numerical Arrays for Python"
   ]
  },
  {
   "cell_type": "markdown",
   "metadata": {},
   "source": [
    "**Learning Objectives:** Learn how to create, transform and visualize multidimensional data of a single type using NumPy. \n",
    "\n",
    "NumPy is the foundation for scientific computing and data science in Python. Its core data structure is a multidimensional array with the following characteristics:\n",
    "\n",
    "* Any number of dimensions\n",
    "* All elements of an array have the same data type\n",
    "* Array elements are usually native data dtype\n",
    "* The memory for an array is a contiguous block that can be easily passed to other numerical libraries (BLAS, LAPACK, etc.).\n",
    "* Most of NumPy is implemented in C, so it is fast."
   ]
  },
  {
   "cell_type": "markdown",
   "metadata": {},
   "source": [
    "## Plotting"
   ]
  },
  {
   "cell_type": "markdown",
   "metadata": {},
   "source": [
    "While this notebook doesn't focus on plotting, Matplotlib will be used to make a few basic plots."
   ]
  },
  {
   "cell_type": "code",
   "execution_count": 1,
   "metadata": {
    "collapsed": false
   },
   "outputs": [],
   "source": [
    "%matplotlib inline\n",
    "from matplotlib import pyplot as plt\n",
    "from matplotlib import style\n",
    "\n",
    "style.use(['seaborn-darkgrid', 'seaborn-notebook'])"
   ]
  },
  {
   "cell_type": "markdown",
   "metadata": {},
   "source": [
    "The `vizarray` package will be used to visualize NumPy arrays:"
   ]
  },
  {
   "cell_type": "code",
   "execution_count": 2,
   "metadata": {
    "collapsed": false
   },
   "outputs": [],
   "source": [
    "import vizarray as va"
   ]
  },
  {
   "cell_type": "markdown",
   "metadata": {},
   "source": [
    "## Multidimensional array type"
   ]
  },
  {
   "cell_type": "markdown",
   "metadata": {},
   "source": [
    "This is the canonical way you should import Numpy:"
   ]
  },
  {
   "cell_type": "code",
   "execution_count": 3,
   "metadata": {
    "collapsed": false
   },
   "outputs": [],
   "source": [
    "import numpy as np"
   ]
  },
  {
   "cell_type": "markdown",
   "metadata": {},
   "source": [
    "NumPy arrays can be contructed from iterables:"
   ]
  },
  {
   "cell_type": "code",
   "execution_count": 4,
   "metadata": {
    "collapsed": false
   },
   "outputs": [],
   "source": [
    "data = [0,2,4,6]\n",
    "a = np.array(data)"
   ]
  },
  {
   "cell_type": "code",
   "execution_count": 5,
   "metadata": {
    "collapsed": false
   },
   "outputs": [
    {
     "data": {
      "text/plain": [
       "numpy.ndarray"
      ]
     },
     "execution_count": 5,
     "metadata": {},
     "output_type": "execute_result"
    }
   ],
   "source": [
    "type(a)"
   ]
  },
  {
   "cell_type": "code",
   "execution_count": 6,
   "metadata": {
    "collapsed": false
   },
   "outputs": [
    {
     "data": {
      "text/plain": [
       "array([0, 2, 4, 6])"
      ]
     },
     "execution_count": 6,
     "metadata": {},
     "output_type": "execute_result"
    }
   ],
   "source": [
    "a"
   ]
  },
  {
   "cell_type": "markdown",
   "metadata": {},
   "source": [
    "The `vz.vizarray` function can be used to visualize a 1d or 2d NumPy array using a colormap:"
   ]
  },
  {
   "cell_type": "code",
   "execution_count": 7,
   "metadata": {
    "collapsed": false
   },
   "outputs": [
    {
     "data": {
      "text/html": [
       "<style type=\"text/css\">table.blockgrid {border: none;} .blockgrid tr {border: none;} .blockgrid td {padding: 0px;} #blocks7b758c38-e6cd-45e1-8ba5-f1770714ee37 td {border: 1px solid white;}</style><table id=\"blocks7b758c38-e6cd-45e1-8ba5-f1770714ee37\" class=\"blockgrid\"><tbody><tr><td title=\"Index: [0, 0]&#10;Color: (68, 1, 84)\" style=\"width: 30px; height: 30px;background-color: rgb(68, 1, 84);\"></td><td title=\"Index: [0, 1]&#10;Color: (49, 104, 142)\" style=\"width: 30px; height: 30px;background-color: rgb(49, 104, 142);\"></td><td title=\"Index: [0, 2]&#10;Color: (53, 183, 121)\" style=\"width: 30px; height: 30px;background-color: rgb(53, 183, 121);\"></td><td title=\"Index: [0, 3]&#10;Color: (253, 231, 37)\" style=\"width: 30px; height: 30px;background-color: rgb(253, 231, 37);\"></td></tr></tbody></table>"
      ],
      "text/plain": [
       "<ipythonblocks.ipythonblocks.BlockGrid at 0x7f2443f2a3c8>"
      ]
     },
     "execution_count": 7,
     "metadata": {},
     "output_type": "execute_result"
    }
   ],
   "source": [
    "va.vizarray(a)"
   ]
  },
  {
   "cell_type": "markdown",
   "metadata": {},
   "source": [
    "The shape of the array:"
   ]
  },
  {
   "cell_type": "code",
   "execution_count": 8,
   "metadata": {
    "collapsed": false
   },
   "outputs": [
    {
     "data": {
      "text/plain": [
       "(4,)"
      ]
     },
     "execution_count": 8,
     "metadata": {},
     "output_type": "execute_result"
    }
   ],
   "source": [
    "a.shape"
   ]
  },
  {
   "cell_type": "markdown",
   "metadata": {},
   "source": [
    "The number of array dimensions:"
   ]
  },
  {
   "cell_type": "code",
   "execution_count": 9,
   "metadata": {
    "collapsed": false
   },
   "outputs": [
    {
     "data": {
      "text/plain": [
       "1"
      ]
     },
     "execution_count": 9,
     "metadata": {},
     "output_type": "execute_result"
    }
   ],
   "source": [
    "a.ndim"
   ]
  },
  {
   "cell_type": "markdown",
   "metadata": {},
   "source": [
    "The number of array elements:"
   ]
  },
  {
   "cell_type": "code",
   "execution_count": 10,
   "metadata": {
    "collapsed": false
   },
   "outputs": [
    {
     "data": {
      "text/plain": [
       "4"
      ]
     },
     "execution_count": 10,
     "metadata": {},
     "output_type": "execute_result"
    }
   ],
   "source": [
    "a.size"
   ]
  },
  {
   "cell_type": "markdown",
   "metadata": {},
   "source": [
    "The number of bytes the array takes up:"
   ]
  },
  {
   "cell_type": "code",
   "execution_count": 11,
   "metadata": {
    "collapsed": false
   },
   "outputs": [
    {
     "data": {
      "text/plain": [
       "32"
      ]
     },
     "execution_count": 11,
     "metadata": {},
     "output_type": "execute_result"
    }
   ],
   "source": [
    "a.nbytes"
   ]
  },
  {
   "cell_type": "markdown",
   "metadata": {},
   "source": [
    "The `dtype` attribute describes the \"data type\" of the elements:"
   ]
  },
  {
   "cell_type": "code",
   "execution_count": 12,
   "metadata": {
    "collapsed": false
   },
   "outputs": [
    {
     "data": {
      "text/plain": [
       "dtype('int64')"
      ]
     },
     "execution_count": 12,
     "metadata": {},
     "output_type": "execute_result"
    }
   ],
   "source": [
    "a.dtype"
   ]
  },
  {
   "cell_type": "markdown",
   "metadata": {},
   "source": [
    "## Creating arrays"
   ]
  },
  {
   "cell_type": "markdown",
   "metadata": {},
   "source": [
    "Multidimensional arrays can be created with nested lists or tuples:"
   ]
  },
  {
   "cell_type": "code",
   "execution_count": 13,
   "metadata": {
    "collapsed": false
   },
   "outputs": [],
   "source": [
    "data = [[0.0,2.0,4.0,6.0],[1.0,3.0,5.0,7.0]]\n",
    "b = np.array(data)"
   ]
  },
  {
   "cell_type": "code",
   "execution_count": 14,
   "metadata": {
    "collapsed": false
   },
   "outputs": [
    {
     "data": {
      "text/plain": [
       "array([[ 0.,  2.,  4.,  6.],\n",
       "       [ 1.,  3.,  5.,  7.]])"
      ]
     },
     "execution_count": 14,
     "metadata": {},
     "output_type": "execute_result"
    }
   ],
   "source": [
    "b"
   ]
  },
  {
   "cell_type": "code",
   "execution_count": 15,
   "metadata": {
    "collapsed": false
   },
   "outputs": [
    {
     "data": {
      "text/html": [
       "<style type=\"text/css\">table.blockgrid {border: none;} .blockgrid tr {border: none;} .blockgrid td {padding: 0px;} #blocksea75b15d-d38f-4782-a088-bd82108048da td {border: 1px solid white;}</style><table id=\"blocksea75b15d-d38f-4782-a088-bd82108048da\" class=\"blockgrid\"><tbody><tr><td title=\"Index: [0, 0]&#10;Color: (68, 1, 84)\" style=\"width: 30px; height: 30px;background-color: rgb(68, 1, 84);\"></td><td title=\"Index: [0, 1]&#10;Color: (54, 92, 141)\" style=\"width: 30px; height: 30px;background-color: rgb(54, 92, 141);\"></td><td title=\"Index: [0, 2]&#10;Color: (31, 161, 135)\" style=\"width: 30px; height: 30px;background-color: rgb(31, 161, 135);\"></td><td title=\"Index: [0, 3]&#10;Color: (160, 218, 57)\" style=\"width: 30px; height: 30px;background-color: rgb(160, 218, 57);\"></td></tr><tr><td title=\"Index: [1, 0]&#10;Color: (70, 50, 126)\" style=\"width: 30px; height: 30px;background-color: rgb(70, 50, 126);\"></td><td title=\"Index: [1, 1]&#10;Color: (39, 127, 142)\" style=\"width: 30px; height: 30px;background-color: rgb(39, 127, 142);\"></td><td title=\"Index: [1, 2]&#10;Color: (74, 193, 109)\" style=\"width: 30px; height: 30px;background-color: rgb(74, 193, 109);\"></td><td title=\"Index: [1, 3]&#10;Color: (253, 231, 37)\" style=\"width: 30px; height: 30px;background-color: rgb(253, 231, 37);\"></td></tr></tbody></table>"
      ],
      "text/plain": [
       "<ipythonblocks.ipythonblocks.BlockGrid at 0x7f2443f2a7f0>"
      ]
     },
     "execution_count": 15,
     "metadata": {},
     "output_type": "execute_result"
    }
   ],
   "source": [
    "va.vizarray(b)"
   ]
  },
  {
   "cell_type": "code",
   "execution_count": 16,
   "metadata": {
    "collapsed": false
   },
   "outputs": [
    {
     "data": {
      "text/plain": [
       "((2, 4), 2, 8, 64)"
      ]
     },
     "execution_count": 16,
     "metadata": {},
     "output_type": "execute_result"
    }
   ],
   "source": [
    "b.shape, b.ndim, b.size, b.nbytes"
   ]
  },
  {
   "cell_type": "markdown",
   "metadata": {},
   "source": [
    "The `arange` function is similar to Python's builtin `range` function, but creates an array:"
   ]
  },
  {
   "cell_type": "code",
   "execution_count": 17,
   "metadata": {
    "collapsed": false
   },
   "outputs": [
    {
     "data": {
      "text/plain": [
       "array([ 0.,  1.,  2.,  3.,  4.,  5.,  6.,  7.,  8.,  9.])"
      ]
     },
     "execution_count": 17,
     "metadata": {},
     "output_type": "execute_result"
    }
   ],
   "source": [
    "c = np.arange(0.0, 10.0, 1.0) # Step size of 1.0\n",
    "c"
   ]
  },
  {
   "cell_type": "markdown",
   "metadata": {},
   "source": [
    "The `linspace` function is similar, but allows you to specify the number of points:"
   ]
  },
  {
   "cell_type": "code",
   "execution_count": 18,
   "metadata": {
    "collapsed": false
   },
   "outputs": [
    {
     "data": {
      "text/plain": [
       "array([ 0. ,  0.5,  1. ,  1.5,  2. ,  2.5,  3. ,  3.5,  4. ,  4.5,  5. ])"
      ]
     },
     "execution_count": 18,
     "metadata": {},
     "output_type": "execute_result"
    }
   ],
   "source": [
    "e = np.linspace(0.0, 5.0, 11) # 11 points\n",
    "e"
   ]
  },
  {
   "cell_type": "markdown",
   "metadata": {},
   "source": [
    "There are also `empty`, `zeros` and `ones` functions:"
   ]
  },
  {
   "cell_type": "code",
   "execution_count": 19,
   "metadata": {
    "collapsed": false
   },
   "outputs": [
    {
     "data": {
      "text/plain": [
       "array([[  6.90675796e-310,   2.09580592e-316,   6.90674968e-310,\n",
       "          6.90674944e-310],\n",
       "       [  6.90674968e-310,   6.90674945e-310,   6.90674945e-310,\n",
       "          6.90674945e-310],\n",
       "       [  6.90674945e-310,   6.90674945e-310,   5.07904227e-317,\n",
       "          5.12893895e-317],\n",
       "       [  6.90675231e-310,   6.90675810e-310,   0.00000000e+000,\n",
       "          5.12678877e-317]])"
      ]
     },
     "execution_count": 19,
     "metadata": {},
     "output_type": "execute_result"
    }
   ],
   "source": [
    "np.empty((4,4))"
   ]
  },
  {
   "cell_type": "code",
   "execution_count": 20,
   "metadata": {
    "collapsed": false
   },
   "outputs": [
    {
     "data": {
      "text/plain": [
       "array([[ 0.,  0.,  0.],\n",
       "       [ 0.,  0.,  0.],\n",
       "       [ 0.,  0.,  0.]])"
      ]
     },
     "execution_count": 20,
     "metadata": {},
     "output_type": "execute_result"
    }
   ],
   "source": [
    "np.zeros((3,3))"
   ]
  },
  {
   "cell_type": "code",
   "execution_count": 21,
   "metadata": {
    "collapsed": false
   },
   "outputs": [
    {
     "data": {
      "text/plain": [
       "array([[ 1.,  1.,  1.],\n",
       "       [ 1.,  1.,  1.],\n",
       "       [ 1.,  1.,  1.]])"
      ]
     },
     "execution_count": 21,
     "metadata": {},
     "output_type": "execute_result"
    }
   ],
   "source": [
    "np.ones((3,3))"
   ]
  },
  {
   "cell_type": "markdown",
   "metadata": {},
   "source": [
    "See also:\n",
    "\n",
    "* `empty_like`, `ones_like`, `zeros_like`\n",
    "* `eye`, `identity`, `diag`"
   ]
  },
  {
   "cell_type": "markdown",
   "metadata": {},
   "source": [
    "## dtype"
   ]
  },
  {
   "cell_type": "markdown",
   "metadata": {},
   "source": [
    "Arrays have a `dtype` attribute that encapsulates the \"data type\" of each element. It can be set:\n",
    "\n",
    "* Implicitely by the element type\n",
    "* By passing the `dtype` argument to an array creation function\n",
    "\n",
    "Here is an integer valued array:"
   ]
  },
  {
   "cell_type": "code",
   "execution_count": 22,
   "metadata": {
    "collapsed": false
   },
   "outputs": [],
   "source": [
    "a = np.array([0,1,2,3])"
   ]
  },
  {
   "cell_type": "code",
   "execution_count": 23,
   "metadata": {
    "collapsed": false
   },
   "outputs": [
    {
     "data": {
      "text/plain": [
       "(array([0, 1, 2, 3]), dtype('int64'))"
      ]
     },
     "execution_count": 23,
     "metadata": {},
     "output_type": "execute_result"
    }
   ],
   "source": [
    "a, a.dtype"
   ]
  },
  {
   "cell_type": "markdown",
   "metadata": {},
   "source": [
    "All array creation functions accept an optional `dtype` argument:"
   ]
  },
  {
   "cell_type": "code",
   "execution_count": 24,
   "metadata": {
    "collapsed": false
   },
   "outputs": [
    {
     "data": {
      "text/plain": [
       "array([[ 0.+0.j,  0.+0.j],\n",
       "       [ 0.+0.j,  0.+0.j]], dtype=complex64)"
      ]
     },
     "execution_count": 24,
     "metadata": {},
     "output_type": "execute_result"
    }
   ],
   "source": [
    "b = np.zeros((2,2), dtype=np.complex64)\n",
    "b"
   ]
  },
  {
   "cell_type": "code",
   "execution_count": 25,
   "metadata": {
    "collapsed": false
   },
   "outputs": [
    {
     "data": {
      "text/plain": [
       "array([ 0.,  2.,  4.,  6.,  8.])"
      ]
     },
     "execution_count": 25,
     "metadata": {},
     "output_type": "execute_result"
    }
   ],
   "source": [
    "c = np.arange(0, 10, 2, dtype=np.float)\n",
    "c"
   ]
  },
  {
   "cell_type": "markdown",
   "metadata": {},
   "source": [
    "You can use the `astype` method to create a copy of the array with a given `dtype`:"
   ]
  },
  {
   "cell_type": "code",
   "execution_count": 26,
   "metadata": {
    "collapsed": false
   },
   "outputs": [
    {
     "data": {
      "text/plain": [
       "array([0, 2, 4, 6, 8])"
      ]
     },
     "execution_count": 26,
     "metadata": {},
     "output_type": "execute_result"
    }
   ],
   "source": [
    "d = c.astype(dtype=np.int)\n",
    "d"
   ]
  },
  {
   "cell_type": "markdown",
   "metadata": {},
   "source": [
    "IPython's tab completion is useful for exploring the various available `dtypes`:"
   ]
  },
  {
   "cell_type": "code",
   "execution_count": 27,
   "metadata": {
    "collapsed": false
   },
   "outputs": [
    {
     "data": {
      "text/plain": [
       "np.float\n",
       "np.float128\n",
       "np.float16\n",
       "np.float32\n",
       "np.float64\n",
       "np.float_\n",
       "np.floating"
      ]
     },
     "metadata": {},
     "output_type": "display_data"
    }
   ],
   "source": [
    "np.float*?"
   ]
  },
  {
   "cell_type": "markdown",
   "metadata": {},
   "source": [
    "The NumPy documentation on [dtypes](http://docs.scipy.org/doc/numpy/reference/arrays.dtypes.html) describes the many other ways of specifying dtypes."
   ]
  },
  {
   "cell_type": "markdown",
   "metadata": {},
   "source": [
    "## Array operations"
   ]
  },
  {
   "cell_type": "markdown",
   "metadata": {},
   "source": [
    "Basic mathematical operations are **elementwise** for:\n",
    "\n",
    "* Scalars and arrays\n",
    "* Arrays and arrays\n",
    "\n",
    "Fill an array with a value:"
   ]
  },
  {
   "cell_type": "code",
   "execution_count": 28,
   "metadata": {
    "collapsed": false
   },
   "outputs": [
    {
     "data": {
      "text/plain": [
       "array([[ 0.1,  0.1,  0.1],\n",
       "       [ 0.1,  0.1,  0.1],\n",
       "       [ 0.1,  0.1,  0.1]])"
      ]
     },
     "execution_count": 28,
     "metadata": {},
     "output_type": "execute_result"
    }
   ],
   "source": [
    "a = np.empty((3,3))\n",
    "a.fill(0.1)\n",
    "a"
   ]
  },
  {
   "cell_type": "code",
   "execution_count": 29,
   "metadata": {
    "collapsed": false
   },
   "outputs": [
    {
     "data": {
      "text/plain": [
       "array([[ 1.,  1.,  1.],\n",
       "       [ 1.,  1.,  1.],\n",
       "       [ 1.,  1.,  1.]])"
      ]
     },
     "execution_count": 29,
     "metadata": {},
     "output_type": "execute_result"
    }
   ],
   "source": [
    "b = np.ones((3,3))\n",
    "b"
   ]
  },
  {
   "cell_type": "markdown",
   "metadata": {},
   "source": [
    "Addition is elementwise:"
   ]
  },
  {
   "cell_type": "code",
   "execution_count": 30,
   "metadata": {
    "collapsed": false
   },
   "outputs": [
    {
     "data": {
      "text/plain": [
       "array([[ 1.1,  1.1,  1.1],\n",
       "       [ 1.1,  1.1,  1.1],\n",
       "       [ 1.1,  1.1,  1.1]])"
      ]
     },
     "execution_count": 30,
     "metadata": {},
     "output_type": "execute_result"
    }
   ],
   "source": [
    "a+b"
   ]
  },
  {
   "cell_type": "markdown",
   "metadata": {},
   "source": [
    "Division is elementwise:"
   ]
  },
  {
   "cell_type": "code",
   "execution_count": 31,
   "metadata": {
    "collapsed": false
   },
   "outputs": [
    {
     "data": {
      "text/plain": [
       "array([[ 10.,  10.,  10.],\n",
       "       [ 10.,  10.,  10.],\n",
       "       [ 10.,  10.,  10.]])"
      ]
     },
     "execution_count": 31,
     "metadata": {},
     "output_type": "execute_result"
    }
   ],
   "source": [
    "b/a"
   ]
  },
  {
   "cell_type": "markdown",
   "metadata": {},
   "source": [
    "As are powers:"
   ]
  },
  {
   "cell_type": "code",
   "execution_count": 32,
   "metadata": {
    "collapsed": false
   },
   "outputs": [
    {
     "data": {
      "text/plain": [
       "array([[ 0.01,  0.01,  0.01],\n",
       "       [ 0.01,  0.01,  0.01],\n",
       "       [ 0.01,  0.01,  0.01]])"
      ]
     },
     "execution_count": 32,
     "metadata": {},
     "output_type": "execute_result"
    }
   ],
   "source": [
    "a**2"
   ]
  },
  {
   "cell_type": "markdown",
   "metadata": {},
   "source": [
    "Scalar multiplication is also elementwise:"
   ]
  },
  {
   "cell_type": "code",
   "execution_count": 33,
   "metadata": {
    "collapsed": false
   },
   "outputs": [
    {
     "data": {
      "text/plain": [
       "array([[ 3.14159265,  3.14159265,  3.14159265],\n",
       "       [ 3.14159265,  3.14159265,  3.14159265],\n",
       "       [ 3.14159265,  3.14159265,  3.14159265]])"
      ]
     },
     "execution_count": 33,
     "metadata": {},
     "output_type": "execute_result"
    }
   ],
   "source": [
    "np.pi*b"
   ]
  },
  {
   "cell_type": "markdown",
   "metadata": {},
   "source": [
    "## Indexing and slicing"
   ]
  },
  {
   "cell_type": "markdown",
   "metadata": {},
   "source": [
    "Indexing and slicing provide an efficient way of getting the values in an array and modifying them."
   ]
  },
  {
   "cell_type": "code",
   "execution_count": 34,
   "metadata": {
    "collapsed": false
   },
   "outputs": [],
   "source": [
    "a = np.random.rand(10,10)"
   ]
  },
  {
   "cell_type": "markdown",
   "metadata": {},
   "source": [
    "The `enable` function is part of `vizarray` and enables a nice display of arrays:"
   ]
  },
  {
   "cell_type": "code",
   "execution_count": 35,
   "metadata": {
    "collapsed": false
   },
   "outputs": [],
   "source": [
    "va.enable_notebook()"
   ]
  },
  {
   "cell_type": "code",
   "execution_count": 39,
   "metadata": {
    "collapsed": false
   },
   "outputs": [
    {
     "data": {
      "text/html": [
       "<style type=\"text/css\">table.blockgrid {border: none;} .blockgrid tr {border: none;} .blockgrid td {padding: 0px;} #blocksa91175bf-c253-404d-a0e9-6f86d570f379 td {border: 1px solid white;}</style><table id=\"blocksa91175bf-c253-404d-a0e9-6f86d570f379\" class=\"blockgrid\"><tbody><tr><td title=\"Index: [0, 0]&#10;Color: (72, 28, 110)\" style=\"width: 30px; height: 30px;background-color: rgb(72, 28, 110);\"></td><td title=\"Index: [0, 1]&#10;Color: (37, 133, 142)\" style=\"width: 30px; height: 30px;background-color: rgb(37, 133, 142);\"></td><td title=\"Index: [0, 2]&#10;Color: (39, 127, 142)\" style=\"width: 30px; height: 30px;background-color: rgb(39, 127, 142);\"></td><td title=\"Index: [0, 3]&#10;Color: (72, 35, 116)\" style=\"width: 30px; height: 30px;background-color: rgb(72, 35, 116);\"></td><td title=\"Index: [0, 4]&#10;Color: (165, 219, 54)\" style=\"width: 30px; height: 30px;background-color: rgb(165, 219, 54);\"></td><td title=\"Index: [0, 5]&#10;Color: (58, 83, 139)\" style=\"width: 30px; height: 30px;background-color: rgb(58, 83, 139);\"></td><td title=\"Index: [0, 6]&#10;Color: (64, 69, 136)\" style=\"width: 30px; height: 30px;background-color: rgb(64, 69, 136);\"></td><td title=\"Index: [0, 7]&#10;Color: (39, 126, 142)\" style=\"width: 30px; height: 30px;background-color: rgb(39, 126, 142);\"></td><td title=\"Index: [0, 8]&#10;Color: (103, 204, 92)\" style=\"width: 30px; height: 30px;background-color: rgb(103, 204, 92);\"></td><td title=\"Index: [0, 9]&#10;Color: (170, 220, 50)\" style=\"width: 30px; height: 30px;background-color: rgb(170, 220, 50);\"></td></tr><tr><td title=\"Index: [1, 0]&#10;Color: (72, 33, 115)\" style=\"width: 30px; height: 30px;background-color: rgb(72, 33, 115);\"></td><td title=\"Index: [1, 1]&#10;Color: (103, 204, 92)\" style=\"width: 30px; height: 30px;background-color: rgb(103, 204, 92);\"></td><td title=\"Index: [1, 2]&#10;Color: (66, 63, 133)\" style=\"width: 30px; height: 30px;background-color: rgb(66, 63, 133);\"></td><td title=\"Index: [1, 3]&#10;Color: (176, 221, 47)\" style=\"width: 30px; height: 30px;background-color: rgb(176, 221, 47);\"></td><td title=\"Index: [1, 4]&#10;Color: (181, 222, 43)\" style=\"width: 30px; height: 30px;background-color: rgb(181, 222, 43);\"></td><td title=\"Index: [1, 5]&#10;Color: (90, 200, 100)\" style=\"width: 30px; height: 30px;background-color: rgb(90, 200, 100);\"></td><td title=\"Index: [1, 6]&#10;Color: (229, 228, 25)\" style=\"width: 30px; height: 30px;background-color: rgb(229, 228, 25);\"></td><td title=\"Index: [1, 7]&#10;Color: (33, 166, 133)\" style=\"width: 30px; height: 30px;background-color: rgb(33, 166, 133);\"></td><td title=\"Index: [1, 8]&#10;Color: (46, 109, 142)\" style=\"width: 30px; height: 30px;background-color: rgb(46, 109, 142);\"></td><td title=\"Index: [1, 9]&#10;Color: (54, 92, 141)\" style=\"width: 30px; height: 30px;background-color: rgb(54, 92, 141);\"></td></tr><tr><td title=\"Index: [2, 0]&#10;Color: (53, 183, 121)\" style=\"width: 30px; height: 30px;background-color: rgb(53, 183, 121);\"></td><td title=\"Index: [2, 1]&#10;Color: (155, 217, 60)\" style=\"width: 30px; height: 30px;background-color: rgb(155, 217, 60);\"></td><td title=\"Index: [2, 2]&#10;Color: (68, 1, 84)\" style=\"width: 30px; height: 30px;background-color: rgb(68, 1, 84);\"></td><td title=\"Index: [2, 3]&#10;Color: (71, 42, 122)\" style=\"width: 30px; height: 30px;background-color: rgb(71, 42, 122);\"></td><td title=\"Index: [2, 4]&#10;Color: (234, 229, 26)\" style=\"width: 30px; height: 30px;background-color: rgb(234, 229, 26);\"></td><td title=\"Index: [2, 5]&#10;Color: (41, 123, 142)\" style=\"width: 30px; height: 30px;background-color: rgb(41, 123, 142);\"></td><td title=\"Index: [2, 6]&#10;Color: (33, 142, 141)\" style=\"width: 30px; height: 30px;background-color: rgb(33, 142, 141);\"></td><td title=\"Index: [2, 7]&#10;Color: (71, 14, 97)\" style=\"width: 30px; height: 30px;background-color: rgb(71, 14, 97);\"></td><td title=\"Index: [2, 8]&#10;Color: (53, 95, 141)\" style=\"width: 30px; height: 30px;background-color: rgb(53, 95, 141);\"></td><td title=\"Index: [2, 9]&#10;Color: (47, 180, 124)\" style=\"width: 30px; height: 30px;background-color: rgb(47, 180, 124);\"></td></tr><tr><td title=\"Index: [3, 0]&#10;Color: (71, 46, 124)\" style=\"width: 30px; height: 30px;background-color: rgb(71, 46, 124);\"></td><td title=\"Index: [3, 1]&#10;Color: (49, 102, 142)\" style=\"width: 30px; height: 30px;background-color: rgb(49, 102, 142);\"></td><td title=\"Index: [3, 2]&#10;Color: (33, 144, 141)\" style=\"width: 30px; height: 30px;background-color: rgb(33, 144, 141);\"></td><td title=\"Index: [3, 3]&#10;Color: (72, 29, 111)\" style=\"width: 30px; height: 30px;background-color: rgb(72, 29, 111);\"></td><td title=\"Index: [3, 4]&#10;Color: (41, 121, 142)\" style=\"width: 30px; height: 30px;background-color: rgb(41, 121, 142);\"></td><td title=\"Index: [3, 5]&#10;Color: (197, 224, 33)\" style=\"width: 30px; height: 30px;background-color: rgb(197, 224, 33);\"></td><td title=\"Index: [3, 6]&#10;Color: (72, 27, 109)\" style=\"width: 30px; height: 30px;background-color: rgb(72, 27, 109);\"></td><td title=\"Index: [3, 7]&#10;Color: (194, 223, 35)\" style=\"width: 30px; height: 30px;background-color: rgb(194, 223, 35);\"></td><td title=\"Index: [3, 8]&#10;Color: (37, 132, 142)\" style=\"width: 30px; height: 30px;background-color: rgb(37, 132, 142);\"></td><td title=\"Index: [3, 9]&#10;Color: (63, 188, 115)\" style=\"width: 30px; height: 30px;background-color: rgb(63, 188, 115);\"></td></tr><tr><td title=\"Index: [4, 0]&#10;Color: (241, 229, 29)\" style=\"width: 30px; height: 30px;background-color: rgb(241, 229, 29);\"></td><td title=\"Index: [4, 1]&#10;Color: (72, 22, 104)\" style=\"width: 30px; height: 30px;background-color: rgb(72, 22, 104);\"></td><td title=\"Index: [4, 2]&#10;Color: (71, 42, 122)\" style=\"width: 30px; height: 30px;background-color: rgb(71, 42, 122);\"></td><td title=\"Index: [4, 3]&#10;Color: (32, 146, 140)\" style=\"width: 30px; height: 30px;background-color: rgb(32, 146, 140);\"></td><td title=\"Index: [4, 4]&#10;Color: (127, 211, 78)\" style=\"width: 30px; height: 30px;background-color: rgb(127, 211, 78);\"></td><td title=\"Index: [4, 5]&#10;Color: (132, 212, 75)\" style=\"width: 30px; height: 30px;background-color: rgb(132, 212, 75);\"></td><td title=\"Index: [4, 6]&#10;Color: (31, 152, 139)\" style=\"width: 30px; height: 30px;background-color: rgb(31, 152, 139);\"></td><td title=\"Index: [4, 7]&#10;Color: (30, 155, 138)\" style=\"width: 30px; height: 30px;background-color: rgb(30, 155, 138);\"></td><td title=\"Index: [4, 8]&#10;Color: (64, 189, 114)\" style=\"width: 30px; height: 30px;background-color: rgb(64, 189, 114);\"></td><td title=\"Index: [4, 9]&#10;Color: (31, 159, 136)\" style=\"width: 30px; height: 30px;background-color: rgb(31, 159, 136);\"></td></tr><tr><td title=\"Index: [5, 0]&#10;Color: (47, 180, 124)\" style=\"width: 30px; height: 30px;background-color: rgb(47, 180, 124);\"></td><td title=\"Index: [5, 1]&#10;Color: (50, 100, 142)\" style=\"width: 30px; height: 30px;background-color: rgb(50, 100, 142);\"></td><td title=\"Index: [5, 2]&#10;Color: (82, 197, 105)\" style=\"width: 30px; height: 30px;background-color: rgb(82, 197, 105);\"></td><td title=\"Index: [5, 3]&#10;Color: (88, 199, 101)\" style=\"width: 30px; height: 30px;background-color: rgb(88, 199, 101);\"></td><td title=\"Index: [5, 4]&#10;Color: (74, 193, 109)\" style=\"width: 30px; height: 30px;background-color: rgb(74, 193, 109);\"></td><td title=\"Index: [5, 5]&#10;Color: (234, 229, 26)\" style=\"width: 30px; height: 30px;background-color: rgb(234, 229, 26);\"></td><td title=\"Index: [5, 6]&#10;Color: (55, 90, 140)\" style=\"width: 30px; height: 30px;background-color: rgb(55, 90, 140);\"></td><td title=\"Index: [5, 7]&#10;Color: (142, 214, 69)\" style=\"width: 30px; height: 30px;background-color: rgb(142, 214, 69);\"></td><td title=\"Index: [5, 8]&#10;Color: (72, 27, 109)\" style=\"width: 30px; height: 30px;background-color: rgb(72, 27, 109);\"></td><td title=\"Index: [5, 9]&#10;Color: (110, 206, 88)\" style=\"width: 30px; height: 30px;background-color: rgb(110, 206, 88);\"></td></tr><tr><td title=\"Index: [6, 0]&#10;Color: (42, 120, 142)\" style=\"width: 30px; height: 30px;background-color: rgb(42, 120, 142);\"></td><td title=\"Index: [6, 1]&#10;Color: (246, 230, 32)\" style=\"width: 30px; height: 30px;background-color: rgb(246, 230, 32);\"></td><td title=\"Index: [6, 2]&#10;Color: (160, 218, 57)\" style=\"width: 30px; height: 30px;background-color: rgb(160, 218, 57);\"></td><td title=\"Index: [6, 3]&#10;Color: (40, 174, 128)\" style=\"width: 30px; height: 30px;background-color: rgb(40, 174, 128);\"></td><td title=\"Index: [6, 4]&#10;Color: (244, 230, 30)\" style=\"width: 30px; height: 30px;background-color: rgb(244, 230, 30);\"></td><td title=\"Index: [6, 5]&#10;Color: (248, 230, 33)\" style=\"width: 30px; height: 30px;background-color: rgb(248, 230, 33);\"></td><td title=\"Index: [6, 6]&#10;Color: (37, 172, 130)\" style=\"width: 30px; height: 30px;background-color: rgb(37, 172, 130);\"></td><td title=\"Index: [6, 7]&#10;Color: (34, 167, 133)\" style=\"width: 30px; height: 30px;background-color: rgb(34, 167, 133);\"></td><td title=\"Index: [6, 8]&#10;Color: (31, 154, 138)\" style=\"width: 30px; height: 30px;background-color: rgb(31, 154, 138);\"></td><td title=\"Index: [6, 9]&#10;Color: (71, 16, 99)\" style=\"width: 30px; height: 30px;background-color: rgb(71, 16, 99);\"></td></tr><tr><td title=\"Index: [7, 0]&#10;Color: (38, 130, 142)\" style=\"width: 30px; height: 30px;background-color: rgb(38, 130, 142);\"></td><td title=\"Index: [7, 1]&#10;Color: (122, 209, 81)\" style=\"width: 30px; height: 30px;background-color: rgb(122, 209, 81);\"></td><td title=\"Index: [7, 2]&#10;Color: (63, 188, 115)\" style=\"width: 30px; height: 30px;background-color: rgb(63, 188, 115);\"></td><td title=\"Index: [7, 3]&#10;Color: (42, 120, 142)\" style=\"width: 30px; height: 30px;background-color: rgb(42, 120, 142);\"></td><td title=\"Index: [7, 4]&#10;Color: (244, 230, 30)\" style=\"width: 30px; height: 30px;background-color: rgb(244, 230, 30);\"></td><td title=\"Index: [7, 5]&#10;Color: (71, 16, 99)\" style=\"width: 30px; height: 30px;background-color: rgb(71, 16, 99);\"></td><td title=\"Index: [7, 6]&#10;Color: (44, 115, 142)\" style=\"width: 30px; height: 30px;background-color: rgb(44, 115, 142);\"></td><td title=\"Index: [7, 7]&#10;Color: (64, 189, 114)\" style=\"width: 30px; height: 30px;background-color: rgb(64, 189, 114);\"></td><td title=\"Index: [7, 8]&#10;Color: (58, 83, 139)\" style=\"width: 30px; height: 30px;background-color: rgb(58, 83, 139);\"></td><td title=\"Index: [7, 9]&#10;Color: (68, 57, 131)\" style=\"width: 30px; height: 30px;background-color: rgb(68, 57, 131);\"></td></tr><tr><td title=\"Index: [8, 0]&#10;Color: (47, 180, 124)\" style=\"width: 30px; height: 30px;background-color: rgb(47, 180, 124);\"></td><td title=\"Index: [8, 1]&#10;Color: (70, 51, 127)\" style=\"width: 30px; height: 30px;background-color: rgb(70, 51, 127);\"></td><td title=\"Index: [8, 2]&#10;Color: (48, 106, 142)\" style=\"width: 30px; height: 30px;background-color: rgb(48, 106, 142);\"></td><td title=\"Index: [8, 3]&#10;Color: (68, 1, 84)\" style=\"width: 30px; height: 30px;background-color: rgb(68, 1, 84);\"></td><td title=\"Index: [8, 4]&#10;Color: (162, 218, 55)\" style=\"width: 30px; height: 30px;background-color: rgb(162, 218, 55);\"></td><td title=\"Index: [8, 5]&#10;Color: (71, 19, 101)\" style=\"width: 30px; height: 30px;background-color: rgb(71, 19, 101);\"></td><td title=\"Index: [8, 6]&#10;Color: (53, 95, 141)\" style=\"width: 30px; height: 30px;background-color: rgb(53, 95, 141);\"></td><td title=\"Index: [8, 7]&#10;Color: (35, 138, 141)\" style=\"width: 30px; height: 30px;background-color: rgb(35, 138, 141);\"></td><td title=\"Index: [8, 8]&#10;Color: (149, 216, 64)\" style=\"width: 30px; height: 30px;background-color: rgb(149, 216, 64);\"></td><td title=\"Index: [8, 9]&#10;Color: (33, 166, 133)\" style=\"width: 30px; height: 30px;background-color: rgb(33, 166, 133);\"></td></tr><tr><td title=\"Index: [9, 0]&#10;Color: (103, 204, 92)\" style=\"width: 30px; height: 30px;background-color: rgb(103, 204, 92);\"></td><td title=\"Index: [9, 1]&#10;Color: (39, 128, 142)\" style=\"width: 30px; height: 30px;background-color: rgb(39, 128, 142);\"></td><td title=\"Index: [9, 2]&#10;Color: (253, 231, 37)\" style=\"width: 30px; height: 30px;background-color: rgb(253, 231, 37);\"></td><td title=\"Index: [9, 3]&#10;Color: (70, 50, 126)\" style=\"width: 30px; height: 30px;background-color: rgb(70, 50, 126);\"></td><td title=\"Index: [9, 4]&#10;Color: (124, 210, 80)\" style=\"width: 30px; height: 30px;background-color: rgb(124, 210, 80);\"></td><td title=\"Index: [9, 5]&#10;Color: (72, 26, 108)\" style=\"width: 30px; height: 30px;background-color: rgb(72, 26, 108);\"></td><td title=\"Index: [9, 6]&#10;Color: (142, 214, 69)\" style=\"width: 30px; height: 30px;background-color: rgb(142, 214, 69);\"></td><td title=\"Index: [9, 7]&#10;Color: (31, 158, 137)\" style=\"width: 30px; height: 30px;background-color: rgb(31, 158, 137);\"></td><td title=\"Index: [9, 8]&#10;Color: (33, 165, 133)\" style=\"width: 30px; height: 30px;background-color: rgb(33, 165, 133);\"></td><td title=\"Index: [9, 9]&#10;Color: (68, 59, 132)\" style=\"width: 30px; height: 30px;background-color: rgb(68, 59, 132);\"></td></tr></tbody></table>"
      ],
      "text/plain": [
       "array([[ 0.08935821,  0.46041427,  0.43517234,  0.10849944,  0.86479976,\n",
       "         0.26517428,  0.21677265,  0.42947875,  0.76618996,  0.87107832],\n",
       "       [ 0.10597259,  0.76794299,  0.19728212,  0.87913215,  0.88757954,\n",
       "         0.74330746,  0.9553112 ,  0.59616453,  0.36124257,  0.2988428 ],\n",
       "       [ 0.6697005 ,  0.84934982,  0.01781206,  0.13324432,  0.96200481,\n",
       "         0.41955843,  0.49644271,  0.05192975,  0.30877126,  0.65356877],\n",
       "       [ 0.14633172,  0.33597031,  0.50447969,  0.09351594,  0.410228  ,\n",
       "         0.90872289,  0.08570042,  0.90634232,  0.45667949,  0.69280364],\n",
       "       [ 0.97426502,  0.07263388,  0.13369976,  0.51078402,  0.8052813 ,\n",
       "         0.81526551,  0.53946569,  0.55022107,  0.69626133,  0.56339384],\n",
       "       [ 0.65217816,  0.32896267,  0.73068299,  0.74226812,  0.71432357,\n",
       "         0.96444264,  0.28822845,  0.83022959,  0.08554237,  0.77900227],\n",
       "       [ 0.41016067,  0.98302556,  0.85604133,  0.63027353,  0.97683916,\n",
       "         0.98737225,  0.61815591,  0.6005052 ,  0.54479867,  0.05518108],\n",
       "       [ 0.44737401,  0.79986753,  0.6908498 ,  0.40851946,  0.9780487 ,\n",
       "         0.05780063,  0.38965595,  0.69565716,  0.26861774,  0.17716809],\n",
       "       [ 0.65284513,  0.16013102,  0.35282581,  0.01643981,  0.86095538,\n",
       "         0.06601979,  0.30743351,  0.48111176,  0.84186655,  0.59446079],\n",
       "       [ 0.76679282,  0.43795205,  0.99511719,  0.15623493,  0.80075478,\n",
       "         0.08322537,  0.82926836,  0.5610324 ,  0.5909015 ,  0.18746057]])"
      ]
     },
     "execution_count": 39,
     "metadata": {},
     "output_type": "execute_result"
    }
   ],
   "source": [
    "a"
   ]
  },
  {
   "cell_type": "markdown",
   "metadata": {},
   "source": [
    "List Python lists and tuples, NumPy arrays have zero-based indexing and use the `[]` syntax for getting and setting values:"
   ]
  },
  {
   "cell_type": "code",
   "execution_count": 40,
   "metadata": {
    "collapsed": false
   },
   "outputs": [
    {
     "data": {
      "text/plain": [
       "0.089358210314199549"
      ]
     },
     "execution_count": 40,
     "metadata": {},
     "output_type": "execute_result"
    }
   ],
   "source": [
    "a[0,0]"
   ]
  },
  {
   "cell_type": "markdown",
   "metadata": {},
   "source": [
    "An index of `-1` refers to the last element along that axis:"
   ]
  },
  {
   "cell_type": "code",
   "execution_count": 41,
   "metadata": {
    "collapsed": false
   },
   "outputs": [
    {
     "data": {
      "text/plain": [
       "True"
      ]
     },
     "execution_count": 41,
     "metadata": {},
     "output_type": "execute_result"
    }
   ],
   "source": [
    "a[-1,-1] == a[9,9]"
   ]
  },
  {
   "cell_type": "markdown",
   "metadata": {},
   "source": [
    "Extract the 0th column using the `:` syntax, which denotes all elements along that axis."
   ]
  },
  {
   "cell_type": "code",
   "execution_count": 42,
   "metadata": {
    "collapsed": false
   },
   "outputs": [
    {
     "data": {
      "text/html": [
       "<style type=\"text/css\">table.blockgrid {border: none;} .blockgrid tr {border: none;} .blockgrid td {padding: 0px;} #blocks0b844be0-71e7-4538-8a9a-f23660ca414f td {border: 1px solid white;}</style><table id=\"blocks0b844be0-71e7-4538-8a9a-f23660ca414f\" class=\"blockgrid\"><tbody><tr><td title=\"Index: [0, 0]&#10;Color: (72, 28, 110)\" style=\"width: 30px; height: 30px;background-color: rgb(72, 28, 110);\"></td><td title=\"Index: [0, 1]&#10;Color: (72, 33, 115)\" style=\"width: 30px; height: 30px;background-color: rgb(72, 33, 115);\"></td><td title=\"Index: [0, 2]&#10;Color: (53, 183, 121)\" style=\"width: 30px; height: 30px;background-color: rgb(53, 183, 121);\"></td><td title=\"Index: [0, 3]&#10;Color: (71, 46, 124)\" style=\"width: 30px; height: 30px;background-color: rgb(71, 46, 124);\"></td><td title=\"Index: [0, 4]&#10;Color: (241, 229, 29)\" style=\"width: 30px; height: 30px;background-color: rgb(241, 229, 29);\"></td><td title=\"Index: [0, 5]&#10;Color: (47, 180, 124)\" style=\"width: 30px; height: 30px;background-color: rgb(47, 180, 124);\"></td><td title=\"Index: [0, 6]&#10;Color: (42, 120, 142)\" style=\"width: 30px; height: 30px;background-color: rgb(42, 120, 142);\"></td><td title=\"Index: [0, 7]&#10;Color: (38, 130, 142)\" style=\"width: 30px; height: 30px;background-color: rgb(38, 130, 142);\"></td><td title=\"Index: [0, 8]&#10;Color: (47, 180, 124)\" style=\"width: 30px; height: 30px;background-color: rgb(47, 180, 124);\"></td><td title=\"Index: [0, 9]&#10;Color: (103, 204, 92)\" style=\"width: 30px; height: 30px;background-color: rgb(103, 204, 92);\"></td></tr></tbody></table>"
      ],
      "text/plain": [
       "array([ 0.08935821,  0.10597259,  0.6697005 ,  0.14633172,  0.97426502,\n",
       "        0.65217816,  0.41016067,  0.44737401,  0.65284513,  0.76679282])"
      ]
     },
     "execution_count": 42,
     "metadata": {},
     "output_type": "execute_result"
    }
   ],
   "source": [
    "a[:,0]"
   ]
  },
  {
   "cell_type": "markdown",
   "metadata": {},
   "source": [
    "The last row:"
   ]
  },
  {
   "cell_type": "code",
   "execution_count": 43,
   "metadata": {
    "collapsed": false
   },
   "outputs": [
    {
     "data": {
      "text/html": [
       "<style type=\"text/css\">table.blockgrid {border: none;} .blockgrid tr {border: none;} .blockgrid td {padding: 0px;} #blocksdd8f13c9-e129-41b1-95b0-6c0ecc8043b3 td {border: 1px solid white;}</style><table id=\"blocksdd8f13c9-e129-41b1-95b0-6c0ecc8043b3\" class=\"blockgrid\"><tbody><tr><td title=\"Index: [0, 0]&#10;Color: (103, 204, 92)\" style=\"width: 30px; height: 30px;background-color: rgb(103, 204, 92);\"></td><td title=\"Index: [0, 1]&#10;Color: (39, 128, 142)\" style=\"width: 30px; height: 30px;background-color: rgb(39, 128, 142);\"></td><td title=\"Index: [0, 2]&#10;Color: (253, 231, 37)\" style=\"width: 30px; height: 30px;background-color: rgb(253, 231, 37);\"></td><td title=\"Index: [0, 3]&#10;Color: (70, 50, 126)\" style=\"width: 30px; height: 30px;background-color: rgb(70, 50, 126);\"></td><td title=\"Index: [0, 4]&#10;Color: (124, 210, 80)\" style=\"width: 30px; height: 30px;background-color: rgb(124, 210, 80);\"></td><td title=\"Index: [0, 5]&#10;Color: (72, 26, 108)\" style=\"width: 30px; height: 30px;background-color: rgb(72, 26, 108);\"></td><td title=\"Index: [0, 6]&#10;Color: (142, 214, 69)\" style=\"width: 30px; height: 30px;background-color: rgb(142, 214, 69);\"></td><td title=\"Index: [0, 7]&#10;Color: (31, 158, 137)\" style=\"width: 30px; height: 30px;background-color: rgb(31, 158, 137);\"></td><td title=\"Index: [0, 8]&#10;Color: (33, 165, 133)\" style=\"width: 30px; height: 30px;background-color: rgb(33, 165, 133);\"></td><td title=\"Index: [0, 9]&#10;Color: (68, 59, 132)\" style=\"width: 30px; height: 30px;background-color: rgb(68, 59, 132);\"></td></tr></tbody></table>"
      ],
      "text/plain": [
       "array([ 0.76679282,  0.43795205,  0.99511719,  0.15623493,  0.80075478,\n",
       "        0.08322537,  0.82926836,  0.5610324 ,  0.5909015 ,  0.18746057])"
      ]
     },
     "execution_count": 43,
     "metadata": {},
     "output_type": "execute_result"
    }
   ],
   "source": [
    "a[-1,:]"
   ]
  },
  {
   "cell_type": "markdown",
   "metadata": {},
   "source": [
    "You can also slice ranges:"
   ]
  },
  {
   "cell_type": "code",
   "execution_count": 44,
   "metadata": {
    "collapsed": false
   },
   "outputs": [
    {
     "data": {
      "text/html": [
       "<style type=\"text/css\">table.blockgrid {border: none;} .blockgrid tr {border: none;} .blockgrid td {padding: 0px;} #blocks293f8e18-e403-4052-b505-829f123d1d5b td {border: 1px solid white;}</style><table id=\"blocks293f8e18-e403-4052-b505-829f123d1d5b\" class=\"blockgrid\"><tbody><tr><td title=\"Index: [0, 0]&#10;Color: (72, 28, 110)\" style=\"width: 30px; height: 30px;background-color: rgb(72, 28, 110);\"></td><td title=\"Index: [0, 1]&#10;Color: (37, 133, 142)\" style=\"width: 30px; height: 30px;background-color: rgb(37, 133, 142);\"></td></tr><tr><td title=\"Index: [1, 0]&#10;Color: (72, 33, 115)\" style=\"width: 30px; height: 30px;background-color: rgb(72, 33, 115);\"></td><td title=\"Index: [1, 1]&#10;Color: (103, 204, 92)\" style=\"width: 30px; height: 30px;background-color: rgb(103, 204, 92);\"></td></tr></tbody></table>"
      ],
      "text/plain": [
       "array([[ 0.08935821,  0.46041427],\n",
       "       [ 0.10597259,  0.76794299]])"
      ]
     },
     "execution_count": 44,
     "metadata": {},
     "output_type": "execute_result"
    }
   ],
   "source": [
    "a[0:2,0:2]"
   ]
  },
  {
   "cell_type": "markdown",
   "metadata": {},
   "source": [
    "Assignment also works with slices:"
   ]
  },
  {
   "cell_type": "code",
   "execution_count": 47,
   "metadata": {
    "collapsed": false
   },
   "outputs": [],
   "source": [
    "a[0:5:2,0:5:2] = 0.0"
   ]
  },
  {
   "cell_type": "code",
   "execution_count": 48,
   "metadata": {
    "collapsed": false
   },
   "outputs": [
    {
     "data": {
      "text/html": [
       "<style type=\"text/css\">table.blockgrid {border: none;} .blockgrid tr {border: none;} .blockgrid td {padding: 0px;} #blocksde3d729d-2fa3-490e-867e-247473a46993 td {border: 1px solid white;}</style><table id=\"blocksde3d729d-2fa3-490e-867e-247473a46993\" class=\"blockgrid\"><tbody><tr><td title=\"Index: [0, 0]&#10;Color: (68, 1, 84)\" style=\"width: 30px; height: 30px;background-color: rgb(68, 1, 84);\"></td><td title=\"Index: [0, 1]&#10;Color: (253, 231, 37)\" style=\"width: 30px; height: 30px;background-color: rgb(253, 231, 37);\"></td><td title=\"Index: [0, 2]&#10;Color: (68, 1, 84)\" style=\"width: 30px; height: 30px;background-color: rgb(68, 1, 84);\"></td><td title=\"Index: [0, 3]&#10;Color: (253, 231, 37)\" style=\"width: 30px; height: 30px;background-color: rgb(253, 231, 37);\"></td><td title=\"Index: [0, 4]&#10;Color: (68, 1, 84)\" style=\"width: 30px; height: 30px;background-color: rgb(68, 1, 84);\"></td><td title=\"Index: [0, 5]&#10;Color: (57, 85, 140)\" style=\"width: 30px; height: 30px;background-color: rgb(57, 85, 140);\"></td><td title=\"Index: [0, 6]&#10;Color: (63, 72, 137)\" style=\"width: 30px; height: 30px;background-color: rgb(63, 72, 137);\"></td><td title=\"Index: [0, 7]&#10;Color: (39, 127, 142)\" style=\"width: 30px; height: 30px;background-color: rgb(39, 127, 142);\"></td><td title=\"Index: [0, 8]&#10;Color: (103, 204, 92)\" style=\"width: 30px; height: 30px;background-color: rgb(103, 204, 92);\"></td><td title=\"Index: [0, 9]&#10;Color: (168, 219, 52)\" style=\"width: 30px; height: 30px;background-color: rgb(168, 219, 52);\"></td></tr><tr><td title=\"Index: [1, 0]&#10;Color: (253, 231, 37)\" style=\"width: 30px; height: 30px;background-color: rgb(253, 231, 37);\"></td><td title=\"Index: [1, 1]&#10;Color: (253, 231, 37)\" style=\"width: 30px; height: 30px;background-color: rgb(253, 231, 37);\"></td><td title=\"Index: [1, 2]&#10;Color: (253, 231, 37)\" style=\"width: 30px; height: 30px;background-color: rgb(253, 231, 37);\"></td><td title=\"Index: [1, 3]&#10;Color: (253, 231, 37)\" style=\"width: 30px; height: 30px;background-color: rgb(253, 231, 37);\"></td><td title=\"Index: [1, 4]&#10;Color: (253, 231, 37)\" style=\"width: 30px; height: 30px;background-color: rgb(253, 231, 37);\"></td><td title=\"Index: [1, 5]&#10;Color: (90, 200, 100)\" style=\"width: 30px; height: 30px;background-color: rgb(90, 200, 100);\"></td><td title=\"Index: [1, 6]&#10;Color: (226, 228, 24)\" style=\"width: 30px; height: 30px;background-color: rgb(226, 228, 24);\"></td><td title=\"Index: [1, 7]&#10;Color: (34, 167, 133)\" style=\"width: 30px; height: 30px;background-color: rgb(34, 167, 133);\"></td><td title=\"Index: [1, 8]&#10;Color: (46, 111, 142)\" style=\"width: 30px; height: 30px;background-color: rgb(46, 111, 142);\"></td><td title=\"Index: [1, 9]&#10;Color: (53, 95, 141)\" style=\"width: 30px; height: 30px;background-color: rgb(53, 95, 141);\"></td></tr><tr><td title=\"Index: [2, 0]&#10;Color: (68, 1, 84)\" style=\"width: 30px; height: 30px;background-color: rgb(68, 1, 84);\"></td><td title=\"Index: [2, 1]&#10;Color: (253, 231, 37)\" style=\"width: 30px; height: 30px;background-color: rgb(253, 231, 37);\"></td><td title=\"Index: [2, 2]&#10;Color: (68, 1, 84)\" style=\"width: 30px; height: 30px;background-color: rgb(68, 1, 84);\"></td><td title=\"Index: [2, 3]&#10;Color: (253, 231, 37)\" style=\"width: 30px; height: 30px;background-color: rgb(253, 231, 37);\"></td><td title=\"Index: [2, 4]&#10;Color: (68, 1, 84)\" style=\"width: 30px; height: 30px;background-color: rgb(68, 1, 84);\"></td><td title=\"Index: [2, 5]&#10;Color: (40, 125, 142)\" style=\"width: 30px; height: 30px;background-color: rgb(40, 125, 142);\"></td><td title=\"Index: [2, 6]&#10;Color: (33, 144, 141)\" style=\"width: 30px; height: 30px;background-color: rgb(33, 144, 141);\"></td><td title=\"Index: [2, 7]&#10;Color: (72, 20, 103)\" style=\"width: 30px; height: 30px;background-color: rgb(72, 20, 103);\"></td><td title=\"Index: [2, 8]&#10;Color: (51, 98, 141)\" style=\"width: 30px; height: 30px;background-color: rgb(51, 98, 141);\"></td><td title=\"Index: [2, 9]&#10;Color: (49, 181, 123)\" style=\"width: 30px; height: 30px;background-color: rgb(49, 181, 123);\"></td></tr><tr><td title=\"Index: [3, 0]&#10;Color: (253, 231, 37)\" style=\"width: 30px; height: 30px;background-color: rgb(253, 231, 37);\"></td><td title=\"Index: [3, 1]&#10;Color: (253, 231, 37)\" style=\"width: 30px; height: 30px;background-color: rgb(253, 231, 37);\"></td><td title=\"Index: [3, 2]&#10;Color: (253, 231, 37)\" style=\"width: 30px; height: 30px;background-color: rgb(253, 231, 37);\"></td><td title=\"Index: [3, 3]&#10;Color: (253, 231, 37)\" style=\"width: 30px; height: 30px;background-color: rgb(253, 231, 37);\"></td><td title=\"Index: [3, 4]&#10;Color: (253, 231, 37)\" style=\"width: 30px; height: 30px;background-color: rgb(253, 231, 37);\"></td><td title=\"Index: [3, 5]&#10;Color: (194, 223, 35)\" style=\"width: 30px; height: 30px;background-color: rgb(194, 223, 35);\"></td><td title=\"Index: [3, 6]&#10;Color: (72, 31, 112)\" style=\"width: 30px; height: 30px;background-color: rgb(72, 31, 112);\"></td><td title=\"Index: [3, 7]&#10;Color: (194, 223, 35)\" style=\"width: 30px; height: 30px;background-color: rgb(194, 223, 35);\"></td><td title=\"Index: [3, 8]&#10;Color: (37, 133, 142)\" style=\"width: 30px; height: 30px;background-color: rgb(37, 133, 142);\"></td><td title=\"Index: [3, 9]&#10;Color: (64, 189, 114)\" style=\"width: 30px; height: 30px;background-color: rgb(64, 189, 114);\"></td></tr><tr><td title=\"Index: [4, 0]&#10;Color: (68, 1, 84)\" style=\"width: 30px; height: 30px;background-color: rgb(68, 1, 84);\"></td><td title=\"Index: [4, 1]&#10;Color: (253, 231, 37)\" style=\"width: 30px; height: 30px;background-color: rgb(253, 231, 37);\"></td><td title=\"Index: [4, 2]&#10;Color: (68, 1, 84)\" style=\"width: 30px; height: 30px;background-color: rgb(68, 1, 84);\"></td><td title=\"Index: [4, 3]&#10;Color: (253, 231, 37)\" style=\"width: 30px; height: 30px;background-color: rgb(253, 231, 37);\"></td><td title=\"Index: [4, 4]&#10;Color: (68, 1, 84)\" style=\"width: 30px; height: 30px;background-color: rgb(68, 1, 84);\"></td><td title=\"Index: [4, 5]&#10;Color: (132, 212, 75)\" style=\"width: 30px; height: 30px;background-color: rgb(132, 212, 75);\"></td><td title=\"Index: [4, 6]&#10;Color: (31, 154, 138)\" style=\"width: 30px; height: 30px;background-color: rgb(31, 154, 138);\"></td><td title=\"Index: [4, 7]&#10;Color: (30, 156, 137)\" style=\"width: 30px; height: 30px;background-color: rgb(30, 156, 137);\"></td><td title=\"Index: [4, 8]&#10;Color: (66, 190, 113)\" style=\"width: 30px; height: 30px;background-color: rgb(66, 190, 113);\"></td><td title=\"Index: [4, 9]&#10;Color: (31, 160, 136)\" style=\"width: 30px; height: 30px;background-color: rgb(31, 160, 136);\"></td></tr><tr><td title=\"Index: [5, 0]&#10;Color: (47, 180, 124)\" style=\"width: 30px; height: 30px;background-color: rgb(47, 180, 124);\"></td><td title=\"Index: [5, 1]&#10;Color: (49, 103, 142)\" style=\"width: 30px; height: 30px;background-color: rgb(49, 103, 142);\"></td><td title=\"Index: [5, 2]&#10;Color: (84, 197, 104)\" style=\"width: 30px; height: 30px;background-color: rgb(84, 197, 104);\"></td><td title=\"Index: [5, 3]&#10;Color: (90, 200, 100)\" style=\"width: 30px; height: 30px;background-color: rgb(90, 200, 100);\"></td><td title=\"Index: [5, 4]&#10;Color: (74, 193, 109)\" style=\"width: 30px; height: 30px;background-color: rgb(74, 193, 109);\"></td><td title=\"Index: [5, 5]&#10;Color: (231, 228, 25)\" style=\"width: 30px; height: 30px;background-color: rgb(231, 228, 25);\"></td><td title=\"Index: [5, 6]&#10;Color: (54, 92, 141)\" style=\"width: 30px; height: 30px;background-color: rgb(54, 92, 141);\"></td><td title=\"Index: [5, 7]&#10;Color: (142, 214, 69)\" style=\"width: 30px; height: 30px;background-color: rgb(142, 214, 69);\"></td><td title=\"Index: [5, 8]&#10;Color: (72, 31, 112)\" style=\"width: 30px; height: 30px;background-color: rgb(72, 31, 112);\"></td><td title=\"Index: [5, 9]&#10;Color: (110, 206, 88)\" style=\"width: 30px; height: 30px;background-color: rgb(110, 206, 88);\"></td></tr><tr><td title=\"Index: [6, 0]&#10;Color: (41, 123, 142)\" style=\"width: 30px; height: 30px;background-color: rgb(41, 123, 142);\"></td><td title=\"Index: [6, 1]&#10;Color: (244, 230, 30)\" style=\"width: 30px; height: 30px;background-color: rgb(244, 230, 30);\"></td><td title=\"Index: [6, 2]&#10;Color: (160, 218, 57)\" style=\"width: 30px; height: 30px;background-color: rgb(160, 218, 57);\"></td><td title=\"Index: [6, 3]&#10;Color: (41, 175, 127)\" style=\"width: 30px; height: 30px;background-color: rgb(41, 175, 127);\"></td><td title=\"Index: [6, 4]&#10;Color: (241, 229, 29)\" style=\"width: 30px; height: 30px;background-color: rgb(241, 229, 29);\"></td><td title=\"Index: [6, 5]&#10;Color: (246, 230, 32)\" style=\"width: 30px; height: 30px;background-color: rgb(246, 230, 32);\"></td><td title=\"Index: [6, 6]&#10;Color: (38, 173, 129)\" style=\"width: 30px; height: 30px;background-color: rgb(38, 173, 129);\"></td><td title=\"Index: [6, 7]&#10;Color: (34, 168, 132)\" style=\"width: 30px; height: 30px;background-color: rgb(34, 168, 132);\"></td><td title=\"Index: [6, 8]&#10;Color: (30, 155, 138)\" style=\"width: 30px; height: 30px;background-color: rgb(30, 155, 138);\"></td><td title=\"Index: [6, 9]&#10;Color: (72, 22, 104)\" style=\"width: 30px; height: 30px;background-color: rgb(72, 22, 104);\"></td></tr><tr><td title=\"Index: [7, 0]&#10;Color: (37, 131, 142)\" style=\"width: 30px; height: 30px;background-color: rgb(37, 131, 142);\"></td><td title=\"Index: [7, 1]&#10;Color: (122, 209, 81)\" style=\"width: 30px; height: 30px;background-color: rgb(122, 209, 81);\"></td><td title=\"Index: [7, 2]&#10;Color: (63, 188, 115)\" style=\"width: 30px; height: 30px;background-color: rgb(63, 188, 115);\"></td><td title=\"Index: [7, 3]&#10;Color: (41, 122, 142)\" style=\"width: 30px; height: 30px;background-color: rgb(41, 122, 142);\"></td><td title=\"Index: [7, 4]&#10;Color: (241, 229, 29)\" style=\"width: 30px; height: 30px;background-color: rgb(241, 229, 29);\"></td><td title=\"Index: [7, 5]&#10;Color: (72, 22, 104)\" style=\"width: 30px; height: 30px;background-color: rgb(72, 22, 104);\"></td><td title=\"Index: [7, 6]&#10;Color: (43, 117, 142)\" style=\"width: 30px; height: 30px;background-color: rgb(43, 117, 142);\"></td><td title=\"Index: [7, 7]&#10;Color: (66, 190, 113)\" style=\"width: 30px; height: 30px;background-color: rgb(66, 190, 113);\"></td><td title=\"Index: [7, 8]&#10;Color: (57, 86, 140)\" style=\"width: 30px; height: 30px;background-color: rgb(57, 86, 140);\"></td><td title=\"Index: [7, 9]&#10;Color: (67, 61, 132)\" style=\"width: 30px; height: 30px;background-color: rgb(67, 61, 132);\"></td></tr><tr><td title=\"Index: [8, 0]&#10;Color: (49, 181, 123)\" style=\"width: 30px; height: 30px;background-color: rgb(49, 181, 123);\"></td><td title=\"Index: [8, 1]&#10;Color: (69, 55, 129)\" style=\"width: 30px; height: 30px;background-color: rgb(69, 55, 129);\"></td><td title=\"Index: [8, 2]&#10;Color: (46, 109, 142)\" style=\"width: 30px; height: 30px;background-color: rgb(46, 109, 142);\"></td><td title=\"Index: [8, 3]&#10;Color: (70, 7, 90)\" style=\"width: 30px; height: 30px;background-color: rgb(70, 7, 90);\"></td><td title=\"Index: [8, 4]&#10;Color: (162, 218, 55)\" style=\"width: 30px; height: 30px;background-color: rgb(162, 218, 55);\"></td><td title=\"Index: [8, 5]&#10;Color: (72, 24, 106)\" style=\"width: 30px; height: 30px;background-color: rgb(72, 24, 106);\"></td><td title=\"Index: [8, 6]&#10;Color: (52, 97, 141)\" style=\"width: 30px; height: 30px;background-color: rgb(52, 97, 141);\"></td><td title=\"Index: [8, 7]&#10;Color: (34, 140, 141)\" style=\"width: 30px; height: 30px;background-color: rgb(34, 140, 141);\"></td><td title=\"Index: [8, 8]&#10;Color: (149, 216, 64)\" style=\"width: 30px; height: 30px;background-color: rgb(149, 216, 64);\"></td><td title=\"Index: [8, 9]&#10;Color: (34, 167, 133)\" style=\"width: 30px; height: 30px;background-color: rgb(34, 167, 133);\"></td></tr><tr><td title=\"Index: [9, 0]&#10;Color: (103, 204, 92)\" style=\"width: 30px; height: 30px;background-color: rgb(103, 204, 92);\"></td><td title=\"Index: [9, 1]&#10;Color: (38, 130, 142)\" style=\"width: 30px; height: 30px;background-color: rgb(38, 130, 142);\"></td><td title=\"Index: [9, 2]&#10;Color: (251, 231, 35)\" style=\"width: 30px; height: 30px;background-color: rgb(251, 231, 35);\"></td><td title=\"Index: [9, 3]&#10;Color: (69, 53, 129)\" style=\"width: 30px; height: 30px;background-color: rgb(69, 53, 129);\"></td><td title=\"Index: [9, 4]&#10;Color: (122, 209, 81)\" style=\"width: 30px; height: 30px;background-color: rgb(122, 209, 81);\"></td><td title=\"Index: [9, 5]&#10;Color: (72, 31, 112)\" style=\"width: 30px; height: 30px;background-color: rgb(72, 31, 112);\"></td><td title=\"Index: [9, 6]&#10;Color: (142, 214, 69)\" style=\"width: 30px; height: 30px;background-color: rgb(142, 214, 69);\"></td><td title=\"Index: [9, 7]&#10;Color: (31, 159, 136)\" style=\"width: 30px; height: 30px;background-color: rgb(31, 159, 136);\"></td><td title=\"Index: [9, 8]&#10;Color: (33, 166, 133)\" style=\"width: 30px; height: 30px;background-color: rgb(33, 166, 133);\"></td><td title=\"Index: [9, 9]&#10;Color: (66, 63, 133)\" style=\"width: 30px; height: 30px;background-color: rgb(66, 63, 133);\"></td></tr></tbody></table>"
      ],
      "text/plain": [
       "array([[ 0.        ,  1.        ,  0.        ,  1.        ,  0.        ,\n",
       "         0.26517428,  0.21677265,  0.42947875,  0.76618996,  0.87107832],\n",
       "       [ 1.        ,  1.        ,  1.        ,  1.        ,  1.        ,\n",
       "         0.74330746,  0.9553112 ,  0.59616453,  0.36124257,  0.2988428 ],\n",
       "       [ 0.        ,  1.        ,  0.        ,  1.        ,  0.        ,\n",
       "         0.41955843,  0.49644271,  0.05192975,  0.30877126,  0.65356877],\n",
       "       [ 1.        ,  1.        ,  1.        ,  1.        ,  1.        ,\n",
       "         0.90872289,  0.08570042,  0.90634232,  0.45667949,  0.69280364],\n",
       "       [ 0.        ,  1.        ,  0.        ,  1.        ,  0.        ,\n",
       "         0.81526551,  0.53946569,  0.55022107,  0.69626133,  0.56339384],\n",
       "       [ 0.65217816,  0.32896267,  0.73068299,  0.74226812,  0.71432357,\n",
       "         0.96444264,  0.28822845,  0.83022959,  0.08554237,  0.77900227],\n",
       "       [ 0.41016067,  0.98302556,  0.85604133,  0.63027353,  0.97683916,\n",
       "         0.98737225,  0.61815591,  0.6005052 ,  0.54479867,  0.05518108],\n",
       "       [ 0.44737401,  0.79986753,  0.6908498 ,  0.40851946,  0.9780487 ,\n",
       "         0.05780063,  0.38965595,  0.69565716,  0.26861774,  0.17716809],\n",
       "       [ 0.65284513,  0.16013102,  0.35282581,  0.01643981,  0.86095538,\n",
       "         0.06601979,  0.30743351,  0.48111176,  0.84186655,  0.59446079],\n",
       "       [ 0.76679282,  0.43795205,  0.99511719,  0.15623493,  0.80075478,\n",
       "         0.08322537,  0.82926836,  0.5610324 ,  0.5909015 ,  0.18746057]])"
      ]
     },
     "execution_count": 48,
     "metadata": {},
     "output_type": "execute_result"
    }
   ],
   "source": [
    "a"
   ]
  },
  {
   "cell_type": "markdown",
   "metadata": {},
   "source": [
    "Note how even though we assigned the value to the slice, the original array was changed. This clarifies that slices are **views** of the same data, not a copy."
   ]
  },
  {
   "cell_type": "code",
   "execution_count": 49,
   "metadata": {
    "collapsed": false
   },
   "outputs": [],
   "source": [
    "va.disable_notebook()"
   ]
  },
  {
   "cell_type": "markdown",
   "metadata": {},
   "source": [
    "### Boolean indexing"
   ]
  },
  {
   "cell_type": "markdown",
   "metadata": {},
   "source": [
    "Arrays can be indexed using other arrays that have boolean values."
   ]
  },
  {
   "cell_type": "code",
   "execution_count": 50,
   "metadata": {
    "collapsed": false
   },
   "outputs": [],
   "source": [
    "ages = np.array([23,56,67,89,23,56,27,12,8,72])\n",
    "genders = np.array(['m','m','f','f','m','f','m','m','m','f'])"
   ]
  },
  {
   "cell_type": "markdown",
   "metadata": {},
   "source": [
    "Boolean expressions involving arrays create new arrays with a `bool` dtype and the elementwise result of the expression:"
   ]
  },
  {
   "cell_type": "code",
   "execution_count": 51,
   "metadata": {
    "collapsed": false
   },
   "outputs": [
    {
     "data": {
      "text/plain": [
       "array([False,  True,  True,  True, False,  True, False, False, False,  True], dtype=bool)"
      ]
     },
     "execution_count": 51,
     "metadata": {},
     "output_type": "execute_result"
    }
   ],
   "source": [
    "ages > 30"
   ]
  },
  {
   "cell_type": "code",
   "execution_count": 52,
   "metadata": {
    "collapsed": false
   },
   "outputs": [
    {
     "data": {
      "text/plain": [
       "array([ True,  True, False, False,  True, False,  True,  True,  True, False], dtype=bool)"
      ]
     },
     "execution_count": 52,
     "metadata": {},
     "output_type": "execute_result"
    }
   ],
   "source": [
    "genders == 'm'"
   ]
  },
  {
   "cell_type": "markdown",
   "metadata": {},
   "source": [
    "Boolean expressions provide an extremely fast and flexible way of querying arrays:"
   ]
  },
  {
   "cell_type": "code",
   "execution_count": 53,
   "metadata": {
    "collapsed": false
   },
   "outputs": [
    {
     "data": {
      "text/plain": [
       "array([ True, False, False, False,  True, False,  True,  True, False, False], dtype=bool)"
      ]
     },
     "execution_count": 53,
     "metadata": {},
     "output_type": "execute_result"
    }
   ],
   "source": [
    "(ages > 10) & (ages < 50)"
   ]
  },
  {
   "cell_type": "markdown",
   "metadata": {},
   "source": [
    "You can use a boolean array to index into the original or another array. This selects the ages of all females in the `genders` array:"
   ]
  },
  {
   "cell_type": "code",
   "execution_count": 55,
   "metadata": {
    "collapsed": false
   },
   "outputs": [
    {
     "data": {
      "text/plain": [
       "array([67, 89, 56, 72])"
      ]
     },
     "execution_count": 55,
     "metadata": {},
     "output_type": "execute_result"
    }
   ],
   "source": [
    "mask = (genders == 'f')\n",
    "ages[mask]"
   ]
  },
  {
   "cell_type": "code",
   "execution_count": 56,
   "metadata": {
    "collapsed": false
   },
   "outputs": [
    {
     "data": {
      "text/plain": [
       "array([56, 67, 89, 56, 72])"
      ]
     },
     "execution_count": 56,
     "metadata": {},
     "output_type": "execute_result"
    }
   ],
   "source": [
    "ages[ages>30]"
   ]
  },
  {
   "cell_type": "markdown",
   "metadata": {},
   "source": [
    "## Reshaping, transposing"
   ]
  },
  {
   "cell_type": "code",
   "execution_count": 57,
   "metadata": {
    "collapsed": false
   },
   "outputs": [],
   "source": [
    "va.enable_notebook()"
   ]
  },
  {
   "cell_type": "code",
   "execution_count": 58,
   "metadata": {
    "collapsed": false
   },
   "outputs": [],
   "source": [
    "a = np.random.rand(3,4)"
   ]
  },
  {
   "cell_type": "code",
   "execution_count": 59,
   "metadata": {
    "collapsed": false
   },
   "outputs": [
    {
     "data": {
      "text/html": [
       "<style type=\"text/css\">table.blockgrid {border: none;} .blockgrid tr {border: none;} .blockgrid td {padding: 0px;} #blocks5572f890-df10-4655-9941-3a2c2f4674f4 td {border: 1px solid white;}</style><table id=\"blocks5572f890-df10-4655-9941-3a2c2f4674f4\" class=\"blockgrid\"><tbody><tr><td title=\"Index: [0, 0]&#10;Color: (56, 89, 140)\" style=\"width: 30px; height: 30px;background-color: rgb(56, 89, 140);\"></td><td title=\"Index: [0, 1]&#10;Color: (132, 212, 75)\" style=\"width: 30px; height: 30px;background-color: rgb(132, 212, 75);\"></td><td title=\"Index: [0, 2]&#10;Color: (68, 1, 84)\" style=\"width: 30px; height: 30px;background-color: rgb(68, 1, 84);\"></td><td title=\"Index: [0, 3]&#10;Color: (253, 231, 37)\" style=\"width: 30px; height: 30px;background-color: rgb(253, 231, 37);\"></td></tr><tr><td title=\"Index: [1, 0]&#10;Color: (37, 132, 142)\" style=\"width: 30px; height: 30px;background-color: rgb(37, 132, 142);\"></td><td title=\"Index: [1, 1]&#10;Color: (32, 163, 134)\" style=\"width: 30px; height: 30px;background-color: rgb(32, 163, 134);\"></td><td title=\"Index: [1, 2]&#10;Color: (110, 206, 88)\" style=\"width: 30px; height: 30px;background-color: rgb(110, 206, 88);\"></td><td title=\"Index: [1, 3]&#10;Color: (45, 113, 142)\" style=\"width: 30px; height: 30px;background-color: rgb(45, 113, 142);\"></td></tr><tr><td title=\"Index: [2, 0]&#10;Color: (71, 17, 100)\" style=\"width: 30px; height: 30px;background-color: rgb(71, 17, 100);\"></td><td title=\"Index: [2, 1]&#10;Color: (31, 161, 135)\" style=\"width: 30px; height: 30px;background-color: rgb(31, 161, 135);\"></td><td title=\"Index: [2, 2]&#10;Color: (40, 124, 142)\" style=\"width: 30px; height: 30px;background-color: rgb(40, 124, 142);\"></td><td title=\"Index: [2, 3]&#10;Color: (170, 220, 50)\" style=\"width: 30px; height: 30px;background-color: rgb(170, 220, 50);\"></td></tr></tbody></table>"
      ],
      "text/plain": [
       "array([[ 0.32959367,  0.75815566,  0.11012345,  0.90585411],\n",
       "       [ 0.46964758,  0.5708434 ,  0.73160127,  0.40319404],\n",
       "       [ 0.14714699,  0.56673464,  0.44122264,  0.80385085]])"
      ]
     },
     "execution_count": 59,
     "metadata": {},
     "output_type": "execute_result"
    }
   ],
   "source": [
    "a"
   ]
  },
  {
   "cell_type": "markdown",
   "metadata": {},
   "source": [
    "The `T` atrribute contains the transpose of the original array:"
   ]
  },
  {
   "cell_type": "code",
   "execution_count": 61,
   "metadata": {
    "collapsed": false
   },
   "outputs": [
    {
     "data": {
      "text/html": [
       "<style type=\"text/css\">table.blockgrid {border: none;} .blockgrid tr {border: none;} .blockgrid td {padding: 0px;} #blocks905ab32e-356c-4c5a-ad97-89e34c5060ac td {border: 1px solid white;}</style><table id=\"blocks905ab32e-356c-4c5a-ad97-89e34c5060ac\" class=\"blockgrid\"><tbody><tr><td title=\"Index: [0, 0]&#10;Color: (56, 89, 140)\" style=\"width: 30px; height: 30px;background-color: rgb(56, 89, 140);\"></td><td title=\"Index: [0, 1]&#10;Color: (37, 132, 142)\" style=\"width: 30px; height: 30px;background-color: rgb(37, 132, 142);\"></td><td title=\"Index: [0, 2]&#10;Color: (71, 17, 100)\" style=\"width: 30px; height: 30px;background-color: rgb(71, 17, 100);\"></td></tr><tr><td title=\"Index: [1, 0]&#10;Color: (132, 212, 75)\" style=\"width: 30px; height: 30px;background-color: rgb(132, 212, 75);\"></td><td title=\"Index: [1, 1]&#10;Color: (32, 163, 134)\" style=\"width: 30px; height: 30px;background-color: rgb(32, 163, 134);\"></td><td title=\"Index: [1, 2]&#10;Color: (31, 161, 135)\" style=\"width: 30px; height: 30px;background-color: rgb(31, 161, 135);\"></td></tr><tr><td title=\"Index: [2, 0]&#10;Color: (68, 1, 84)\" style=\"width: 30px; height: 30px;background-color: rgb(68, 1, 84);\"></td><td title=\"Index: [2, 1]&#10;Color: (110, 206, 88)\" style=\"width: 30px; height: 30px;background-color: rgb(110, 206, 88);\"></td><td title=\"Index: [2, 2]&#10;Color: (40, 124, 142)\" style=\"width: 30px; height: 30px;background-color: rgb(40, 124, 142);\"></td></tr><tr><td title=\"Index: [3, 0]&#10;Color: (253, 231, 37)\" style=\"width: 30px; height: 30px;background-color: rgb(253, 231, 37);\"></td><td title=\"Index: [3, 1]&#10;Color: (45, 113, 142)\" style=\"width: 30px; height: 30px;background-color: rgb(45, 113, 142);\"></td><td title=\"Index: [3, 2]&#10;Color: (170, 220, 50)\" style=\"width: 30px; height: 30px;background-color: rgb(170, 220, 50);\"></td></tr></tbody></table>"
      ],
      "text/plain": [
       "array([[ 0.32959367,  0.46964758,  0.14714699],\n",
       "       [ 0.75815566,  0.5708434 ,  0.56673464],\n",
       "       [ 0.11012345,  0.73160127,  0.44122264],\n",
       "       [ 0.90585411,  0.40319404,  0.80385085]])"
      ]
     },
     "execution_count": 61,
     "metadata": {},
     "output_type": "execute_result"
    }
   ],
   "source": [
    "a.T"
   ]
  },
  {
   "cell_type": "markdown",
   "metadata": {},
   "source": [
    "The `reshape` method can be used to change the shape and even the number of dimensions:"
   ]
  },
  {
   "cell_type": "code",
   "execution_count": 62,
   "metadata": {
    "collapsed": false
   },
   "outputs": [
    {
     "data": {
      "text/html": [
       "<style type=\"text/css\">table.blockgrid {border: none;} .blockgrid tr {border: none;} .blockgrid td {padding: 0px;} #blocksef80cce2-0fad-4e23-bb29-0ff4d9299d9e td {border: 1px solid white;}</style><table id=\"blocksef80cce2-0fad-4e23-bb29-0ff4d9299d9e\" class=\"blockgrid\"><tbody><tr><td title=\"Index: [0, 0]&#10;Color: (56, 89, 140)\" style=\"width: 30px; height: 30px;background-color: rgb(56, 89, 140);\"></td><td title=\"Index: [0, 1]&#10;Color: (132, 212, 75)\" style=\"width: 30px; height: 30px;background-color: rgb(132, 212, 75);\"></td><td title=\"Index: [0, 2]&#10;Color: (68, 1, 84)\" style=\"width: 30px; height: 30px;background-color: rgb(68, 1, 84);\"></td><td title=\"Index: [0, 3]&#10;Color: (253, 231, 37)\" style=\"width: 30px; height: 30px;background-color: rgb(253, 231, 37);\"></td><td title=\"Index: [0, 4]&#10;Color: (37, 132, 142)\" style=\"width: 30px; height: 30px;background-color: rgb(37, 132, 142);\"></td><td title=\"Index: [0, 5]&#10;Color: (32, 163, 134)\" style=\"width: 30px; height: 30px;background-color: rgb(32, 163, 134);\"></td></tr><tr><td title=\"Index: [1, 0]&#10;Color: (110, 206, 88)\" style=\"width: 30px; height: 30px;background-color: rgb(110, 206, 88);\"></td><td title=\"Index: [1, 1]&#10;Color: (45, 113, 142)\" style=\"width: 30px; height: 30px;background-color: rgb(45, 113, 142);\"></td><td title=\"Index: [1, 2]&#10;Color: (71, 17, 100)\" style=\"width: 30px; height: 30px;background-color: rgb(71, 17, 100);\"></td><td title=\"Index: [1, 3]&#10;Color: (31, 161, 135)\" style=\"width: 30px; height: 30px;background-color: rgb(31, 161, 135);\"></td><td title=\"Index: [1, 4]&#10;Color: (40, 124, 142)\" style=\"width: 30px; height: 30px;background-color: rgb(40, 124, 142);\"></td><td title=\"Index: [1, 5]&#10;Color: (170, 220, 50)\" style=\"width: 30px; height: 30px;background-color: rgb(170, 220, 50);\"></td></tr></tbody></table>"
      ],
      "text/plain": [
       "array([[ 0.32959367,  0.75815566,  0.11012345,  0.90585411,  0.46964758,\n",
       "         0.5708434 ],\n",
       "       [ 0.73160127,  0.40319404,  0.14714699,  0.56673464,  0.44122264,\n",
       "         0.80385085]])"
      ]
     },
     "execution_count": 62,
     "metadata": {},
     "output_type": "execute_result"
    }
   ],
   "source": [
    "a.reshape(2,6)"
   ]
  },
  {
   "cell_type": "code",
   "execution_count": 63,
   "metadata": {
    "collapsed": false
   },
   "outputs": [
    {
     "data": {
      "text/html": [
       "<style type=\"text/css\">table.blockgrid {border: none;} .blockgrid tr {border: none;} .blockgrid td {padding: 0px;} #blocks50997e6d-3e67-4c43-ba9b-4e9061f3c8ce td {border: 1px solid white;}</style><table id=\"blocks50997e6d-3e67-4c43-ba9b-4e9061f3c8ce\" class=\"blockgrid\"><tbody><tr><td title=\"Index: [0, 0]&#10;Color: (56, 89, 140)\" style=\"width: 30px; height: 30px;background-color: rgb(56, 89, 140);\"></td><td title=\"Index: [0, 1]&#10;Color: (132, 212, 75)\" style=\"width: 30px; height: 30px;background-color: rgb(132, 212, 75);\"></td></tr><tr><td title=\"Index: [1, 0]&#10;Color: (68, 1, 84)\" style=\"width: 30px; height: 30px;background-color: rgb(68, 1, 84);\"></td><td title=\"Index: [1, 1]&#10;Color: (253, 231, 37)\" style=\"width: 30px; height: 30px;background-color: rgb(253, 231, 37);\"></td></tr><tr><td title=\"Index: [2, 0]&#10;Color: (37, 132, 142)\" style=\"width: 30px; height: 30px;background-color: rgb(37, 132, 142);\"></td><td title=\"Index: [2, 1]&#10;Color: (32, 163, 134)\" style=\"width: 30px; height: 30px;background-color: rgb(32, 163, 134);\"></td></tr><tr><td title=\"Index: [3, 0]&#10;Color: (110, 206, 88)\" style=\"width: 30px; height: 30px;background-color: rgb(110, 206, 88);\"></td><td title=\"Index: [3, 1]&#10;Color: (45, 113, 142)\" style=\"width: 30px; height: 30px;background-color: rgb(45, 113, 142);\"></td></tr><tr><td title=\"Index: [4, 0]&#10;Color: (71, 17, 100)\" style=\"width: 30px; height: 30px;background-color: rgb(71, 17, 100);\"></td><td title=\"Index: [4, 1]&#10;Color: (31, 161, 135)\" style=\"width: 30px; height: 30px;background-color: rgb(31, 161, 135);\"></td></tr><tr><td title=\"Index: [5, 0]&#10;Color: (40, 124, 142)\" style=\"width: 30px; height: 30px;background-color: rgb(40, 124, 142);\"></td><td title=\"Index: [5, 1]&#10;Color: (170, 220, 50)\" style=\"width: 30px; height: 30px;background-color: rgb(170, 220, 50);\"></td></tr></tbody></table>"
      ],
      "text/plain": [
       "array([[ 0.32959367,  0.75815566],\n",
       "       [ 0.11012345,  0.90585411],\n",
       "       [ 0.46964758,  0.5708434 ],\n",
       "       [ 0.73160127,  0.40319404],\n",
       "       [ 0.14714699,  0.56673464],\n",
       "       [ 0.44122264,  0.80385085]])"
      ]
     },
     "execution_count": 63,
     "metadata": {},
     "output_type": "execute_result"
    }
   ],
   "source": [
    "a.reshape(6,2)"
   ]
  },
  {
   "cell_type": "markdown",
   "metadata": {},
   "source": [
    "The `ravel` method strings the array out in one dimension:"
   ]
  },
  {
   "cell_type": "code",
   "execution_count": 64,
   "metadata": {
    "collapsed": false
   },
   "outputs": [
    {
     "data": {
      "text/html": [
       "<style type=\"text/css\">table.blockgrid {border: none;} .blockgrid tr {border: none;} .blockgrid td {padding: 0px;} #blocks05e255b6-53af-4ef9-a387-1a6e68e182c9 td {border: 1px solid white;}</style><table id=\"blocks05e255b6-53af-4ef9-a387-1a6e68e182c9\" class=\"blockgrid\"><tbody><tr><td title=\"Index: [0, 0]&#10;Color: (56, 89, 140)\" style=\"width: 30px; height: 30px;background-color: rgb(56, 89, 140);\"></td><td title=\"Index: [0, 1]&#10;Color: (132, 212, 75)\" style=\"width: 30px; height: 30px;background-color: rgb(132, 212, 75);\"></td><td title=\"Index: [0, 2]&#10;Color: (68, 1, 84)\" style=\"width: 30px; height: 30px;background-color: rgb(68, 1, 84);\"></td><td title=\"Index: [0, 3]&#10;Color: (253, 231, 37)\" style=\"width: 30px; height: 30px;background-color: rgb(253, 231, 37);\"></td><td title=\"Index: [0, 4]&#10;Color: (37, 132, 142)\" style=\"width: 30px; height: 30px;background-color: rgb(37, 132, 142);\"></td><td title=\"Index: [0, 5]&#10;Color: (32, 163, 134)\" style=\"width: 30px; height: 30px;background-color: rgb(32, 163, 134);\"></td><td title=\"Index: [0, 6]&#10;Color: (110, 206, 88)\" style=\"width: 30px; height: 30px;background-color: rgb(110, 206, 88);\"></td><td title=\"Index: [0, 7]&#10;Color: (45, 113, 142)\" style=\"width: 30px; height: 30px;background-color: rgb(45, 113, 142);\"></td><td title=\"Index: [0, 8]&#10;Color: (71, 17, 100)\" style=\"width: 30px; height: 30px;background-color: rgb(71, 17, 100);\"></td><td title=\"Index: [0, 9]&#10;Color: (31, 161, 135)\" style=\"width: 30px; height: 30px;background-color: rgb(31, 161, 135);\"></td><td title=\"Index: [0, 10]&#10;Color: (40, 124, 142)\" style=\"width: 30px; height: 30px;background-color: rgb(40, 124, 142);\"></td><td title=\"Index: [0, 11]&#10;Color: (170, 220, 50)\" style=\"width: 30px; height: 30px;background-color: rgb(170, 220, 50);\"></td></tr></tbody></table>"
      ],
      "text/plain": [
       "array([ 0.32959367,  0.75815566,  0.11012345,  0.90585411,  0.46964758,\n",
       "        0.5708434 ,  0.73160127,  0.40319404,  0.14714699,  0.56673464,\n",
       "        0.44122264,  0.80385085])"
      ]
     },
     "execution_count": 64,
     "metadata": {},
     "output_type": "execute_result"
    }
   ],
   "source": [
    "a.ravel()"
   ]
  },
  {
   "cell_type": "code",
   "execution_count": 65,
   "metadata": {
    "collapsed": false
   },
   "outputs": [],
   "source": [
    "va.disable_notebook()"
   ]
  },
  {
   "cell_type": "markdown",
   "metadata": {},
   "source": [
    "## Universal functions"
   ]
  },
  {
   "cell_type": "markdown",
   "metadata": {},
   "source": [
    "Universal function, or \"ufuncs,\" are functions that take and return arrays or scalars. They have the following characteristics:\n",
    "\n",
    "* Vectorized C implementations, much faster than hand written loops in Python\n",
    "* Allow for concise Pythonic code\n",
    "* Here is a complete list of the [available NumPy ufuncs](http://docs.scipy.org/doc/numpy/reference/ufuncs.html#available-ufuncs) lists the available ufuncs."
   ]
  },
  {
   "cell_type": "code",
   "execution_count": 66,
   "metadata": {
    "collapsed": false
   },
   "outputs": [],
   "source": [
    "va.set_block_size(5)\n",
    "va.enable_notebook()"
   ]
  },
  {
   "cell_type": "markdown",
   "metadata": {},
   "source": [
    "Here is a linear sequence of values\""
   ]
  },
  {
   "cell_type": "code",
   "execution_count": 67,
   "metadata": {
    "collapsed": false
   },
   "outputs": [
    {
     "data": {
      "text/html": [
       "<style type=\"text/css\">table.blockgrid {border: none;} .blockgrid tr {border: none;} .blockgrid td {padding: 0px;} #blocksdb2d1263-94c7-484f-9739-d3b365a63f24 td {border: 1px solid white;}</style><table id=\"blocksdb2d1263-94c7-484f-9739-d3b365a63f24\" class=\"blockgrid\"><tbody><tr><td title=\"Index: [0, 0]&#10;Color: (68, 1, 84)\" style=\"width: 5px; height: 5px;background-color: rgb(68, 1, 84);\"></td><td title=\"Index: [0, 1]&#10;Color: (69, 4, 87)\" style=\"width: 5px; height: 5px;background-color: rgb(69, 4, 87);\"></td><td title=\"Index: [0, 2]&#10;Color: (70, 8, 92)\" style=\"width: 5px; height: 5px;background-color: rgb(70, 8, 92);\"></td><td title=\"Index: [0, 3]&#10;Color: (70, 11, 94)\" style=\"width: 5px; height: 5px;background-color: rgb(70, 11, 94);\"></td><td title=\"Index: [0, 4]&#10;Color: (71, 16, 99)\" style=\"width: 5px; height: 5px;background-color: rgb(71, 16, 99);\"></td><td title=\"Index: [0, 5]&#10;Color: (71, 19, 101)\" style=\"width: 5px; height: 5px;background-color: rgb(71, 19, 101);\"></td><td title=\"Index: [0, 6]&#10;Color: (72, 23, 105)\" style=\"width: 5px; height: 5px;background-color: rgb(72, 23, 105);\"></td><td title=\"Index: [0, 7]&#10;Color: (72, 27, 109)\" style=\"width: 5px; height: 5px;background-color: rgb(72, 27, 109);\"></td><td title=\"Index: [0, 8]&#10;Color: (72, 29, 111)\" style=\"width: 5px; height: 5px;background-color: rgb(72, 29, 111);\"></td><td title=\"Index: [0, 9]&#10;Color: (72, 33, 115)\" style=\"width: 5px; height: 5px;background-color: rgb(72, 33, 115);\"></td><td title=\"Index: [0, 10]&#10;Color: (72, 36, 117)\" style=\"width: 5px; height: 5px;background-color: rgb(72, 36, 117);\"></td><td title=\"Index: [0, 11]&#10;Color: (72, 40, 120)\" style=\"width: 5px; height: 5px;background-color: rgb(72, 40, 120);\"></td><td title=\"Index: [0, 12]&#10;Color: (71, 44, 122)\" style=\"width: 5px; height: 5px;background-color: rgb(71, 44, 122);\"></td><td title=\"Index: [0, 13]&#10;Color: (71, 46, 124)\" style=\"width: 5px; height: 5px;background-color: rgb(71, 46, 124);\"></td><td title=\"Index: [0, 14]&#10;Color: (70, 50, 126)\" style=\"width: 5px; height: 5px;background-color: rgb(70, 50, 126);\"></td><td title=\"Index: [0, 15]&#10;Color: (70, 52, 128)\" style=\"width: 5px; height: 5px;background-color: rgb(70, 52, 128);\"></td><td title=\"Index: [0, 16]&#10;Color: (69, 56, 130)\" style=\"width: 5px; height: 5px;background-color: rgb(69, 56, 130);\"></td><td title=\"Index: [0, 17]&#10;Color: (68, 58, 131)\" style=\"width: 5px; height: 5px;background-color: rgb(68, 58, 131);\"></td><td title=\"Index: [0, 18]&#10;Color: (67, 62, 133)\" style=\"width: 5px; height: 5px;background-color: rgb(67, 62, 133);\"></td><td title=\"Index: [0, 19]&#10;Color: (66, 65, 134)\" style=\"width: 5px; height: 5px;background-color: rgb(66, 65, 134);\"></td><td title=\"Index: [0, 20]&#10;Color: (65, 68, 135)\" style=\"width: 5px; height: 5px;background-color: rgb(65, 68, 135);\"></td><td title=\"Index: [0, 21]&#10;Color: (63, 71, 136)\" style=\"width: 5px; height: 5px;background-color: rgb(63, 71, 136);\"></td><td title=\"Index: [0, 22]&#10;Color: (62, 73, 137)\" style=\"width: 5px; height: 5px;background-color: rgb(62, 73, 137);\"></td><td title=\"Index: [0, 23]&#10;Color: (61, 77, 138)\" style=\"width: 5px; height: 5px;background-color: rgb(61, 77, 138);\"></td><td title=\"Index: [0, 24]&#10;Color: (60, 80, 139)\" style=\"width: 5px; height: 5px;background-color: rgb(60, 80, 139);\"></td><td title=\"Index: [0, 25]&#10;Color: (59, 82, 139)\" style=\"width: 5px; height: 5px;background-color: rgb(59, 82, 139);\"></td><td title=\"Index: [0, 26]&#10;Color: (57, 85, 140)\" style=\"width: 5px; height: 5px;background-color: rgb(57, 85, 140);\"></td><td title=\"Index: [0, 27]&#10;Color: (56, 88, 140)\" style=\"width: 5px; height: 5px;background-color: rgb(56, 88, 140);\"></td><td title=\"Index: [0, 28]&#10;Color: (55, 91, 141)\" style=\"width: 5px; height: 5px;background-color: rgb(55, 91, 141);\"></td><td title=\"Index: [0, 29]&#10;Color: (54, 93, 141)\" style=\"width: 5px; height: 5px;background-color: rgb(54, 93, 141);\"></td><td title=\"Index: [0, 30]&#10;Color: (52, 96, 141)\" style=\"width: 5px; height: 5px;background-color: rgb(52, 96, 141);\"></td><td title=\"Index: [0, 31]&#10;Color: (51, 99, 141)\" style=\"width: 5px; height: 5px;background-color: rgb(51, 99, 141);\"></td><td title=\"Index: [0, 32]&#10;Color: (50, 101, 142)\" style=\"width: 5px; height: 5px;background-color: rgb(50, 101, 142);\"></td><td title=\"Index: [0, 33]&#10;Color: (49, 104, 142)\" style=\"width: 5px; height: 5px;background-color: rgb(49, 104, 142);\"></td><td title=\"Index: [0, 34]&#10;Color: (48, 106, 142)\" style=\"width: 5px; height: 5px;background-color: rgb(48, 106, 142);\"></td><td title=\"Index: [0, 35]&#10;Color: (46, 109, 142)\" style=\"width: 5px; height: 5px;background-color: rgb(46, 109, 142);\"></td><td title=\"Index: [0, 36]&#10;Color: (45, 112, 142)\" style=\"width: 5px; height: 5px;background-color: rgb(45, 112, 142);\"></td><td title=\"Index: [0, 37]&#10;Color: (44, 113, 142)\" style=\"width: 5px; height: 5px;background-color: rgb(44, 113, 142);\"></td><td title=\"Index: [0, 38]&#10;Color: (43, 116, 142)\" style=\"width: 5px; height: 5px;background-color: rgb(43, 116, 142);\"></td><td title=\"Index: [0, 39]&#10;Color: (42, 118, 142)\" style=\"width: 5px; height: 5px;background-color: rgb(42, 118, 142);\"></td><td title=\"Index: [0, 40]&#10;Color: (41, 121, 142)\" style=\"width: 5px; height: 5px;background-color: rgb(41, 121, 142);\"></td><td title=\"Index: [0, 41]&#10;Color: (40, 124, 142)\" style=\"width: 5px; height: 5px;background-color: rgb(40, 124, 142);\"></td><td title=\"Index: [0, 42]&#10;Color: (39, 126, 142)\" style=\"width: 5px; height: 5px;background-color: rgb(39, 126, 142);\"></td><td title=\"Index: [0, 43]&#10;Color: (38, 129, 142)\" style=\"width: 5px; height: 5px;background-color: rgb(38, 129, 142);\"></td><td title=\"Index: [0, 44]&#10;Color: (38, 130, 142)\" style=\"width: 5px; height: 5px;background-color: rgb(38, 130, 142);\"></td><td title=\"Index: [0, 45]&#10;Color: (37, 133, 142)\" style=\"width: 5px; height: 5px;background-color: rgb(37, 133, 142);\"></td><td title=\"Index: [0, 46]&#10;Color: (36, 135, 142)\" style=\"width: 5px; height: 5px;background-color: rgb(36, 135, 142);\"></td><td title=\"Index: [0, 47]&#10;Color: (35, 138, 141)\" style=\"width: 5px; height: 5px;background-color: rgb(35, 138, 141);\"></td><td title=\"Index: [0, 48]&#10;Color: (34, 141, 141)\" style=\"width: 5px; height: 5px;background-color: rgb(34, 141, 141);\"></td><td title=\"Index: [0, 49]&#10;Color: (33, 143, 141)\" style=\"width: 5px; height: 5px;background-color: rgb(33, 143, 141);\"></td><td title=\"Index: [0, 50]&#10;Color: (32, 146, 140)\" style=\"width: 5px; height: 5px;background-color: rgb(32, 146, 140);\"></td><td title=\"Index: [0, 51]&#10;Color: (32, 147, 140)\" style=\"width: 5px; height: 5px;background-color: rgb(32, 147, 140);\"></td><td title=\"Index: [0, 52]&#10;Color: (31, 150, 139)\" style=\"width: 5px; height: 5px;background-color: rgb(31, 150, 139);\"></td><td title=\"Index: [0, 53]&#10;Color: (31, 153, 138)\" style=\"width: 5px; height: 5px;background-color: rgb(31, 153, 138);\"></td><td title=\"Index: [0, 54]&#10;Color: (30, 155, 138)\" style=\"width: 5px; height: 5px;background-color: rgb(30, 155, 138);\"></td><td title=\"Index: [0, 55]&#10;Color: (31, 158, 137)\" style=\"width: 5px; height: 5px;background-color: rgb(31, 158, 137);\"></td><td title=\"Index: [0, 56]&#10;Color: (31, 160, 136)\" style=\"width: 5px; height: 5px;background-color: rgb(31, 160, 136);\"></td><td title=\"Index: [0, 57]&#10;Color: (31, 162, 135)\" style=\"width: 5px; height: 5px;background-color: rgb(31, 162, 135);\"></td><td title=\"Index: [0, 58]&#10;Color: (32, 164, 134)\" style=\"width: 5px; height: 5px;background-color: rgb(32, 164, 134);\"></td><td title=\"Index: [0, 59]&#10;Color: (34, 167, 133)\" style=\"width: 5px; height: 5px;background-color: rgb(34, 167, 133);\"></td><td title=\"Index: [0, 60]&#10;Color: (36, 170, 131)\" style=\"width: 5px; height: 5px;background-color: rgb(36, 170, 131);\"></td><td title=\"Index: [0, 61]&#10;Color: (37, 172, 130)\" style=\"width: 5px; height: 5px;background-color: rgb(37, 172, 130);\"></td><td title=\"Index: [0, 62]&#10;Color: (40, 174, 128)\" style=\"width: 5px; height: 5px;background-color: rgb(40, 174, 128);\"></td><td title=\"Index: [0, 63]&#10;Color: (42, 176, 127)\" style=\"width: 5px; height: 5px;background-color: rgb(42, 176, 127);\"></td><td title=\"Index: [0, 64]&#10;Color: (46, 179, 124)\" style=\"width: 5px; height: 5px;background-color: rgb(46, 179, 124);\"></td><td title=\"Index: [0, 65]&#10;Color: (50, 182, 122)\" style=\"width: 5px; height: 5px;background-color: rgb(50, 182, 122);\"></td><td title=\"Index: [0, 66]&#10;Color: (53, 183, 121)\" style=\"width: 5px; height: 5px;background-color: rgb(53, 183, 121);\"></td><td title=\"Index: [0, 67]&#10;Color: (58, 186, 118)\" style=\"width: 5px; height: 5px;background-color: rgb(58, 186, 118);\"></td><td title=\"Index: [0, 68]&#10;Color: (61, 188, 116)\" style=\"width: 5px; height: 5px;background-color: rgb(61, 188, 116);\"></td><td title=\"Index: [0, 69]&#10;Color: (66, 190, 113)\" style=\"width: 5px; height: 5px;background-color: rgb(66, 190, 113);\"></td><td title=\"Index: [0, 70]&#10;Color: (72, 193, 110)\" style=\"width: 5px; height: 5px;background-color: rgb(72, 193, 110);\"></td><td title=\"Index: [0, 71]&#10;Color: (76, 194, 108)\" style=\"width: 5px; height: 5px;background-color: rgb(76, 194, 108);\"></td><td title=\"Index: [0, 72]&#10;Color: (82, 197, 105)\" style=\"width: 5px; height: 5px;background-color: rgb(82, 197, 105);\"></td><td title=\"Index: [0, 73]&#10;Color: (86, 198, 103)\" style=\"width: 5px; height: 5px;background-color: rgb(86, 198, 103);\"></td><td title=\"Index: [0, 74]&#10;Color: (92, 200, 99)\" style=\"width: 5px; height: 5px;background-color: rgb(92, 200, 99);\"></td><td title=\"Index: [0, 75]&#10;Color: (96, 202, 96)\" style=\"width: 5px; height: 5px;background-color: rgb(96, 202, 96);\"></td><td title=\"Index: [0, 76]&#10;Color: (103, 204, 92)\" style=\"width: 5px; height: 5px;background-color: rgb(103, 204, 92);\"></td><td title=\"Index: [0, 77]&#10;Color: (110, 206, 88)\" style=\"width: 5px; height: 5px;background-color: rgb(110, 206, 88);\"></td><td title=\"Index: [0, 78]&#10;Color: (115, 208, 86)\" style=\"width: 5px; height: 5px;background-color: rgb(115, 208, 86);\"></td><td title=\"Index: [0, 79]&#10;Color: (122, 209, 81)\" style=\"width: 5px; height: 5px;background-color: rgb(122, 209, 81);\"></td><td title=\"Index: [0, 80]&#10;Color: (127, 211, 78)\" style=\"width: 5px; height: 5px;background-color: rgb(127, 211, 78);\"></td><td title=\"Index: [0, 81]&#10;Color: (134, 213, 73)\" style=\"width: 5px; height: 5px;background-color: rgb(134, 213, 73);\"></td><td title=\"Index: [0, 82]&#10;Color: (142, 214, 69)\" style=\"width: 5px; height: 5px;background-color: rgb(142, 214, 69);\"></td><td title=\"Index: [0, 83]&#10;Color: (147, 215, 65)\" style=\"width: 5px; height: 5px;background-color: rgb(147, 215, 65);\"></td><td title=\"Index: [0, 84]&#10;Color: (155, 217, 60)\" style=\"width: 5px; height: 5px;background-color: rgb(155, 217, 60);\"></td><td title=\"Index: [0, 85]&#10;Color: (160, 218, 57)\" style=\"width: 5px; height: 5px;background-color: rgb(160, 218, 57);\"></td><td title=\"Index: [0, 86]&#10;Color: (168, 219, 52)\" style=\"width: 5px; height: 5px;background-color: rgb(168, 219, 52);\"></td><td title=\"Index: [0, 87]&#10;Color: (173, 220, 48)\" style=\"width: 5px; height: 5px;background-color: rgb(173, 220, 48);\"></td><td title=\"Index: [0, 88]&#10;Color: (181, 222, 43)\" style=\"width: 5px; height: 5px;background-color: rgb(181, 222, 43);\"></td><td title=\"Index: [0, 89]&#10;Color: (189, 223, 38)\" style=\"width: 5px; height: 5px;background-color: rgb(189, 223, 38);\"></td><td title=\"Index: [0, 90]&#10;Color: (194, 223, 35)\" style=\"width: 5px; height: 5px;background-color: rgb(194, 223, 35);\"></td><td title=\"Index: [0, 91]&#10;Color: (202, 225, 31)\" style=\"width: 5px; height: 5px;background-color: rgb(202, 225, 31);\"></td><td title=\"Index: [0, 92]&#10;Color: (208, 225, 28)\" style=\"width: 5px; height: 5px;background-color: rgb(208, 225, 28);\"></td><td title=\"Index: [0, 93]&#10;Color: (216, 226, 25)\" style=\"width: 5px; height: 5px;background-color: rgb(216, 226, 25);\"></td><td title=\"Index: [0, 94]&#10;Color: (223, 227, 24)\" style=\"width: 5px; height: 5px;background-color: rgb(223, 227, 24);\"></td><td title=\"Index: [0, 95]&#10;Color: (229, 228, 25)\" style=\"width: 5px; height: 5px;background-color: rgb(229, 228, 25);\"></td><td title=\"Index: [0, 96]&#10;Color: (236, 229, 27)\" style=\"width: 5px; height: 5px;background-color: rgb(236, 229, 27);\"></td><td title=\"Index: [0, 97]&#10;Color: (241, 229, 29)\" style=\"width: 5px; height: 5px;background-color: rgb(241, 229, 29);\"></td><td title=\"Index: [0, 98]&#10;Color: (248, 230, 33)\" style=\"width: 5px; height: 5px;background-color: rgb(248, 230, 33);\"></td><td title=\"Index: [0, 99]&#10;Color: (253, 231, 37)\" style=\"width: 5px; height: 5px;background-color: rgb(253, 231, 37);\"></td></tr></tbody></table>"
      ],
      "text/plain": [
       "array([  0.        ,   0.12693304,   0.25386607,   0.38079911,\n",
       "         0.50773215,   0.63466518,   0.76159822,   0.88853126,\n",
       "         1.01546429,   1.14239733,   1.26933037,   1.3962634 ,\n",
       "         1.52319644,   1.65012947,   1.77706251,   1.90399555,\n",
       "         2.03092858,   2.15786162,   2.28479466,   2.41172769,\n",
       "         2.53866073,   2.66559377,   2.7925268 ,   2.91945984,\n",
       "         3.04639288,   3.17332591,   3.30025895,   3.42719199,\n",
       "         3.55412502,   3.68105806,   3.8079911 ,   3.93492413,\n",
       "         4.06185717,   4.1887902 ,   4.31572324,   4.44265628,\n",
       "         4.56958931,   4.69652235,   4.82345539,   4.95038842,\n",
       "         5.07732146,   5.2042545 ,   5.33118753,   5.45812057,\n",
       "         5.58505361,   5.71198664,   5.83891968,   5.96585272,\n",
       "         6.09278575,   6.21971879,   6.34665183,   6.47358486,\n",
       "         6.6005179 ,   6.72745093,   6.85438397,   6.98131701,\n",
       "         7.10825004,   7.23518308,   7.36211612,   7.48904915,\n",
       "         7.61598219,   7.74291523,   7.86984826,   7.9967813 ,\n",
       "         8.12371434,   8.25064737,   8.37758041,   8.50451345,\n",
       "         8.63144648,   8.75837952,   8.88531256,   9.01224559,\n",
       "         9.13917863,   9.26611167,   9.3930447 ,   9.51997774,\n",
       "         9.64691077,   9.77384381,   9.90077685,  10.02770988,\n",
       "        10.15464292,  10.28157596,  10.40850899,  10.53544203,\n",
       "        10.66237507,  10.7893081 ,  10.91624114,  11.04317418,\n",
       "        11.17010721,  11.29704025,  11.42397329,  11.55090632,\n",
       "        11.67783936,  11.8047724 ,  11.93170543,  12.05863847,\n",
       "        12.1855715 ,  12.31250454,  12.43943758,  12.56637061])"
      ]
     },
     "execution_count": 67,
     "metadata": {},
     "output_type": "execute_result"
    }
   ],
   "source": [
    "t = np.linspace(0.0, 4*np.pi, 100)\n",
    "t"
   ]
  },
  {
   "cell_type": "markdown",
   "metadata": {},
   "source": [
    "Take the $sin$ of each element of the array:"
   ]
  },
  {
   "cell_type": "code",
   "execution_count": 68,
   "metadata": {
    "collapsed": false
   },
   "outputs": [
    {
     "data": {
      "text/html": [
       "<style type=\"text/css\">table.blockgrid {border: none;} .blockgrid tr {border: none;} .blockgrid td {padding: 0px;} #blocks43cd43d1-342c-4580-8301-2abded0fee18 td {border: 1px solid white;}</style><table id=\"blocks43cd43d1-342c-4580-8301-2abded0fee18\" class=\"blockgrid\"><tbody><tr><td title=\"Index: [0, 0]&#10;Color: (33, 145, 140)\" style=\"width: 5px; height: 5px;background-color: rgb(33, 145, 140);\"></td><td title=\"Index: [0, 1]&#10;Color: (31, 160, 136)\" style=\"width: 5px; height: 5px;background-color: rgb(31, 160, 136);\"></td><td title=\"Index: [0, 2]&#10;Color: (40, 174, 128)\" style=\"width: 5px; height: 5px;background-color: rgb(40, 174, 128);\"></td><td title=\"Index: [0, 3]&#10;Color: (61, 188, 116)\" style=\"width: 5px; height: 5px;background-color: rgb(61, 188, 116);\"></td><td title=\"Index: [0, 4]&#10;Color: (90, 200, 100)\" style=\"width: 5px; height: 5px;background-color: rgb(90, 200, 100);\"></td><td title=\"Index: [0, 5]&#10;Color: (119, 209, 83)\" style=\"width: 5px; height: 5px;background-color: rgb(119, 209, 83);\"></td><td title=\"Index: [0, 6]&#10;Color: (152, 216, 62)\" style=\"width: 5px; height: 5px;background-color: rgb(152, 216, 62);\"></td><td title=\"Index: [0, 7]&#10;Color: (181, 222, 43)\" style=\"width: 5px; height: 5px;background-color: rgb(181, 222, 43);\"></td><td title=\"Index: [0, 8]&#10;Color: (205, 225, 29)\" style=\"width: 5px; height: 5px;background-color: rgb(205, 225, 29);\"></td><td title=\"Index: [0, 9]&#10;Color: (226, 228, 24)\" style=\"width: 5px; height: 5px;background-color: rgb(226, 228, 24);\"></td><td title=\"Index: [0, 10]&#10;Color: (241, 229, 29)\" style=\"width: 5px; height: 5px;background-color: rgb(241, 229, 29);\"></td><td title=\"Index: [0, 11]&#10;Color: (251, 231, 35)\" style=\"width: 5px; height: 5px;background-color: rgb(251, 231, 35);\"></td><td title=\"Index: [0, 12]&#10;Color: (253, 231, 37)\" style=\"width: 5px; height: 5px;background-color: rgb(253, 231, 37);\"></td><td title=\"Index: [0, 13]&#10;Color: (253, 231, 37)\" style=\"width: 5px; height: 5px;background-color: rgb(253, 231, 37);\"></td><td title=\"Index: [0, 14]&#10;Color: (248, 230, 33)\" style=\"width: 5px; height: 5px;background-color: rgb(248, 230, 33);\"></td><td title=\"Index: [0, 15]&#10;Color: (236, 229, 27)\" style=\"width: 5px; height: 5px;background-color: rgb(236, 229, 27);\"></td><td title=\"Index: [0, 16]&#10;Color: (221, 227, 24)\" style=\"width: 5px; height: 5px;background-color: rgb(221, 227, 24);\"></td><td title=\"Index: [0, 17]&#10;Color: (200, 224, 32)\" style=\"width: 5px; height: 5px;background-color: rgb(200, 224, 32);\"></td><td title=\"Index: [0, 18]&#10;Color: (173, 220, 48)\" style=\"width: 5px; height: 5px;background-color: rgb(173, 220, 48);\"></td><td title=\"Index: [0, 19]&#10;Color: (144, 215, 67)\" style=\"width: 5px; height: 5px;background-color: rgb(144, 215, 67);\"></td><td title=\"Index: [0, 20]&#10;Color: (112, 207, 87)\" style=\"width: 5px; height: 5px;background-color: rgb(112, 207, 87);\"></td><td title=\"Index: [0, 21]&#10;Color: (82, 197, 105)\" style=\"width: 5px; height: 5px;background-color: rgb(82, 197, 105);\"></td><td title=\"Index: [0, 22]&#10;Color: (55, 184, 120)\" style=\"width: 5px; height: 5px;background-color: rgb(55, 184, 120);\"></td><td title=\"Index: [0, 23]&#10;Color: (37, 171, 130)\" style=\"width: 5px; height: 5px;background-color: rgb(37, 171, 130);\"></td><td title=\"Index: [0, 24]&#10;Color: (30, 156, 137)\" style=\"width: 5px; height: 5px;background-color: rgb(30, 156, 137);\"></td><td title=\"Index: [0, 25]&#10;Color: (34, 140, 141)\" style=\"width: 5px; height: 5px;background-color: rgb(34, 140, 141);\"></td><td title=\"Index: [0, 26]&#10;Color: (40, 125, 142)\" style=\"width: 5px; height: 5px;background-color: rgb(40, 125, 142);\"></td><td title=\"Index: [0, 27]&#10;Color: (46, 110, 142)\" style=\"width: 5px; height: 5px;background-color: rgb(46, 110, 142);\"></td><td title=\"Index: [0, 28]&#10;Color: (53, 95, 141)\" style=\"width: 5px; height: 5px;background-color: rgb(53, 95, 141);\"></td><td title=\"Index: [0, 29]&#10;Color: (60, 80, 139)\" style=\"width: 5px; height: 5px;background-color: rgb(60, 80, 139);\"></td><td title=\"Index: [0, 30]&#10;Color: (66, 64, 134)\" style=\"width: 5px; height: 5px;background-color: rgb(66, 64, 134);\"></td><td title=\"Index: [0, 31]&#10;Color: (70, 50, 126)\" style=\"width: 5px; height: 5px;background-color: rgb(70, 50, 126);\"></td><td title=\"Index: [0, 32]&#10;Color: (72, 37, 118)\" style=\"width: 5px; height: 5px;background-color: rgb(72, 37, 118);\"></td><td title=\"Index: [0, 33]&#10;Color: (72, 26, 108)\" style=\"width: 5px; height: 5px;background-color: rgb(72, 26, 108);\"></td><td title=\"Index: [0, 34]&#10;Color: (71, 14, 97)\" style=\"width: 5px; height: 5px;background-color: rgb(71, 14, 97);\"></td><td title=\"Index: [0, 35]&#10;Color: (70, 7, 90)\" style=\"width: 5px; height: 5px;background-color: rgb(70, 7, 90);\"></td><td title=\"Index: [0, 36]&#10;Color: (68, 2, 86)\" style=\"width: 5px; height: 5px;background-color: rgb(68, 2, 86);\"></td><td title=\"Index: [0, 37]&#10;Color: (68, 1, 84)\" style=\"width: 5px; height: 5px;background-color: rgb(68, 1, 84);\"></td><td title=\"Index: [0, 38]&#10;Color: (68, 1, 84)\" style=\"width: 5px; height: 5px;background-color: rgb(68, 1, 84);\"></td><td title=\"Index: [0, 39]&#10;Color: (69, 5, 89)\" style=\"width: 5px; height: 5px;background-color: rgb(69, 5, 89);\"></td><td title=\"Index: [0, 40]&#10;Color: (71, 13, 96)\" style=\"width: 5px; height: 5px;background-color: rgb(71, 13, 96);\"></td><td title=\"Index: [0, 41]&#10;Color: (72, 23, 105)\" style=\"width: 5px; height: 5px;background-color: rgb(72, 23, 105);\"></td><td title=\"Index: [0, 42]&#10;Color: (72, 33, 115)\" style=\"width: 5px; height: 5px;background-color: rgb(72, 33, 115);\"></td><td title=\"Index: [0, 43]&#10;Color: (71, 46, 124)\" style=\"width: 5px; height: 5px;background-color: rgb(71, 46, 124);\"></td><td title=\"Index: [0, 44]&#10;Color: (67, 61, 132)\" style=\"width: 5px; height: 5px;background-color: rgb(67, 61, 132);\"></td><td title=\"Index: [0, 45]&#10;Color: (62, 76, 138)\" style=\"width: 5px; height: 5px;background-color: rgb(62, 76, 138);\"></td><td title=\"Index: [0, 46]&#10;Color: (55, 91, 141)\" style=\"width: 5px; height: 5px;background-color: rgb(55, 91, 141);\"></td><td title=\"Index: [0, 47]&#10;Color: (47, 107, 142)\" style=\"width: 5px; height: 5px;background-color: rgb(47, 107, 142);\"></td><td title=\"Index: [0, 48]&#10;Color: (41, 121, 142)\" style=\"width: 5px; height: 5px;background-color: rgb(41, 121, 142);\"></td><td title=\"Index: [0, 49]&#10;Color: (35, 136, 142)\" style=\"width: 5px; height: 5px;background-color: rgb(35, 136, 142);\"></td><td title=\"Index: [0, 50]&#10;Color: (31, 152, 139)\" style=\"width: 5px; height: 5px;background-color: rgb(31, 152, 139);\"></td><td title=\"Index: [0, 51]&#10;Color: (34, 167, 133)\" style=\"width: 5px; height: 5px;background-color: rgb(34, 167, 133);\"></td><td title=\"Index: [0, 52]&#10;Color: (49, 181, 123)\" style=\"width: 5px; height: 5px;background-color: rgb(49, 181, 123);\"></td><td title=\"Index: [0, 53]&#10;Color: (76, 194, 108)\" style=\"width: 5px; height: 5px;background-color: rgb(76, 194, 108);\"></td><td title=\"Index: [0, 54]&#10;Color: (105, 205, 91)\" style=\"width: 5px; height: 5px;background-color: rgb(105, 205, 91);\"></td><td title=\"Index: [0, 55]&#10;Color: (137, 213, 72)\" style=\"width: 5px; height: 5px;background-color: rgb(137, 213, 72);\"></td><td title=\"Index: [0, 56]&#10;Color: (168, 219, 52)\" style=\"width: 5px; height: 5px;background-color: rgb(168, 219, 52);\"></td><td title=\"Index: [0, 57]&#10;Color: (194, 223, 35)\" style=\"width: 5px; height: 5px;background-color: rgb(194, 223, 35);\"></td><td title=\"Index: [0, 58]&#10;Color: (216, 226, 25)\" style=\"width: 5px; height: 5px;background-color: rgb(216, 226, 25);\"></td><td title=\"Index: [0, 59]&#10;Color: (234, 229, 26)\" style=\"width: 5px; height: 5px;background-color: rgb(234, 229, 26);\"></td><td title=\"Index: [0, 60]&#10;Color: (246, 230, 32)\" style=\"width: 5px; height: 5px;background-color: rgb(246, 230, 32);\"></td><td title=\"Index: [0, 61]&#10;Color: (253, 231, 37)\" style=\"width: 5px; height: 5px;background-color: rgb(253, 231, 37);\"></td><td title=\"Index: [0, 62]&#10;Color: (253, 231, 37)\" style=\"width: 5px; height: 5px;background-color: rgb(253, 231, 37);\"></td><td title=\"Index: [0, 63]&#10;Color: (251, 231, 35)\" style=\"width: 5px; height: 5px;background-color: rgb(251, 231, 35);\"></td><td title=\"Index: [0, 64]&#10;Color: (244, 230, 30)\" style=\"width: 5px; height: 5px;background-color: rgb(244, 230, 30);\"></td><td title=\"Index: [0, 65]&#10;Color: (231, 228, 25)\" style=\"width: 5px; height: 5px;background-color: rgb(231, 228, 25);\"></td><td title=\"Index: [0, 66]&#10;Color: (210, 226, 27)\" style=\"width: 5px; height: 5px;background-color: rgb(210, 226, 27);\"></td><td title=\"Index: [0, 67]&#10;Color: (186, 222, 40)\" style=\"width: 5px; height: 5px;background-color: rgb(186, 222, 40);\"></td><td title=\"Index: [0, 68]&#10;Color: (160, 218, 57)\" style=\"width: 5px; height: 5px;background-color: rgb(160, 218, 57);\"></td><td title=\"Index: [0, 69]&#10;Color: (129, 211, 77)\" style=\"width: 5px; height: 5px;background-color: rgb(129, 211, 77);\"></td><td title=\"Index: [0, 70]&#10;Color: (96, 202, 96)\" style=\"width: 5px; height: 5px;background-color: rgb(96, 202, 96);\"></td><td title=\"Index: [0, 71]&#10;Color: (68, 191, 112)\" style=\"width: 5px; height: 5px;background-color: rgb(68, 191, 112);\"></td><td title=\"Index: [0, 72]&#10;Color: (45, 178, 125)\" style=\"width: 5px; height: 5px;background-color: rgb(45, 178, 125);\"></td><td title=\"Index: [0, 73]&#10;Color: (32, 163, 134)\" style=\"width: 5px; height: 5px;background-color: rgb(32, 163, 134);\"></td><td title=\"Index: [0, 74]&#10;Color: (31, 148, 140)\" style=\"width: 5px; height: 5px;background-color: rgb(31, 148, 140);\"></td><td title=\"Index: [0, 75]&#10;Color: (37, 132, 142)\" style=\"width: 5px; height: 5px;background-color: rgb(37, 132, 142);\"></td><td title=\"Index: [0, 76]&#10;Color: (43, 117, 142)\" style=\"width: 5px; height: 5px;background-color: rgb(43, 117, 142);\"></td><td title=\"Index: [0, 77]&#10;Color: (49, 103, 142)\" style=\"width: 5px; height: 5px;background-color: rgb(49, 103, 142);\"></td><td title=\"Index: [0, 78]&#10;Color: (56, 88, 140)\" style=\"width: 5px; height: 5px;background-color: rgb(56, 88, 140);\"></td><td title=\"Index: [0, 79]&#10;Color: (63, 72, 137)\" style=\"width: 5px; height: 5px;background-color: rgb(63, 72, 137);\"></td><td title=\"Index: [0, 80]&#10;Color: (68, 57, 131)\" style=\"width: 5px; height: 5px;background-color: rgb(68, 57, 131);\"></td><td title=\"Index: [0, 81]&#10;Color: (71, 44, 122)\" style=\"width: 5px; height: 5px;background-color: rgb(71, 44, 122);\"></td><td title=\"Index: [0, 82]&#10;Color: (72, 31, 112)\" style=\"width: 5px; height: 5px;background-color: rgb(72, 31, 112);\"></td><td title=\"Index: [0, 83]&#10;Color: (72, 20, 103)\" style=\"width: 5px; height: 5px;background-color: rgb(72, 20, 103);\"></td><td title=\"Index: [0, 84]&#10;Color: (70, 11, 94)\" style=\"width: 5px; height: 5px;background-color: rgb(70, 11, 94);\"></td><td title=\"Index: [0, 85]&#10;Color: (69, 4, 87)\" style=\"width: 5px; height: 5px;background-color: rgb(69, 4, 87);\"></td><td title=\"Index: [0, 86]&#10;Color: (68, 1, 84)\" style=\"width: 5px; height: 5px;background-color: rgb(68, 1, 84);\"></td><td title=\"Index: [0, 87]&#10;Color: (68, 1, 84)\" style=\"width: 5px; height: 5px;background-color: rgb(68, 1, 84);\"></td><td title=\"Index: [0, 88]&#10;Color: (68, 2, 86)\" style=\"width: 5px; height: 5px;background-color: rgb(68, 2, 86);\"></td><td title=\"Index: [0, 89]&#10;Color: (70, 8, 92)\" style=\"width: 5px; height: 5px;background-color: rgb(70, 8, 92);\"></td><td title=\"Index: [0, 90]&#10;Color: (71, 17, 100)\" style=\"width: 5px; height: 5px;background-color: rgb(71, 17, 100);\"></td><td title=\"Index: [0, 91]&#10;Color: (72, 28, 110)\" style=\"width: 5px; height: 5px;background-color: rgb(72, 28, 110);\"></td><td title=\"Index: [0, 92]&#10;Color: (72, 40, 120)\" style=\"width: 5px; height: 5px;background-color: rgb(72, 40, 120);\"></td><td title=\"Index: [0, 93]&#10;Color: (69, 53, 129)\" style=\"width: 5px; height: 5px;background-color: rgb(69, 53, 129);\"></td><td title=\"Index: [0, 94]&#10;Color: (64, 69, 136)\" style=\"width: 5px; height: 5px;background-color: rgb(64, 69, 136);\"></td><td title=\"Index: [0, 95]&#10;Color: (58, 83, 139)\" style=\"width: 5px; height: 5px;background-color: rgb(58, 83, 139);\"></td><td title=\"Index: [0, 96]&#10;Color: (51, 99, 141)\" style=\"width: 5px; height: 5px;background-color: rgb(51, 99, 141);\"></td><td title=\"Index: [0, 97]&#10;Color: (44, 113, 142)\" style=\"width: 5px; height: 5px;background-color: rgb(44, 113, 142);\"></td><td title=\"Index: [0, 98]&#10;Color: (38, 129, 142)\" style=\"width: 5px; height: 5px;background-color: rgb(38, 129, 142);\"></td><td title=\"Index: [0, 99]&#10;Color: (33, 144, 141)\" style=\"width: 5px; height: 5px;background-color: rgb(33, 144, 141);\"></td></tr></tbody></table>"
      ],
      "text/plain": [
       "array([  0.00000000e+00,   1.26592454e-01,   2.51147987e-01,\n",
       "         3.71662456e-01,   4.86196736e-01,   5.92907929e-01,\n",
       "         6.90079011e-01,   7.76146464e-01,   8.49725430e-01,\n",
       "         9.09631995e-01,   9.54902241e-01,   9.84807753e-01,\n",
       "         9.98867339e-01,   9.96854776e-01,   9.78802446e-01,\n",
       "         9.45000819e-01,   8.95993774e-01,   8.32569855e-01,\n",
       "         7.55749574e-01,   6.66769001e-01,   5.67059864e-01,\n",
       "         4.58226522e-01,   3.42020143e-01,   2.20310533e-01,\n",
       "         9.50560433e-02,  -3.17279335e-02,  -1.58001396e-01,\n",
       "        -2.81732557e-01,  -4.00930535e-01,  -5.13677392e-01,\n",
       "        -6.18158986e-01,  -7.12694171e-01,  -7.95761841e-01,\n",
       "        -8.66025404e-01,  -9.22354294e-01,  -9.63842159e-01,\n",
       "        -9.89821442e-01,  -9.99874128e-01,  -9.93838464e-01,\n",
       "        -9.71811568e-01,  -9.34147860e-01,  -8.81453363e-01,\n",
       "        -8.14575952e-01,  -7.34591709e-01,  -6.42787610e-01,\n",
       "        -5.40640817e-01,  -4.29794912e-01,  -3.12033446e-01,\n",
       "        -1.89251244e-01,  -6.34239197e-02,   6.34239197e-02,\n",
       "         1.89251244e-01,   3.12033446e-01,   4.29794912e-01,\n",
       "         5.40640817e-01,   6.42787610e-01,   7.34591709e-01,\n",
       "         8.14575952e-01,   8.81453363e-01,   9.34147860e-01,\n",
       "         9.71811568e-01,   9.93838464e-01,   9.99874128e-01,\n",
       "         9.89821442e-01,   9.63842159e-01,   9.22354294e-01,\n",
       "         8.66025404e-01,   7.95761841e-01,   7.12694171e-01,\n",
       "         6.18158986e-01,   5.13677392e-01,   4.00930535e-01,\n",
       "         2.81732557e-01,   1.58001396e-01,   3.17279335e-02,\n",
       "        -9.50560433e-02,  -2.20310533e-01,  -3.42020143e-01,\n",
       "        -4.58226522e-01,  -5.67059864e-01,  -6.66769001e-01,\n",
       "        -7.55749574e-01,  -8.32569855e-01,  -8.95993774e-01,\n",
       "        -9.45000819e-01,  -9.78802446e-01,  -9.96854776e-01,\n",
       "        -9.98867339e-01,  -9.84807753e-01,  -9.54902241e-01,\n",
       "        -9.09631995e-01,  -8.49725430e-01,  -7.76146464e-01,\n",
       "        -6.90079011e-01,  -5.92907929e-01,  -4.86196736e-01,\n",
       "        -3.71662456e-01,  -2.51147987e-01,  -1.26592454e-01,\n",
       "        -4.89858720e-16])"
      ]
     },
     "execution_count": 68,
     "metadata": {},
     "output_type": "execute_result"
    }
   ],
   "source": [
    "np.sin(t)"
   ]
  },
  {
   "cell_type": "markdown",
   "metadata": {},
   "source": [
    "As the next two examples show, multiple ufuncs can be used to create complex mathematical expressions that can be computed efficiently:"
   ]
  },
  {
   "cell_type": "code",
   "execution_count": 69,
   "metadata": {
    "collapsed": false
   },
   "outputs": [
    {
     "data": {
      "text/html": [
       "<style type=\"text/css\">table.blockgrid {border: none;} .blockgrid tr {border: none;} .blockgrid td {padding: 0px;} #blocksdfe6540a-688a-48f7-ba94-1043371a701e td {border: 1px solid white;}</style><table id=\"blocksdfe6540a-688a-48f7-ba94-1043371a701e\" class=\"blockgrid\"><tbody><tr><td title=\"Index: [0, 0]&#10;Color: (68, 1, 84)\" style=\"width: 5px; height: 5px;background-color: rgb(68, 1, 84);\"></td><td title=\"Index: [0, 1]&#10;Color: (69, 5, 89)\" style=\"width: 5px; height: 5px;background-color: rgb(69, 5, 89);\"></td><td title=\"Index: [0, 2]&#10;Color: (70, 7, 90)\" style=\"width: 5px; height: 5px;background-color: rgb(70, 7, 90);\"></td><td title=\"Index: [0, 3]&#10;Color: (70, 10, 93)\" style=\"width: 5px; height: 5px;background-color: rgb(70, 10, 93);\"></td><td title=\"Index: [0, 4]&#10;Color: (70, 11, 94)\" style=\"width: 5px; height: 5px;background-color: rgb(70, 11, 94);\"></td><td title=\"Index: [0, 5]&#10;Color: (71, 14, 97)\" style=\"width: 5px; height: 5px;background-color: rgb(71, 14, 97);\"></td><td title=\"Index: [0, 6]&#10;Color: (71, 16, 99)\" style=\"width: 5px; height: 5px;background-color: rgb(71, 16, 99);\"></td><td title=\"Index: [0, 7]&#10;Color: (71, 17, 100)\" style=\"width: 5px; height: 5px;background-color: rgb(71, 17, 100);\"></td><td title=\"Index: [0, 8]&#10;Color: (72, 20, 103)\" style=\"width: 5px; height: 5px;background-color: rgb(72, 20, 103);\"></td><td title=\"Index: [0, 9]&#10;Color: (72, 22, 104)\" style=\"width: 5px; height: 5px;background-color: rgb(72, 22, 104);\"></td><td title=\"Index: [0, 10]&#10;Color: (72, 23, 105)\" style=\"width: 5px; height: 5px;background-color: rgb(72, 23, 105);\"></td><td title=\"Index: [0, 11]&#10;Color: (72, 26, 108)\" style=\"width: 5px; height: 5px;background-color: rgb(72, 26, 108);\"></td><td title=\"Index: [0, 12]&#10;Color: (72, 27, 109)\" style=\"width: 5px; height: 5px;background-color: rgb(72, 27, 109);\"></td><td title=\"Index: [0, 13]&#10;Color: (72, 28, 110)\" style=\"width: 5px; height: 5px;background-color: rgb(72, 28, 110);\"></td><td title=\"Index: [0, 14]&#10;Color: (72, 31, 112)\" style=\"width: 5px; height: 5px;background-color: rgb(72, 31, 112);\"></td><td title=\"Index: [0, 15]&#10;Color: (72, 32, 113)\" style=\"width: 5px; height: 5px;background-color: rgb(72, 32, 113);\"></td><td title=\"Index: [0, 16]&#10;Color: (72, 35, 116)\" style=\"width: 5px; height: 5px;background-color: rgb(72, 35, 116);\"></td><td title=\"Index: [0, 17]&#10;Color: (72, 36, 117)\" style=\"width: 5px; height: 5px;background-color: rgb(72, 36, 117);\"></td><td title=\"Index: [0, 18]&#10;Color: (72, 37, 118)\" style=\"width: 5px; height: 5px;background-color: rgb(72, 37, 118);\"></td><td title=\"Index: [0, 19]&#10;Color: (72, 40, 120)\" style=\"width: 5px; height: 5px;background-color: rgb(72, 40, 120);\"></td><td title=\"Index: [0, 20]&#10;Color: (72, 41, 121)\" style=\"width: 5px; height: 5px;background-color: rgb(72, 41, 121);\"></td><td title=\"Index: [0, 21]&#10;Color: (71, 44, 122)\" style=\"width: 5px; height: 5px;background-color: rgb(71, 44, 122);\"></td><td title=\"Index: [0, 22]&#10;Color: (71, 45, 123)\" style=\"width: 5px; height: 5px;background-color: rgb(71, 45, 123);\"></td><td title=\"Index: [0, 23]&#10;Color: (71, 47, 125)\" style=\"width: 5px; height: 5px;background-color: rgb(71, 47, 125);\"></td><td title=\"Index: [0, 24]&#10;Color: (70, 48, 126)\" style=\"width: 5px; height: 5px;background-color: rgb(70, 48, 126);\"></td><td title=\"Index: [0, 25]&#10;Color: (70, 51, 127)\" style=\"width: 5px; height: 5px;background-color: rgb(70, 51, 127);\"></td><td title=\"Index: [0, 26]&#10;Color: (69, 53, 129)\" style=\"width: 5px; height: 5px;background-color: rgb(69, 53, 129);\"></td><td title=\"Index: [0, 27]&#10;Color: (69, 55, 129)\" style=\"width: 5px; height: 5px;background-color: rgb(69, 55, 129);\"></td><td title=\"Index: [0, 28]&#10;Color: (68, 57, 131)\" style=\"width: 5px; height: 5px;background-color: rgb(68, 57, 131);\"></td><td title=\"Index: [0, 29]&#10;Color: (68, 59, 132)\" style=\"width: 5px; height: 5px;background-color: rgb(68, 59, 132);\"></td><td title=\"Index: [0, 30]&#10;Color: (67, 61, 132)\" style=\"width: 5px; height: 5px;background-color: rgb(67, 61, 132);\"></td><td title=\"Index: [0, 31]&#10;Color: (66, 63, 133)\" style=\"width: 5px; height: 5px;background-color: rgb(66, 63, 133);\"></td><td title=\"Index: [0, 32]&#10;Color: (66, 65, 134)\" style=\"width: 5px; height: 5px;background-color: rgb(66, 65, 134);\"></td><td title=\"Index: [0, 33]&#10;Color: (65, 68, 135)\" style=\"width: 5px; height: 5px;background-color: rgb(65, 68, 135);\"></td><td title=\"Index: [0, 34]&#10;Color: (64, 70, 136)\" style=\"width: 5px; height: 5px;background-color: rgb(64, 70, 136);\"></td><td title=\"Index: [0, 35]&#10;Color: (63, 72, 137)\" style=\"width: 5px; height: 5px;background-color: rgb(63, 72, 137);\"></td><td title=\"Index: [0, 36]&#10;Color: (62, 73, 137)\" style=\"width: 5px; height: 5px;background-color: rgb(62, 73, 137);\"></td><td title=\"Index: [0, 37]&#10;Color: (62, 76, 138)\" style=\"width: 5px; height: 5px;background-color: rgb(62, 76, 138);\"></td><td title=\"Index: [0, 38]&#10;Color: (61, 78, 138)\" style=\"width: 5px; height: 5px;background-color: rgb(61, 78, 138);\"></td><td title=\"Index: [0, 39]&#10;Color: (60, 80, 139)\" style=\"width: 5px; height: 5px;background-color: rgb(60, 80, 139);\"></td><td title=\"Index: [0, 40]&#10;Color: (59, 82, 139)\" style=\"width: 5px; height: 5px;background-color: rgb(59, 82, 139);\"></td><td title=\"Index: [0, 41]&#10;Color: (58, 84, 140)\" style=\"width: 5px; height: 5px;background-color: rgb(58, 84, 140);\"></td><td title=\"Index: [0, 42]&#10;Color: (57, 86, 140)\" style=\"width: 5px; height: 5px;background-color: rgb(57, 86, 140);\"></td><td title=\"Index: [0, 43]&#10;Color: (55, 90, 140)\" style=\"width: 5px; height: 5px;background-color: rgb(55, 90, 140);\"></td><td title=\"Index: [0, 44]&#10;Color: (54, 92, 141)\" style=\"width: 5px; height: 5px;background-color: rgb(54, 92, 141);\"></td><td title=\"Index: [0, 45]&#10;Color: (53, 94, 141)\" style=\"width: 5px; height: 5px;background-color: rgb(53, 94, 141);\"></td><td title=\"Index: [0, 46]&#10;Color: (52, 96, 141)\" style=\"width: 5px; height: 5px;background-color: rgb(52, 96, 141);\"></td><td title=\"Index: [0, 47]&#10;Color: (51, 98, 141)\" style=\"width: 5px; height: 5px;background-color: rgb(51, 98, 141);\"></td><td title=\"Index: [0, 48]&#10;Color: (50, 101, 142)\" style=\"width: 5px; height: 5px;background-color: rgb(50, 101, 142);\"></td><td title=\"Index: [0, 49]&#10;Color: (49, 103, 142)\" style=\"width: 5px; height: 5px;background-color: rgb(49, 103, 142);\"></td><td title=\"Index: [0, 50]&#10;Color: (48, 105, 142)\" style=\"width: 5px; height: 5px;background-color: rgb(48, 105, 142);\"></td><td title=\"Index: [0, 51]&#10;Color: (47, 108, 142)\" style=\"width: 5px; height: 5px;background-color: rgb(47, 108, 142);\"></td><td title=\"Index: [0, 52]&#10;Color: (46, 110, 142)\" style=\"width: 5px; height: 5px;background-color: rgb(46, 110, 142);\"></td><td title=\"Index: [0, 53]&#10;Color: (45, 113, 142)\" style=\"width: 5px; height: 5px;background-color: rgb(45, 113, 142);\"></td><td title=\"Index: [0, 54]&#10;Color: (44, 114, 142)\" style=\"width: 5px; height: 5px;background-color: rgb(44, 114, 142);\"></td><td title=\"Index: [0, 55]&#10;Color: (43, 117, 142)\" style=\"width: 5px; height: 5px;background-color: rgb(43, 117, 142);\"></td><td title=\"Index: [0, 56]&#10;Color: (42, 119, 142)\" style=\"width: 5px; height: 5px;background-color: rgb(42, 119, 142);\"></td><td title=\"Index: [0, 57]&#10;Color: (41, 122, 142)\" style=\"width: 5px; height: 5px;background-color: rgb(41, 122, 142);\"></td><td title=\"Index: [0, 58]&#10;Color: (40, 125, 142)\" style=\"width: 5px; height: 5px;background-color: rgb(40, 125, 142);\"></td><td title=\"Index: [0, 59]&#10;Color: (39, 127, 142)\" style=\"width: 5px; height: 5px;background-color: rgb(39, 127, 142);\"></td><td title=\"Index: [0, 60]&#10;Color: (38, 130, 142)\" style=\"width: 5px; height: 5px;background-color: rgb(38, 130, 142);\"></td><td title=\"Index: [0, 61]&#10;Color: (37, 132, 142)\" style=\"width: 5px; height: 5px;background-color: rgb(37, 132, 142);\"></td><td title=\"Index: [0, 62]&#10;Color: (36, 135, 142)\" style=\"width: 5px; height: 5px;background-color: rgb(36, 135, 142);\"></td><td title=\"Index: [0, 63]&#10;Color: (35, 138, 141)\" style=\"width: 5px; height: 5px;background-color: rgb(35, 138, 141);\"></td><td title=\"Index: [0, 64]&#10;Color: (34, 140, 141)\" style=\"width: 5px; height: 5px;background-color: rgb(34, 140, 141);\"></td><td title=\"Index: [0, 65]&#10;Color: (33, 143, 141)\" style=\"width: 5px; height: 5px;background-color: rgb(33, 143, 141);\"></td><td title=\"Index: [0, 66]&#10;Color: (32, 146, 140)\" style=\"width: 5px; height: 5px;background-color: rgb(32, 146, 140);\"></td><td title=\"Index: [0, 67]&#10;Color: (31, 148, 140)\" style=\"width: 5px; height: 5px;background-color: rgb(31, 148, 140);\"></td><td title=\"Index: [0, 68]&#10;Color: (31, 152, 139)\" style=\"width: 5px; height: 5px;background-color: rgb(31, 152, 139);\"></td><td title=\"Index: [0, 69]&#10;Color: (30, 155, 138)\" style=\"width: 5px; height: 5px;background-color: rgb(30, 155, 138);\"></td><td title=\"Index: [0, 70]&#10;Color: (31, 158, 137)\" style=\"width: 5px; height: 5px;background-color: rgb(31, 158, 137);\"></td><td title=\"Index: [0, 71]&#10;Color: (31, 161, 136)\" style=\"width: 5px; height: 5px;background-color: rgb(31, 161, 136);\"></td><td title=\"Index: [0, 72]&#10;Color: (32, 163, 134)\" style=\"width: 5px; height: 5px;background-color: rgb(32, 163, 134);\"></td><td title=\"Index: [0, 73]&#10;Color: (34, 167, 133)\" style=\"width: 5px; height: 5px;background-color: rgb(34, 167, 133);\"></td><td title=\"Index: [0, 74]&#10;Color: (36, 170, 131)\" style=\"width: 5px; height: 5px;background-color: rgb(36, 170, 131);\"></td><td title=\"Index: [0, 75]&#10;Color: (38, 173, 129)\" style=\"width: 5px; height: 5px;background-color: rgb(38, 173, 129);\"></td><td title=\"Index: [0, 76]&#10;Color: (42, 176, 127)\" style=\"width: 5px; height: 5px;background-color: rgb(42, 176, 127);\"></td><td title=\"Index: [0, 77]&#10;Color: (46, 179, 124)\" style=\"width: 5px; height: 5px;background-color: rgb(46, 179, 124);\"></td><td title=\"Index: [0, 78]&#10;Color: (52, 182, 121)\" style=\"width: 5px; height: 5px;background-color: rgb(52, 182, 121);\"></td><td title=\"Index: [0, 79]&#10;Color: (56, 185, 119)\" style=\"width: 5px; height: 5px;background-color: rgb(56, 185, 119);\"></td><td title=\"Index: [0, 80]&#10;Color: (63, 188, 115)\" style=\"width: 5px; height: 5px;background-color: rgb(63, 188, 115);\"></td><td title=\"Index: [0, 81]&#10;Color: (70, 192, 111)\" style=\"width: 5px; height: 5px;background-color: rgb(70, 192, 111);\"></td><td title=\"Index: [0, 82]&#10;Color: (78, 195, 107)\" style=\"width: 5px; height: 5px;background-color: rgb(78, 195, 107);\"></td><td title=\"Index: [0, 83]&#10;Color: (84, 197, 104)\" style=\"width: 5px; height: 5px;background-color: rgb(84, 197, 104);\"></td><td title=\"Index: [0, 84]&#10;Color: (92, 200, 99)\" style=\"width: 5px; height: 5px;background-color: rgb(92, 200, 99);\"></td><td title=\"Index: [0, 85]&#10;Color: (101, 203, 94)\" style=\"width: 5px; height: 5px;background-color: rgb(101, 203, 94);\"></td><td title=\"Index: [0, 86]&#10;Color: (110, 206, 88)\" style=\"width: 5px; height: 5px;background-color: rgb(110, 206, 88);\"></td><td title=\"Index: [0, 87]&#10;Color: (119, 209, 83)\" style=\"width: 5px; height: 5px;background-color: rgb(119, 209, 83);\"></td><td title=\"Index: [0, 88]&#10;Color: (129, 211, 77)\" style=\"width: 5px; height: 5px;background-color: rgb(129, 211, 77);\"></td><td title=\"Index: [0, 89]&#10;Color: (139, 214, 70)\" style=\"width: 5px; height: 5px;background-color: rgb(139, 214, 70);\"></td><td title=\"Index: [0, 90]&#10;Color: (149, 216, 64)\" style=\"width: 5px; height: 5px;background-color: rgb(149, 216, 64);\"></td><td title=\"Index: [0, 91]&#10;Color: (162, 218, 55)\" style=\"width: 5px; height: 5px;background-color: rgb(162, 218, 55);\"></td><td title=\"Index: [0, 92]&#10;Color: (173, 220, 48)\" style=\"width: 5px; height: 5px;background-color: rgb(173, 220, 48);\"></td><td title=\"Index: [0, 93]&#10;Color: (184, 222, 41)\" style=\"width: 5px; height: 5px;background-color: rgb(184, 222, 41);\"></td><td title=\"Index: [0, 94]&#10;Color: (197, 224, 33)\" style=\"width: 5px; height: 5px;background-color: rgb(197, 224, 33);\"></td><td title=\"Index: [0, 95]&#10;Color: (208, 225, 28)\" style=\"width: 5px; height: 5px;background-color: rgb(208, 225, 28);\"></td><td title=\"Index: [0, 96]&#10;Color: (221, 227, 24)\" style=\"width: 5px; height: 5px;background-color: rgb(221, 227, 24);\"></td><td title=\"Index: [0, 97]&#10;Color: (231, 228, 25)\" style=\"width: 5px; height: 5px;background-color: rgb(231, 228, 25);\"></td><td title=\"Index: [0, 98]&#10;Color: (244, 230, 30)\" style=\"width: 5px; height: 5px;background-color: rgb(244, 230, 30);\"></td><td title=\"Index: [0, 99]&#10;Color: (253, 231, 37)\" style=\"width: 5px; height: 5px;background-color: rgb(253, 231, 37);\"></td></tr></tbody></table>"
      ],
      "text/plain": [
       "array([  1.        ,   1.42800252,   1.65508314,   1.85352498,\n",
       "         2.0391912 ,   2.21811727,   2.39335452,   2.56669572,\n",
       "         2.73930019,   2.91197017,   3.0852899 ,   3.25970239,\n",
       "         3.43555487,   3.61312719,   3.79265037,   3.97431915,\n",
       "         4.15830075,   4.34474111,   4.53376955,   4.72550211,\n",
       "         4.92004424,   5.11749275,   5.31793737,   5.52146205,\n",
       "         5.72814588,   5.93806395,   6.15128796,   6.36788679,\n",
       "         6.58792691,   6.81147279,   7.03858718,   7.26933139,\n",
       "         7.50376552,   7.74194862,   7.9839389 ,   8.22979383,\n",
       "         8.47957029,   8.73332467,   8.99111297,   9.25299087,\n",
       "         9.5190138 ,   9.78923703,  10.0637157 ,  10.3425049 ,\n",
       "        10.62565969,  10.91323513,  11.20528637,  11.50186863,\n",
       "        11.80303726,  12.10884775,  12.41935577,  12.73461719,\n",
       "        13.05468809,  13.37962479,  13.70948387,  14.04432217,\n",
       "        14.38419685,  14.72916532,  15.07928535,  15.43461502,\n",
       "        15.79521274,  16.16113729,  16.53244781,  16.90920379,\n",
       "        17.29146511,  17.67929205,  18.07274529,  18.47188589,\n",
       "        18.87677534,  19.28747555,  19.70404886,  20.12655804,\n",
       "        20.5550663 ,  20.9896373 ,  21.43033517,  21.87722446,\n",
       "        22.33037022,  22.78983796,  23.25569367,  23.72800383,\n",
       "        24.20683537,  24.69225577,  25.18433296,  25.68313539,\n",
       "        26.18873203,  26.70119236,  27.22058635,  27.74698452,\n",
       "        28.28045791,  28.82107809,  29.36891717,  29.9240478 ,\n",
       "        30.48654317,  31.05647702,  31.63392365,  32.21895792,\n",
       "        32.81165525,  33.41209162,  34.0203436 ,  34.63648831])"
      ]
     },
     "execution_count": 69,
     "metadata": {},
     "output_type": "execute_result"
    }
   ],
   "source": [
    "np.exp(np.sqrt(t))"
   ]
  },
  {
   "cell_type": "code",
   "execution_count": 70,
   "metadata": {
    "collapsed": false
   },
   "outputs": [],
   "source": [
    "va.disable_notebook()\n",
    "va.set_block_size(30)"
   ]
  },
  {
   "cell_type": "code",
   "execution_count": 71,
   "metadata": {
    "collapsed": false
   },
   "outputs": [
    {
     "data": {
      "image/png": "[encoded data removed]",
      "text/plain": [
       "<matplotlib.figure.Figure at 0x7f2443ecf550>"
      ]
     },
     "metadata": {},
     "output_type": "display_data"
    }
   ],
   "source": [
    "plt.plot(t, np.exp(-0.1*t)*np.sin(t));"
   ]
  },
  {
   "cell_type": "markdown",
   "metadata": {},
   "source": [
    "In general, you should always try to use ufuncs rather than do computations using for loops. These types of array based computations are referred to as *vectorized*."
   ]
  },
  {
   "cell_type": "markdown",
   "metadata": {},
   "source": [
    "## Basic data processing"
   ]
  },
  {
   "cell_type": "code",
   "execution_count": 72,
   "metadata": {
    "collapsed": false
   },
   "outputs": [],
   "source": [
    "ages = np.array([23,56,67,89,23,56,27,12,8,72])\n",
    "genders = np.array(['m','m','f','f','m','f','m','m','m','f'])"
   ]
  },
  {
   "cell_type": "markdown",
   "metadata": {},
   "source": [
    "Numpy has a basic set of methods and function for computing basic quantities about data."
   ]
  },
  {
   "cell_type": "code",
   "execution_count": 73,
   "metadata": {
    "collapsed": false
   },
   "outputs": [
    {
     "data": {
      "text/plain": [
       "(8, 89)"
      ]
     },
     "execution_count": 73,
     "metadata": {},
     "output_type": "execute_result"
    }
   ],
   "source": [
    "ages.min(), ages.max()"
   ]
  },
  {
   "cell_type": "markdown",
   "metadata": {},
   "source": [
    "Compute the mean:"
   ]
  },
  {
   "cell_type": "code",
   "execution_count": 74,
   "metadata": {
    "collapsed": false
   },
   "outputs": [
    {
     "data": {
      "text/plain": [
       "43.299999999999997"
      ]
     },
     "execution_count": 74,
     "metadata": {},
     "output_type": "execute_result"
    }
   ],
   "source": [
    "ages.mean()"
   ]
  },
  {
   "cell_type": "markdown",
   "metadata": {},
   "source": [
    "Compute the variance and standard deviation:"
   ]
  },
  {
   "cell_type": "code",
   "execution_count": 75,
   "metadata": {
    "collapsed": false
   },
   "outputs": [
    {
     "data": {
      "text/plain": [
       "(711.21000000000004, 26.668520768876554)"
      ]
     },
     "execution_count": 75,
     "metadata": {},
     "output_type": "execute_result"
    }
   ],
   "source": [
    "ages.var(), ages.std()"
   ]
  },
  {
   "cell_type": "markdown",
   "metadata": {},
   "source": [
    "The `bincount` function counts how many times each value occurs in the array:"
   ]
  },
  {
   "cell_type": "code",
   "execution_count": 76,
   "metadata": {
    "collapsed": false
   },
   "outputs": [
    {
     "data": {
      "text/plain": [
       "array([0, 0, 0, 0, 0, 0, 0, 0, 1, 0, 0, 0, 1, 0, 0, 0, 0, 0, 0, 0, 0, 0, 0,\n",
       "       2, 0, 0, 0, 1, 0, 0, 0, 0, 0, 0, 0, 0, 0, 0, 0, 0, 0, 0, 0, 0, 0, 0,\n",
       "       0, 0, 0, 0, 0, 0, 0, 0, 0, 0, 2, 0, 0, 0, 0, 0, 0, 0, 0, 0, 0, 1, 0,\n",
       "       0, 0, 0, 1, 0, 0, 0, 0, 0, 0, 0, 0, 0, 0, 0, 0, 0, 0, 0, 0, 1])"
      ]
     },
     "execution_count": 76,
     "metadata": {},
     "output_type": "execute_result"
    }
   ],
   "source": [
    "np.bincount(ages)"
   ]
  },
  {
   "cell_type": "markdown",
   "metadata": {},
   "source": [
    "The `cumsum` and `cumprod` methods compute cumulative sums and products:"
   ]
  },
  {
   "cell_type": "code",
   "execution_count": 77,
   "metadata": {
    "collapsed": false
   },
   "outputs": [
    {
     "data": {
      "text/plain": [
       "array([ 23,  79, 146, 235, 258, 314, 341, 353, 361, 433])"
      ]
     },
     "execution_count": 77,
     "metadata": {},
     "output_type": "execute_result"
    }
   ],
   "source": [
    "ages.cumsum()"
   ]
  },
  {
   "cell_type": "code",
   "execution_count": 78,
   "metadata": {
    "collapsed": false
   },
   "outputs": [
    {
     "data": {
      "text/plain": [
       "array([              23,             1288,            86296,\n",
       "                7680344,        176647912,       9892283072,\n",
       "           267091642944,    3205099715328,   25640797722624,\n",
       "       1846137436028928])"
      ]
     },
     "execution_count": 78,
     "metadata": {},
     "output_type": "execute_result"
    }
   ],
   "source": [
    "ages.cumprod()"
   ]
  },
  {
   "cell_type": "markdown",
   "metadata": {},
   "source": [
    "Most of the functions and methods above take an `axis` argument that will apply the action along a particular axis:"
   ]
  },
  {
   "cell_type": "code",
   "execution_count": 79,
   "metadata": {
    "collapsed": false
   },
   "outputs": [
    {
     "data": {
      "text/plain": [
       "array([[6, 8, 4, 4],\n",
       "       [2, 7, 2, 0],\n",
       "       [5, 9, 0, 7]])"
      ]
     },
     "execution_count": 79,
     "metadata": {},
     "output_type": "execute_result"
    }
   ],
   "source": [
    "a = np.random.randint(0,10,(3,4))\n",
    "a"
   ]
  },
  {
   "cell_type": "markdown",
   "metadata": {},
   "source": [
    "With `axis=0` the action takes place along rows:"
   ]
  },
  {
   "cell_type": "code",
   "execution_count": 80,
   "metadata": {
    "collapsed": false
   },
   "outputs": [
    {
     "data": {
      "text/plain": [
       "array([13, 24,  6, 11])"
      ]
     },
     "execution_count": 80,
     "metadata": {},
     "output_type": "execute_result"
    }
   ],
   "source": [
    "a.sum(axis=0)"
   ]
  },
  {
   "cell_type": "markdown",
   "metadata": {},
   "source": [
    "With `axis=1` the action takes place along columns:"
   ]
  },
  {
   "cell_type": "code",
   "execution_count": 81,
   "metadata": {
    "collapsed": false
   },
   "outputs": [
    {
     "data": {
      "text/plain": [
       "array([22, 11, 21])"
      ]
     },
     "execution_count": 81,
     "metadata": {},
     "output_type": "execute_result"
    }
   ],
   "source": [
    "a.sum(axis=1)"
   ]
  },
  {
   "cell_type": "markdown",
   "metadata": {},
   "source": [
    "The `unique` function is extremely useful in working with categorical data:"
   ]
  },
  {
   "cell_type": "code",
   "execution_count": 82,
   "metadata": {
    "collapsed": false
   },
   "outputs": [
    {
     "data": {
      "text/plain": [
       "array(['f', 'm'], \n",
       "      dtype='<U1')"
      ]
     },
     "execution_count": 82,
     "metadata": {},
     "output_type": "execute_result"
    }
   ],
   "source": [
    "np.unique(genders)"
   ]
  },
  {
   "cell_type": "code",
   "execution_count": 83,
   "metadata": {
    "collapsed": false
   },
   "outputs": [
    {
     "data": {
      "text/plain": [
       "(array(['f', 'm'], \n",
       "       dtype='<U1'), array([4, 6]))"
      ]
     },
     "execution_count": 83,
     "metadata": {},
     "output_type": "execute_result"
    }
   ],
   "source": [
    "np.unique(genders, return_counts=True)"
   ]
  },
  {
   "cell_type": "markdown",
   "metadata": {},
   "source": [
    "The where function allows you to apply conditional logic to arrays. Here is a rough sketch of how it works:\n",
    "\n",
    "```python\n",
    "def where(condition, if_false, if_true):\n",
    "```"
   ]
  },
  {
   "cell_type": "code",
   "execution_count": 84,
   "metadata": {
    "collapsed": false
   },
   "outputs": [
    {
     "data": {
      "text/plain": [
       "array([1, 0, 0, 0, 1, 0, 1, 1, 1, 0])"
      ]
     },
     "execution_count": 84,
     "metadata": {},
     "output_type": "execute_result"
    }
   ],
   "source": [
    "np.where(ages>30, 0, 1)"
   ]
  },
  {
   "cell_type": "markdown",
   "metadata": {},
   "source": [
    "The `if_false` and `if_true` values can be arrays themselves:"
   ]
  },
  {
   "cell_type": "code",
   "execution_count": 85,
   "metadata": {
    "collapsed": false
   },
   "outputs": [
    {
     "data": {
      "text/plain": [
       "array([ 0, 56, 67, 89,  0, 56,  0,  0,  0, 72])"
      ]
     },
     "execution_count": 85,
     "metadata": {},
     "output_type": "execute_result"
    }
   ],
   "source": [
    "np.where(ages<30, 0, ages)"
   ]
  },
  {
   "cell_type": "markdown",
   "metadata": {},
   "source": [
    "## File IO"
   ]
  },
  {
   "cell_type": "markdown",
   "metadata": {},
   "source": [
    "NumPy has a a number of different function to reading and writing arrays to and from disk."
   ]
  },
  {
   "cell_type": "markdown",
   "metadata": {},
   "source": [
    "### Single array, binary format"
   ]
  },
  {
   "cell_type": "code",
   "execution_count": 86,
   "metadata": {
    "collapsed": false
   },
   "outputs": [
    {
     "data": {
      "text/plain": [
       "array([ 0.35122096,  0.36346725,  0.22065422,  0.54706948,  0.43775378,\n",
       "        0.90044675,  0.42653761,  0.51189343,  0.83472331,  0.01640139])"
      ]
     },
     "execution_count": 86,
     "metadata": {},
     "output_type": "execute_result"
    }
   ],
   "source": [
    "a = np.random.rand(10)\n",
    "a"
   ]
  },
  {
   "cell_type": "markdown",
   "metadata": {},
   "source": [
    "Save the array to a binary file named `array1.npy`:"
   ]
  },
  {
   "cell_type": "code",
   "execution_count": 87,
   "metadata": {
    "collapsed": false
   },
   "outputs": [],
   "source": [
    "np.save('array1', a)"
   ]
  },
  {
   "cell_type": "code",
   "execution_count": 88,
   "metadata": {
    "collapsed": false
   },
   "outputs": [
    {
     "name": "stdout",
     "output_type": "stream",
     "text": [
      "array1.npy  Day04.ipynb  Numpy.ipynb\r\n"
     ]
    }
   ],
   "source": [
    "ls"
   ]
  },
  {
   "cell_type": "markdown",
   "metadata": {},
   "source": [
    "Using `%pycat` to look at the file shows that it is binary:"
   ]
  },
  {
   "cell_type": "code",
   "execution_count": 89,
   "metadata": {
    "collapsed": false
   },
   "outputs": [
    {
     "name": "stdout",
     "output_type": "stream",
     "text": [
      "�NUMPY\u0001\u0000F\u0000{'descr': '<f8', 'fortran_order': False, 'shape': (10,), }           \r\n",
      "��}gz�?\u000e�\u001e",
      ")\f",
      "C�?��M�e>�?ˠFܗ��?�\u001aSj(\u0004�?,嚵u��?\\�fdL�?��xTna�?ꌮ�\r",
      "��?`�i�ː?"
     ]
    }
   ],
   "source": [
    "!cat array1.npy"
   ]
  },
  {
   "cell_type": "markdown",
   "metadata": {},
   "source": [
    "Load the array back into memory:"
   ]
  },
  {
   "cell_type": "code",
   "execution_count": 90,
   "metadata": {
    "collapsed": false
   },
   "outputs": [],
   "source": [
    "a_copy = np.load('array1.npy')"
   ]
  },
  {
   "cell_type": "code",
   "execution_count": 91,
   "metadata": {
    "collapsed": false
   },
   "outputs": [
    {
     "data": {
      "text/plain": [
       "array([ 0.35122096,  0.36346725,  0.22065422,  0.54706948,  0.43775378,\n",
       "        0.90044675,  0.42653761,  0.51189343,  0.83472331,  0.01640139])"
      ]
     },
     "execution_count": 91,
     "metadata": {},
     "output_type": "execute_result"
    }
   ],
   "source": [
    "a_copy"
   ]
  },
  {
   "cell_type": "markdown",
   "metadata": {},
   "source": [
    "### Single array, text format"
   ]
  },
  {
   "cell_type": "code",
   "execution_count": 92,
   "metadata": {
    "collapsed": false
   },
   "outputs": [
    {
     "data": {
      "text/plain": [
       "array([[2, 8, 7],\n",
       "       [1, 1, 8],\n",
       "       [5, 6, 2],\n",
       "       [9, 8, 4],\n",
       "       [0, 9, 2]])"
      ]
     },
     "execution_count": 92,
     "metadata": {},
     "output_type": "execute_result"
    }
   ],
   "source": [
    "b = np.random.randint(0,10,(5,3))\n",
    "b"
   ]
  },
  {
   "cell_type": "markdown",
   "metadata": {},
   "source": [
    "The `savetxt` function saves arrays in a simple, textual format that is less effecient, but easier for other languges to read:"
   ]
  },
  {
   "cell_type": "code",
   "execution_count": 93,
   "metadata": {
    "collapsed": false
   },
   "outputs": [],
   "source": [
    "np.savetxt('array2.txt', b)"
   ]
  },
  {
   "cell_type": "code",
   "execution_count": 94,
   "metadata": {
    "collapsed": false
   },
   "outputs": [
    {
     "name": "stdout",
     "output_type": "stream",
     "text": [
      "array1.npy  array2.txt  Day04.ipynb  Numpy.ipynb\r\n"
     ]
    }
   ],
   "source": [
    "ls"
   ]
  },
  {
   "cell_type": "markdown",
   "metadata": {},
   "source": [
    "Using `%pycat` to look at the contents shows that the files is indeed a plain text file:"
   ]
  },
  {
   "cell_type": "code",
   "execution_count": 95,
   "metadata": {
    "collapsed": false
   },
   "outputs": [
    {
     "name": "stdout",
     "output_type": "stream",
     "text": [
      "2.000000000000000000e+00 8.000000000000000000e+00 7.000000000000000000e+00\r\n",
      "1.000000000000000000e+00 1.000000000000000000e+00 8.000000000000000000e+00\r\n",
      "5.000000000000000000e+00 6.000000000000000000e+00 2.000000000000000000e+00\r\n",
      "9.000000000000000000e+00 8.000000000000000000e+00 4.000000000000000000e+00\r\n",
      "0.000000000000000000e+00 9.000000000000000000e+00 2.000000000000000000e+00\r\n"
     ]
    }
   ],
   "source": [
    "!cat array2.txt"
   ]
  },
  {
   "cell_type": "code",
   "execution_count": 96,
   "metadata": {
    "collapsed": false
   },
   "outputs": [
    {
     "data": {
      "text/plain": [
       "array([[ 2.,  8.,  7.],\n",
       "       [ 1.,  1.,  8.],\n",
       "       [ 5.,  6.,  2.],\n",
       "       [ 9.,  8.,  4.],\n",
       "       [ 0.,  9.,  2.]])"
      ]
     },
     "execution_count": 96,
     "metadata": {},
     "output_type": "execute_result"
    }
   ],
   "source": [
    "np.loadtxt('array2.txt')"
   ]
  },
  {
   "cell_type": "markdown",
   "metadata": {},
   "source": [
    "### Multiple arrays, binary format"
   ]
  },
  {
   "cell_type": "markdown",
   "metadata": {},
   "source": [
    "The `savez` function provides an efficient way of saving multiple arrays to a single file:"
   ]
  },
  {
   "cell_type": "code",
   "execution_count": 97,
   "metadata": {
    "collapsed": false
   },
   "outputs": [],
   "source": [
    "np.savez('arrays.npz', a=a, b=b)"
   ]
  },
  {
   "cell_type": "markdown",
   "metadata": {},
   "source": [
    "The `load` function returns a dictionary like object that provides access to the individual arrays:"
   ]
  },
  {
   "cell_type": "code",
   "execution_count": 98,
   "metadata": {
    "collapsed": false
   },
   "outputs": [],
   "source": [
    "a_and_b = np.load('arrays.npz')"
   ]
  },
  {
   "cell_type": "code",
   "execution_count": 99,
   "metadata": {
    "collapsed": false
   },
   "outputs": [
    {
     "data": {
      "text/plain": [
       "array([ 0.35122096,  0.36346725,  0.22065422,  0.54706948,  0.43775378,\n",
       "        0.90044675,  0.42653761,  0.51189343,  0.83472331,  0.01640139])"
      ]
     },
     "execution_count": 99,
     "metadata": {},
     "output_type": "execute_result"
    }
   ],
   "source": [
    "a_and_b['a']"
   ]
  },
  {
   "cell_type": "code",
   "execution_count": 100,
   "metadata": {
    "collapsed": false
   },
   "outputs": [
    {
     "data": {
      "text/plain": [
       "array([[2, 8, 7],\n",
       "       [1, 1, 8],\n",
       "       [5, 6, 2],\n",
       "       [9, 8, 4],\n",
       "       [0, 9, 2]])"
      ]
     },
     "execution_count": 100,
     "metadata": {},
     "output_type": "execute_result"
    }
   ],
   "source": [
    "a_and_b['b']"
   ]
  },
  {
   "cell_type": "markdown",
   "metadata": {},
   "source": [
    "## Linear algebra"
   ]
  },
  {
   "cell_type": "markdown",
   "metadata": {},
   "source": [
    "NumPy has excellent linear algebra capabilities."
   ]
  },
  {
   "cell_type": "code",
   "execution_count": 101,
   "metadata": {
    "collapsed": false
   },
   "outputs": [],
   "source": [
    "a = np.random.rand(5,5)\n",
    "b = np.random.rand(5,5)"
   ]
  },
  {
   "cell_type": "markdown",
   "metadata": {},
   "source": [
    "Remember that array operations are elementwise. Thus, this is **not** matrix multiplication:"
   ]
  },
  {
   "cell_type": "code",
   "execution_count": 102,
   "metadata": {
    "collapsed": false
   },
   "outputs": [
    {
     "data": {
      "text/plain": [
       "array([[ 0.08272873,  0.45675477,  0.21941063,  0.63609149,  0.03324382],\n",
       "       [ 0.02306134,  0.56370403,  0.04257593,  0.05251935,  0.04481879],\n",
       "       [ 0.10169927,  0.00379485,  0.65179131,  0.28530492,  0.43447167],\n",
       "       [ 0.50044522,  0.65673204,  0.21078068,  0.30327449,  0.11989323],\n",
       "       [ 0.01900669,  0.25725127,  0.28877535,  0.01466801,  0.28931666]])"
      ]
     },
     "execution_count": 102,
     "metadata": {},
     "output_type": "execute_result"
    }
   ],
   "source": [
    "a*b"
   ]
  },
  {
   "cell_type": "markdown",
   "metadata": {},
   "source": [
    "To get matrix multiplication use `np.dot`:"
   ]
  },
  {
   "cell_type": "code",
   "execution_count": 103,
   "metadata": {
    "collapsed": false
   },
   "outputs": [
    {
     "data": {
      "text/plain": [
       "array([[ 1.57928102,  2.0177612 ,  2.49075691,  1.93872665,  1.09693224],\n",
       "       [ 0.36794647,  0.92315453,  0.90579535,  0.55869349,  0.41532284],\n",
       "       [ 1.08822932,  0.98577133,  1.22924903,  1.09706274,  1.05786539],\n",
       "       [ 1.48675227,  2.32809679,  2.04784098,  1.63816102,  1.3796034 ],\n",
       "       [ 0.7619819 ,  0.68367132,  1.17414543,  0.94702425,  0.80898431]])"
      ]
     },
     "execution_count": 103,
     "metadata": {},
     "output_type": "execute_result"
    }
   ],
   "source": [
    "np.dot(a, b)"
   ]
  },
  {
   "cell_type": "markdown",
   "metadata": {},
   "source": [
    "Or, NumPy as a `matrix` subclass for which matrix operations are the default:"
   ]
  },
  {
   "cell_type": "code",
   "execution_count": 104,
   "metadata": {
    "collapsed": false
   },
   "outputs": [],
   "source": [
    "m1 = np.matrix(a)\n",
    "m2 = np.matrix(b)"
   ]
  },
  {
   "cell_type": "code",
   "execution_count": 105,
   "metadata": {
    "collapsed": false
   },
   "outputs": [
    {
     "data": {
      "text/plain": [
       "matrix([[ 1.57928102,  2.0177612 ,  2.49075691,  1.93872665,  1.09693224],\n",
       "        [ 0.36794647,  0.92315453,  0.90579535,  0.55869349,  0.41532284],\n",
       "        [ 1.08822932,  0.98577133,  1.22924903,  1.09706274,  1.05786539],\n",
       "        [ 1.48675227,  2.32809679,  2.04784098,  1.63816102,  1.3796034 ],\n",
       "        [ 0.7619819 ,  0.68367132,  1.17414543,  0.94702425,  0.80898431]])"
      ]
     },
     "execution_count": 105,
     "metadata": {},
     "output_type": "execute_result"
    }
   ],
   "source": [
    "m1*m2"
   ]
  },
  {
   "cell_type": "markdown",
   "metadata": {},
   "source": [
    "The `np.linalg` package has a wide range of fast linear algebra operations.\n",
    "\n",
    "Here is determinant:"
   ]
  },
  {
   "cell_type": "code",
   "execution_count": 106,
   "metadata": {
    "collapsed": false
   },
   "outputs": [
    {
     "data": {
      "text/plain": [
       "0.03280060147607735"
      ]
     },
     "execution_count": 106,
     "metadata": {},
     "output_type": "execute_result"
    }
   ],
   "source": [
    "np.linalg.det(a)"
   ]
  },
  {
   "cell_type": "markdown",
   "metadata": {},
   "source": [
    "Matrix inverse:"
   ]
  },
  {
   "cell_type": "code",
   "execution_count": 107,
   "metadata": {
    "collapsed": false
   },
   "outputs": [
    {
     "data": {
      "text/plain": [
       "array([[ -1.15720611, -10.49394068, -12.22507971,   7.42782416,\n",
       "         10.61432888],\n",
       "       [  0.13377824,   2.48356436,   0.96075822,  -0.92715465,\n",
       "         -0.85676065],\n",
       "       [  0.27127102,  -1.47816738,  -0.9420002 ,   0.21814295,\n",
       "          1.99618946],\n",
       "       [  1.562863  ,   5.52343649,   7.72685099,  -4.12511423,\n",
       "         -7.87038057],\n",
       "       [ -0.70369453,   0.98606735,   1.32940044,   0.13365906,\n",
       "         -0.54492883]])"
      ]
     },
     "execution_count": 107,
     "metadata": {},
     "output_type": "execute_result"
    }
   ],
   "source": [
    "np.linalg.inv(a)"
   ]
  },
  {
   "cell_type": "markdown",
   "metadata": {},
   "source": [
    "Eigenvalues:"
   ]
  },
  {
   "cell_type": "code",
   "execution_count": 108,
   "metadata": {
    "collapsed": false
   },
   "outputs": [
    {
     "data": {
      "text/plain": [
       "array([ 2.12142813+0.j        ,  0.86506745+0.j        ,\n",
       "        0.47889854+0.j        , -0.14930814+0.12259142j,\n",
       "       -0.14930814-0.12259142j])"
      ]
     },
     "execution_count": 108,
     "metadata": {},
     "output_type": "execute_result"
    }
   ],
   "source": [
    "np.linalg.eigvals(a)"
   ]
  },
  {
   "cell_type": "markdown",
   "metadata": {},
   "source": [
    "NumPy can be built against fast BLAS/LAPACK implementation for these linear algebra operations."
   ]
  },
  {
   "cell_type": "code",
   "execution_count": 109,
   "metadata": {
    "collapsed": false
   },
   "outputs": [],
   "source": [
    "c = np.random.rand(2000,2000)"
   ]
  },
  {
   "cell_type": "code",
   "execution_count": 110,
   "metadata": {
    "collapsed": false
   },
   "outputs": [
    {
     "name": "stdout",
     "output_type": "stream",
     "text": [
      "1 loops, best of 1: 18.9 s per loop\n"
     ]
    }
   ],
   "source": [
    "%timeit -n1 -r1 evs = np.linalg.eigvals(c)"
   ]
  },
  {
   "cell_type": "markdown",
   "metadata": {},
   "source": [
    "## Random numbers"
   ]
  },
  {
   "cell_type": "markdown",
   "metadata": {},
   "source": [
    "NumPy has functions for creating arrays of random numbers from different distributions in `np.random`, as well as handling things like permutation, shuffling, and choosing.\n",
    "\n",
    "Here is the [numpy.random documentation](http://docs.scipy.org/doc/numpy/reference/routines.random.html)."
   ]
  },
  {
   "cell_type": "code",
   "execution_count": 112,
   "metadata": {
    "collapsed": false
   },
   "outputs": [
    {
     "data": {
      "text/plain": [
       "<matplotlib.text.Text at 0x7f2443e910b8>"
      ]
     },
     "execution_count": 112,
     "metadata": {},
     "output_type": "execute_result"
    },
    {
     "data": {
      "image/png": "[encoded data removed]",
      "text/plain": [
       "<matplotlib.figure.Figure at 0x7f2443e21ba8>"
      ]
     },
     "metadata": {},
     "output_type": "display_data"
    }
   ],
   "source": [
    "plt.hist(np.random.random(250))\n",
    "plt.title('Uniform Random Distribution $[0,1]$')\n",
    "plt.xlabel('value')\n",
    "plt.ylabel('count')"
   ]
  },
  {
   "cell_type": "code",
   "execution_count": 113,
   "metadata": {
    "collapsed": false
   },
   "outputs": [
    {
     "data": {
      "text/plain": [
       "<matplotlib.text.Text at 0x7f24418364a8>"
      ]
     },
     "execution_count": 113,
     "metadata": {},
     "output_type": "execute_result"
    },
    {
     "data": {
      "image/png": "[encoded data removed]",
      "text/plain": [
       "<matplotlib.figure.Figure at 0x7f2443e8b5c0>"
      ]
     },
     "metadata": {},
     "output_type": "display_data"
    }
   ],
   "source": [
    "plt.hist(np.random.randn(250))\n",
    "plt.title('Standard Normal Distribution')\n",
    "plt.xlabel('value')\n",
    "plt.ylabel('count')"
   ]
  },
  {
   "cell_type": "markdown",
   "metadata": {},
   "source": [
    "The `shuffle` function shuffles an array in place:"
   ]
  },
  {
   "cell_type": "code",
   "execution_count": 116,
   "metadata": {
    "collapsed": false
   },
   "outputs": [
    {
     "data": {
      "text/plain": [
       "array([5, 1, 0, 9, 2, 7, 6, 8, 3, 4])"
      ]
     },
     "execution_count": 116,
     "metadata": {},
     "output_type": "execute_result"
    }
   ],
   "source": [
    "a = np.arange(0,10)\n",
    "np.random.shuffle(a)\n",
    "a"
   ]
  },
  {
   "cell_type": "markdown",
   "metadata": {},
   "source": [
    "The `permutation` function does the same thing but first makes a copy:"
   ]
  },
  {
   "cell_type": "code",
   "execution_count": 117,
   "metadata": {
    "collapsed": false
   },
   "outputs": [
    {
     "name": "stdout",
     "output_type": "stream",
     "text": [
      "[2 6 0 8 4 5 1 3 7 9]\n",
      "[0 1 2 3 4 5 6 7 8 9]\n"
     ]
    }
   ],
   "source": [
    "a = np.arange(0,10)\n",
    "print(np.random.permutation(a))\n",
    "print(a)"
   ]
  },
  {
   "cell_type": "markdown",
   "metadata": {},
   "source": [
    "The `choice` function provides a powerful way of creating synthetic data sets of discrete data:"
   ]
  },
  {
   "cell_type": "code",
   "execution_count": 118,
   "metadata": {
    "collapsed": false
   },
   "outputs": [
    {
     "data": {
      "text/plain": [
       "array(['f', 'f', 'm', 'f', 'f', 'f', 'f', 'f', 'm', 'f', 'f', 'f', 'f',\n",
       "       'f', 'f', 'f', 'f', 'f', 'f', 'f'], \n",
       "      dtype='<U1')"
      ]
     },
     "execution_count": 118,
     "metadata": {},
     "output_type": "execute_result"
    }
   ],
   "source": [
    "np.random.choice(['m','f'], 20, p=[0.25,0.75])"
   ]
  },
  {
   "cell_type": "markdown",
   "metadata": {},
   "source": [
    "## Resources"
   ]
  },
  {
   "cell_type": "markdown",
   "metadata": {},
   "source": [
    "* [NumPy Reference Documentation](http://docs.scipy.org/doc/numpy/reference/)\n",
    "* [Python Scientific Lecture Notes](http://scipy-lectures.github.io/index.html), Edited by Valentin Haenel,\n",
    "Emmanuelle Gouillart and Gaël Varoquaux.\n",
    "* [Lectures on Scientific Computing with Python](https://github.com/jrjohansson/scientific-python-lectures), J.R. Johansson.\n",
    "* [Introduction to Scientific Computing in Python](http://nbviewer.ipython.org/github/jakevdp/2014_fall_ASTR599/tree/master/), Jake Vanderplas."
   ]
  }
 ],
 "metadata": {
  "kernelspec": {
   "display_name": "Python 3",
   "language": "python",
   "name": "python3"
  },
  "language_info": {
   "codemirror_mode": {
    "name": "ipython",
    "version": 3
   },
   "file_extension": ".py",
   "mimetype": "text/x-python",
   "name": "python",
   "nbconvert_exporter": "python",
   "pygments_lexer": "ipython3",
   "version": "3.4.3"
  }
 },
 "nbformat": 4,
 "nbformat_minor": 0
}

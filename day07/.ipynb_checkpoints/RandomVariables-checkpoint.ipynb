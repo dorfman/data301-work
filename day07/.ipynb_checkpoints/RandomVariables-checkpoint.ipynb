{
 "cells": [
  {
   "cell_type": "markdown",
   "metadata": {},
   "source": [
    "# Random Variables"
   ]
  },
  {
   "cell_type": "markdown",
   "metadata": {},
   "source": [
    "**Learning Objectives:** Learn about random variables and their relationship to discrete and continouous probability distributions. Learn to apply these tools to build generative models of data."
   ]
  },
  {
   "cell_type": "markdown",
   "metadata": {},
   "source": [
    "## Imports"
   ]
  },
  {
   "cell_type": "code",
   "execution_count": 1,
   "metadata": {
    "collapsed": false
   },
   "outputs": [],
   "source": [
    "import numpy as np\n",
    "%matplotlib inline\n",
    "from matplotlib import pyplot as plt\n",
    "import seaborn as sns"
   ]
  },
  {
   "cell_type": "code",
   "execution_count": 2,
   "metadata": {
    "collapsed": true
   },
   "outputs": [],
   "source": [
    "from ipywidgets import interact, fixed"
   ]
  },
  {
   "cell_type": "markdown",
   "metadata": {},
   "source": [
    "## Random variables"
   ]
  },
  {
   "cell_type": "markdown",
   "metadata": {},
   "source": [
    "We have learned previously that a *variable* is a quantity that has been measured or observed. These variables are usually encoded using one of the fundamental data types:\n",
    "\n",
    "* Quantity\n",
    "* Categorical (ordinal, nominal)\n",
    "* Date/time\n",
    "* Text\n",
    "* Geographical\n",
    "\n",
    "A *random variable* is a variable whose value is different each time you ask it in a manner that is determined by chance or randomness. This definition doesn't make any assumptions about what the source of randomness is. Some possibilities:\n",
    "\n",
    "* Measurement error\n",
    "* Some underlying physical process:\n",
    "  - Known but not explicitely modelled\n",
    "  - Partially known\n",
    "  - Completely unknown\n",
    "* Uncertainty\n",
    "* More fundamental randomness, such as quantum or thermal fluctuations\n",
    "\n",
    "Some examples:\n",
    "\n",
    "* Temperature in this room\n",
    "* Ages of people taking this course\n",
    "* The brands of mobile phones used by a group of people\n",
    "* The sequence of n-grams from the text of a book\n",
    "* The position of a particle whose motion is governed by Newton's laws\n",
    "\n",
    "Notice that in many of these cases, there is some underlying process that may not be random. Normally, we wouldn't say that the text of a book is random. However, when we model that text statistically, it is still helpful to model aspects of it using random variables.\n",
    "\n",
    "Here is an example of a regular (non-random) variable in Python:"
   ]
  },
  {
   "cell_type": "code",
   "execution_count": 3,
   "metadata": {
    "collapsed": true
   },
   "outputs": [],
   "source": [
    "a = 5"
   ]
  },
  {
   "cell_type": "code",
   "execution_count": 4,
   "metadata": {
    "collapsed": false
   },
   "outputs": [
    {
     "name": "stdout",
     "output_type": "stream",
     "text": [
      "5\n",
      "5\n",
      "5\n",
      "5\n",
      "5\n",
      "5\n",
      "5\n",
      "5\n",
      "5\n",
      "5\n"
     ]
    }
   ],
   "source": [
    "for i in range(10):\n",
    "    print(a)"
   ]
  },
  {
   "cell_type": "markdown",
   "metadata": {},
   "source": [
    "In a programming language like Python, random variables are typically represented by functions, that must be called to return a new realization of the random variable. The `random` module in Python's standard library has some of these function as does the `numpy.random` package. Here are 10 realizations of a random variable with a uniform distribution between $0$ and $1$:"
   ]
  },
  {
   "cell_type": "code",
   "execution_count": 5,
   "metadata": {
    "collapsed": false
   },
   "outputs": [
    {
     "name": "stdout",
     "output_type": "stream",
     "text": [
      "0.3840775872496056\n",
      "0.11204642269754173\n",
      "0.22291478640592755\n",
      "0.18110785518812278\n",
      "0.4957631428965722\n",
      "0.9649597472820092\n",
      "0.5815969832181328\n",
      "0.6278810903897196\n",
      "0.4865627798882871\n",
      "0.6529778841323538\n"
     ]
    }
   ],
   "source": [
    "for i in range(10):\n",
    "    print(np.random.rand())"
   ]
  },
  {
   "cell_type": "markdown",
   "metadata": {},
   "source": [
    "To denote this uniform random variable in an equation, we use the notation:\n",
    "\n",
    "$$X \\sim U(0,1)$$\n",
    "\n",
    "Notice the usage of $\\sim$ and a function $U(0,1)$ rather than a standard equals sign $=$."
   ]
  },
  {
   "cell_type": "markdown",
   "metadata": {},
   "source": [
    "## Probability distributions"
   ]
  },
  {
   "cell_type": "markdown",
   "metadata": {},
   "source": [
    "One way of using random variables is to build generative models of a dataset. More specifically, a *generative model* is a way of generating data from scratch using random variables. These random variables are usually distributed according to some probability distribution. A full review of probability theory is beyond the scope of this notebook, but here is a very helpful Wikipedia page on the topic:\n",
    "\n",
    "https://en.wikipedia.org/wiki/Probability_distribution\n",
    "\n",
    "There are two broad types of random variables and probability distibutions:\n",
    "\n",
    "* Discrete (discrete set of outcomes, such as integers or categorical values)\n",
    "* Continuous (continuous set of outcomes, usually floating point numbers)\n",
    "\n",
    "In Python, there will usually be a function that can be called to return realizations of random variables that follow a given probability distribution. We will see examples of this below."
   ]
  },
  {
   "cell_type": "markdown",
   "metadata": {},
   "source": [
    "## Discrete probability distributions"
   ]
  },
  {
   "cell_type": "markdown",
   "metadata": {},
   "source": [
    "In this notebook, we cover the following discrete probability distributions:\n",
    "\n",
    "* Bernoulli\n",
    "* Categorical\n",
    "* Binomial\n",
    "* Poisson"
   ]
  },
  {
   "cell_type": "markdown",
   "metadata": {},
   "source": [
    "### Bernoulli distribution"
   ]
  },
  {
   "cell_type": "markdown",
   "metadata": {},
   "source": [
    "The [Bernoulli distribution](https://en.wikipedia.org/wiki/Bernoulli_distribution) is used to model categorical data that has two possible outcomes, usually referred to *success* and *failure*. This type of process is called a *Bernoulli trial*. Here is a short summary of the properties of the Bernoulli distribution:\n",
    "\n",
    "* $X \\sim B(p)$\n",
    "* $p$ is the probability of *success*, $q=1-p$ the probability of *failure*\n",
    "* $X \\in [success, failure]$\n",
    "\n",
    "In practice, the *success* and *failure* outcomes can be any categorical values.\n",
    "\n",
    "Some examples:\n",
    "\n",
    "* Tossing a coin (`H` or `T`)\n",
    "* Mobile phones operating systems (`iOS` or `Android`)\n",
    "* Students Passing or failing a test\n",
    "\n",
    "The function `np.random.choice` can be used to draw samples from the Bernoulli distribution.\n",
    "\n",
    "Here are 10 Bernoulli trials with outcomes of `0/1` of equal probability:"
   ]
  },
  {
   "cell_type": "code",
   "execution_count": 7,
   "metadata": {
    "collapsed": false
   },
   "outputs": [
    {
     "data": {
      "text/plain": [
       "array([0, 0, 1, 1, 1, 1, 1, 1, 0, 0])"
      ]
     },
     "execution_count": 7,
     "metadata": {},
     "output_type": "execute_result"
    }
   ],
   "source": [
    "X = np.random.choice([0,1], 10)\n",
    "X"
   ]
  },
  {
   "cell_type": "markdown",
   "metadata": {},
   "source": [
    "Any set of values can be used for the outcomes:"
   ]
  },
  {
   "cell_type": "code",
   "execution_count": 8,
   "metadata": {
    "collapsed": false
   },
   "outputs": [
    {
     "data": {
      "text/plain": [
       "array(['T', 'H', 'H', 'H', 'T', 'T', 'T', 'T', 'T', 'T'], \n",
       "      dtype='<U1')"
      ]
     },
     "execution_count": 8,
     "metadata": {},
     "output_type": "execute_result"
    }
   ],
   "source": [
    "X = np.random.choice(['H','T'], 10)\n",
    "X"
   ]
  },
  {
   "cell_type": "markdown",
   "metadata": {},
   "source": [
    "An effective way of visualizing such categorical data is using a bar plot (`seaborn.countplot`), which counts the number of occurences of each possible value and then encodes those counts using length (and color):"
   ]
  },
  {
   "cell_type": "code",
   "execution_count": 12,
   "metadata": {
    "collapsed": false
   },
   "outputs": [
    {
     "data": {
      "image/png": "[encoded data removed]",
      "text/plain": [
       "<matplotlib.figure.Figure at 0x7f0cc6402d30>"
      ]
     },
     "metadata": {},
     "output_type": "display_data"
    }
   ],
   "source": [
    "sns.countplot(x=X);"
   ]
  },
  {
   "cell_type": "markdown",
   "metadata": {},
   "source": [
    "The Bernoulli distribution also allows the probabilities of the two outcomes to be unequal. However, the probabilities of the two outcomes have to sum to $1.0$.\n",
    "\n",
    "Here is a generative model that uses a Bernoulli random variable to simulate phone ownership:\n",
    "\n",
    "* `iOS` with probability $p$\n",
    "* `Android` with probability $q=1-p$:"
   ]
  },
  {
   "cell_type": "code",
   "execution_count": 13,
   "metadata": {
    "collapsed": false
   },
   "outputs": [],
   "source": [
    "def plot_phones(p):\n",
    "    phone_os = np.random.choice(['iOS', 'Android'], 200, p=(p,1-p))\n",
    "    sns.countplot(x=phone_os)\n",
    "    plt.ylim(0.0,200)"
   ]
  },
  {
   "cell_type": "code",
   "execution_count": 15,
   "metadata": {
    "collapsed": false
   },
   "outputs": [
    {
     "data": {
      "image/png": "[encoded data removed]",
      "text/plain": [
       "<matplotlib.figure.Figure at 0x7f0cc5c87400>"
      ]
     },
     "metadata": {},
     "output_type": "display_data"
    }
   ],
   "source": [
    "interact(plot_phones, p=(0.01,0.99,0.01), __manual=True);"
   ]
  },
  {
   "cell_type": "markdown",
   "metadata": {},
   "source": [
    "### Categorical distribution"
   ]
  },
  {
   "cell_type": "markdown",
   "metadata": {},
   "source": [
    "The [categorical distribution](https://en.wikipedia.org/wiki/Categorical_distribution) is a generalization of the Bernoulli distribution that includes $k$ possible outcomes, each with a probability of $P_i$, with $\\sum_i P_i =1$. The categorial distribution is also implemented by the `numpy.random.choice` function.\n",
    "\n",
    "Here is a short summary of the properties of the categorical distribution:\n",
    "\n",
    "* $ X \\sim Categorical(P_1, P_2, \\ldots, P_k) $\n",
    "* $ \\sum_{i=1}^{k} P_i = 1 $\n",
    "\n",
    "Here is a $k=4$ categorical distribution of color values:"
   ]
  },
  {
   "cell_type": "code",
   "execution_count": null,
   "metadata": {
    "collapsed": false
   },
   "outputs": [],
   "source": [
    "X = np.random.choice(['red', 'green', 'blue', 'grey'], 50, p=(0.1,0.1,0.3,0.5))\n",
    "X"
   ]
  },
  {
   "cell_type": "markdown",
   "metadata": {},
   "source": [
    "A horizontal bar chart is an effective way of visualizing data from a categorical distribution:"
   ]
  },
  {
   "cell_type": "code",
   "execution_count": null,
   "metadata": {
    "collapsed": false
   },
   "outputs": [],
   "source": [
    "sns.countplot(y=X);"
   ]
  },
  {
   "cell_type": "markdown",
   "metadata": {},
   "source": [
    "### Binomial distribution"
   ]
  },
  {
   "cell_type": "markdown",
   "metadata": {},
   "source": [
    "The [binomial distribution](https://en.wikipedia.org/wiki/Binomial_distribution) is another type of generalization of the Bernoulli distribution. The idea of the binomial distribution is to perform `n` Bernoulli trials, each the probability of success $p$ and count how many success there are. It has the following properties:\n",
    "\n",
    "* $X \\sim B(n,p)$\n",
    "* $p$ is the probability of *success* for each of the $n$ Bernoulli trials\n",
    "* $X$ is the number of those Bernoulli trails that had an outcome of *success*"
   ]
  },
  {
   "cell_type": "code",
   "execution_count": null,
   "metadata": {
    "collapsed": true
   },
   "outputs": [],
   "source": [
    "n = 10\n",
    "p = 0.2"
   ]
  },
  {
   "cell_type": "markdown",
   "metadata": {},
   "source": [
    "The binomial distribution is implemented by `numpy.random.binomial`:"
   ]
  },
  {
   "cell_type": "code",
   "execution_count": null,
   "metadata": {
    "collapsed": false
   },
   "outputs": [],
   "source": [
    "np.random.binomial(n, p)"
   ]
  },
  {
   "cell_type": "code",
   "execution_count": null,
   "metadata": {
    "collapsed": false
   },
   "outputs": [],
   "source": [
    "X = np.random.binomial(n, p, 10)\n",
    "X"
   ]
  },
  {
   "cell_type": "code",
   "execution_count": null,
   "metadata": {
    "collapsed": true
   },
   "outputs": [],
   "source": [
    "def plot_binomial(n, p):\n",
    "    X = np.random.binomial(n, p, 200)\n",
    "    sns.distplot(X, bins=range(50));\n",
    "    plt.xlabel(\"Number of successes out of {} trials\".format(n))\n",
    "    plt.ylabel(\"Count\")"
   ]
  },
  {
   "cell_type": "code",
   "execution_count": null,
   "metadata": {
    "collapsed": false
   },
   "outputs": [],
   "source": [
    "interact(plot_binomial, n=(0,50,1), p=(0.1,0.9,0.1), __manual=True);"
   ]
  },
  {
   "cell_type": "markdown",
   "metadata": {},
   "source": [
    "### Poisson distribution"
   ]
  },
  {
   "cell_type": "markdown",
   "metadata": {},
   "source": [
    "The [Poisson distribution](https://en.wikipedia.org/wiki/Poisson_distribution) is used to model events that occur at a fixed average rate per unit time. It has the following properties:\n",
    "\n",
    "* $ X \\sim Poisson(\\lambda) $\n",
    "* $E[X]=\\lambda =$ mean number of events per time unit\n",
    "* $var[X]=\\lambda =$ variance in the distribution\n",
    "\n",
    "Examples include:\n",
    "\n",
    "* Number of goals by a team in a soccer game\n",
    "* Number of photons hitting a camera's CCD sensor per second\n",
    "* Number of email you get per day"
   ]
  },
  {
   "cell_type": "code",
   "execution_count": null,
   "metadata": {
    "collapsed": false
   },
   "outputs": [],
   "source": [
    "λ = 1.0"
   ]
  },
  {
   "cell_type": "code",
   "execution_count": null,
   "metadata": {
    "collapsed": false
   },
   "outputs": [],
   "source": [
    "np.random.poisson(λ)"
   ]
  },
  {
   "cell_type": "code",
   "execution_count": null,
   "metadata": {
    "collapsed": false
   },
   "outputs": [],
   "source": [
    "X = np.random.poisson(λ, 20)\n",
    "X"
   ]
  },
  {
   "cell_type": "markdown",
   "metadata": {},
   "source": [
    "Both the mean and variance should be close to $\\lambda=1.0$:"
   ]
  },
  {
   "cell_type": "code",
   "execution_count": null,
   "metadata": {
    "collapsed": false
   },
   "outputs": [],
   "source": [
    "X.mean()"
   ]
  },
  {
   "cell_type": "code",
   "execution_count": null,
   "metadata": {
    "collapsed": false
   },
   "outputs": [],
   "source": [
    "X.var()"
   ]
  },
  {
   "cell_type": "code",
   "execution_count": null,
   "metadata": {
    "collapsed": true
   },
   "outputs": [],
   "source": [
    "def plot_poisson(λ):\n",
    "    X = np.random.poisson(λ, size=200)\n",
    "    sns.distplot(X, bins=range(100))\n",
    "    plt.xlabel(\"Number of events\")\n",
    "    plt.ylabel(\"Count\")\n",
    "    plt.xlim(0.0, 100.0)"
   ]
  },
  {
   "cell_type": "code",
   "execution_count": null,
   "metadata": {
    "collapsed": false
   },
   "outputs": [],
   "source": [
    "interact(plot_poisson, λ=(0, 100), __manual=True);"
   ]
  },
  {
   "cell_type": "markdown",
   "metadata": {},
   "source": [
    "## Continuous probability distributions"
   ]
  },
  {
   "cell_type": "markdown",
   "metadata": {},
   "source": [
    "In this notebook, we cover the following continuous probability distributions:\n",
    "\n",
    "* Uniform\n",
    "* Normal \n",
    "* Poisson \n",
    "* Exponential\n",
    "* Beta\n",
    "* Dirichlet"
   ]
  },
  {
   "cell_type": "markdown",
   "metadata": {},
   "source": [
    "### Uniform distribution"
   ]
  },
  {
   "cell_type": "markdown",
   "metadata": {},
   "source": [
    "The <a href=\"https://en.wikipedia.org/wiki/Uniform_distribution_(continuous)\">uniform distribution</a> returns random variates with equal probabilities in the interval $[a,b]$. It has he following properties:\n",
    "\n",
    "* $X \\sim U(a,b) $\n",
    "* $X \\in [a,b] $\n",
    "* $E[X] = (a+b)/2$\n",
    "* $var[X] = \\frac{1}{12}(b-a)^2$"
   ]
  },
  {
   "cell_type": "code",
   "execution_count": null,
   "metadata": {
    "collapsed": true
   },
   "outputs": [],
   "source": [
    "a = 0.0\n",
    "b = 1.0"
   ]
  },
  {
   "cell_type": "markdown",
   "metadata": {},
   "source": [
    "The uniform distribution is implemented by `numpy.random.uniform`:"
   ]
  },
  {
   "cell_type": "code",
   "execution_count": null,
   "metadata": {
    "collapsed": false
   },
   "outputs": [],
   "source": [
    "np.random.uniform(a, b)"
   ]
  },
  {
   "cell_type": "code",
   "execution_count": null,
   "metadata": {
    "collapsed": false
   },
   "outputs": [],
   "source": [
    "X = np.random.uniform(a, b, size=50)\n",
    "X"
   ]
  },
  {
   "cell_type": "code",
   "execution_count": null,
   "metadata": {
    "collapsed": false
   },
   "outputs": [],
   "source": [
    "X.mean()"
   ]
  },
  {
   "cell_type": "code",
   "execution_count": null,
   "metadata": {
    "collapsed": false
   },
   "outputs": [],
   "source": [
    "X.var()"
   ]
  },
  {
   "cell_type": "markdown",
   "metadata": {},
   "source": [
    "Continuous distribution can be visualized effectively using a histogram, which is one type of distribution plot (rug and kernel density estimate are others). These are all implemented in Seaborn by `seaborn.distplot`:"
   ]
  },
  {
   "cell_type": "code",
   "execution_count": null,
   "metadata": {
    "collapsed": false
   },
   "outputs": [],
   "source": [
    "def plot_uniform(a,b):\n",
    "    X = np.random.uniform(a,b, size=200)\n",
    "    sns.distplot(X, bins=20, rug=True, kde=False);\n",
    "    plt.xlim(0.0, 11.0)\n",
    "    plt.xlabel('X')"
   ]
  },
  {
   "cell_type": "code",
   "execution_count": null,
   "metadata": {
    "collapsed": false
   },
   "outputs": [],
   "source": [
    "interact(plot_uniform, a=(0.0,5.0), b=(6.0, 11.0), __manual=True);"
   ]
  },
  {
   "cell_type": "markdown",
   "metadata": {},
   "source": [
    "### Normal distribution"
   ]
  },
  {
   "cell_type": "markdown",
   "metadata": {},
   "source": [
    "The [normal distribution](https://en.wikipedia.org/wiki/Normal_distribution) is one of the most important continuous probability distributions due to the [central limit theorem](https://en.wikipedia.org/wiki/Central_limit_theorem). It has the following properties:\n",
    "\n",
    "* $X \\sim N(\\mu, \\sigma^2)$\n",
    "* $X \\in [-\\infty,\\infty]$\n",
    "* $E[X] = \\mu$\n",
    "* $var[X] = \\sigma^2$"
   ]
  },
  {
   "cell_type": "code",
   "execution_count": null,
   "metadata": {
    "collapsed": true
   },
   "outputs": [],
   "source": [
    "mu = 0.0\n",
    "sigma = 2.0"
   ]
  },
  {
   "cell_type": "markdown",
   "metadata": {},
   "source": [
    "The normal distribution is implemented by `numpy.random.normal`. Note that this takes the standard deviation $\\sigma$ rather than the variance as its second argument."
   ]
  },
  {
   "cell_type": "code",
   "execution_count": null,
   "metadata": {
    "collapsed": false
   },
   "outputs": [],
   "source": [
    "np.random.normal(mu, sigma) # second argument is just sigma"
   ]
  },
  {
   "cell_type": "code",
   "execution_count": null,
   "metadata": {
    "collapsed": false
   },
   "outputs": [],
   "source": [
    "X = np.random.normal(mu, sigma, size=50)\n",
    "X"
   ]
  },
  {
   "cell_type": "code",
   "execution_count": null,
   "metadata": {
    "collapsed": false
   },
   "outputs": [],
   "source": [
    "X.mean(), mu"
   ]
  },
  {
   "cell_type": "code",
   "execution_count": null,
   "metadata": {
    "collapsed": false
   },
   "outputs": [],
   "source": [
    "X.var(), sigma**2"
   ]
  },
  {
   "cell_type": "markdown",
   "metadata": {},
   "source": [
    "A histogram is again an effective way of visualizing this distribution:"
   ]
  },
  {
   "cell_type": "code",
   "execution_count": null,
   "metadata": {
    "collapsed": true
   },
   "outputs": [],
   "source": [
    "def plot_normal(mu, sigma):\n",
    "    X = np.random.normal(mu, sigma, size=300)\n",
    "    sns.distplot(X, bins=20, rug=True);\n",
    "    print(\"mean =\", X.mean(), \"var =\", X.var())\n",
    "    plt.xlim(-15.0, 15.0)\n",
    "    plt.xlabel('X')"
   ]
  },
  {
   "cell_type": "code",
   "execution_count": null,
   "metadata": {
    "collapsed": false
   },
   "outputs": [],
   "source": [
    "interact(plot_normal, mu=(-5.0,5.0), sigma=(1.0, 5.0), __manual=True);"
   ]
  },
  {
   "cell_type": "markdown",
   "metadata": {},
   "source": [
    "### Exponential distribution"
   ]
  },
  {
   "cell_type": "markdown",
   "metadata": {},
   "source": [
    "The [exponential distribution](https://en.wikipedia.org/wiki/Exponential_distribution) is closely related to the Poisson distribution. Remember the Poisson distribution is based on the Poisson process: a series of events that occur at a fixed average rate per unit time. The Poisson distribution gives the number of events per unit time. The exponential distribution gives the time between those events. It has the following properties:\n",
    "\n",
    "* $ X \\sim Exp(\\lambda) $\n",
    "* $\\lambda$ is the *rate parameter*\n",
    "* $E[X] = 1/\\lambda = \\beta$ where $\\beta$ is the *scale parameter\n",
    "* $var[X] = \\beta^2 $"
   ]
  },
  {
   "cell_type": "code",
   "execution_count": null,
   "metadata": {
    "collapsed": true
   },
   "outputs": [],
   "source": [
    "β=2.0"
   ]
  },
  {
   "cell_type": "markdown",
   "metadata": {},
   "source": [
    "The exponential distribution is implemented by `numpy.random.exponential(beta)`:"
   ]
  },
  {
   "cell_type": "code",
   "execution_count": null,
   "metadata": {
    "collapsed": false
   },
   "outputs": [],
   "source": [
    "np.random.exponential(β)"
   ]
  },
  {
   "cell_type": "code",
   "execution_count": null,
   "metadata": {
    "collapsed": false
   },
   "outputs": [],
   "source": [
    "X = np.random.exponential(β, size=50)\n",
    "X"
   ]
  },
  {
   "cell_type": "code",
   "execution_count": null,
   "metadata": {
    "collapsed": false
   },
   "outputs": [],
   "source": [
    "def plot_exponential(β):\n",
    "    X = np.random.exponential(β, 200)\n",
    "    sns.distplot(X, rug=True)\n",
    "    print(\"mean =\", X.mean())\n",
    "    plt.xlabel(\"Time between Poisson events\")\n",
    "    plt.xlim(0.0, 50.0)"
   ]
  },
  {
   "cell_type": "code",
   "execution_count": null,
   "metadata": {
    "collapsed": false
   },
   "outputs": [],
   "source": [
    "interact(plot_exponential, β=(1.0, 20.0), __manual=True);"
   ]
  },
  {
   "cell_type": "markdown",
   "metadata": {},
   "source": [
    "### Beta distribution"
   ]
  },
  {
   "cell_type": "markdown",
   "metadata": {},
   "source": [
    "Sometimes you need to build generative models that need probabilities that are themselves random variables. The [beta distribution](https://en.wikipedia.org/wiki/Beta_distribution) is a probability distribution whose outcomes are probabilities. It has the following properties:\n",
    "\n",
    "* $ X \\sim Beta(\\alpha, \\beta) $\n",
    "* $ X \\in [0.0,1.0] $\n",
    "* $ E[X] = \\frac{\\alpha}{\\alpha+\\beta} $\n",
    "* $ var[X] = \\frac{\\alpha \\beta}{(\\alpha+\\beta)^2(\\alpha+\\beta+1)} $"
   ]
  },
  {
   "cell_type": "code",
   "execution_count": null,
   "metadata": {
    "collapsed": true
   },
   "outputs": [],
   "source": [
    "α = 0.5\n",
    "β = 2.0"
   ]
  },
  {
   "cell_type": "markdown",
   "metadata": {},
   "source": [
    "The beta distribution is implemented by `numpy.random.beta(alpha, beta)`:"
   ]
  },
  {
   "cell_type": "code",
   "execution_count": null,
   "metadata": {
    "collapsed": false
   },
   "outputs": [],
   "source": [
    "np.random.beta(α, β)"
   ]
  },
  {
   "cell_type": "code",
   "execution_count": null,
   "metadata": {
    "collapsed": false
   },
   "outputs": [],
   "source": [
    "X = np.random.beta(α, β, 50)\n",
    "X"
   ]
  },
  {
   "cell_type": "code",
   "execution_count": null,
   "metadata": {
    "collapsed": false
   },
   "outputs": [],
   "source": [
    "X.mean(), α/(α+β)"
   ]
  },
  {
   "cell_type": "code",
   "execution_count": null,
   "metadata": {
    "collapsed": false
   },
   "outputs": [],
   "source": [
    "X.var()"
   ]
  },
  {
   "cell_type": "code",
   "execution_count": null,
   "metadata": {
    "collapsed": true
   },
   "outputs": [],
   "source": [
    "def plot_beta(α, β):\n",
    "    X = np.random.beta(α, β, 200)\n",
    "    sns.distplot(X, rug=True)\n",
    "    plt.xlabel('X')"
   ]
  },
  {
   "cell_type": "code",
   "execution_count": null,
   "metadata": {
    "collapsed": false
   },
   "outputs": [],
   "source": [
    "interact(plot_beta, α=(0.1, 5.0, 0.1), β=(0.1, 5.0, 0.1), __manual=True);"
   ]
  },
  {
   "cell_type": "markdown",
   "metadata": {},
   "source": [
    "The beta distribution is often used along with the binomial distribution in generative models. Recall that the binomial distribution $B(n,p)$ has an input parameter $p$ that is the probability of success in the Bernoulli trial. Here is a simple generative model where the $p$ variable in the binomial distribution is itself a beta distributed random variable:\n",
    "\n",
    "$$ X_1 \\sim Beta(0.5, 1.0) $$\n",
    "$$ X_2 \\sim B(100, X_1) $$\n",
    "\n",
    "When a parameter in a probability distribution is itself a random variable, we call the model a *hierarchical model*. Here are `100` realizations of this hierarchical model:"
   ]
  },
  {
   "cell_type": "code",
   "execution_count": null,
   "metadata": {
    "collapsed": false
   },
   "outputs": [],
   "source": [
    "X1 = np.random.beta(0.5, 1.0, 100)\n",
    "X2 = np.array([np.random.choice([0,1],p=(p,1-p)) for p in X1])"
   ]
  },
  {
   "cell_type": "markdown",
   "metadata": {},
   "source": [
    "These two random variables $X_1$ and $X_2$ are correlated, so we need to visualize their joint distribution. Seaborn has a very nice `jointplot` for this purpose:"
   ]
  },
  {
   "cell_type": "code",
   "execution_count": null,
   "metadata": {
    "collapsed": false
   },
   "outputs": [],
   "source": [
    "sns.jointplot(X1, X2);"
   ]
  },
  {
   "cell_type": "markdown",
   "metadata": {},
   "source": [
    "### Dirichlet distribution"
   ]
  },
  {
   "cell_type": "markdown",
   "metadata": {},
   "source": [
    "The [Dirichlet distribution](https://en.wikipedia.org/wiki/Dirichlet_distribution) is a multidimensional generalization of the beta distribution. Where the beta distribution returns a single probability, the Dirichlet distribution returns a vector of probabilities that are normalize to $1!. It has the following properties:\n",
    "\n",
    "* $ \\vec{X} \\sim Dir(\\vec{\\alpha}) $\n",
    "* $ X_i \\in [0,1]$ is a vector of $k$ probabilities, such that $\\sum_{i=1}^{k} X_i = 1 $\n",
    "* $ \\alpha_i $ is a vector of $k$ *concentrations* that parametrize the distribution\n",
    "\n",
    "The Dirichlet distribution is implemented by `numpy.random.dirichlet` and takes a sequence of alpha values:"
   ]
  },
  {
   "cell_type": "code",
   "execution_count": null,
   "metadata": {
    "collapsed": false
   },
   "outputs": [],
   "source": [
    "np.random.dirichlet(alpha=(0.1, 0.2))"
   ]
  },
  {
   "cell_type": "markdown",
   "metadata": {},
   "source": [
    "Again, because the values returned by the distribution are two dimensional, we need to make a 2d scatterplot or joint distribution plot:"
   ]
  },
  {
   "cell_type": "code",
   "execution_count": null,
   "metadata": {
    "collapsed": false
   },
   "outputs": [],
   "source": [
    "def plot_dirichlet(alpha1, alpha2):\n",
    "    X = np.random.dirichlet((alpha1, alpha2), 200)\n",
    "    sns.jointplot(X[:,0], X[:,1])"
   ]
  },
  {
   "cell_type": "markdown",
   "metadata": {},
   "source": [
    "In the following visualization, notice how the points returned by the Dirichlet distribution lie on the line where $X_1 + X_2 = 1$."
   ]
  },
  {
   "cell_type": "code",
   "execution_count": null,
   "metadata": {
    "collapsed": false
   },
   "outputs": [],
   "source": [
    "interact(plot_dirichlet, alpha1=(0.1, 10.0, 0.1), alpha2=(0.1, 10.0, 0.1));"
   ]
  },
  {
   "cell_type": "markdown",
   "metadata": {},
   "source": [
    "The Dirichlet distribution is often paired with the categorical distribution in hierarchical models when the probabilities that go into the categorical distribution are themselves random variables. Here is a simple hierarchical model that does this:\n",
    "\n",
    "$$ \\vec{X}_1 \\sim Dir([2.0, 2.0, 2.0]) $$\n",
    "\n",
    "$$ X_2 \\sim Categorical(\\vec{X}_1) $$"
   ]
  },
  {
   "cell_type": "code",
   "execution_count": null,
   "metadata": {
    "collapsed": false
   },
   "outputs": [],
   "source": [
    "X1 = np.random.dirichlet((2.0, 2.0, 2.0), size=100)\n",
    "X2 = np.array([np.random.choice(['red', 'green', 'blue'], p=p) for p in X1])"
   ]
  },
  {
   "cell_type": "code",
   "execution_count": null,
   "metadata": {
    "collapsed": false
   },
   "outputs": [],
   "source": [
    "sns.countplot(y=X2);"
   ]
  }
 ],
 "metadata": {
  "kernelspec": {
   "display_name": "Python 3",
   "language": "python",
   "name": "python3"
  },
  "language_info": {
   "codemirror_mode": {
    "name": "ipython",
    "version": 3
   },
   "file_extension": ".py",
   "mimetype": "text/x-python",
   "name": "python",
   "nbconvert_exporter": "python",
   "pygments_lexer": "ipython3",
   "version": "3.4.3"
  }
 },
 "nbformat": 4,
 "nbformat_minor": 0
}
